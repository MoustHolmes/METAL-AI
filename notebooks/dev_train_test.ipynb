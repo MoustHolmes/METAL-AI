{
 "cells": [
  {
   "cell_type": "markdown",
   "metadata": {},
   "source": [
    "# Intro\n",
    "The idea of this notebook is to interactively test and develop the dataset, datamodeule, lightningModule, callbacks and the trainer.\n",
    "\n",
    "I use Ipython magic to save and load modules like datasets and datamodule "
   ]
  },
  {
   "cell_type": "code",
   "execution_count": 26,
   "metadata": {},
   "outputs": [],
   "source": [
    "import yaml\n",
    "from pprint import pprint"
   ]
  },
  {
   "cell_type": "code",
   "execution_count": 34,
   "metadata": {},
   "outputs": [
    {
     "name": "stdout",
     "output_type": "stream",
     "text": [
      "Collecting beautifulsoup4\n",
      "  Downloading beautifulsoup4-4.12.3-py3-none-any.whl.metadata (3.8 kB)\n",
      "Collecting soupsieve>1.2 (from beautifulsoup4)\n",
      "  Downloading soupsieve-2.6-py3-none-any.whl.metadata (4.6 kB)\n",
      "Downloading beautifulsoup4-4.12.3-py3-none-any.whl (147 kB)\n",
      "\u001b[2K   \u001b[90m━━━━━━━━━━━━━━━━━━━━━━━━━━━━━━━━━━━━━━━━\u001b[0m \u001b[32m147.9/147.9 kB\u001b[0m \u001b[31m8.0 MB/s\u001b[0m eta \u001b[36m0:00:00\u001b[0m\n",
      "\u001b[?25hDownloading soupsieve-2.6-py3-none-any.whl (36 kB)\n",
      "Installing collected packages: soupsieve, beautifulsoup4\n",
      "Successfully installed beautifulsoup4-4.12.3 soupsieve-2.6\n"
     ]
    }
   ],
   "source": [
    "!pip install beautifulsoup4"
   ]
  },
  {
   "cell_type": "code",
   "execution_count": 37,
   "metadata": {},
   "outputs": [
    {
     "name": "stdout",
     "output_type": "stream",
     "text": [
      "Downloaded: /Users/moustholmes/Projects/METAL-AI/data/Li-Rh/master.hdf5\n",
      "Downloaded: /Users/moustholmes/Projects/METAL-AI/data/Li-Rh/master.hdf5\n",
      "Downloaded: /Users/moustholmes/Projects/METAL-AI/data/Li-Rh/rank_Worker-0184ecfb-b5d8-489b-8b9d-088741b07712.hdf5\n",
      "Downloaded: /Users/moustholmes/Projects/METAL-AI/data/Li-Rh/rank_Worker-0184ecfb-b5d8-489b-8b9d-088741b07712.hdf5\n",
      "Downloaded: /Users/moustholmes/Projects/METAL-AI/data/Li-Rh/rank_Worker-018c3c83-9369-4aa6-b0ee-e58051a04eac.hdf5\n",
      "Downloaded: /Users/moustholmes/Projects/METAL-AI/data/Li-Rh/rank_Worker-018c3c83-9369-4aa6-b0ee-e58051a04eac.hdf5\n",
      "Downloaded: /Users/moustholmes/Projects/METAL-AI/data/Li-Rh/rank_Worker-01a117c3-21e8-4160-8091-3917abe323c0.hdf5\n",
      "Downloaded: /Users/moustholmes/Projects/METAL-AI/data/Li-Rh/rank_Worker-01a117c3-21e8-4160-8091-3917abe323c0.hdf5\n",
      "Downloaded: /Users/moustholmes/Projects/METAL-AI/data/Li-Rh/rank_Worker-02b340d8-113a-41c2-bd6c-afd0230a478d.hdf5\n",
      "Downloaded: /Users/moustholmes/Projects/METAL-AI/data/Li-Rh/rank_Worker-02b340d8-113a-41c2-bd6c-afd0230a478d.hdf5\n",
      "Downloaded: /Users/moustholmes/Projects/METAL-AI/data/Li-Rh/rank_Worker-0303c302-17d6-4d7a-b4ce-602267ba5ced.hdf5\n",
      "Downloaded: /Users/moustholmes/Projects/METAL-AI/data/Li-Rh/rank_Worker-0303c302-17d6-4d7a-b4ce-602267ba5ced.hdf5\n",
      "Downloaded: /Users/moustholmes/Projects/METAL-AI/data/Li-Rh/rank_Worker-03627f0a-0697-43b7-909e-7ca22b544d7a.hdf5\n",
      "Downloaded: /Users/moustholmes/Projects/METAL-AI/data/Li-Rh/rank_Worker-03627f0a-0697-43b7-909e-7ca22b544d7a.hdf5\n",
      "Downloaded: /Users/moustholmes/Projects/METAL-AI/data/Li-Rh/rank_Worker-052d7b00-d1b1-411c-81f5-3119368ab5a3.hdf5\n",
      "Downloaded: /Users/moustholmes/Projects/METAL-AI/data/Li-Rh/rank_Worker-052d7b00-d1b1-411c-81f5-3119368ab5a3.hdf5\n",
      "Downloaded: /Users/moustholmes/Projects/METAL-AI/data/Li-Rh/rank_Worker-054efa32-0736-4d5f-9834-0b266fbdf4ec.hdf5\n",
      "Downloaded: /Users/moustholmes/Projects/METAL-AI/data/Li-Rh/rank_Worker-054efa32-0736-4d5f-9834-0b266fbdf4ec.hdf5\n",
      "Downloaded: /Users/moustholmes/Projects/METAL-AI/data/Li-Rh/rank_Worker-05f379b9-2e11-4bbc-aee3-997126230e5a.hdf5\n",
      "Downloaded: /Users/moustholmes/Projects/METAL-AI/data/Li-Rh/rank_Worker-05f379b9-2e11-4bbc-aee3-997126230e5a.hdf5\n",
      "Downloaded: /Users/moustholmes/Projects/METAL-AI/data/Li-Rh/rank_Worker-06445300-7ca6-4d79-aed4-8edfb0bbc94a.hdf5\n",
      "Downloaded: /Users/moustholmes/Projects/METAL-AI/data/Li-Rh/rank_Worker-06445300-7ca6-4d79-aed4-8edfb0bbc94a.hdf5\n",
      "Downloaded: /Users/moustholmes/Projects/METAL-AI/data/Li-Rh/rank_Worker-08c68607-cfac-47a6-8d93-78f8d7793613.hdf5\n",
      "Downloaded: /Users/moustholmes/Projects/METAL-AI/data/Li-Rh/rank_Worker-08c68607-cfac-47a6-8d93-78f8d7793613.hdf5\n",
      "Downloaded: /Users/moustholmes/Projects/METAL-AI/data/Li-Rh/rank_Worker-08f7e88a-8805-4dca-8ac0-e8b76d0e4d77.hdf5\n",
      "Downloaded: /Users/moustholmes/Projects/METAL-AI/data/Li-Rh/rank_Worker-08f7e88a-8805-4dca-8ac0-e8b76d0e4d77.hdf5\n",
      "Downloaded: /Users/moustholmes/Projects/METAL-AI/data/Li-Rh/rank_Worker-0927b1e2-d032-46ad-8c19-aa664e3867ac.hdf5\n",
      "Downloaded: /Users/moustholmes/Projects/METAL-AI/data/Li-Rh/rank_Worker-0927b1e2-d032-46ad-8c19-aa664e3867ac.hdf5\n",
      "Downloaded: /Users/moustholmes/Projects/METAL-AI/data/Li-Rh/rank_Worker-09831c00-0fcd-41ff-a595-2b6b12c2947f.hdf5\n",
      "Downloaded: /Users/moustholmes/Projects/METAL-AI/data/Li-Rh/rank_Worker-09831c00-0fcd-41ff-a595-2b6b12c2947f.hdf5\n",
      "Downloaded: /Users/moustholmes/Projects/METAL-AI/data/Li-Rh/rank_Worker-0a1b5375-f663-4a7b-89de-eeb0361c57c1.hdf5\n",
      "Downloaded: /Users/moustholmes/Projects/METAL-AI/data/Li-Rh/rank_Worker-0a1b5375-f663-4a7b-89de-eeb0361c57c1.hdf5\n",
      "Downloaded: /Users/moustholmes/Projects/METAL-AI/data/Li-Rh/rank_Worker-0b91bd2f-62d9-49c6-a057-3d4340ebba9f.hdf5\n",
      "Downloaded: /Users/moustholmes/Projects/METAL-AI/data/Li-Rh/rank_Worker-0b91bd2f-62d9-49c6-a057-3d4340ebba9f.hdf5\n",
      "Downloaded: /Users/moustholmes/Projects/METAL-AI/data/Li-Rh/rank_Worker-0c35f7c5-e1d8-4b31-82a0-f0ed208c53fe.hdf5\n",
      "Downloaded: /Users/moustholmes/Projects/METAL-AI/data/Li-Rh/rank_Worker-0c35f7c5-e1d8-4b31-82a0-f0ed208c53fe.hdf5\n",
      "Downloaded: /Users/moustholmes/Projects/METAL-AI/data/Li-Rh/rank_Worker-0cbadcbc-258b-4717-83ac-3df2480592be.hdf5\n",
      "Downloaded: /Users/moustholmes/Projects/METAL-AI/data/Li-Rh/rank_Worker-0cbadcbc-258b-4717-83ac-3df2480592be.hdf5\n",
      "Downloaded: /Users/moustholmes/Projects/METAL-AI/data/Li-Rh/rank_Worker-0e860992-1992-4cda-a03b-63b733224716.hdf5\n",
      "Downloaded: /Users/moustholmes/Projects/METAL-AI/data/Li-Rh/rank_Worker-0e860992-1992-4cda-a03b-63b733224716.hdf5\n",
      "Downloaded: /Users/moustholmes/Projects/METAL-AI/data/Li-Rh/rank_Worker-0ed367f8-e8cf-4430-854a-7cdddf498942.hdf5\n",
      "Downloaded: /Users/moustholmes/Projects/METAL-AI/data/Li-Rh/rank_Worker-0ed367f8-e8cf-4430-854a-7cdddf498942.hdf5\n",
      "Downloaded: /Users/moustholmes/Projects/METAL-AI/data/Li-Rh/rank_Worker-10b820fe-fd6b-40a7-8cb6-33d5cfc3fc3c.hdf5\n",
      "Downloaded: /Users/moustholmes/Projects/METAL-AI/data/Li-Rh/rank_Worker-10b820fe-fd6b-40a7-8cb6-33d5cfc3fc3c.hdf5\n",
      "Downloaded: /Users/moustholmes/Projects/METAL-AI/data/Li-Rh/rank_Worker-10df6040-e37f-4bd5-9e1f-b68356409dda.hdf5\n",
      "Downloaded: /Users/moustholmes/Projects/METAL-AI/data/Li-Rh/rank_Worker-10df6040-e37f-4bd5-9e1f-b68356409dda.hdf5\n",
      "Downloaded: /Users/moustholmes/Projects/METAL-AI/data/Li-Rh/rank_Worker-1103f9fd-3bba-4dc9-b270-6e2acbba3136.hdf5\n",
      "Downloaded: /Users/moustholmes/Projects/METAL-AI/data/Li-Rh/rank_Worker-1103f9fd-3bba-4dc9-b270-6e2acbba3136.hdf5\n",
      "Downloaded: /Users/moustholmes/Projects/METAL-AI/data/Li-Rh/rank_Worker-128e31a4-ff3d-40a3-b26d-4c37ffcc8698.hdf5\n",
      "Downloaded: /Users/moustholmes/Projects/METAL-AI/data/Li-Rh/rank_Worker-128e31a4-ff3d-40a3-b26d-4c37ffcc8698.hdf5\n",
      "Downloaded: /Users/moustholmes/Projects/METAL-AI/data/Li-Rh/rank_Worker-12e0de19-4e49-455d-86b6-a871a840d96f.hdf5\n",
      "Downloaded: /Users/moustholmes/Projects/METAL-AI/data/Li-Rh/rank_Worker-12e0de19-4e49-455d-86b6-a871a840d96f.hdf5\n",
      "Downloaded: /Users/moustholmes/Projects/METAL-AI/data/Li-Rh/rank_Worker-13b4400d-47d1-4202-989a-d6b16c8ba02d.hdf5\n",
      "Downloaded: /Users/moustholmes/Projects/METAL-AI/data/Li-Rh/rank_Worker-13b4400d-47d1-4202-989a-d6b16c8ba02d.hdf5\n",
      "Downloaded: /Users/moustholmes/Projects/METAL-AI/data/Li-Rh/rank_Worker-1492fb9d-4ce4-447e-b015-6a3943488b98.hdf5\n",
      "Downloaded: /Users/moustholmes/Projects/METAL-AI/data/Li-Rh/rank_Worker-1492fb9d-4ce4-447e-b015-6a3943488b98.hdf5\n",
      "Downloaded: /Users/moustholmes/Projects/METAL-AI/data/Li-Rh/rank_Worker-156a2054-7fcb-4f3b-99f2-1e2786d48d0c.hdf5\n",
      "Downloaded: /Users/moustholmes/Projects/METAL-AI/data/Li-Rh/rank_Worker-156a2054-7fcb-4f3b-99f2-1e2786d48d0c.hdf5\n",
      "Downloaded: /Users/moustholmes/Projects/METAL-AI/data/Li-Rh/rank_Worker-1607bace-a044-41be-80e2-a12ed9ee8288.hdf5\n",
      "Downloaded: /Users/moustholmes/Projects/METAL-AI/data/Li-Rh/rank_Worker-1607bace-a044-41be-80e2-a12ed9ee8288.hdf5\n",
      "Downloaded: /Users/moustholmes/Projects/METAL-AI/data/Li-Rh/rank_Worker-167f4272-2c81-435c-b04f-fc9c83e88e27.hdf5\n",
      "Downloaded: /Users/moustholmes/Projects/METAL-AI/data/Li-Rh/rank_Worker-167f4272-2c81-435c-b04f-fc9c83e88e27.hdf5\n",
      "Downloaded: /Users/moustholmes/Projects/METAL-AI/data/Li-Rh/rank_Worker-16c201b8-c3c9-4e68-bd24-ea5b5de068d2.hdf5\n",
      "Downloaded: /Users/moustholmes/Projects/METAL-AI/data/Li-Rh/rank_Worker-16c201b8-c3c9-4e68-bd24-ea5b5de068d2.hdf5\n",
      "Downloaded: /Users/moustholmes/Projects/METAL-AI/data/Li-Rh/rank_Worker-17ccaa18-430c-4c10-bf43-3b4237d88385.hdf5\n",
      "Downloaded: /Users/moustholmes/Projects/METAL-AI/data/Li-Rh/rank_Worker-17ccaa18-430c-4c10-bf43-3b4237d88385.hdf5\n",
      "Downloaded: /Users/moustholmes/Projects/METAL-AI/data/Li-Rh/rank_Worker-17dbba78-75f9-4bdf-a6f1-cc32abd5984b.hdf5\n",
      "Downloaded: /Users/moustholmes/Projects/METAL-AI/data/Li-Rh/rank_Worker-17dbba78-75f9-4bdf-a6f1-cc32abd5984b.hdf5\n",
      "Downloaded: /Users/moustholmes/Projects/METAL-AI/data/Li-Rh/rank_Worker-180e5238-e92d-4911-9a8f-8064a9cb4d66.hdf5\n",
      "Downloaded: /Users/moustholmes/Projects/METAL-AI/data/Li-Rh/rank_Worker-180e5238-e92d-4911-9a8f-8064a9cb4d66.hdf5\n",
      "Downloaded: /Users/moustholmes/Projects/METAL-AI/data/Li-Rh/rank_Worker-1940300f-7680-4c64-8026-a76648ef88b0.hdf5\n",
      "Downloaded: /Users/moustholmes/Projects/METAL-AI/data/Li-Rh/rank_Worker-1940300f-7680-4c64-8026-a76648ef88b0.hdf5\n",
      "Downloaded: /Users/moustholmes/Projects/METAL-AI/data/Li-Rh/rank_Worker-197f05e6-50dc-4452-8887-ecd0a3bb832d.hdf5\n",
      "Downloaded: /Users/moustholmes/Projects/METAL-AI/data/Li-Rh/rank_Worker-197f05e6-50dc-4452-8887-ecd0a3bb832d.hdf5\n",
      "Downloaded: /Users/moustholmes/Projects/METAL-AI/data/Li-Rh/rank_Worker-19a13197-4ce2-4dea-b15d-10216d6d0c20.hdf5\n",
      "Downloaded: /Users/moustholmes/Projects/METAL-AI/data/Li-Rh/rank_Worker-19a13197-4ce2-4dea-b15d-10216d6d0c20.hdf5\n",
      "Downloaded: /Users/moustholmes/Projects/METAL-AI/data/Li-Rh/rank_Worker-1a716cf6-9493-4153-ba2e-1d862c99ecf4.hdf5\n",
      "Downloaded: /Users/moustholmes/Projects/METAL-AI/data/Li-Rh/rank_Worker-1a716cf6-9493-4153-ba2e-1d862c99ecf4.hdf5\n",
      "Downloaded: /Users/moustholmes/Projects/METAL-AI/data/Li-Rh/rank_Worker-1ad91fd5-cc0a-4a83-b374-89a82b7b32a2.hdf5\n",
      "Downloaded: /Users/moustholmes/Projects/METAL-AI/data/Li-Rh/rank_Worker-1ad91fd5-cc0a-4a83-b374-89a82b7b32a2.hdf5\n",
      "Downloaded: /Users/moustholmes/Projects/METAL-AI/data/Li-Rh/rank_Worker-1ba92b59-0c35-4d44-ae77-daa676303a6c.hdf5\n",
      "Downloaded: /Users/moustholmes/Projects/METAL-AI/data/Li-Rh/rank_Worker-1ba92b59-0c35-4d44-ae77-daa676303a6c.hdf5\n",
      "Downloaded: /Users/moustholmes/Projects/METAL-AI/data/Li-Rh/rank_Worker-1c160a68-c83a-4283-b859-39eb1428e5ac.hdf5\n",
      "Downloaded: /Users/moustholmes/Projects/METAL-AI/data/Li-Rh/rank_Worker-1c160a68-c83a-4283-b859-39eb1428e5ac.hdf5\n",
      "Downloaded: /Users/moustholmes/Projects/METAL-AI/data/Li-Rh/rank_Worker-1c6cdf78-dd4c-47ba-b541-21ed061077ca.hdf5\n",
      "Downloaded: /Users/moustholmes/Projects/METAL-AI/data/Li-Rh/rank_Worker-1c6cdf78-dd4c-47ba-b541-21ed061077ca.hdf5\n",
      "Downloaded: /Users/moustholmes/Projects/METAL-AI/data/Li-Rh/rank_Worker-1cab1f8a-3e34-497e-b1e5-f5cd692cd3f3.hdf5\n",
      "Downloaded: /Users/moustholmes/Projects/METAL-AI/data/Li-Rh/rank_Worker-1cab1f8a-3e34-497e-b1e5-f5cd692cd3f3.hdf5\n",
      "Downloaded: /Users/moustholmes/Projects/METAL-AI/data/Li-Rh/rank_Worker-1cd3d469-dcee-4903-8a9b-69071029476f.hdf5\n",
      "Downloaded: /Users/moustholmes/Projects/METAL-AI/data/Li-Rh/rank_Worker-1cd3d469-dcee-4903-8a9b-69071029476f.hdf5\n",
      "Downloaded: /Users/moustholmes/Projects/METAL-AI/data/Li-Rh/rank_Worker-1e644667-a782-40ce-8e2f-dd2369f82e67.hdf5\n",
      "Downloaded: /Users/moustholmes/Projects/METAL-AI/data/Li-Rh/rank_Worker-1e644667-a782-40ce-8e2f-dd2369f82e67.hdf5\n",
      "Downloaded: /Users/moustholmes/Projects/METAL-AI/data/Li-Rh/rank_Worker-1ec79782-b7f7-42ee-a2fc-102bd6728519.hdf5\n",
      "Downloaded: /Users/moustholmes/Projects/METAL-AI/data/Li-Rh/rank_Worker-1ec79782-b7f7-42ee-a2fc-102bd6728519.hdf5\n",
      "Downloaded: /Users/moustholmes/Projects/METAL-AI/data/Li-Rh/rank_Worker-1ed42ee0-e57f-4339-a51a-4742196acdfb.hdf5\n",
      "Downloaded: /Users/moustholmes/Projects/METAL-AI/data/Li-Rh/rank_Worker-1ed42ee0-e57f-4339-a51a-4742196acdfb.hdf5\n",
      "Downloaded: /Users/moustholmes/Projects/METAL-AI/data/Li-Rh/rank_Worker-1efdd1aa-7359-42f5-9b56-4f8142f7855a.hdf5\n",
      "Downloaded: /Users/moustholmes/Projects/METAL-AI/data/Li-Rh/rank_Worker-1efdd1aa-7359-42f5-9b56-4f8142f7855a.hdf5\n",
      "Downloaded: /Users/moustholmes/Projects/METAL-AI/data/Li-Rh/rank_Worker-21726075-cd19-4164-ae04-61509513fac1.hdf5\n",
      "Downloaded: /Users/moustholmes/Projects/METAL-AI/data/Li-Rh/rank_Worker-21726075-cd19-4164-ae04-61509513fac1.hdf5\n",
      "Downloaded: /Users/moustholmes/Projects/METAL-AI/data/Li-Rh/rank_Worker-21ef7b68-4cca-488f-b4bb-a05203e0de98.hdf5\n",
      "Downloaded: /Users/moustholmes/Projects/METAL-AI/data/Li-Rh/rank_Worker-21ef7b68-4cca-488f-b4bb-a05203e0de98.hdf5\n",
      "Downloaded: /Users/moustholmes/Projects/METAL-AI/data/Li-Rh/rank_Worker-22e686e2-61ef-4e29-857e-11c359c9392e.hdf5\n",
      "Downloaded: /Users/moustholmes/Projects/METAL-AI/data/Li-Rh/rank_Worker-22e686e2-61ef-4e29-857e-11c359c9392e.hdf5\n",
      "Downloaded: /Users/moustholmes/Projects/METAL-AI/data/Li-Rh/rank_Worker-23239304-1512-4067-b593-b0e312586fe9.hdf5\n",
      "Downloaded: /Users/moustholmes/Projects/METAL-AI/data/Li-Rh/rank_Worker-23239304-1512-4067-b593-b0e312586fe9.hdf5\n",
      "Downloaded: /Users/moustholmes/Projects/METAL-AI/data/Li-Rh/rank_Worker-2324f237-2100-41e2-95ab-982a42cd6646.hdf5\n",
      "Downloaded: /Users/moustholmes/Projects/METAL-AI/data/Li-Rh/rank_Worker-2324f237-2100-41e2-95ab-982a42cd6646.hdf5\n",
      "Downloaded: /Users/moustholmes/Projects/METAL-AI/data/Li-Rh/rank_Worker-23ae7894-e45d-4ae6-8e02-1bbc1b3b2169.hdf5\n",
      "Downloaded: /Users/moustholmes/Projects/METAL-AI/data/Li-Rh/rank_Worker-23ae7894-e45d-4ae6-8e02-1bbc1b3b2169.hdf5\n",
      "Downloaded: /Users/moustholmes/Projects/METAL-AI/data/Li-Rh/rank_Worker-2469abe7-4c98-4839-9f24-15bdc18237bc.hdf5\n",
      "Downloaded: /Users/moustholmes/Projects/METAL-AI/data/Li-Rh/rank_Worker-2469abe7-4c98-4839-9f24-15bdc18237bc.hdf5\n",
      "Downloaded: /Users/moustholmes/Projects/METAL-AI/data/Li-Rh/rank_Worker-25c0a6eb-7c04-45e1-9ab2-90f4e3420792.hdf5\n",
      "Downloaded: /Users/moustholmes/Projects/METAL-AI/data/Li-Rh/rank_Worker-25c0a6eb-7c04-45e1-9ab2-90f4e3420792.hdf5\n",
      "Downloaded: /Users/moustholmes/Projects/METAL-AI/data/Li-Rh/rank_Worker-262aa3d7-a014-4d08-b1c1-5f78388245a7.hdf5\n",
      "Downloaded: /Users/moustholmes/Projects/METAL-AI/data/Li-Rh/rank_Worker-262aa3d7-a014-4d08-b1c1-5f78388245a7.hdf5\n",
      "Downloaded: /Users/moustholmes/Projects/METAL-AI/data/Li-Rh/rank_Worker-269cc3ef-ccd1-40c7-ac0f-7be2ede63616.hdf5\n",
      "Downloaded: /Users/moustholmes/Projects/METAL-AI/data/Li-Rh/rank_Worker-269cc3ef-ccd1-40c7-ac0f-7be2ede63616.hdf5\n",
      "Downloaded: /Users/moustholmes/Projects/METAL-AI/data/Li-Rh/rank_Worker-26a2ea0f-e8e8-4b02-aadf-654b0da91aee.hdf5\n",
      "Downloaded: /Users/moustholmes/Projects/METAL-AI/data/Li-Rh/rank_Worker-26a2ea0f-e8e8-4b02-aadf-654b0da91aee.hdf5\n",
      "Downloaded: /Users/moustholmes/Projects/METAL-AI/data/Li-Rh/rank_Worker-276fbeac-c693-40c6-b28f-0328bb11ff43.hdf5\n",
      "Downloaded: /Users/moustholmes/Projects/METAL-AI/data/Li-Rh/rank_Worker-276fbeac-c693-40c6-b28f-0328bb11ff43.hdf5\n",
      "Downloaded: /Users/moustholmes/Projects/METAL-AI/data/Li-Rh/rank_Worker-2782813f-236a-48f8-8f3a-41a4ae559bd9.hdf5\n",
      "Downloaded: /Users/moustholmes/Projects/METAL-AI/data/Li-Rh/rank_Worker-2782813f-236a-48f8-8f3a-41a4ae559bd9.hdf5\n",
      "Downloaded: /Users/moustholmes/Projects/METAL-AI/data/Li-Rh/rank_Worker-288cbe72-cb26-44e1-8be1-1fd08b59ebba.hdf5\n",
      "Downloaded: /Users/moustholmes/Projects/METAL-AI/data/Li-Rh/rank_Worker-288cbe72-cb26-44e1-8be1-1fd08b59ebba.hdf5\n",
      "Downloaded: /Users/moustholmes/Projects/METAL-AI/data/Li-Rh/rank_Worker-28981b43-29d6-46e5-8249-e87c91cc4d35.hdf5\n",
      "Downloaded: /Users/moustholmes/Projects/METAL-AI/data/Li-Rh/rank_Worker-28981b43-29d6-46e5-8249-e87c91cc4d35.hdf5\n",
      "Downloaded: /Users/moustholmes/Projects/METAL-AI/data/Li-Rh/rank_Worker-2969b818-41b4-4952-b120-10c44e637404.hdf5\n",
      "Downloaded: /Users/moustholmes/Projects/METAL-AI/data/Li-Rh/rank_Worker-2969b818-41b4-4952-b120-10c44e637404.hdf5\n",
      "Downloaded: /Users/moustholmes/Projects/METAL-AI/data/Li-Rh/rank_Worker-29c432bb-450b-46ac-affd-40db570652f6.hdf5\n",
      "Downloaded: /Users/moustholmes/Projects/METAL-AI/data/Li-Rh/rank_Worker-29c432bb-450b-46ac-affd-40db570652f6.hdf5\n",
      "Downloaded: /Users/moustholmes/Projects/METAL-AI/data/Li-Rh/rank_Worker-2b38d825-06de-4622-bebd-d1a06f6f7281.hdf5\n",
      "Downloaded: /Users/moustholmes/Projects/METAL-AI/data/Li-Rh/rank_Worker-2b38d825-06de-4622-bebd-d1a06f6f7281.hdf5\n",
      "Downloaded: /Users/moustholmes/Projects/METAL-AI/data/Li-Rh/rank_Worker-2b8a22b9-5bc1-400b-800b-4318c167fb4b.hdf5\n",
      "Downloaded: /Users/moustholmes/Projects/METAL-AI/data/Li-Rh/rank_Worker-2b8a22b9-5bc1-400b-800b-4318c167fb4b.hdf5\n",
      "Downloaded: /Users/moustholmes/Projects/METAL-AI/data/Li-Rh/rank_Worker-2b9f4b87-28e8-431b-bfdb-b3069aa8e8d6.hdf5\n",
      "Downloaded: /Users/moustholmes/Projects/METAL-AI/data/Li-Rh/rank_Worker-2b9f4b87-28e8-431b-bfdb-b3069aa8e8d6.hdf5\n",
      "Downloaded: /Users/moustholmes/Projects/METAL-AI/data/Li-Rh/rank_Worker-2bbd75f8-2077-407a-b0b5-226387d6948f.hdf5\n",
      "Downloaded: /Users/moustholmes/Projects/METAL-AI/data/Li-Rh/rank_Worker-2bbd75f8-2077-407a-b0b5-226387d6948f.hdf5\n",
      "Downloaded: /Users/moustholmes/Projects/METAL-AI/data/Li-Rh/rank_Worker-2caba9cc-a685-4314-8cac-ca8e2b99300d.hdf5\n",
      "Downloaded: /Users/moustholmes/Projects/METAL-AI/data/Li-Rh/rank_Worker-2caba9cc-a685-4314-8cac-ca8e2b99300d.hdf5\n",
      "Downloaded: /Users/moustholmes/Projects/METAL-AI/data/Li-Rh/rank_Worker-2d8a73b8-0b8b-45ca-8ddd-7f6fc7230d7c.hdf5\n",
      "Downloaded: /Users/moustholmes/Projects/METAL-AI/data/Li-Rh/rank_Worker-2d8a73b8-0b8b-45ca-8ddd-7f6fc7230d7c.hdf5\n",
      "Downloaded: /Users/moustholmes/Projects/METAL-AI/data/Li-Rh/rank_Worker-2ebef29d-b1da-4783-80a9-31f3be782aa4.hdf5\n",
      "Downloaded: /Users/moustholmes/Projects/METAL-AI/data/Li-Rh/rank_Worker-2ebef29d-b1da-4783-80a9-31f3be782aa4.hdf5\n",
      "Downloaded: /Users/moustholmes/Projects/METAL-AI/data/Li-Rh/rank_Worker-2f2f6a8d-6b0f-43e1-9697-d379f05b9274.hdf5\n",
      "Downloaded: /Users/moustholmes/Projects/METAL-AI/data/Li-Rh/rank_Worker-2f2f6a8d-6b0f-43e1-9697-d379f05b9274.hdf5\n",
      "Downloaded: /Users/moustholmes/Projects/METAL-AI/data/Li-Rh/rank_Worker-2f7155c4-38c4-4513-a908-a078fb7b584d.hdf5\n",
      "Downloaded: /Users/moustholmes/Projects/METAL-AI/data/Li-Rh/rank_Worker-2f7155c4-38c4-4513-a908-a078fb7b584d.hdf5\n",
      "Downloaded: /Users/moustholmes/Projects/METAL-AI/data/Li-Rh/rank_Worker-304908f3-5a2e-48ad-98f7-e56ccd7d5122.hdf5\n",
      "Downloaded: /Users/moustholmes/Projects/METAL-AI/data/Li-Rh/rank_Worker-304908f3-5a2e-48ad-98f7-e56ccd7d5122.hdf5\n",
      "Downloaded: /Users/moustholmes/Projects/METAL-AI/data/Li-Rh/rank_Worker-30b24696-4266-4b9d-97fc-67dd6a05836d.hdf5\n",
      "Downloaded: /Users/moustholmes/Projects/METAL-AI/data/Li-Rh/rank_Worker-30b24696-4266-4b9d-97fc-67dd6a05836d.hdf5\n",
      "Downloaded: /Users/moustholmes/Projects/METAL-AI/data/Li-Rh/rank_Worker-323e8816-91d8-47cd-8ea0-58816e442358.hdf5\n",
      "Downloaded: /Users/moustholmes/Projects/METAL-AI/data/Li-Rh/rank_Worker-323e8816-91d8-47cd-8ea0-58816e442358.hdf5\n",
      "Downloaded: /Users/moustholmes/Projects/METAL-AI/data/Li-Rh/rank_Worker-33118a96-1625-4613-86c0-b66833bd83c3.hdf5\n",
      "Downloaded: /Users/moustholmes/Projects/METAL-AI/data/Li-Rh/rank_Worker-33118a96-1625-4613-86c0-b66833bd83c3.hdf5\n",
      "Downloaded: /Users/moustholmes/Projects/METAL-AI/data/Li-Rh/rank_Worker-33309595-e88b-4381-8249-67f76299ed21.hdf5\n",
      "Downloaded: /Users/moustholmes/Projects/METAL-AI/data/Li-Rh/rank_Worker-33309595-e88b-4381-8249-67f76299ed21.hdf5\n",
      "Downloaded: /Users/moustholmes/Projects/METAL-AI/data/Li-Rh/rank_Worker-337585f5-1e95-4fa3-942c-d84d431c9b4c.hdf5\n",
      "Downloaded: /Users/moustholmes/Projects/METAL-AI/data/Li-Rh/rank_Worker-337585f5-1e95-4fa3-942c-d84d431c9b4c.hdf5\n",
      "Downloaded: /Users/moustholmes/Projects/METAL-AI/data/Li-Rh/rank_Worker-33e377c1-f567-45ca-89b6-912ce5c77f87.hdf5\n",
      "Downloaded: /Users/moustholmes/Projects/METAL-AI/data/Li-Rh/rank_Worker-33e377c1-f567-45ca-89b6-912ce5c77f87.hdf5\n",
      "Downloaded: /Users/moustholmes/Projects/METAL-AI/data/Li-Rh/rank_Worker-35d570ed-2c21-42bd-aa69-b65d9c796b92.hdf5\n",
      "Downloaded: /Users/moustholmes/Projects/METAL-AI/data/Li-Rh/rank_Worker-35d570ed-2c21-42bd-aa69-b65d9c796b92.hdf5\n",
      "Downloaded: /Users/moustholmes/Projects/METAL-AI/data/Li-Rh/rank_Worker-36a9ce66-02f0-4801-b847-7086a7454fc9.hdf5\n",
      "Downloaded: /Users/moustholmes/Projects/METAL-AI/data/Li-Rh/rank_Worker-36a9ce66-02f0-4801-b847-7086a7454fc9.hdf5\n",
      "Downloaded: /Users/moustholmes/Projects/METAL-AI/data/Li-Rh/rank_Worker-37d315aa-1849-4e4d-a083-c77935f761d6.hdf5\n",
      "Downloaded: /Users/moustholmes/Projects/METAL-AI/data/Li-Rh/rank_Worker-37d315aa-1849-4e4d-a083-c77935f761d6.hdf5\n",
      "Downloaded: /Users/moustholmes/Projects/METAL-AI/data/Li-Rh/rank_Worker-39c2bb86-c791-4579-b07b-25c03194bbe8.hdf5\n",
      "Downloaded: /Users/moustholmes/Projects/METAL-AI/data/Li-Rh/rank_Worker-39c2bb86-c791-4579-b07b-25c03194bbe8.hdf5\n",
      "Downloaded: /Users/moustholmes/Projects/METAL-AI/data/Li-Rh/rank_Worker-3a8f4a04-93d8-45c5-af4e-3122ff5f5c9a.hdf5\n",
      "Downloaded: /Users/moustholmes/Projects/METAL-AI/data/Li-Rh/rank_Worker-3a8f4a04-93d8-45c5-af4e-3122ff5f5c9a.hdf5\n",
      "Downloaded: /Users/moustholmes/Projects/METAL-AI/data/Li-Rh/rank_Worker-3b1251fa-fb4c-42df-94ee-7a49562f8240.hdf5\n",
      "Downloaded: /Users/moustholmes/Projects/METAL-AI/data/Li-Rh/rank_Worker-3b1251fa-fb4c-42df-94ee-7a49562f8240.hdf5\n",
      "Downloaded: /Users/moustholmes/Projects/METAL-AI/data/Li-Rh/rank_Worker-3c0bd3d3-f938-4957-8f70-76f4a71d293d.hdf5\n",
      "Downloaded: /Users/moustholmes/Projects/METAL-AI/data/Li-Rh/rank_Worker-3c0bd3d3-f938-4957-8f70-76f4a71d293d.hdf5\n",
      "Downloaded: /Users/moustholmes/Projects/METAL-AI/data/Li-Rh/rank_Worker-3cbfd1ea-db36-4bf8-b71d-443f26c1b95b.hdf5\n",
      "Downloaded: /Users/moustholmes/Projects/METAL-AI/data/Li-Rh/rank_Worker-3cbfd1ea-db36-4bf8-b71d-443f26c1b95b.hdf5\n",
      "Downloaded: /Users/moustholmes/Projects/METAL-AI/data/Li-Rh/rank_Worker-3cdf5b53-345d-4107-970c-11dd73fb9da1.hdf5\n",
      "Downloaded: /Users/moustholmes/Projects/METAL-AI/data/Li-Rh/rank_Worker-3cdf5b53-345d-4107-970c-11dd73fb9da1.hdf5\n",
      "Downloaded: /Users/moustholmes/Projects/METAL-AI/data/Li-Rh/rank_Worker-3f0238e0-52fe-4892-b2ca-46b50df75b83.hdf5\n",
      "Downloaded: /Users/moustholmes/Projects/METAL-AI/data/Li-Rh/rank_Worker-3f0238e0-52fe-4892-b2ca-46b50df75b83.hdf5\n",
      "Downloaded: /Users/moustholmes/Projects/METAL-AI/data/Li-Rh/rank_Worker-3f3ba0ea-b525-4e1f-92df-9e2a23562e83.hdf5\n",
      "Downloaded: /Users/moustholmes/Projects/METAL-AI/data/Li-Rh/rank_Worker-3f3ba0ea-b525-4e1f-92df-9e2a23562e83.hdf5\n",
      "Downloaded: /Users/moustholmes/Projects/METAL-AI/data/Li-Rh/rank_Worker-3f830fc4-76c8-4ebe-b5a3-dec7d6b1c2f8.hdf5\n",
      "Downloaded: /Users/moustholmes/Projects/METAL-AI/data/Li-Rh/rank_Worker-3f830fc4-76c8-4ebe-b5a3-dec7d6b1c2f8.hdf5\n",
      "Downloaded: /Users/moustholmes/Projects/METAL-AI/data/Li-Rh/rank_Worker-3f9b30bb-ddda-4795-8c8b-b002b3d960de.hdf5\n",
      "Downloaded: /Users/moustholmes/Projects/METAL-AI/data/Li-Rh/rank_Worker-3f9b30bb-ddda-4795-8c8b-b002b3d960de.hdf5\n",
      "Downloaded: /Users/moustholmes/Projects/METAL-AI/data/Li-Rh/rank_Worker-3fc7bd0f-7adc-4492-a614-35ff34478279.hdf5\n",
      "Downloaded: /Users/moustholmes/Projects/METAL-AI/data/Li-Rh/rank_Worker-3fc7bd0f-7adc-4492-a614-35ff34478279.hdf5\n",
      "Downloaded: /Users/moustholmes/Projects/METAL-AI/data/Li-Rh/rank_Worker-405746db-468c-4c5c-a9e5-f128a6111c6c.hdf5\n",
      "Downloaded: /Users/moustholmes/Projects/METAL-AI/data/Li-Rh/rank_Worker-405746db-468c-4c5c-a9e5-f128a6111c6c.hdf5\n",
      "Downloaded: /Users/moustholmes/Projects/METAL-AI/data/Li-Rh/rank_Worker-428a8335-0785-407b-8092-c8b571909b62.hdf5\n",
      "Downloaded: /Users/moustholmes/Projects/METAL-AI/data/Li-Rh/rank_Worker-428a8335-0785-407b-8092-c8b571909b62.hdf5\n",
      "Downloaded: /Users/moustholmes/Projects/METAL-AI/data/Li-Rh/rank_Worker-42f5dca9-43ca-4136-9cb8-713c77e1f602.hdf5\n",
      "Downloaded: /Users/moustholmes/Projects/METAL-AI/data/Li-Rh/rank_Worker-42f5dca9-43ca-4136-9cb8-713c77e1f602.hdf5\n",
      "Downloaded: /Users/moustholmes/Projects/METAL-AI/data/Li-Rh/rank_Worker-44f8455a-d53e-457c-9143-d78abdf94705.hdf5\n",
      "Downloaded: /Users/moustholmes/Projects/METAL-AI/data/Li-Rh/rank_Worker-44f8455a-d53e-457c-9143-d78abdf94705.hdf5\n",
      "Downloaded: /Users/moustholmes/Projects/METAL-AI/data/Li-Rh/rank_Worker-450b5a2c-1cfe-4705-9cfc-86f801242ecb.hdf5\n",
      "Downloaded: /Users/moustholmes/Projects/METAL-AI/data/Li-Rh/rank_Worker-450b5a2c-1cfe-4705-9cfc-86f801242ecb.hdf5\n",
      "Downloaded: /Users/moustholmes/Projects/METAL-AI/data/Li-Rh/rank_Worker-450fe37c-cc06-4b25-a1a0-db6cacbd7243.hdf5\n",
      "Downloaded: /Users/moustholmes/Projects/METAL-AI/data/Li-Rh/rank_Worker-450fe37c-cc06-4b25-a1a0-db6cacbd7243.hdf5\n",
      "Downloaded: /Users/moustholmes/Projects/METAL-AI/data/Li-Rh/rank_Worker-4539d635-8c3b-4e9f-80bd-37bff6399f07.hdf5\n",
      "Downloaded: /Users/moustholmes/Projects/METAL-AI/data/Li-Rh/rank_Worker-4539d635-8c3b-4e9f-80bd-37bff6399f07.hdf5\n",
      "Downloaded: /Users/moustholmes/Projects/METAL-AI/data/Li-Rh/rank_Worker-4598f431-a9ab-404a-8f06-efc96fe5be17.hdf5\n",
      "Downloaded: /Users/moustholmes/Projects/METAL-AI/data/Li-Rh/rank_Worker-4598f431-a9ab-404a-8f06-efc96fe5be17.hdf5\n",
      "Downloaded: /Users/moustholmes/Projects/METAL-AI/data/Li-Rh/rank_Worker-4612f51a-690e-42e8-ba89-5ecd12318235.hdf5\n",
      "Downloaded: /Users/moustholmes/Projects/METAL-AI/data/Li-Rh/rank_Worker-4612f51a-690e-42e8-ba89-5ecd12318235.hdf5\n",
      "Downloaded: /Users/moustholmes/Projects/METAL-AI/data/Li-Rh/rank_Worker-46bbd678-442d-4af1-b6c5-ef6fe16ebe13.hdf5\n",
      "Downloaded: /Users/moustholmes/Projects/METAL-AI/data/Li-Rh/rank_Worker-46bbd678-442d-4af1-b6c5-ef6fe16ebe13.hdf5\n",
      "Downloaded: /Users/moustholmes/Projects/METAL-AI/data/Li-Rh/rank_Worker-46c85e1a-c2f4-41ec-a071-47c5f4668fd7.hdf5\n",
      "Downloaded: /Users/moustholmes/Projects/METAL-AI/data/Li-Rh/rank_Worker-46c85e1a-c2f4-41ec-a071-47c5f4668fd7.hdf5\n",
      "Downloaded: /Users/moustholmes/Projects/METAL-AI/data/Li-Rh/rank_Worker-4788074c-c58a-4632-a3d0-9ee49366f35c.hdf5\n",
      "Downloaded: /Users/moustholmes/Projects/METAL-AI/data/Li-Rh/rank_Worker-4788074c-c58a-4632-a3d0-9ee49366f35c.hdf5\n",
      "Downloaded: /Users/moustholmes/Projects/METAL-AI/data/Li-Rh/rank_Worker-480840dc-0673-41b2-986e-56d34b50203e.hdf5\n",
      "Downloaded: /Users/moustholmes/Projects/METAL-AI/data/Li-Rh/rank_Worker-480840dc-0673-41b2-986e-56d34b50203e.hdf5\n",
      "Downloaded: /Users/moustholmes/Projects/METAL-AI/data/Li-Rh/rank_Worker-496ec1cc-a99b-493d-a584-713959d9d4a4.hdf5\n",
      "Downloaded: /Users/moustholmes/Projects/METAL-AI/data/Li-Rh/rank_Worker-496ec1cc-a99b-493d-a584-713959d9d4a4.hdf5\n",
      "Downloaded: /Users/moustholmes/Projects/METAL-AI/data/Li-Rh/rank_Worker-49fb46ac-36e2-4b30-90fb-74e915c4fc3a.hdf5\n",
      "Downloaded: /Users/moustholmes/Projects/METAL-AI/data/Li-Rh/rank_Worker-49fb46ac-36e2-4b30-90fb-74e915c4fc3a.hdf5\n",
      "Downloaded: /Users/moustholmes/Projects/METAL-AI/data/Li-Rh/rank_Worker-49fbafcf-7955-4c67-a83a-1ab975e41b8c.hdf5\n",
      "Downloaded: /Users/moustholmes/Projects/METAL-AI/data/Li-Rh/rank_Worker-49fbafcf-7955-4c67-a83a-1ab975e41b8c.hdf5\n",
      "Downloaded: /Users/moustholmes/Projects/METAL-AI/data/Li-Rh/rank_Worker-4bf032c7-e160-4a5d-b663-8462231bae2f.hdf5\n",
      "Downloaded: /Users/moustholmes/Projects/METAL-AI/data/Li-Rh/rank_Worker-4bf032c7-e160-4a5d-b663-8462231bae2f.hdf5\n",
      "Downloaded: /Users/moustholmes/Projects/METAL-AI/data/Li-Rh/rank_Worker-4c444aa6-f3c6-4e1f-8d5c-be32c4c0c134.hdf5\n",
      "Downloaded: /Users/moustholmes/Projects/METAL-AI/data/Li-Rh/rank_Worker-4c444aa6-f3c6-4e1f-8d5c-be32c4c0c134.hdf5\n",
      "Downloaded: /Users/moustholmes/Projects/METAL-AI/data/Li-Rh/rank_Worker-4e3ebcaa-e93e-4385-8394-d9e9f626eb7e.hdf5\n",
      "Downloaded: /Users/moustholmes/Projects/METAL-AI/data/Li-Rh/rank_Worker-4e3ebcaa-e93e-4385-8394-d9e9f626eb7e.hdf5\n",
      "Downloaded: /Users/moustholmes/Projects/METAL-AI/data/Li-Rh/rank_Worker-4e494fc8-89ab-412f-ad28-422c92faf26e.hdf5\n",
      "Downloaded: /Users/moustholmes/Projects/METAL-AI/data/Li-Rh/rank_Worker-4e494fc8-89ab-412f-ad28-422c92faf26e.hdf5\n",
      "Downloaded: /Users/moustholmes/Projects/METAL-AI/data/Li-Rh/rank_Worker-4fc32e27-5a83-4ea8-ae7c-f618f391e6c5.hdf5\n",
      "Downloaded: /Users/moustholmes/Projects/METAL-AI/data/Li-Rh/rank_Worker-4fc32e27-5a83-4ea8-ae7c-f618f391e6c5.hdf5\n",
      "Downloaded: /Users/moustholmes/Projects/METAL-AI/data/Li-Rh/rank_Worker-52c4a075-d177-4d6d-96ff-2709cbe2df70.hdf5\n",
      "Downloaded: /Users/moustholmes/Projects/METAL-AI/data/Li-Rh/rank_Worker-52c4a075-d177-4d6d-96ff-2709cbe2df70.hdf5\n",
      "Downloaded: /Users/moustholmes/Projects/METAL-AI/data/Li-Rh/rank_Worker-5349db7e-d69a-428a-93c7-34f96e00d11a.hdf5\n",
      "Downloaded: /Users/moustholmes/Projects/METAL-AI/data/Li-Rh/rank_Worker-5349db7e-d69a-428a-93c7-34f96e00d11a.hdf5\n",
      "Downloaded: /Users/moustholmes/Projects/METAL-AI/data/Li-Rh/rank_Worker-559ac20a-375c-47ca-be70-56bff9f44df7.hdf5\n",
      "Downloaded: /Users/moustholmes/Projects/METAL-AI/data/Li-Rh/rank_Worker-559ac20a-375c-47ca-be70-56bff9f44df7.hdf5\n",
      "Downloaded: /Users/moustholmes/Projects/METAL-AI/data/Li-Rh/rank_Worker-56adca7b-d83a-4d9e-b0af-269871054a7e.hdf5\n",
      "Downloaded: /Users/moustholmes/Projects/METAL-AI/data/Li-Rh/rank_Worker-56adca7b-d83a-4d9e-b0af-269871054a7e.hdf5\n",
      "Downloaded: /Users/moustholmes/Projects/METAL-AI/data/Li-Rh/rank_Worker-56cd0895-df6e-409b-a191-7e42acfb3ce3.hdf5\n",
      "Downloaded: /Users/moustholmes/Projects/METAL-AI/data/Li-Rh/rank_Worker-56cd0895-df6e-409b-a191-7e42acfb3ce3.hdf5\n",
      "Downloaded: /Users/moustholmes/Projects/METAL-AI/data/Li-Rh/rank_Worker-56d644ef-49ad-4620-a415-648eb8bca617.hdf5\n",
      "Downloaded: /Users/moustholmes/Projects/METAL-AI/data/Li-Rh/rank_Worker-56d644ef-49ad-4620-a415-648eb8bca617.hdf5\n",
      "Downloaded: /Users/moustholmes/Projects/METAL-AI/data/Li-Rh/rank_Worker-5822ed75-1fe1-4e51-9579-b685be7aeb18.hdf5\n",
      "Downloaded: /Users/moustholmes/Projects/METAL-AI/data/Li-Rh/rank_Worker-5822ed75-1fe1-4e51-9579-b685be7aeb18.hdf5\n",
      "Downloaded: /Users/moustholmes/Projects/METAL-AI/data/Li-Rh/rank_Worker-5824c4e9-2c2b-42b3-aca0-49eb2fb4da9d.hdf5\n",
      "Downloaded: /Users/moustholmes/Projects/METAL-AI/data/Li-Rh/rank_Worker-5824c4e9-2c2b-42b3-aca0-49eb2fb4da9d.hdf5\n",
      "Downloaded: /Users/moustholmes/Projects/METAL-AI/data/Li-Rh/rank_Worker-584d59d2-c216-4b1f-8b69-4c5d589f9610.hdf5\n",
      "Downloaded: /Users/moustholmes/Projects/METAL-AI/data/Li-Rh/rank_Worker-584d59d2-c216-4b1f-8b69-4c5d589f9610.hdf5\n",
      "Downloaded: /Users/moustholmes/Projects/METAL-AI/data/Li-Rh/rank_Worker-58df00cb-5b30-4a9a-9010-2e26eab54a1a.hdf5\n",
      "Downloaded: /Users/moustholmes/Projects/METAL-AI/data/Li-Rh/rank_Worker-58df00cb-5b30-4a9a-9010-2e26eab54a1a.hdf5\n",
      "Downloaded: /Users/moustholmes/Projects/METAL-AI/data/Li-Rh/rank_Worker-595cb28f-148d-40a4-a017-d24222e3f6d0.hdf5\n",
      "Downloaded: /Users/moustholmes/Projects/METAL-AI/data/Li-Rh/rank_Worker-595cb28f-148d-40a4-a017-d24222e3f6d0.hdf5\n",
      "Downloaded: /Users/moustholmes/Projects/METAL-AI/data/Li-Rh/rank_Worker-5adba668-7a6b-4e2d-8773-f58d53476351.hdf5\n",
      "Downloaded: /Users/moustholmes/Projects/METAL-AI/data/Li-Rh/rank_Worker-5adba668-7a6b-4e2d-8773-f58d53476351.hdf5\n",
      "Downloaded: /Users/moustholmes/Projects/METAL-AI/data/Li-Rh/rank_Worker-5af85f7f-3cbc-4719-a9bd-857fba282a0d.hdf5\n",
      "Downloaded: /Users/moustholmes/Projects/METAL-AI/data/Li-Rh/rank_Worker-5af85f7f-3cbc-4719-a9bd-857fba282a0d.hdf5\n",
      "Downloaded: /Users/moustholmes/Projects/METAL-AI/data/Li-Rh/rank_Worker-5b5ac446-eb92-48e7-9de8-a63ad9820278.hdf5\n",
      "Downloaded: /Users/moustholmes/Projects/METAL-AI/data/Li-Rh/rank_Worker-5b5ac446-eb92-48e7-9de8-a63ad9820278.hdf5\n",
      "Downloaded: /Users/moustholmes/Projects/METAL-AI/data/Li-Rh/rank_Worker-5d1a7533-550a-4a9e-a811-1bcb77f0f0d9.hdf5\n",
      "Downloaded: /Users/moustholmes/Projects/METAL-AI/data/Li-Rh/rank_Worker-5d1a7533-550a-4a9e-a811-1bcb77f0f0d9.hdf5\n",
      "Downloaded: /Users/moustholmes/Projects/METAL-AI/data/Li-Rh/rank_Worker-5e172859-b0ba-4e59-bcc6-f37e00791fcd.hdf5\n",
      "Downloaded: /Users/moustholmes/Projects/METAL-AI/data/Li-Rh/rank_Worker-5e172859-b0ba-4e59-bcc6-f37e00791fcd.hdf5\n",
      "Downloaded: /Users/moustholmes/Projects/METAL-AI/data/Li-Rh/rank_Worker-5f19db7b-3442-4fc9-aadc-ec65cd198c95.hdf5\n",
      "Downloaded: /Users/moustholmes/Projects/METAL-AI/data/Li-Rh/rank_Worker-5f19db7b-3442-4fc9-aadc-ec65cd198c95.hdf5\n",
      "Downloaded: /Users/moustholmes/Projects/METAL-AI/data/Li-Rh/rank_Worker-5feade67-d8bc-4d79-b4a9-97f033ac46e7.hdf5\n",
      "Downloaded: /Users/moustholmes/Projects/METAL-AI/data/Li-Rh/rank_Worker-5feade67-d8bc-4d79-b4a9-97f033ac46e7.hdf5\n",
      "Downloaded: /Users/moustholmes/Projects/METAL-AI/data/Li-Rh/rank_Worker-605cbaf1-1d95-42a2-adff-1f166b13318d.hdf5\n",
      "Downloaded: /Users/moustholmes/Projects/METAL-AI/data/Li-Rh/rank_Worker-605cbaf1-1d95-42a2-adff-1f166b13318d.hdf5\n",
      "Downloaded: /Users/moustholmes/Projects/METAL-AI/data/Li-Rh/rank_Worker-6066d2e1-ef24-41a3-ab9c-90829d09afd3.hdf5\n",
      "Downloaded: /Users/moustholmes/Projects/METAL-AI/data/Li-Rh/rank_Worker-6066d2e1-ef24-41a3-ab9c-90829d09afd3.hdf5\n",
      "Downloaded: /Users/moustholmes/Projects/METAL-AI/data/Li-Rh/rank_Worker-60b51e50-cc63-49fc-b2c6-1a6e6219c54c.hdf5\n",
      "Downloaded: /Users/moustholmes/Projects/METAL-AI/data/Li-Rh/rank_Worker-60b51e50-cc63-49fc-b2c6-1a6e6219c54c.hdf5\n",
      "Downloaded: /Users/moustholmes/Projects/METAL-AI/data/Li-Rh/rank_Worker-61bfde29-069a-4e6f-940f-bb1214b8d962.hdf5\n",
      "Downloaded: /Users/moustholmes/Projects/METAL-AI/data/Li-Rh/rank_Worker-61bfde29-069a-4e6f-940f-bb1214b8d962.hdf5\n",
      "Downloaded: /Users/moustholmes/Projects/METAL-AI/data/Li-Rh/rank_Worker-6292786f-4a12-4a4d-81d6-72bbef560708.hdf5\n",
      "Downloaded: /Users/moustholmes/Projects/METAL-AI/data/Li-Rh/rank_Worker-6292786f-4a12-4a4d-81d6-72bbef560708.hdf5\n",
      "Downloaded: /Users/moustholmes/Projects/METAL-AI/data/Li-Rh/rank_Worker-63474728-0e71-4b89-b8be-daabe8854a52.hdf5\n",
      "Downloaded: /Users/moustholmes/Projects/METAL-AI/data/Li-Rh/rank_Worker-63474728-0e71-4b89-b8be-daabe8854a52.hdf5\n",
      "Downloaded: /Users/moustholmes/Projects/METAL-AI/data/Li-Rh/rank_Worker-63dbecf6-9a78-4b9a-a15d-5b89c8d9d9e7.hdf5\n",
      "Downloaded: /Users/moustholmes/Projects/METAL-AI/data/Li-Rh/rank_Worker-63dbecf6-9a78-4b9a-a15d-5b89c8d9d9e7.hdf5\n",
      "Downloaded: /Users/moustholmes/Projects/METAL-AI/data/Li-Rh/rank_Worker-63f0ff1d-d952-46e6-8db9-32c56cd8b9eb.hdf5\n",
      "Downloaded: /Users/moustholmes/Projects/METAL-AI/data/Li-Rh/rank_Worker-63f0ff1d-d952-46e6-8db9-32c56cd8b9eb.hdf5\n",
      "Downloaded: /Users/moustholmes/Projects/METAL-AI/data/Li-Rh/rank_Worker-64a34c76-438e-42e2-afe9-3b93449200f3.hdf5\n",
      "Downloaded: /Users/moustholmes/Projects/METAL-AI/data/Li-Rh/rank_Worker-64a34c76-438e-42e2-afe9-3b93449200f3.hdf5\n",
      "Downloaded: /Users/moustholmes/Projects/METAL-AI/data/Li-Rh/rank_Worker-64fffcaf-83e3-4f10-8a58-73376281e162.hdf5\n",
      "Downloaded: /Users/moustholmes/Projects/METAL-AI/data/Li-Rh/rank_Worker-64fffcaf-83e3-4f10-8a58-73376281e162.hdf5\n",
      "Downloaded: /Users/moustholmes/Projects/METAL-AI/data/Li-Rh/rank_Worker-65d37a99-7e36-4aac-95f1-8b01c5ebea52.hdf5\n",
      "Downloaded: /Users/moustholmes/Projects/METAL-AI/data/Li-Rh/rank_Worker-65d37a99-7e36-4aac-95f1-8b01c5ebea52.hdf5\n",
      "Downloaded: /Users/moustholmes/Projects/METAL-AI/data/Li-Rh/rank_Worker-660907f0-1f81-4a42-b618-4e5b39fd40dc.hdf5\n",
      "Downloaded: /Users/moustholmes/Projects/METAL-AI/data/Li-Rh/rank_Worker-660907f0-1f81-4a42-b618-4e5b39fd40dc.hdf5\n",
      "Downloaded: /Users/moustholmes/Projects/METAL-AI/data/Li-Rh/rank_Worker-676ee629-e6e5-495b-bcb3-0a89e9249561.hdf5\n",
      "Downloaded: /Users/moustholmes/Projects/METAL-AI/data/Li-Rh/rank_Worker-676ee629-e6e5-495b-bcb3-0a89e9249561.hdf5\n",
      "Downloaded: /Users/moustholmes/Projects/METAL-AI/data/Li-Rh/rank_Worker-678c6960-1cb3-4907-b2a0-afb19892e350.hdf5\n",
      "Downloaded: /Users/moustholmes/Projects/METAL-AI/data/Li-Rh/rank_Worker-678c6960-1cb3-4907-b2a0-afb19892e350.hdf5\n",
      "Downloaded: /Users/moustholmes/Projects/METAL-AI/data/Li-Rh/rank_Worker-6853423f-7dd0-436e-b057-98d022d9ef4c.hdf5\n",
      "Downloaded: /Users/moustholmes/Projects/METAL-AI/data/Li-Rh/rank_Worker-6853423f-7dd0-436e-b057-98d022d9ef4c.hdf5\n",
      "Downloaded: /Users/moustholmes/Projects/METAL-AI/data/Li-Rh/rank_Worker-68abed08-970f-4b78-9ce2-2bbed43d3231.hdf5\n",
      "Downloaded: /Users/moustholmes/Projects/METAL-AI/data/Li-Rh/rank_Worker-68abed08-970f-4b78-9ce2-2bbed43d3231.hdf5\n",
      "Downloaded: /Users/moustholmes/Projects/METAL-AI/data/Li-Rh/rank_Worker-69406982-aa92-420b-841c-d1cc3b2bb81e.hdf5\n",
      "Downloaded: /Users/moustholmes/Projects/METAL-AI/data/Li-Rh/rank_Worker-69406982-aa92-420b-841c-d1cc3b2bb81e.hdf5\n",
      "Downloaded: /Users/moustholmes/Projects/METAL-AI/data/Li-Rh/rank_Worker-6956dd42-d055-4560-8a08-8160aa449333.hdf5\n",
      "Downloaded: /Users/moustholmes/Projects/METAL-AI/data/Li-Rh/rank_Worker-6956dd42-d055-4560-8a08-8160aa449333.hdf5\n",
      "Downloaded: /Users/moustholmes/Projects/METAL-AI/data/Li-Rh/rank_Worker-6a3988a6-809e-47c5-ad3c-85356a23b09f.hdf5\n",
      "Downloaded: /Users/moustholmes/Projects/METAL-AI/data/Li-Rh/rank_Worker-6a3988a6-809e-47c5-ad3c-85356a23b09f.hdf5\n",
      "Downloaded: /Users/moustholmes/Projects/METAL-AI/data/Li-Rh/rank_Worker-6a8a225c-6244-41f0-82cb-4c8f47f782fb.hdf5\n",
      "Downloaded: /Users/moustholmes/Projects/METAL-AI/data/Li-Rh/rank_Worker-6a8a225c-6244-41f0-82cb-4c8f47f782fb.hdf5\n",
      "Downloaded: /Users/moustholmes/Projects/METAL-AI/data/Li-Rh/rank_Worker-6b856d5b-8475-4ea0-85f6-4b0823744971.hdf5\n",
      "Downloaded: /Users/moustholmes/Projects/METAL-AI/data/Li-Rh/rank_Worker-6b856d5b-8475-4ea0-85f6-4b0823744971.hdf5\n",
      "Downloaded: /Users/moustholmes/Projects/METAL-AI/data/Li-Rh/rank_Worker-6bb2f3f0-8d00-4395-9ab8-b30567aa8e00.hdf5\n",
      "Downloaded: /Users/moustholmes/Projects/METAL-AI/data/Li-Rh/rank_Worker-6bb2f3f0-8d00-4395-9ab8-b30567aa8e00.hdf5\n",
      "Downloaded: /Users/moustholmes/Projects/METAL-AI/data/Li-Rh/rank_Worker-6bde13bd-1ee6-4880-9123-4419cea6b08d.hdf5\n",
      "Downloaded: /Users/moustholmes/Projects/METAL-AI/data/Li-Rh/rank_Worker-6bde13bd-1ee6-4880-9123-4419cea6b08d.hdf5\n",
      "Downloaded: /Users/moustholmes/Projects/METAL-AI/data/Li-Rh/rank_Worker-6dbcba3d-8d29-4030-bcf4-838a66554c9b.hdf5\n",
      "Downloaded: /Users/moustholmes/Projects/METAL-AI/data/Li-Rh/rank_Worker-6dbcba3d-8d29-4030-bcf4-838a66554c9b.hdf5\n",
      "Downloaded: /Users/moustholmes/Projects/METAL-AI/data/Li-Rh/rank_Worker-6eabadb7-9319-4bce-9397-7492bcad8444.hdf5\n",
      "Downloaded: /Users/moustholmes/Projects/METAL-AI/data/Li-Rh/rank_Worker-6eabadb7-9319-4bce-9397-7492bcad8444.hdf5\n",
      "Downloaded: /Users/moustholmes/Projects/METAL-AI/data/Li-Rh/rank_Worker-6fc5b697-1b4f-4662-9593-cf1af25791c1.hdf5\n",
      "Downloaded: /Users/moustholmes/Projects/METAL-AI/data/Li-Rh/rank_Worker-6fc5b697-1b4f-4662-9593-cf1af25791c1.hdf5\n",
      "Downloaded: /Users/moustholmes/Projects/METAL-AI/data/Li-Rh/rank_Worker-70d39616-5188-4fea-a92d-25018368e158.hdf5\n",
      "Downloaded: /Users/moustholmes/Projects/METAL-AI/data/Li-Rh/rank_Worker-70d39616-5188-4fea-a92d-25018368e158.hdf5\n",
      "Downloaded: /Users/moustholmes/Projects/METAL-AI/data/Li-Rh/rank_Worker-717288ee-d62a-46bb-8587-5727144f0dcb.hdf5\n",
      "Downloaded: /Users/moustholmes/Projects/METAL-AI/data/Li-Rh/rank_Worker-717288ee-d62a-46bb-8587-5727144f0dcb.hdf5\n",
      "Downloaded: /Users/moustholmes/Projects/METAL-AI/data/Li-Rh/rank_Worker-7184ecfc-bf40-4422-a7fc-561c393f79c8.hdf5\n",
      "Downloaded: /Users/moustholmes/Projects/METAL-AI/data/Li-Rh/rank_Worker-7184ecfc-bf40-4422-a7fc-561c393f79c8.hdf5\n",
      "Downloaded: /Users/moustholmes/Projects/METAL-AI/data/Li-Rh/rank_Worker-7201d682-e0e5-4cfc-b3ca-f6947e420b66.hdf5\n",
      "Downloaded: /Users/moustholmes/Projects/METAL-AI/data/Li-Rh/rank_Worker-7201d682-e0e5-4cfc-b3ca-f6947e420b66.hdf5\n",
      "Downloaded: /Users/moustholmes/Projects/METAL-AI/data/Li-Rh/rank_Worker-720bc6b0-d2a3-40f5-9be1-163cba83725c.hdf5\n",
      "Downloaded: /Users/moustholmes/Projects/METAL-AI/data/Li-Rh/rank_Worker-720bc6b0-d2a3-40f5-9be1-163cba83725c.hdf5\n",
      "Downloaded: /Users/moustholmes/Projects/METAL-AI/data/Li-Rh/rank_Worker-728c31a2-79ac-48e5-92b3-2c3390793bea.hdf5\n",
      "Downloaded: /Users/moustholmes/Projects/METAL-AI/data/Li-Rh/rank_Worker-728c31a2-79ac-48e5-92b3-2c3390793bea.hdf5\n",
      "Downloaded: /Users/moustholmes/Projects/METAL-AI/data/Li-Rh/rank_Worker-729bcac4-0933-4303-b694-d4d2843e4d57.hdf5\n",
      "Downloaded: /Users/moustholmes/Projects/METAL-AI/data/Li-Rh/rank_Worker-729bcac4-0933-4303-b694-d4d2843e4d57.hdf5\n",
      "Downloaded: /Users/moustholmes/Projects/METAL-AI/data/Li-Rh/rank_Worker-72e27585-83fb-4519-a28f-061ec7a923f5.hdf5\n",
      "Downloaded: /Users/moustholmes/Projects/METAL-AI/data/Li-Rh/rank_Worker-72e27585-83fb-4519-a28f-061ec7a923f5.hdf5\n",
      "Downloaded: /Users/moustholmes/Projects/METAL-AI/data/Li-Rh/rank_Worker-72e2b188-f091-4060-99e3-4611ce257a8a.hdf5\n",
      "Downloaded: /Users/moustholmes/Projects/METAL-AI/data/Li-Rh/rank_Worker-72e2b188-f091-4060-99e3-4611ce257a8a.hdf5\n",
      "Downloaded: /Users/moustholmes/Projects/METAL-AI/data/Li-Rh/rank_Worker-7395df9e-39c5-4852-bd46-d19d77183885.hdf5\n",
      "Downloaded: /Users/moustholmes/Projects/METAL-AI/data/Li-Rh/rank_Worker-7395df9e-39c5-4852-bd46-d19d77183885.hdf5\n",
      "Downloaded: /Users/moustholmes/Projects/METAL-AI/data/Li-Rh/rank_Worker-753f392d-c434-41bd-bb89-5cfc80295206.hdf5\n",
      "Downloaded: /Users/moustholmes/Projects/METAL-AI/data/Li-Rh/rank_Worker-753f392d-c434-41bd-bb89-5cfc80295206.hdf5\n",
      "Downloaded: /Users/moustholmes/Projects/METAL-AI/data/Li-Rh/rank_Worker-75b00766-cb1c-4733-a3a1-855b3902cdf0.hdf5\n",
      "Downloaded: /Users/moustholmes/Projects/METAL-AI/data/Li-Rh/rank_Worker-75b00766-cb1c-4733-a3a1-855b3902cdf0.hdf5\n",
      "Downloaded: /Users/moustholmes/Projects/METAL-AI/data/Li-Rh/rank_Worker-75d6f949-f684-40c7-8033-f20be09ea55a.hdf5\n",
      "Downloaded: /Users/moustholmes/Projects/METAL-AI/data/Li-Rh/rank_Worker-75d6f949-f684-40c7-8033-f20be09ea55a.hdf5\n",
      "Downloaded: /Users/moustholmes/Projects/METAL-AI/data/Li-Rh/rank_Worker-75dde8ca-6cf3-484c-8f0c-8b353c08a76f.hdf5\n",
      "Downloaded: /Users/moustholmes/Projects/METAL-AI/data/Li-Rh/rank_Worker-75dde8ca-6cf3-484c-8f0c-8b353c08a76f.hdf5\n",
      "Downloaded: /Users/moustholmes/Projects/METAL-AI/data/Li-Rh/rank_Worker-75fb6fa5-b60e-4b0b-97bc-b4c0eadc55bd.hdf5\n",
      "Downloaded: /Users/moustholmes/Projects/METAL-AI/data/Li-Rh/rank_Worker-75fb6fa5-b60e-4b0b-97bc-b4c0eadc55bd.hdf5\n",
      "Downloaded: /Users/moustholmes/Projects/METAL-AI/data/Li-Rh/rank_Worker-76efaebb-f041-448c-ac32-c40465da9b99.hdf5\n",
      "Downloaded: /Users/moustholmes/Projects/METAL-AI/data/Li-Rh/rank_Worker-76efaebb-f041-448c-ac32-c40465da9b99.hdf5\n",
      "Downloaded: /Users/moustholmes/Projects/METAL-AI/data/Li-Rh/rank_Worker-7705dce3-ede3-4be1-92f6-32b6e10300e3.hdf5\n",
      "Downloaded: /Users/moustholmes/Projects/METAL-AI/data/Li-Rh/rank_Worker-7705dce3-ede3-4be1-92f6-32b6e10300e3.hdf5\n",
      "Downloaded: /Users/moustholmes/Projects/METAL-AI/data/Li-Rh/rank_Worker-77d5819d-a216-42f4-80ce-b48248c40f65.hdf5\n",
      "Downloaded: /Users/moustholmes/Projects/METAL-AI/data/Li-Rh/rank_Worker-77d5819d-a216-42f4-80ce-b48248c40f65.hdf5\n",
      "Downloaded: /Users/moustholmes/Projects/METAL-AI/data/Li-Rh/rank_Worker-77e0090b-1c39-4e8a-acb2-ef19e7e42353.hdf5\n",
      "Downloaded: /Users/moustholmes/Projects/METAL-AI/data/Li-Rh/rank_Worker-77e0090b-1c39-4e8a-acb2-ef19e7e42353.hdf5\n",
      "Downloaded: /Users/moustholmes/Projects/METAL-AI/data/Li-Rh/rank_Worker-798ce00e-d26a-48bc-abe7-43d24f6aaf29.hdf5\n",
      "Downloaded: /Users/moustholmes/Projects/METAL-AI/data/Li-Rh/rank_Worker-798ce00e-d26a-48bc-abe7-43d24f6aaf29.hdf5\n",
      "Downloaded: /Users/moustholmes/Projects/METAL-AI/data/Li-Rh/rank_Worker-79a5b269-ae32-412b-aa75-63982f03be90.hdf5\n",
      "Downloaded: /Users/moustholmes/Projects/METAL-AI/data/Li-Rh/rank_Worker-79a5b269-ae32-412b-aa75-63982f03be90.hdf5\n",
      "Downloaded: /Users/moustholmes/Projects/METAL-AI/data/Li-Rh/rank_Worker-7be38a2c-9afb-49d3-a910-45e4db536cc3.hdf5\n",
      "Downloaded: /Users/moustholmes/Projects/METAL-AI/data/Li-Rh/rank_Worker-7be38a2c-9afb-49d3-a910-45e4db536cc3.hdf5\n",
      "Downloaded: /Users/moustholmes/Projects/METAL-AI/data/Li-Rh/rank_Worker-7c9e9c02-9f9e-4c84-830a-02e8686ecc7f.hdf5\n",
      "Downloaded: /Users/moustholmes/Projects/METAL-AI/data/Li-Rh/rank_Worker-7c9e9c02-9f9e-4c84-830a-02e8686ecc7f.hdf5\n",
      "Downloaded: /Users/moustholmes/Projects/METAL-AI/data/Li-Rh/rank_Worker-7d6b7d26-e065-4cc9-9bad-71fb1580c79e.hdf5\n",
      "Downloaded: /Users/moustholmes/Projects/METAL-AI/data/Li-Rh/rank_Worker-7d6b7d26-e065-4cc9-9bad-71fb1580c79e.hdf5\n",
      "Downloaded: /Users/moustholmes/Projects/METAL-AI/data/Li-Rh/rank_Worker-7dd3c0b4-795e-4e17-a6b6-05fcb1c7fa8b.hdf5\n",
      "Downloaded: /Users/moustholmes/Projects/METAL-AI/data/Li-Rh/rank_Worker-7dd3c0b4-795e-4e17-a6b6-05fcb1c7fa8b.hdf5\n",
      "Downloaded: /Users/moustholmes/Projects/METAL-AI/data/Li-Rh/rank_Worker-7e0d40b8-e206-424b-89ea-25b085080b21.hdf5\n",
      "Downloaded: /Users/moustholmes/Projects/METAL-AI/data/Li-Rh/rank_Worker-7e0d40b8-e206-424b-89ea-25b085080b21.hdf5\n",
      "Downloaded: /Users/moustholmes/Projects/METAL-AI/data/Li-Rh/rank_Worker-7f2c2d3f-363f-4c3d-b55c-0213b1a6f7db.hdf5\n",
      "Downloaded: /Users/moustholmes/Projects/METAL-AI/data/Li-Rh/rank_Worker-7f2c2d3f-363f-4c3d-b55c-0213b1a6f7db.hdf5\n",
      "Downloaded: /Users/moustholmes/Projects/METAL-AI/data/Li-Rh/rank_Worker-8021d968-c5d0-47df-b22e-1b209fab4801.hdf5\n",
      "Downloaded: /Users/moustholmes/Projects/METAL-AI/data/Li-Rh/rank_Worker-8021d968-c5d0-47df-b22e-1b209fab4801.hdf5\n",
      "Downloaded: /Users/moustholmes/Projects/METAL-AI/data/Li-Rh/rank_Worker-80a34d17-6583-49de-bb59-903e8f27c269.hdf5\n",
      "Downloaded: /Users/moustholmes/Projects/METAL-AI/data/Li-Rh/rank_Worker-80a34d17-6583-49de-bb59-903e8f27c269.hdf5\n",
      "Downloaded: /Users/moustholmes/Projects/METAL-AI/data/Li-Rh/rank_Worker-80f96f86-7ea9-498c-8d10-7a4d2140f86b.hdf5\n",
      "Downloaded: /Users/moustholmes/Projects/METAL-AI/data/Li-Rh/rank_Worker-80f96f86-7ea9-498c-8d10-7a4d2140f86b.hdf5\n",
      "Downloaded: /Users/moustholmes/Projects/METAL-AI/data/Li-Rh/rank_Worker-824c315c-0fd2-42b3-8509-cfd97eb95013.hdf5\n",
      "Downloaded: /Users/moustholmes/Projects/METAL-AI/data/Li-Rh/rank_Worker-824c315c-0fd2-42b3-8509-cfd97eb95013.hdf5\n",
      "Downloaded: /Users/moustholmes/Projects/METAL-AI/data/Li-Rh/rank_Worker-82a24054-d49a-40f2-9ec6-7efe4f095b4b.hdf5\n",
      "Downloaded: /Users/moustholmes/Projects/METAL-AI/data/Li-Rh/rank_Worker-82a24054-d49a-40f2-9ec6-7efe4f095b4b.hdf5\n",
      "Downloaded: /Users/moustholmes/Projects/METAL-AI/data/Li-Rh/rank_Worker-84850da3-9142-4a1a-b22c-4aba5bf5450f.hdf5\n",
      "Downloaded: /Users/moustholmes/Projects/METAL-AI/data/Li-Rh/rank_Worker-84850da3-9142-4a1a-b22c-4aba5bf5450f.hdf5\n",
      "Downloaded: /Users/moustholmes/Projects/METAL-AI/data/Li-Rh/rank_Worker-84a4b9ad-02b8-4438-94c4-0ec0c102cb03.hdf5\n",
      "Downloaded: /Users/moustholmes/Projects/METAL-AI/data/Li-Rh/rank_Worker-84a4b9ad-02b8-4438-94c4-0ec0c102cb03.hdf5\n",
      "Downloaded: /Users/moustholmes/Projects/METAL-AI/data/Li-Rh/rank_Worker-86be73a0-8516-47bf-8f04-1182a7a0bf72.hdf5\n",
      "Downloaded: /Users/moustholmes/Projects/METAL-AI/data/Li-Rh/rank_Worker-86be73a0-8516-47bf-8f04-1182a7a0bf72.hdf5\n",
      "Downloaded: /Users/moustholmes/Projects/METAL-AI/data/Li-Rh/rank_Worker-87287e70-8bd5-4afd-afb8-355714b3329f.hdf5\n",
      "Downloaded: /Users/moustholmes/Projects/METAL-AI/data/Li-Rh/rank_Worker-87287e70-8bd5-4afd-afb8-355714b3329f.hdf5\n",
      "Downloaded: /Users/moustholmes/Projects/METAL-AI/data/Li-Rh/rank_Worker-875108cc-0faa-4466-9bdb-9e56279a7bbb.hdf5\n",
      "Downloaded: /Users/moustholmes/Projects/METAL-AI/data/Li-Rh/rank_Worker-875108cc-0faa-4466-9bdb-9e56279a7bbb.hdf5\n",
      "Downloaded: /Users/moustholmes/Projects/METAL-AI/data/Li-Rh/rank_Worker-876851e8-f9b2-4334-bb2a-457e6abbefe5.hdf5\n",
      "Downloaded: /Users/moustholmes/Projects/METAL-AI/data/Li-Rh/rank_Worker-876851e8-f9b2-4334-bb2a-457e6abbefe5.hdf5\n",
      "Downloaded: /Users/moustholmes/Projects/METAL-AI/data/Li-Rh/rank_Worker-879b8fb3-b28a-4cb9-9ef5-8472beef368c.hdf5\n",
      "Downloaded: /Users/moustholmes/Projects/METAL-AI/data/Li-Rh/rank_Worker-879b8fb3-b28a-4cb9-9ef5-8472beef368c.hdf5\n",
      "Downloaded: /Users/moustholmes/Projects/METAL-AI/data/Li-Rh/rank_Worker-87d34a8c-93af-4b46-81b0-e5d2a5dabe73.hdf5\n",
      "Downloaded: /Users/moustholmes/Projects/METAL-AI/data/Li-Rh/rank_Worker-87d34a8c-93af-4b46-81b0-e5d2a5dabe73.hdf5\n",
      "Downloaded: /Users/moustholmes/Projects/METAL-AI/data/Li-Rh/rank_Worker-8813bd57-0746-4c66-815a-969c0a524009.hdf5\n",
      "Downloaded: /Users/moustholmes/Projects/METAL-AI/data/Li-Rh/rank_Worker-8813bd57-0746-4c66-815a-969c0a524009.hdf5\n",
      "Downloaded: /Users/moustholmes/Projects/METAL-AI/data/Li-Rh/rank_Worker-89935e19-3202-4795-bb16-97ef4bd7511b.hdf5\n",
      "Downloaded: /Users/moustholmes/Projects/METAL-AI/data/Li-Rh/rank_Worker-89935e19-3202-4795-bb16-97ef4bd7511b.hdf5\n",
      "Downloaded: /Users/moustholmes/Projects/METAL-AI/data/Li-Rh/rank_Worker-8a1ad836-f51c-4743-8c0c-4aaec80095d1.hdf5\n",
      "Downloaded: /Users/moustholmes/Projects/METAL-AI/data/Li-Rh/rank_Worker-8a1ad836-f51c-4743-8c0c-4aaec80095d1.hdf5\n",
      "Downloaded: /Users/moustholmes/Projects/METAL-AI/data/Li-Rh/rank_Worker-8a592e8c-9582-4c3a-ba9e-8c7cd16974a8.hdf5\n",
      "Downloaded: /Users/moustholmes/Projects/METAL-AI/data/Li-Rh/rank_Worker-8a592e8c-9582-4c3a-ba9e-8c7cd16974a8.hdf5\n",
      "Downloaded: /Users/moustholmes/Projects/METAL-AI/data/Li-Rh/rank_Worker-8a96f767-0b2d-4467-bb86-6bebd0ac34a9.hdf5\n",
      "Downloaded: /Users/moustholmes/Projects/METAL-AI/data/Li-Rh/rank_Worker-8a96f767-0b2d-4467-bb86-6bebd0ac34a9.hdf5\n",
      "Downloaded: /Users/moustholmes/Projects/METAL-AI/data/Li-Rh/rank_Worker-8aa1c12f-033d-473a-99dc-a3b69f724bc2.hdf5\n",
      "Downloaded: /Users/moustholmes/Projects/METAL-AI/data/Li-Rh/rank_Worker-8aa1c12f-033d-473a-99dc-a3b69f724bc2.hdf5\n",
      "Downloaded: /Users/moustholmes/Projects/METAL-AI/data/Li-Rh/rank_Worker-8add6193-b132-4707-8fd4-eb3ae1183979.hdf5\n",
      "Downloaded: /Users/moustholmes/Projects/METAL-AI/data/Li-Rh/rank_Worker-8add6193-b132-4707-8fd4-eb3ae1183979.hdf5\n",
      "Downloaded: /Users/moustholmes/Projects/METAL-AI/data/Li-Rh/rank_Worker-8af78d82-51f5-4ee9-8540-fbb357f7ac56.hdf5\n",
      "Downloaded: /Users/moustholmes/Projects/METAL-AI/data/Li-Rh/rank_Worker-8af78d82-51f5-4ee9-8540-fbb357f7ac56.hdf5\n",
      "Downloaded: /Users/moustholmes/Projects/METAL-AI/data/Li-Rh/rank_Worker-8b5ce2a7-f28c-4790-b087-78a389c22fec.hdf5\n",
      "Downloaded: /Users/moustholmes/Projects/METAL-AI/data/Li-Rh/rank_Worker-8b5ce2a7-f28c-4790-b087-78a389c22fec.hdf5\n",
      "Downloaded: /Users/moustholmes/Projects/METAL-AI/data/Li-Rh/rank_Worker-8ba552de-f56f-4f11-898e-1172abe5deba.hdf5\n",
      "Downloaded: /Users/moustholmes/Projects/METAL-AI/data/Li-Rh/rank_Worker-8ba552de-f56f-4f11-898e-1172abe5deba.hdf5\n",
      "Downloaded: /Users/moustholmes/Projects/METAL-AI/data/Li-Rh/rank_Worker-8c5e66a6-b4e2-40d7-b94d-a12bdb4c17c6.hdf5\n",
      "Downloaded: /Users/moustholmes/Projects/METAL-AI/data/Li-Rh/rank_Worker-8c5e66a6-b4e2-40d7-b94d-a12bdb4c17c6.hdf5\n",
      "Downloaded: /Users/moustholmes/Projects/METAL-AI/data/Li-Rh/rank_Worker-8c698ff9-1b4e-4a20-8105-f061bf5a27eb.hdf5\n",
      "Downloaded: /Users/moustholmes/Projects/METAL-AI/data/Li-Rh/rank_Worker-8c698ff9-1b4e-4a20-8105-f061bf5a27eb.hdf5\n",
      "Downloaded: /Users/moustholmes/Projects/METAL-AI/data/Li-Rh/rank_Worker-8cacc883-2c54-45bd-a1b9-f8605fb8cee6.hdf5\n",
      "Downloaded: /Users/moustholmes/Projects/METAL-AI/data/Li-Rh/rank_Worker-8cacc883-2c54-45bd-a1b9-f8605fb8cee6.hdf5\n",
      "Downloaded: /Users/moustholmes/Projects/METAL-AI/data/Li-Rh/rank_Worker-8d0f8e79-76dd-4418-ab13-37a72a32582a.hdf5\n",
      "Downloaded: /Users/moustholmes/Projects/METAL-AI/data/Li-Rh/rank_Worker-8d0f8e79-76dd-4418-ab13-37a72a32582a.hdf5\n",
      "Downloaded: /Users/moustholmes/Projects/METAL-AI/data/Li-Rh/rank_Worker-8d1e0203-8910-492f-bb52-384b75b2dafa.hdf5\n",
      "Downloaded: /Users/moustholmes/Projects/METAL-AI/data/Li-Rh/rank_Worker-8d1e0203-8910-492f-bb52-384b75b2dafa.hdf5\n",
      "Downloaded: /Users/moustholmes/Projects/METAL-AI/data/Li-Rh/rank_Worker-8dfbd828-9280-4f4b-a540-e1f49a52a4c7.hdf5\n",
      "Downloaded: /Users/moustholmes/Projects/METAL-AI/data/Li-Rh/rank_Worker-8dfbd828-9280-4f4b-a540-e1f49a52a4c7.hdf5\n",
      "Downloaded: /Users/moustholmes/Projects/METAL-AI/data/Li-Rh/rank_Worker-8f359224-e842-457d-812c-183b8d458242.hdf5\n",
      "Downloaded: /Users/moustholmes/Projects/METAL-AI/data/Li-Rh/rank_Worker-8f359224-e842-457d-812c-183b8d458242.hdf5\n",
      "Downloaded: /Users/moustholmes/Projects/METAL-AI/data/Li-Rh/rank_Worker-901a0f3b-55e4-4803-aee6-42f4e4385aaf.hdf5\n",
      "Downloaded: /Users/moustholmes/Projects/METAL-AI/data/Li-Rh/rank_Worker-901a0f3b-55e4-4803-aee6-42f4e4385aaf.hdf5\n",
      "Downloaded: /Users/moustholmes/Projects/METAL-AI/data/Li-Rh/rank_Worker-90604895-1464-4970-b76c-00aef073252d.hdf5\n",
      "Downloaded: /Users/moustholmes/Projects/METAL-AI/data/Li-Rh/rank_Worker-90604895-1464-4970-b76c-00aef073252d.hdf5\n",
      "Downloaded: /Users/moustholmes/Projects/METAL-AI/data/Li-Rh/rank_Worker-90c8832d-3574-4571-971d-ec5a2ebbc503.hdf5\n",
      "Downloaded: /Users/moustholmes/Projects/METAL-AI/data/Li-Rh/rank_Worker-90c8832d-3574-4571-971d-ec5a2ebbc503.hdf5\n",
      "Downloaded: /Users/moustholmes/Projects/METAL-AI/data/Li-Rh/rank_Worker-90f5146a-8ad8-4501-bbda-151620c21f6f.hdf5\n",
      "Downloaded: /Users/moustholmes/Projects/METAL-AI/data/Li-Rh/rank_Worker-90f5146a-8ad8-4501-bbda-151620c21f6f.hdf5\n",
      "Downloaded: /Users/moustholmes/Projects/METAL-AI/data/Li-Rh/rank_Worker-910b41b8-f4c9-42e6-9d25-787ccfbf34a9.hdf5\n",
      "Downloaded: /Users/moustholmes/Projects/METAL-AI/data/Li-Rh/rank_Worker-910b41b8-f4c9-42e6-9d25-787ccfbf34a9.hdf5\n",
      "Downloaded: /Users/moustholmes/Projects/METAL-AI/data/Li-Rh/rank_Worker-9209c4e5-10cc-4011-92c8-f2ccc54137bf.hdf5\n",
      "Downloaded: /Users/moustholmes/Projects/METAL-AI/data/Li-Rh/rank_Worker-9209c4e5-10cc-4011-92c8-f2ccc54137bf.hdf5\n",
      "Downloaded: /Users/moustholmes/Projects/METAL-AI/data/Li-Rh/rank_Worker-925ca044-f1af-4354-a0e2-53714a5fc6fa.hdf5\n",
      "Downloaded: /Users/moustholmes/Projects/METAL-AI/data/Li-Rh/rank_Worker-925ca044-f1af-4354-a0e2-53714a5fc6fa.hdf5\n",
      "Downloaded: /Users/moustholmes/Projects/METAL-AI/data/Li-Rh/rank_Worker-926c560d-b976-4cf1-9ca1-98159230fb0a.hdf5\n",
      "Downloaded: /Users/moustholmes/Projects/METAL-AI/data/Li-Rh/rank_Worker-926c560d-b976-4cf1-9ca1-98159230fb0a.hdf5\n",
      "Downloaded: /Users/moustholmes/Projects/METAL-AI/data/Li-Rh/rank_Worker-92a15cb9-3aec-47f8-a334-c65e13fff8b6.hdf5\n",
      "Downloaded: /Users/moustholmes/Projects/METAL-AI/data/Li-Rh/rank_Worker-92a15cb9-3aec-47f8-a334-c65e13fff8b6.hdf5\n",
      "Downloaded: /Users/moustholmes/Projects/METAL-AI/data/Li-Rh/rank_Worker-92ae1e56-81b6-418f-b7d0-341866070369.hdf5\n",
      "Downloaded: /Users/moustholmes/Projects/METAL-AI/data/Li-Rh/rank_Worker-92ae1e56-81b6-418f-b7d0-341866070369.hdf5\n",
      "Downloaded: /Users/moustholmes/Projects/METAL-AI/data/Li-Rh/rank_Worker-92e753a2-9540-4c1e-b467-f8d35859b718.hdf5\n",
      "Downloaded: /Users/moustholmes/Projects/METAL-AI/data/Li-Rh/rank_Worker-92e753a2-9540-4c1e-b467-f8d35859b718.hdf5\n",
      "Downloaded: /Users/moustholmes/Projects/METAL-AI/data/Li-Rh/rank_Worker-93789580-6be6-4392-a4dd-6eed098220ff.hdf5\n",
      "Downloaded: /Users/moustholmes/Projects/METAL-AI/data/Li-Rh/rank_Worker-93789580-6be6-4392-a4dd-6eed098220ff.hdf5\n",
      "Downloaded: /Users/moustholmes/Projects/METAL-AI/data/Li-Rh/rank_Worker-938d254d-9f6b-481f-8d35-d04169bc22f8.hdf5\n",
      "Downloaded: /Users/moustholmes/Projects/METAL-AI/data/Li-Rh/rank_Worker-938d254d-9f6b-481f-8d35-d04169bc22f8.hdf5\n",
      "Downloaded: /Users/moustholmes/Projects/METAL-AI/data/Li-Rh/rank_Worker-94bf874c-768a-4293-9b9d-8a19d91cb22c.hdf5\n",
      "Downloaded: /Users/moustholmes/Projects/METAL-AI/data/Li-Rh/rank_Worker-94bf874c-768a-4293-9b9d-8a19d91cb22c.hdf5\n",
      "Downloaded: /Users/moustholmes/Projects/METAL-AI/data/Li-Rh/rank_Worker-96c0810d-3707-4a31-af16-86f12d9986d7.hdf5\n",
      "Downloaded: /Users/moustholmes/Projects/METAL-AI/data/Li-Rh/rank_Worker-96c0810d-3707-4a31-af16-86f12d9986d7.hdf5\n",
      "Downloaded: /Users/moustholmes/Projects/METAL-AI/data/Li-Rh/rank_Worker-96d9e44c-1b0f-4397-9afd-fab2c09301e9.hdf5\n",
      "Downloaded: /Users/moustholmes/Projects/METAL-AI/data/Li-Rh/rank_Worker-96d9e44c-1b0f-4397-9afd-fab2c09301e9.hdf5\n",
      "Downloaded: /Users/moustholmes/Projects/METAL-AI/data/Li-Rh/rank_Worker-96fe060c-5197-42ca-98c3-8d1244b6ff86.hdf5\n",
      "Downloaded: /Users/moustholmes/Projects/METAL-AI/data/Li-Rh/rank_Worker-96fe060c-5197-42ca-98c3-8d1244b6ff86.hdf5\n",
      "Downloaded: /Users/moustholmes/Projects/METAL-AI/data/Li-Rh/rank_Worker-9710a703-d86f-4ce8-a0b7-b7d0cc11f4cb.hdf5\n",
      "Downloaded: /Users/moustholmes/Projects/METAL-AI/data/Li-Rh/rank_Worker-9710a703-d86f-4ce8-a0b7-b7d0cc11f4cb.hdf5\n",
      "Downloaded: /Users/moustholmes/Projects/METAL-AI/data/Li-Rh/rank_Worker-98281e07-a27e-48ba-af7c-d0e714952f45.hdf5\n",
      "Downloaded: /Users/moustholmes/Projects/METAL-AI/data/Li-Rh/rank_Worker-98281e07-a27e-48ba-af7c-d0e714952f45.hdf5\n",
      "Downloaded: /Users/moustholmes/Projects/METAL-AI/data/Li-Rh/rank_Worker-987c9441-8c34-4176-bc9c-d9fada5ad451.hdf5\n",
      "Downloaded: /Users/moustholmes/Projects/METAL-AI/data/Li-Rh/rank_Worker-987c9441-8c34-4176-bc9c-d9fada5ad451.hdf5\n",
      "Downloaded: /Users/moustholmes/Projects/METAL-AI/data/Li-Rh/rank_Worker-9881d568-d849-4771-9e28-35481f60e2a7.hdf5\n",
      "Downloaded: /Users/moustholmes/Projects/METAL-AI/data/Li-Rh/rank_Worker-9881d568-d849-4771-9e28-35481f60e2a7.hdf5\n",
      "Downloaded: /Users/moustholmes/Projects/METAL-AI/data/Li-Rh/rank_Worker-98da3ac1-b01e-46df-8cdd-87d69bd7f712.hdf5\n",
      "Downloaded: /Users/moustholmes/Projects/METAL-AI/data/Li-Rh/rank_Worker-98da3ac1-b01e-46df-8cdd-87d69bd7f712.hdf5\n",
      "Downloaded: /Users/moustholmes/Projects/METAL-AI/data/Li-Rh/rank_Worker-9a12ea69-34e9-4351-918e-4177ad455348.hdf5\n",
      "Downloaded: /Users/moustholmes/Projects/METAL-AI/data/Li-Rh/rank_Worker-9a12ea69-34e9-4351-918e-4177ad455348.hdf5\n",
      "Downloaded: /Users/moustholmes/Projects/METAL-AI/data/Li-Rh/rank_Worker-9a58de85-b641-44b8-9855-aa743bc46988.hdf5\n",
      "Downloaded: /Users/moustholmes/Projects/METAL-AI/data/Li-Rh/rank_Worker-9a58de85-b641-44b8-9855-aa743bc46988.hdf5\n",
      "Downloaded: /Users/moustholmes/Projects/METAL-AI/data/Li-Rh/rank_Worker-9af77a75-f1d4-4f98-8632-e3ab615aa58e.hdf5\n",
      "Downloaded: /Users/moustholmes/Projects/METAL-AI/data/Li-Rh/rank_Worker-9af77a75-f1d4-4f98-8632-e3ab615aa58e.hdf5\n",
      "Downloaded: /Users/moustholmes/Projects/METAL-AI/data/Li-Rh/rank_Worker-9b759a52-9ef2-4e85-93d2-1ef11f6795ef.hdf5\n",
      "Downloaded: /Users/moustholmes/Projects/METAL-AI/data/Li-Rh/rank_Worker-9b759a52-9ef2-4e85-93d2-1ef11f6795ef.hdf5\n",
      "Downloaded: /Users/moustholmes/Projects/METAL-AI/data/Li-Rh/rank_Worker-9c003887-fa38-4e4f-b593-54089f5a545a.hdf5\n",
      "Downloaded: /Users/moustholmes/Projects/METAL-AI/data/Li-Rh/rank_Worker-9c003887-fa38-4e4f-b593-54089f5a545a.hdf5\n",
      "Downloaded: /Users/moustholmes/Projects/METAL-AI/data/Li-Rh/rank_Worker-9ca1068d-2f0e-4a06-862d-c59810c51d49.hdf5\n",
      "Downloaded: /Users/moustholmes/Projects/METAL-AI/data/Li-Rh/rank_Worker-9ca1068d-2f0e-4a06-862d-c59810c51d49.hdf5\n",
      "Downloaded: /Users/moustholmes/Projects/METAL-AI/data/Li-Rh/rank_Worker-9e02d33c-5289-4033-ae7a-c6e841d781ff.hdf5\n",
      "Downloaded: /Users/moustholmes/Projects/METAL-AI/data/Li-Rh/rank_Worker-9e02d33c-5289-4033-ae7a-c6e841d781ff.hdf5\n",
      "Downloaded: /Users/moustholmes/Projects/METAL-AI/data/Li-Rh/rank_Worker-9eeba17d-13f0-4d88-8932-02611965cc19.hdf5\n",
      "Downloaded: /Users/moustholmes/Projects/METAL-AI/data/Li-Rh/rank_Worker-9eeba17d-13f0-4d88-8932-02611965cc19.hdf5\n",
      "Downloaded: /Users/moustholmes/Projects/METAL-AI/data/Li-Rh/rank_Worker-a0ba7789-8bf0-4102-b1bc-66d2e3a14941.hdf5\n",
      "Downloaded: /Users/moustholmes/Projects/METAL-AI/data/Li-Rh/rank_Worker-a0ba7789-8bf0-4102-b1bc-66d2e3a14941.hdf5\n",
      "Downloaded: /Users/moustholmes/Projects/METAL-AI/data/Li-Rh/rank_Worker-a14571d1-37b8-426b-96af-6b5abb1fccf4.hdf5\n",
      "Downloaded: /Users/moustholmes/Projects/METAL-AI/data/Li-Rh/rank_Worker-a14571d1-37b8-426b-96af-6b5abb1fccf4.hdf5\n",
      "Downloaded: /Users/moustholmes/Projects/METAL-AI/data/Li-Rh/rank_Worker-a1a6cd26-01a4-424b-8b0c-c10caa8add98.hdf5\n",
      "Downloaded: /Users/moustholmes/Projects/METAL-AI/data/Li-Rh/rank_Worker-a1a6cd26-01a4-424b-8b0c-c10caa8add98.hdf5\n",
      "Downloaded: /Users/moustholmes/Projects/METAL-AI/data/Li-Rh/rank_Worker-a2effd86-0052-46f6-b144-60451d22d724.hdf5\n",
      "Downloaded: /Users/moustholmes/Projects/METAL-AI/data/Li-Rh/rank_Worker-a2effd86-0052-46f6-b144-60451d22d724.hdf5\n",
      "Downloaded: /Users/moustholmes/Projects/METAL-AI/data/Li-Rh/rank_Worker-a320fad2-3444-4318-a0da-97eaef290937.hdf5\n",
      "Downloaded: /Users/moustholmes/Projects/METAL-AI/data/Li-Rh/rank_Worker-a320fad2-3444-4318-a0da-97eaef290937.hdf5\n",
      "Downloaded: /Users/moustholmes/Projects/METAL-AI/data/Li-Rh/rank_Worker-a36913ba-1b7e-4b05-b9cf-2b2b78b7a6b5.hdf5\n",
      "Downloaded: /Users/moustholmes/Projects/METAL-AI/data/Li-Rh/rank_Worker-a36913ba-1b7e-4b05-b9cf-2b2b78b7a6b5.hdf5\n",
      "Downloaded: /Users/moustholmes/Projects/METAL-AI/data/Li-Rh/rank_Worker-a537ea09-c4ad-4c1f-b882-b81a104fc54f.hdf5\n",
      "Downloaded: /Users/moustholmes/Projects/METAL-AI/data/Li-Rh/rank_Worker-a537ea09-c4ad-4c1f-b882-b81a104fc54f.hdf5\n",
      "Downloaded: /Users/moustholmes/Projects/METAL-AI/data/Li-Rh/rank_Worker-a54b00dd-e6d6-4fad-b51c-cd3754c9015e.hdf5\n",
      "Downloaded: /Users/moustholmes/Projects/METAL-AI/data/Li-Rh/rank_Worker-a54b00dd-e6d6-4fad-b51c-cd3754c9015e.hdf5\n",
      "Downloaded: /Users/moustholmes/Projects/METAL-AI/data/Li-Rh/rank_Worker-a574c489-e60d-4bdd-a2bc-fff435c3dc1c.hdf5\n",
      "Downloaded: /Users/moustholmes/Projects/METAL-AI/data/Li-Rh/rank_Worker-a574c489-e60d-4bdd-a2bc-fff435c3dc1c.hdf5\n",
      "Downloaded: /Users/moustholmes/Projects/METAL-AI/data/Li-Rh/rank_Worker-a6d7b68d-31b7-42b2-9cd6-2de0806198d1.hdf5\n",
      "Downloaded: /Users/moustholmes/Projects/METAL-AI/data/Li-Rh/rank_Worker-a6d7b68d-31b7-42b2-9cd6-2de0806198d1.hdf5\n",
      "Downloaded: /Users/moustholmes/Projects/METAL-AI/data/Li-Rh/rank_Worker-a6f7dc39-dbb3-478d-a5e4-ac1ba5e2a3e4.hdf5\n",
      "Downloaded: /Users/moustholmes/Projects/METAL-AI/data/Li-Rh/rank_Worker-a6f7dc39-dbb3-478d-a5e4-ac1ba5e2a3e4.hdf5\n",
      "Downloaded: /Users/moustholmes/Projects/METAL-AI/data/Li-Rh/rank_Worker-a71dcae6-66a7-4570-a904-e78b42526fd0.hdf5\n",
      "Downloaded: /Users/moustholmes/Projects/METAL-AI/data/Li-Rh/rank_Worker-a71dcae6-66a7-4570-a904-e78b42526fd0.hdf5\n",
      "Downloaded: /Users/moustholmes/Projects/METAL-AI/data/Li-Rh/rank_Worker-a73a964e-da88-4357-9a75-a7ac08a7b488.hdf5\n",
      "Downloaded: /Users/moustholmes/Projects/METAL-AI/data/Li-Rh/rank_Worker-a73a964e-da88-4357-9a75-a7ac08a7b488.hdf5\n",
      "Downloaded: /Users/moustholmes/Projects/METAL-AI/data/Li-Rh/rank_Worker-a78d573f-2691-4d5a-aba1-8b99ac931e44.hdf5\n",
      "Downloaded: /Users/moustholmes/Projects/METAL-AI/data/Li-Rh/rank_Worker-a78d573f-2691-4d5a-aba1-8b99ac931e44.hdf5\n",
      "Downloaded: /Users/moustholmes/Projects/METAL-AI/data/Li-Rh/rank_Worker-a8c57572-14cc-4675-a762-ede341a0a01e.hdf5\n",
      "Downloaded: /Users/moustholmes/Projects/METAL-AI/data/Li-Rh/rank_Worker-a8c57572-14cc-4675-a762-ede341a0a01e.hdf5\n",
      "Downloaded: /Users/moustholmes/Projects/METAL-AI/data/Li-Rh/rank_Worker-a9117727-bb5b-4cc3-a708-1df43d061853.hdf5\n",
      "Downloaded: /Users/moustholmes/Projects/METAL-AI/data/Li-Rh/rank_Worker-a9117727-bb5b-4cc3-a708-1df43d061853.hdf5\n",
      "Downloaded: /Users/moustholmes/Projects/METAL-AI/data/Li-Rh/rank_Worker-a95dc70e-e021-4aed-974a-f3e81738e210.hdf5\n",
      "Downloaded: /Users/moustholmes/Projects/METAL-AI/data/Li-Rh/rank_Worker-a95dc70e-e021-4aed-974a-f3e81738e210.hdf5\n",
      "Downloaded: /Users/moustholmes/Projects/METAL-AI/data/Li-Rh/rank_Worker-a97bab88-fb86-494f-8357-db6fa5487eee.hdf5\n",
      "Downloaded: /Users/moustholmes/Projects/METAL-AI/data/Li-Rh/rank_Worker-a97bab88-fb86-494f-8357-db6fa5487eee.hdf5\n",
      "Downloaded: /Users/moustholmes/Projects/METAL-AI/data/Li-Rh/rank_Worker-a9b05412-b09f-4f24-85b6-d8b248192003.hdf5\n",
      "Downloaded: /Users/moustholmes/Projects/METAL-AI/data/Li-Rh/rank_Worker-a9b05412-b09f-4f24-85b6-d8b248192003.hdf5\n",
      "Downloaded: /Users/moustholmes/Projects/METAL-AI/data/Li-Rh/rank_Worker-aa959643-9caa-447f-ab53-c8d12153e8ce.hdf5\n",
      "Downloaded: /Users/moustholmes/Projects/METAL-AI/data/Li-Rh/rank_Worker-aa959643-9caa-447f-ab53-c8d12153e8ce.hdf5\n",
      "Downloaded: /Users/moustholmes/Projects/METAL-AI/data/Li-Rh/rank_Worker-ab525cd8-9a35-4db1-9691-3a8d333f7926.hdf5\n",
      "Downloaded: /Users/moustholmes/Projects/METAL-AI/data/Li-Rh/rank_Worker-ab525cd8-9a35-4db1-9691-3a8d333f7926.hdf5\n",
      "Downloaded: /Users/moustholmes/Projects/METAL-AI/data/Li-Rh/rank_Worker-ab5f2672-15c3-4693-844f-0cce2786b655.hdf5\n",
      "Downloaded: /Users/moustholmes/Projects/METAL-AI/data/Li-Rh/rank_Worker-ab5f2672-15c3-4693-844f-0cce2786b655.hdf5\n",
      "Downloaded: /Users/moustholmes/Projects/METAL-AI/data/Li-Rh/rank_Worker-ae0430cd-4dc3-4bae-b2a9-3043e5fc659f.hdf5\n",
      "Downloaded: /Users/moustholmes/Projects/METAL-AI/data/Li-Rh/rank_Worker-ae0430cd-4dc3-4bae-b2a9-3043e5fc659f.hdf5\n",
      "Downloaded: /Users/moustholmes/Projects/METAL-AI/data/Li-Rh/rank_Worker-ae592d39-fcfa-43fc-bfd2-be79734d73ba.hdf5\n",
      "Downloaded: /Users/moustholmes/Projects/METAL-AI/data/Li-Rh/rank_Worker-ae592d39-fcfa-43fc-bfd2-be79734d73ba.hdf5\n",
      "Downloaded: /Users/moustholmes/Projects/METAL-AI/data/Li-Rh/rank_Worker-ae6c0f62-d7c8-4291-9835-5c9cfd0bbde1.hdf5\n",
      "Downloaded: /Users/moustholmes/Projects/METAL-AI/data/Li-Rh/rank_Worker-ae6c0f62-d7c8-4291-9835-5c9cfd0bbde1.hdf5\n",
      "Downloaded: /Users/moustholmes/Projects/METAL-AI/data/Li-Rh/rank_Worker-ae84ff13-3dbb-4120-b24f-88d0bda42796.hdf5\n",
      "Downloaded: /Users/moustholmes/Projects/METAL-AI/data/Li-Rh/rank_Worker-ae84ff13-3dbb-4120-b24f-88d0bda42796.hdf5\n",
      "Downloaded: /Users/moustholmes/Projects/METAL-AI/data/Li-Rh/rank_Worker-af68d7af-16a1-4a5c-91d0-6f22bd206d37.hdf5\n",
      "Downloaded: /Users/moustholmes/Projects/METAL-AI/data/Li-Rh/rank_Worker-af68d7af-16a1-4a5c-91d0-6f22bd206d37.hdf5\n",
      "Downloaded: /Users/moustholmes/Projects/METAL-AI/data/Li-Rh/rank_Worker-b006bc5e-0065-4538-8c8c-5cd0b64797e7.hdf5\n",
      "Downloaded: /Users/moustholmes/Projects/METAL-AI/data/Li-Rh/rank_Worker-b006bc5e-0065-4538-8c8c-5cd0b64797e7.hdf5\n",
      "Downloaded: /Users/moustholmes/Projects/METAL-AI/data/Li-Rh/rank_Worker-b2c15001-f209-4ae4-afb8-a5301268082a.hdf5\n",
      "Downloaded: /Users/moustholmes/Projects/METAL-AI/data/Li-Rh/rank_Worker-b2c15001-f209-4ae4-afb8-a5301268082a.hdf5\n",
      "Downloaded: /Users/moustholmes/Projects/METAL-AI/data/Li-Rh/rank_Worker-b59b8c93-bb09-4be9-9a08-dd56a8461f59.hdf5\n",
      "Downloaded: /Users/moustholmes/Projects/METAL-AI/data/Li-Rh/rank_Worker-b59b8c93-bb09-4be9-9a08-dd56a8461f59.hdf5\n",
      "Downloaded: /Users/moustholmes/Projects/METAL-AI/data/Li-Rh/rank_Worker-b5b3b5c4-7e0a-4d6a-b766-5c88e97a68b4.hdf5\n",
      "Downloaded: /Users/moustholmes/Projects/METAL-AI/data/Li-Rh/rank_Worker-b5b3b5c4-7e0a-4d6a-b766-5c88e97a68b4.hdf5\n",
      "Downloaded: /Users/moustholmes/Projects/METAL-AI/data/Li-Rh/rank_Worker-b73bec19-2e8d-4baf-8701-a0febed338b0.hdf5\n",
      "Downloaded: /Users/moustholmes/Projects/METAL-AI/data/Li-Rh/rank_Worker-b73bec19-2e8d-4baf-8701-a0febed338b0.hdf5\n",
      "Downloaded: /Users/moustholmes/Projects/METAL-AI/data/Li-Rh/rank_Worker-b85b6e90-9892-4006-aded-f69c624496cf.hdf5\n",
      "Downloaded: /Users/moustholmes/Projects/METAL-AI/data/Li-Rh/rank_Worker-b85b6e90-9892-4006-aded-f69c624496cf.hdf5\n",
      "Downloaded: /Users/moustholmes/Projects/METAL-AI/data/Li-Rh/rank_Worker-b92768ce-5d95-4cb0-a411-1dc83f8f2e49.hdf5\n",
      "Downloaded: /Users/moustholmes/Projects/METAL-AI/data/Li-Rh/rank_Worker-b92768ce-5d95-4cb0-a411-1dc83f8f2e49.hdf5\n",
      "Downloaded: /Users/moustholmes/Projects/METAL-AI/data/Li-Rh/rank_Worker-b9819c6a-0160-4d11-9436-c8e0a509b40d.hdf5\n",
      "Downloaded: /Users/moustholmes/Projects/METAL-AI/data/Li-Rh/rank_Worker-b9819c6a-0160-4d11-9436-c8e0a509b40d.hdf5\n",
      "Downloaded: /Users/moustholmes/Projects/METAL-AI/data/Li-Rh/rank_Worker-bc20c03b-dcd3-4acf-9be8-f06ab6f37c9c.hdf5\n",
      "Downloaded: /Users/moustholmes/Projects/METAL-AI/data/Li-Rh/rank_Worker-bc20c03b-dcd3-4acf-9be8-f06ab6f37c9c.hdf5\n",
      "Downloaded: /Users/moustholmes/Projects/METAL-AI/data/Li-Rh/rank_Worker-bdabfb29-1309-4f8e-961a-4bc0f49ebeed.hdf5\n",
      "Downloaded: /Users/moustholmes/Projects/METAL-AI/data/Li-Rh/rank_Worker-bdabfb29-1309-4f8e-961a-4bc0f49ebeed.hdf5\n",
      "Downloaded: /Users/moustholmes/Projects/METAL-AI/data/Li-Rh/rank_Worker-be09fa68-1e04-4b37-8143-9585fe3e519e.hdf5\n",
      "Downloaded: /Users/moustholmes/Projects/METAL-AI/data/Li-Rh/rank_Worker-be09fa68-1e04-4b37-8143-9585fe3e519e.hdf5\n",
      "Downloaded: /Users/moustholmes/Projects/METAL-AI/data/Li-Rh/rank_Worker-be5bd610-4ea5-4810-b7ce-faa5134999df.hdf5\n",
      "Downloaded: /Users/moustholmes/Projects/METAL-AI/data/Li-Rh/rank_Worker-be5bd610-4ea5-4810-b7ce-faa5134999df.hdf5\n",
      "Downloaded: /Users/moustholmes/Projects/METAL-AI/data/Li-Rh/rank_Worker-bfb80b11-98fd-4214-82c1-099a38a7aa00.hdf5\n",
      "Downloaded: /Users/moustholmes/Projects/METAL-AI/data/Li-Rh/rank_Worker-bfb80b11-98fd-4214-82c1-099a38a7aa00.hdf5\n",
      "Downloaded: /Users/moustholmes/Projects/METAL-AI/data/Li-Rh/rank_Worker-c2130a56-2a1d-4275-bf5e-c1bdc80d5fc1.hdf5\n",
      "Downloaded: /Users/moustholmes/Projects/METAL-AI/data/Li-Rh/rank_Worker-c2130a56-2a1d-4275-bf5e-c1bdc80d5fc1.hdf5\n",
      "Downloaded: /Users/moustholmes/Projects/METAL-AI/data/Li-Rh/rank_Worker-c4b0e67c-e73a-4e96-b5be-9b2a8342457b.hdf5\n",
      "Downloaded: /Users/moustholmes/Projects/METAL-AI/data/Li-Rh/rank_Worker-c4b0e67c-e73a-4e96-b5be-9b2a8342457b.hdf5\n",
      "Downloaded: /Users/moustholmes/Projects/METAL-AI/data/Li-Rh/rank_Worker-c4d3ac67-41ef-4d82-b6f8-5d2ab86a0f70.hdf5\n",
      "Downloaded: /Users/moustholmes/Projects/METAL-AI/data/Li-Rh/rank_Worker-c4d3ac67-41ef-4d82-b6f8-5d2ab86a0f70.hdf5\n",
      "Downloaded: /Users/moustholmes/Projects/METAL-AI/data/Li-Rh/rank_Worker-c5662dbd-7efb-4187-ad21-2c7a972be502.hdf5\n",
      "Downloaded: /Users/moustholmes/Projects/METAL-AI/data/Li-Rh/rank_Worker-c5662dbd-7efb-4187-ad21-2c7a972be502.hdf5\n",
      "Downloaded: /Users/moustholmes/Projects/METAL-AI/data/Li-Rh/rank_Worker-c677cb00-b4f9-4921-a45a-0c9c60b8b2fa.hdf5\n",
      "Downloaded: /Users/moustholmes/Projects/METAL-AI/data/Li-Rh/rank_Worker-c677cb00-b4f9-4921-a45a-0c9c60b8b2fa.hdf5\n",
      "Downloaded: /Users/moustholmes/Projects/METAL-AI/data/Li-Rh/rank_Worker-c784aa43-d43e-4c0b-8e89-8f2a55a6b51b.hdf5\n",
      "Downloaded: /Users/moustholmes/Projects/METAL-AI/data/Li-Rh/rank_Worker-c784aa43-d43e-4c0b-8e89-8f2a55a6b51b.hdf5\n",
      "Downloaded: /Users/moustholmes/Projects/METAL-AI/data/Li-Rh/rank_Worker-c791469a-edce-42b6-9cda-c1ab5bd8632a.hdf5\n",
      "Downloaded: /Users/moustholmes/Projects/METAL-AI/data/Li-Rh/rank_Worker-c791469a-edce-42b6-9cda-c1ab5bd8632a.hdf5\n",
      "Downloaded: /Users/moustholmes/Projects/METAL-AI/data/Li-Rh/rank_Worker-c89eb211-e89e-4619-8dc6-11ca8c1ca584.hdf5\n",
      "Downloaded: /Users/moustholmes/Projects/METAL-AI/data/Li-Rh/rank_Worker-c89eb211-e89e-4619-8dc6-11ca8c1ca584.hdf5\n",
      "Downloaded: /Users/moustholmes/Projects/METAL-AI/data/Li-Rh/rank_Worker-c8cb32c2-4830-4eea-8cf3-76c990ad3a4f.hdf5\n",
      "Downloaded: /Users/moustholmes/Projects/METAL-AI/data/Li-Rh/rank_Worker-c8cb32c2-4830-4eea-8cf3-76c990ad3a4f.hdf5\n",
      "Downloaded: /Users/moustholmes/Projects/METAL-AI/data/Li-Rh/rank_Worker-c8d15ce3-4f2b-4e4c-a641-5a42c6535c47.hdf5\n",
      "Downloaded: /Users/moustholmes/Projects/METAL-AI/data/Li-Rh/rank_Worker-c8d15ce3-4f2b-4e4c-a641-5a42c6535c47.hdf5\n",
      "Downloaded: /Users/moustholmes/Projects/METAL-AI/data/Li-Rh/rank_Worker-ca3ceb1b-5fdc-48a3-b10d-1d9b46981700.hdf5\n",
      "Downloaded: /Users/moustholmes/Projects/METAL-AI/data/Li-Rh/rank_Worker-ca3ceb1b-5fdc-48a3-b10d-1d9b46981700.hdf5\n",
      "Downloaded: /Users/moustholmes/Projects/METAL-AI/data/Li-Rh/rank_Worker-cc74c89e-15eb-4e85-9cc4-b447738a574c.hdf5\n",
      "Downloaded: /Users/moustholmes/Projects/METAL-AI/data/Li-Rh/rank_Worker-cc74c89e-15eb-4e85-9cc4-b447738a574c.hdf5\n",
      "Downloaded: /Users/moustholmes/Projects/METAL-AI/data/Li-Rh/rank_Worker-cca208b5-2893-46ed-b655-d202733d8d5f.hdf5\n",
      "Downloaded: /Users/moustholmes/Projects/METAL-AI/data/Li-Rh/rank_Worker-cca208b5-2893-46ed-b655-d202733d8d5f.hdf5\n",
      "Downloaded: /Users/moustholmes/Projects/METAL-AI/data/Li-Rh/rank_Worker-cdcf9e37-94fe-49c9-a6b0-cab0649d8eb8.hdf5\n",
      "Downloaded: /Users/moustholmes/Projects/METAL-AI/data/Li-Rh/rank_Worker-cdcf9e37-94fe-49c9-a6b0-cab0649d8eb8.hdf5\n",
      "Downloaded: /Users/moustholmes/Projects/METAL-AI/data/Li-Rh/rank_Worker-ce6ec22a-efa4-448c-aa63-a7b66b232cf4.hdf5\n",
      "Downloaded: /Users/moustholmes/Projects/METAL-AI/data/Li-Rh/rank_Worker-ce6ec22a-efa4-448c-aa63-a7b66b232cf4.hdf5\n",
      "Downloaded: /Users/moustholmes/Projects/METAL-AI/data/Li-Rh/rank_Worker-cef4aac7-18d2-4062-91fa-ea5be35346d4.hdf5\n",
      "Downloaded: /Users/moustholmes/Projects/METAL-AI/data/Li-Rh/rank_Worker-cef4aac7-18d2-4062-91fa-ea5be35346d4.hdf5\n",
      "Downloaded: /Users/moustholmes/Projects/METAL-AI/data/Li-Rh/rank_Worker-d1156379-08fe-4406-9e24-998029743b76.hdf5\n",
      "Downloaded: /Users/moustholmes/Projects/METAL-AI/data/Li-Rh/rank_Worker-d1156379-08fe-4406-9e24-998029743b76.hdf5\n",
      "Downloaded: /Users/moustholmes/Projects/METAL-AI/data/Li-Rh/rank_Worker-d1a1d4db-f88a-43d0-bed4-55695b21e565.hdf5\n",
      "Downloaded: /Users/moustholmes/Projects/METAL-AI/data/Li-Rh/rank_Worker-d1a1d4db-f88a-43d0-bed4-55695b21e565.hdf5\n",
      "Downloaded: /Users/moustholmes/Projects/METAL-AI/data/Li-Rh/rank_Worker-d1beca42-c8eb-44bd-b5b5-6e275a9371b4.hdf5\n",
      "Downloaded: /Users/moustholmes/Projects/METAL-AI/data/Li-Rh/rank_Worker-d1beca42-c8eb-44bd-b5b5-6e275a9371b4.hdf5\n",
      "Downloaded: /Users/moustholmes/Projects/METAL-AI/data/Li-Rh/rank_Worker-d2577112-534c-4230-8104-1187f5c647b8.hdf5\n",
      "Downloaded: /Users/moustholmes/Projects/METAL-AI/data/Li-Rh/rank_Worker-d2577112-534c-4230-8104-1187f5c647b8.hdf5\n",
      "Downloaded: /Users/moustholmes/Projects/METAL-AI/data/Li-Rh/rank_Worker-d2a28e0c-d229-412c-97b9-83440738e11d.hdf5\n",
      "Downloaded: /Users/moustholmes/Projects/METAL-AI/data/Li-Rh/rank_Worker-d2a28e0c-d229-412c-97b9-83440738e11d.hdf5\n",
      "Downloaded: /Users/moustholmes/Projects/METAL-AI/data/Li-Rh/rank_Worker-d34ccf7a-ebb0-42a8-915e-2b261e8a12c8.hdf5\n",
      "Downloaded: /Users/moustholmes/Projects/METAL-AI/data/Li-Rh/rank_Worker-d34ccf7a-ebb0-42a8-915e-2b261e8a12c8.hdf5\n",
      "Downloaded: /Users/moustholmes/Projects/METAL-AI/data/Li-Rh/rank_Worker-d35688ae-b626-47df-9128-8382830c8494.hdf5\n",
      "Downloaded: /Users/moustholmes/Projects/METAL-AI/data/Li-Rh/rank_Worker-d35688ae-b626-47df-9128-8382830c8494.hdf5\n",
      "Downloaded: /Users/moustholmes/Projects/METAL-AI/data/Li-Rh/rank_Worker-d61dd038-5916-4743-bfdf-4f26d0f7d4b8.hdf5\n",
      "Downloaded: /Users/moustholmes/Projects/METAL-AI/data/Li-Rh/rank_Worker-d61dd038-5916-4743-bfdf-4f26d0f7d4b8.hdf5\n",
      "Downloaded: /Users/moustholmes/Projects/METAL-AI/data/Li-Rh/rank_Worker-d6a31e3a-9e83-4712-be9b-55e959df8ae7.hdf5\n",
      "Downloaded: /Users/moustholmes/Projects/METAL-AI/data/Li-Rh/rank_Worker-d6a31e3a-9e83-4712-be9b-55e959df8ae7.hdf5\n",
      "Downloaded: /Users/moustholmes/Projects/METAL-AI/data/Li-Rh/rank_Worker-d77e1177-7d7f-4e60-94a8-8333a8c368a7.hdf5\n",
      "Downloaded: /Users/moustholmes/Projects/METAL-AI/data/Li-Rh/rank_Worker-d77e1177-7d7f-4e60-94a8-8333a8c368a7.hdf5\n",
      "Downloaded: /Users/moustholmes/Projects/METAL-AI/data/Li-Rh/rank_Worker-d7c2206e-ecc3-4bad-8f9f-738a179515ce.hdf5\n",
      "Downloaded: /Users/moustholmes/Projects/METAL-AI/data/Li-Rh/rank_Worker-d7c2206e-ecc3-4bad-8f9f-738a179515ce.hdf5\n",
      "Downloaded: /Users/moustholmes/Projects/METAL-AI/data/Li-Rh/rank_Worker-d819fc29-9606-4c3b-ad9d-c119fb316cdc.hdf5\n",
      "Downloaded: /Users/moustholmes/Projects/METAL-AI/data/Li-Rh/rank_Worker-d819fc29-9606-4c3b-ad9d-c119fb316cdc.hdf5\n",
      "Downloaded: /Users/moustholmes/Projects/METAL-AI/data/Li-Rh/rank_Worker-d887e8f2-8629-4021-8da6-856d458adff6.hdf5\n",
      "Downloaded: /Users/moustholmes/Projects/METAL-AI/data/Li-Rh/rank_Worker-d887e8f2-8629-4021-8da6-856d458adff6.hdf5\n",
      "Downloaded: /Users/moustholmes/Projects/METAL-AI/data/Li-Rh/rank_Worker-da375a60-cc53-4ce6-a76f-6b30a816a9fd.hdf5\n",
      "Downloaded: /Users/moustholmes/Projects/METAL-AI/data/Li-Rh/rank_Worker-da375a60-cc53-4ce6-a76f-6b30a816a9fd.hdf5\n",
      "Downloaded: /Users/moustholmes/Projects/METAL-AI/data/Li-Rh/rank_Worker-daac34ee-8eb1-4fbf-bf75-fa79b8bcd97c.hdf5\n",
      "Downloaded: /Users/moustholmes/Projects/METAL-AI/data/Li-Rh/rank_Worker-daac34ee-8eb1-4fbf-bf75-fa79b8bcd97c.hdf5\n",
      "Downloaded: /Users/moustholmes/Projects/METAL-AI/data/Li-Rh/rank_Worker-daf4b452-cd79-4fe9-abd1-2a4e4e2c0f5d.hdf5\n",
      "Downloaded: /Users/moustholmes/Projects/METAL-AI/data/Li-Rh/rank_Worker-daf4b452-cd79-4fe9-abd1-2a4e4e2c0f5d.hdf5\n",
      "Downloaded: /Users/moustholmes/Projects/METAL-AI/data/Li-Rh/rank_Worker-dbb1dab4-5076-4d4b-a784-3d6b740d87ba.hdf5\n",
      "Downloaded: /Users/moustholmes/Projects/METAL-AI/data/Li-Rh/rank_Worker-dbb1dab4-5076-4d4b-a784-3d6b740d87ba.hdf5\n",
      "Downloaded: /Users/moustholmes/Projects/METAL-AI/data/Li-Rh/rank_Worker-dbd25541-fd26-42ea-a75c-241ab2a0f9ed.hdf5\n",
      "Downloaded: /Users/moustholmes/Projects/METAL-AI/data/Li-Rh/rank_Worker-dbd25541-fd26-42ea-a75c-241ab2a0f9ed.hdf5\n",
      "Downloaded: /Users/moustholmes/Projects/METAL-AI/data/Li-Rh/rank_Worker-dbf4d024-e61e-428f-a3aa-bdb3d151ab86.hdf5\n",
      "Downloaded: /Users/moustholmes/Projects/METAL-AI/data/Li-Rh/rank_Worker-dbf4d024-e61e-428f-a3aa-bdb3d151ab86.hdf5\n",
      "Downloaded: /Users/moustholmes/Projects/METAL-AI/data/Li-Rh/rank_Worker-dce82e15-9e1c-4f10-83a8-c0f72aa5e65f.hdf5\n",
      "Downloaded: /Users/moustholmes/Projects/METAL-AI/data/Li-Rh/rank_Worker-dce82e15-9e1c-4f10-83a8-c0f72aa5e65f.hdf5\n",
      "Downloaded: /Users/moustholmes/Projects/METAL-AI/data/Li-Rh/rank_Worker-decb3648-4bc3-4bac-93e1-a5a606e13422.hdf5\n",
      "Downloaded: /Users/moustholmes/Projects/METAL-AI/data/Li-Rh/rank_Worker-decb3648-4bc3-4bac-93e1-a5a606e13422.hdf5\n",
      "Downloaded: /Users/moustholmes/Projects/METAL-AI/data/Li-Rh/rank_Worker-df47c648-5d21-40a6-92dd-1d102ac3d678.hdf5\n",
      "Downloaded: /Users/moustholmes/Projects/METAL-AI/data/Li-Rh/rank_Worker-df47c648-5d21-40a6-92dd-1d102ac3d678.hdf5\n",
      "Downloaded: /Users/moustholmes/Projects/METAL-AI/data/Li-Rh/rank_Worker-df84cee4-8853-4698-9f9b-8faee3612b57.hdf5\n",
      "Downloaded: /Users/moustholmes/Projects/METAL-AI/data/Li-Rh/rank_Worker-df84cee4-8853-4698-9f9b-8faee3612b57.hdf5\n",
      "Downloaded: /Users/moustholmes/Projects/METAL-AI/data/Li-Rh/rank_Worker-dffdea1b-3063-4df3-904e-a7568f9bd00e.hdf5\n",
      "Downloaded: /Users/moustholmes/Projects/METAL-AI/data/Li-Rh/rank_Worker-dffdea1b-3063-4df3-904e-a7568f9bd00e.hdf5\n",
      "Downloaded: /Users/moustholmes/Projects/METAL-AI/data/Li-Rh/rank_Worker-e00a834e-dfe1-4e10-a029-df94b3b23b39.hdf5\n",
      "Downloaded: /Users/moustholmes/Projects/METAL-AI/data/Li-Rh/rank_Worker-e00a834e-dfe1-4e10-a029-df94b3b23b39.hdf5\n",
      "Downloaded: /Users/moustholmes/Projects/METAL-AI/data/Li-Rh/rank_Worker-e0fbc2ca-ce3b-4990-96df-d81fd0fc4a82.hdf5\n",
      "Downloaded: /Users/moustholmes/Projects/METAL-AI/data/Li-Rh/rank_Worker-e0fbc2ca-ce3b-4990-96df-d81fd0fc4a82.hdf5\n",
      "Downloaded: /Users/moustholmes/Projects/METAL-AI/data/Li-Rh/rank_Worker-e1bec468-ae36-4672-8dbb-46661ab67c97.hdf5\n",
      "Downloaded: /Users/moustholmes/Projects/METAL-AI/data/Li-Rh/rank_Worker-e1bec468-ae36-4672-8dbb-46661ab67c97.hdf5\n",
      "Downloaded: /Users/moustholmes/Projects/METAL-AI/data/Li-Rh/rank_Worker-e23e771a-95b0-4c5c-9c73-ecfe59af49e1.hdf5\n",
      "Downloaded: /Users/moustholmes/Projects/METAL-AI/data/Li-Rh/rank_Worker-e23e771a-95b0-4c5c-9c73-ecfe59af49e1.hdf5\n",
      "Downloaded: /Users/moustholmes/Projects/METAL-AI/data/Li-Rh/rank_Worker-e28ce871-101e-4918-a7db-6b175cfa534b.hdf5\n",
      "Downloaded: /Users/moustholmes/Projects/METAL-AI/data/Li-Rh/rank_Worker-e28ce871-101e-4918-a7db-6b175cfa534b.hdf5\n",
      "Downloaded: /Users/moustholmes/Projects/METAL-AI/data/Li-Rh/rank_Worker-e297cd95-7977-46f2-99eb-b42cd2710a0e.hdf5\n",
      "Downloaded: /Users/moustholmes/Projects/METAL-AI/data/Li-Rh/rank_Worker-e297cd95-7977-46f2-99eb-b42cd2710a0e.hdf5\n",
      "Downloaded: /Users/moustholmes/Projects/METAL-AI/data/Li-Rh/rank_Worker-e2efd483-7b6a-4257-adb1-5566fdafeb14.hdf5\n",
      "Downloaded: /Users/moustholmes/Projects/METAL-AI/data/Li-Rh/rank_Worker-e2efd483-7b6a-4257-adb1-5566fdafeb14.hdf5\n",
      "Downloaded: /Users/moustholmes/Projects/METAL-AI/data/Li-Rh/rank_Worker-e2f838b6-4b6f-4452-996a-8dc289ecd6bd.hdf5\n",
      "Downloaded: /Users/moustholmes/Projects/METAL-AI/data/Li-Rh/rank_Worker-e2f838b6-4b6f-4452-996a-8dc289ecd6bd.hdf5\n",
      "Downloaded: /Users/moustholmes/Projects/METAL-AI/data/Li-Rh/rank_Worker-e372c9cd-8acc-42df-9f73-0cc8e7cf8c37.hdf5\n",
      "Downloaded: /Users/moustholmes/Projects/METAL-AI/data/Li-Rh/rank_Worker-e372c9cd-8acc-42df-9f73-0cc8e7cf8c37.hdf5\n",
      "Downloaded: /Users/moustholmes/Projects/METAL-AI/data/Li-Rh/rank_Worker-e381108f-1aed-48a5-ab1a-622973c3414a.hdf5\n",
      "Downloaded: /Users/moustholmes/Projects/METAL-AI/data/Li-Rh/rank_Worker-e381108f-1aed-48a5-ab1a-622973c3414a.hdf5\n",
      "Downloaded: /Users/moustholmes/Projects/METAL-AI/data/Li-Rh/rank_Worker-e488e9b0-302b-4227-b49b-21050c3a89be.hdf5\n",
      "Downloaded: /Users/moustholmes/Projects/METAL-AI/data/Li-Rh/rank_Worker-e488e9b0-302b-4227-b49b-21050c3a89be.hdf5\n",
      "Downloaded: /Users/moustholmes/Projects/METAL-AI/data/Li-Rh/rank_Worker-e5021c2f-ba68-489e-81ef-64dd7c6ec19d.hdf5\n",
      "Downloaded: /Users/moustholmes/Projects/METAL-AI/data/Li-Rh/rank_Worker-e5021c2f-ba68-489e-81ef-64dd7c6ec19d.hdf5\n",
      "Downloaded: /Users/moustholmes/Projects/METAL-AI/data/Li-Rh/rank_Worker-e52c6655-1f18-4078-ad43-a968b1c73425.hdf5\n",
      "Downloaded: /Users/moustholmes/Projects/METAL-AI/data/Li-Rh/rank_Worker-e52c6655-1f18-4078-ad43-a968b1c73425.hdf5\n",
      "Downloaded: /Users/moustholmes/Projects/METAL-AI/data/Li-Rh/rank_Worker-e612328e-f91a-4b1e-b72d-0ef58da275f0.hdf5\n",
      "Downloaded: /Users/moustholmes/Projects/METAL-AI/data/Li-Rh/rank_Worker-e612328e-f91a-4b1e-b72d-0ef58da275f0.hdf5\n",
      "Downloaded: /Users/moustholmes/Projects/METAL-AI/data/Li-Rh/rank_Worker-e6912308-3c30-4592-aee3-012ac7664ad2.hdf5\n",
      "Downloaded: /Users/moustholmes/Projects/METAL-AI/data/Li-Rh/rank_Worker-e6912308-3c30-4592-aee3-012ac7664ad2.hdf5\n",
      "Downloaded: /Users/moustholmes/Projects/METAL-AI/data/Li-Rh/rank_Worker-e69cbe37-b4a2-4631-9f01-2869984288fc.hdf5\n",
      "Downloaded: /Users/moustholmes/Projects/METAL-AI/data/Li-Rh/rank_Worker-e69cbe37-b4a2-4631-9f01-2869984288fc.hdf5\n",
      "Downloaded: /Users/moustholmes/Projects/METAL-AI/data/Li-Rh/rank_Worker-e744fccd-329b-47d5-b2d2-3ba2a6106c71.hdf5\n",
      "Downloaded: /Users/moustholmes/Projects/METAL-AI/data/Li-Rh/rank_Worker-e744fccd-329b-47d5-b2d2-3ba2a6106c71.hdf5\n",
      "Downloaded: /Users/moustholmes/Projects/METAL-AI/data/Li-Rh/rank_Worker-e7f5f9df-e399-42af-a27d-fe38cefba322.hdf5\n",
      "Downloaded: /Users/moustholmes/Projects/METAL-AI/data/Li-Rh/rank_Worker-e7f5f9df-e399-42af-a27d-fe38cefba322.hdf5\n",
      "Downloaded: /Users/moustholmes/Projects/METAL-AI/data/Li-Rh/rank_Worker-e905c12e-c5ed-4dd2-946e-055533a31520.hdf5\n",
      "Downloaded: /Users/moustholmes/Projects/METAL-AI/data/Li-Rh/rank_Worker-e905c12e-c5ed-4dd2-946e-055533a31520.hdf5\n",
      "Downloaded: /Users/moustholmes/Projects/METAL-AI/data/Li-Rh/rank_Worker-e935848d-19c4-4ef4-97cd-693d17ba8010.hdf5\n",
      "Downloaded: /Users/moustholmes/Projects/METAL-AI/data/Li-Rh/rank_Worker-e935848d-19c4-4ef4-97cd-693d17ba8010.hdf5\n",
      "Downloaded: /Users/moustholmes/Projects/METAL-AI/data/Li-Rh/rank_Worker-e93d0a88-d9dd-462a-a005-364c8a01959d.hdf5\n",
      "Downloaded: /Users/moustholmes/Projects/METAL-AI/data/Li-Rh/rank_Worker-e93d0a88-d9dd-462a-a005-364c8a01959d.hdf5\n",
      "Downloaded: /Users/moustholmes/Projects/METAL-AI/data/Li-Rh/rank_Worker-ead2fef6-50fa-4843-8557-aceeaa3d293d.hdf5\n",
      "Downloaded: /Users/moustholmes/Projects/METAL-AI/data/Li-Rh/rank_Worker-ead2fef6-50fa-4843-8557-aceeaa3d293d.hdf5\n",
      "Downloaded: /Users/moustholmes/Projects/METAL-AI/data/Li-Rh/rank_Worker-eb5fd71c-fce2-402f-a45e-f6d9e8a769b8.hdf5\n",
      "Downloaded: /Users/moustholmes/Projects/METAL-AI/data/Li-Rh/rank_Worker-eb5fd71c-fce2-402f-a45e-f6d9e8a769b8.hdf5\n",
      "Downloaded: /Users/moustholmes/Projects/METAL-AI/data/Li-Rh/rank_Worker-ec7313c4-2251-456a-a3f1-0bd08e77a9ff.hdf5\n",
      "Downloaded: /Users/moustholmes/Projects/METAL-AI/data/Li-Rh/rank_Worker-ec7313c4-2251-456a-a3f1-0bd08e77a9ff.hdf5\n",
      "Downloaded: /Users/moustholmes/Projects/METAL-AI/data/Li-Rh/rank_Worker-ed5f27f6-aad1-42b5-aaa6-30a8570a4531.hdf5\n",
      "Downloaded: /Users/moustholmes/Projects/METAL-AI/data/Li-Rh/rank_Worker-ed5f27f6-aad1-42b5-aaa6-30a8570a4531.hdf5\n",
      "Downloaded: /Users/moustholmes/Projects/METAL-AI/data/Li-Rh/rank_Worker-ee8ed9ac-5652-4b14-8ac4-b185ccf17a71.hdf5\n",
      "Downloaded: /Users/moustholmes/Projects/METAL-AI/data/Li-Rh/rank_Worker-ee8ed9ac-5652-4b14-8ac4-b185ccf17a71.hdf5\n",
      "Downloaded: /Users/moustholmes/Projects/METAL-AI/data/Li-Rh/rank_Worker-ee96dc44-e31d-4423-9473-69d5481ad864.hdf5\n",
      "Downloaded: /Users/moustholmes/Projects/METAL-AI/data/Li-Rh/rank_Worker-ee96dc44-e31d-4423-9473-69d5481ad864.hdf5\n",
      "Downloaded: /Users/moustholmes/Projects/METAL-AI/data/Li-Rh/rank_Worker-ef33dfe5-e347-446f-9ef1-a8020d767fbc.hdf5\n",
      "Downloaded: /Users/moustholmes/Projects/METAL-AI/data/Li-Rh/rank_Worker-ef33dfe5-e347-446f-9ef1-a8020d767fbc.hdf5\n",
      "Downloaded: /Users/moustholmes/Projects/METAL-AI/data/Li-Rh/rank_Worker-f022f25c-9e32-4d49-86fe-98f5c6d6517b.hdf5\n",
      "Downloaded: /Users/moustholmes/Projects/METAL-AI/data/Li-Rh/rank_Worker-f022f25c-9e32-4d49-86fe-98f5c6d6517b.hdf5\n",
      "Downloaded: /Users/moustholmes/Projects/METAL-AI/data/Li-Rh/rank_Worker-f0240e4f-0c65-44b2-8d7c-8522fb73b68e.hdf5\n",
      "Downloaded: /Users/moustholmes/Projects/METAL-AI/data/Li-Rh/rank_Worker-f0240e4f-0c65-44b2-8d7c-8522fb73b68e.hdf5\n",
      "Downloaded: /Users/moustholmes/Projects/METAL-AI/data/Li-Rh/rank_Worker-f1003104-7127-48be-a262-de08fa511973.hdf5\n",
      "Downloaded: /Users/moustholmes/Projects/METAL-AI/data/Li-Rh/rank_Worker-f1003104-7127-48be-a262-de08fa511973.hdf5\n",
      "Downloaded: /Users/moustholmes/Projects/METAL-AI/data/Li-Rh/rank_Worker-f1ff3e6f-8391-4370-8599-b22f1fe568b8.hdf5\n",
      "Downloaded: /Users/moustholmes/Projects/METAL-AI/data/Li-Rh/rank_Worker-f1ff3e6f-8391-4370-8599-b22f1fe568b8.hdf5\n",
      "Downloaded: /Users/moustholmes/Projects/METAL-AI/data/Li-Rh/rank_Worker-f222643c-bab8-4859-8c85-eca1751f41cb.hdf5\n",
      "Downloaded: /Users/moustholmes/Projects/METAL-AI/data/Li-Rh/rank_Worker-f222643c-bab8-4859-8c85-eca1751f41cb.hdf5\n",
      "Downloaded: /Users/moustholmes/Projects/METAL-AI/data/Li-Rh/rank_Worker-f2691716-d8d8-4cbc-a281-6216a673f6bb.hdf5\n",
      "Downloaded: /Users/moustholmes/Projects/METAL-AI/data/Li-Rh/rank_Worker-f2691716-d8d8-4cbc-a281-6216a673f6bb.hdf5\n",
      "Downloaded: /Users/moustholmes/Projects/METAL-AI/data/Li-Rh/rank_Worker-f2acebf0-a5ad-4bef-a0fb-86a314da04c3.hdf5\n",
      "Downloaded: /Users/moustholmes/Projects/METAL-AI/data/Li-Rh/rank_Worker-f2acebf0-a5ad-4bef-a0fb-86a314da04c3.hdf5\n",
      "Downloaded: /Users/moustholmes/Projects/METAL-AI/data/Li-Rh/rank_Worker-f2cd0501-c2ed-47fc-858d-3150d5758da0.hdf5\n",
      "Downloaded: /Users/moustholmes/Projects/METAL-AI/data/Li-Rh/rank_Worker-f2cd0501-c2ed-47fc-858d-3150d5758da0.hdf5\n",
      "Downloaded: /Users/moustholmes/Projects/METAL-AI/data/Li-Rh/rank_Worker-f5137de8-bcb8-4e2f-8abb-4cd987f9124b.hdf5\n",
      "Downloaded: /Users/moustholmes/Projects/METAL-AI/data/Li-Rh/rank_Worker-f5137de8-bcb8-4e2f-8abb-4cd987f9124b.hdf5\n",
      "Downloaded: /Users/moustholmes/Projects/METAL-AI/data/Li-Rh/rank_Worker-f59e200f-2c63-45d9-8af6-0179e62515ce.hdf5\n",
      "Downloaded: /Users/moustholmes/Projects/METAL-AI/data/Li-Rh/rank_Worker-f59e200f-2c63-45d9-8af6-0179e62515ce.hdf5\n",
      "Downloaded: /Users/moustholmes/Projects/METAL-AI/data/Li-Rh/rank_Worker-f5be3750-50ff-467a-96ff-679de5b8663d.hdf5\n",
      "Downloaded: /Users/moustholmes/Projects/METAL-AI/data/Li-Rh/rank_Worker-f5be3750-50ff-467a-96ff-679de5b8663d.hdf5\n",
      "Downloaded: /Users/moustholmes/Projects/METAL-AI/data/Li-Rh/rank_Worker-f5ef1b02-0500-49d2-aeab-b723fadeba91.hdf5\n",
      "Downloaded: /Users/moustholmes/Projects/METAL-AI/data/Li-Rh/rank_Worker-f5ef1b02-0500-49d2-aeab-b723fadeba91.hdf5\n",
      "Downloaded: /Users/moustholmes/Projects/METAL-AI/data/Li-Rh/rank_Worker-f5f2c4dd-4c41-442d-a376-bdad6dab4315.hdf5\n",
      "Downloaded: /Users/moustholmes/Projects/METAL-AI/data/Li-Rh/rank_Worker-f5f2c4dd-4c41-442d-a376-bdad6dab4315.hdf5\n",
      "Downloaded: /Users/moustholmes/Projects/METAL-AI/data/Li-Rh/rank_Worker-f61369eb-8bed-4234-8898-4bb0b21ac50d.hdf5\n",
      "Downloaded: /Users/moustholmes/Projects/METAL-AI/data/Li-Rh/rank_Worker-f61369eb-8bed-4234-8898-4bb0b21ac50d.hdf5\n",
      "Downloaded: /Users/moustholmes/Projects/METAL-AI/data/Li-Rh/rank_Worker-f655cb1b-3d26-41b7-b83e-f8f23a7d5bcd.hdf5\n",
      "Downloaded: /Users/moustholmes/Projects/METAL-AI/data/Li-Rh/rank_Worker-f655cb1b-3d26-41b7-b83e-f8f23a7d5bcd.hdf5\n",
      "Downloaded: /Users/moustholmes/Projects/METAL-AI/data/Li-Rh/rank_Worker-f6f8952e-3817-46e8-b8d4-ba633b3a8bc4.hdf5\n",
      "Downloaded: /Users/moustholmes/Projects/METAL-AI/data/Li-Rh/rank_Worker-f6f8952e-3817-46e8-b8d4-ba633b3a8bc4.hdf5\n",
      "Downloaded: /Users/moustholmes/Projects/METAL-AI/data/Li-Rh/rank_Worker-f6fe5034-1eee-4e9d-aadd-a8f8e12b06d3.hdf5\n",
      "Downloaded: /Users/moustholmes/Projects/METAL-AI/data/Li-Rh/rank_Worker-f6fe5034-1eee-4e9d-aadd-a8f8e12b06d3.hdf5\n",
      "Downloaded: /Users/moustholmes/Projects/METAL-AI/data/Li-Rh/rank_Worker-f7cb0a3e-2df6-43b3-9565-f3ee2dc00382.hdf5\n",
      "Downloaded: /Users/moustholmes/Projects/METAL-AI/data/Li-Rh/rank_Worker-f7cb0a3e-2df6-43b3-9565-f3ee2dc00382.hdf5\n",
      "Downloaded: /Users/moustholmes/Projects/METAL-AI/data/Li-Rh/rank_Worker-f87c0622-ec01-46c1-9a0e-32600ca44dab.hdf5\n",
      "Downloaded: /Users/moustholmes/Projects/METAL-AI/data/Li-Rh/rank_Worker-f87c0622-ec01-46c1-9a0e-32600ca44dab.hdf5\n",
      "Downloaded: /Users/moustholmes/Projects/METAL-AI/data/Li-Rh/rank_Worker-f88835ed-d4be-43b1-b5e9-272fd24bdbb2.hdf5\n",
      "Downloaded: /Users/moustholmes/Projects/METAL-AI/data/Li-Rh/rank_Worker-f88835ed-d4be-43b1-b5e9-272fd24bdbb2.hdf5\n",
      "Downloaded: /Users/moustholmes/Projects/METAL-AI/data/Li-Rh/rank_Worker-f88f67d8-91d0-4f26-9a05-e0c85a30cc0b.hdf5\n",
      "Downloaded: /Users/moustholmes/Projects/METAL-AI/data/Li-Rh/rank_Worker-f88f67d8-91d0-4f26-9a05-e0c85a30cc0b.hdf5\n",
      "Downloaded: /Users/moustholmes/Projects/METAL-AI/data/Li-Rh/rank_Worker-f8ce20de-e399-4ec0-bd12-02c6b2e0e019.hdf5\n",
      "Downloaded: /Users/moustholmes/Projects/METAL-AI/data/Li-Rh/rank_Worker-f8ce20de-e399-4ec0-bd12-02c6b2e0e019.hdf5\n",
      "Downloaded: /Users/moustholmes/Projects/METAL-AI/data/Li-Rh/rank_Worker-f90c84b3-5f1c-4d4d-9110-b96fbb548699.hdf5\n",
      "Downloaded: /Users/moustholmes/Projects/METAL-AI/data/Li-Rh/rank_Worker-f90c84b3-5f1c-4d4d-9110-b96fbb548699.hdf5\n",
      "Downloaded: /Users/moustholmes/Projects/METAL-AI/data/Li-Rh/rank_Worker-fa351dd0-c6ed-4534-a07e-79fba5b571ed.hdf5\n",
      "Downloaded: /Users/moustholmes/Projects/METAL-AI/data/Li-Rh/rank_Worker-fa351dd0-c6ed-4534-a07e-79fba5b571ed.hdf5\n",
      "Downloaded: /Users/moustholmes/Projects/METAL-AI/data/Li-Rh/rank_Worker-fb159d66-6e67-446e-acec-dca3d06a7098.hdf5\n",
      "Downloaded: /Users/moustholmes/Projects/METAL-AI/data/Li-Rh/rank_Worker-fb159d66-6e67-446e-acec-dca3d06a7098.hdf5\n",
      "Downloaded: /Users/moustholmes/Projects/METAL-AI/data/Li-Rh/rank_Worker-fba3aef7-b20e-41e5-978c-60334483d32a.hdf5\n",
      "Downloaded: /Users/moustholmes/Projects/METAL-AI/data/Li-Rh/rank_Worker-fba3aef7-b20e-41e5-978c-60334483d32a.hdf5\n",
      "Downloaded: /Users/moustholmes/Projects/METAL-AI/data/Li-Rh/rank_Worker-fc21da75-5061-47ce-9905-a425b3d46382.hdf5\n",
      "Downloaded: /Users/moustholmes/Projects/METAL-AI/data/Li-Rh/rank_Worker-fc21da75-5061-47ce-9905-a425b3d46382.hdf5\n",
      "Downloaded: /Users/moustholmes/Projects/METAL-AI/data/Li-Rh/rank_Worker-fc5c1f8a-3561-45c2-b0b7-2004ff9293e5.hdf5\n",
      "Downloaded: /Users/moustholmes/Projects/METAL-AI/data/Li-Rh/rank_Worker-fc5c1f8a-3561-45c2-b0b7-2004ff9293e5.hdf5\n",
      "Downloaded: /Users/moustholmes/Projects/METAL-AI/data/Li-Rh/rank_Worker-fd8ba4e1-3b48-460a-9f77-84aad697687c.hdf5\n",
      "Downloaded: /Users/moustholmes/Projects/METAL-AI/data/Li-Rh/rank_Worker-fd8ba4e1-3b48-460a-9f77-84aad697687c.hdf5\n",
      "Downloaded: /Users/moustholmes/Projects/METAL-AI/data/Li-Rh/rank_Worker-fd9c8478-180b-4f84-bbfa-81f0ea5317d9.hdf5\n",
      "Downloaded: /Users/moustholmes/Projects/METAL-AI/data/Li-Rh/rank_Worker-fd9c8478-180b-4f84-bbfa-81f0ea5317d9.hdf5\n",
      "Downloaded: /Users/moustholmes/Projects/METAL-AI/data/Li-Rh/rank_Worker-fdef6153-456b-4053-918f-c9ef4e8aa780.hdf5\n",
      "Downloaded: /Users/moustholmes/Projects/METAL-AI/data/Li-Rh/rank_Worker-fdef6153-456b-4053-918f-c9ef4e8aa780.hdf5\n",
      "Downloaded: /Users/moustholmes/Projects/METAL-AI/data/Li-Rh/rank_Worker-fe1e3a38-b819-4333-8396-25d966dc9510.hdf5\n",
      "Downloaded: /Users/moustholmes/Projects/METAL-AI/data/Li-Rh/rank_Worker-fe1e3a38-b819-4333-8396-25d966dc9510.hdf5\n",
      "Downloaded: /Users/moustholmes/Projects/METAL-AI/data/Li-Rh/rank_Worker-fe5a7137-49b9-499c-8816-7a00ee7b744f.hdf5\n",
      "Downloaded: /Users/moustholmes/Projects/METAL-AI/data/Li-Rh/rank_Worker-fe5a7137-49b9-499c-8816-7a00ee7b744f.hdf5\n",
      "Downloaded: /Users/moustholmes/Projects/METAL-AI/data/Li-Rh/rank_Worker-ffc96a00-fe8c-41ba-87fa-cfa72d65280a.hdf5\n",
      "Downloaded: /Users/moustholmes/Projects/METAL-AI/data/Li-Rh/rank_Worker-ffc96a00-fe8c-41ba-87fa-cfa72d65280a.hdf5\n"
     ]
    }
   ],
   "source": [
    "\n",
    "#import os\n",
    "import requests\n",
    "from bs4 import BeautifulSoup\n",
    "from urllib.parse import urljoin\n",
    "\n",
    "\n",
    "# Specify the URL of the folder\n",
    "folder_url = \"https://sid.erda.dk/cgi-sid/ls.py?share_id=B4tAJ71xkh&current_dir=Li-Rh/results&flags=f\"\n",
    "\n",
    "# Specify the path to save the files\n",
    "download_folder = \"/Users/moustholmes/Projects/METAL-AI/data/Li-Rh\"\n",
    "\n",
    "# Make sure the folder exists\n",
    "if not os.path.exists(download_folder):\n",
    "    os.makedirs(download_folder)\n",
    "\n",
    "# Function to download an HDF5 file\n",
    "def download_file(url, folder):\n",
    "    local_filename = os.path.join(folder, url.split('/')[-1])\n",
    "    with requests.get(url, stream=True) as r:\n",
    "        r.raise_for_status()\n",
    "        with open(local_filename, 'wb') as f:\n",
    "            for chunk in r.iter_content(chunk_size=8192):\n",
    "                f.write(chunk)\n",
    "    print(f\"Downloaded: {local_filename}\")\n",
    "    return local_filename\n",
    "\n",
    "# Scrape the webpage to find all .hdf5 file links\n",
    "def get_hdf5_links_from_webpage(url):\n",
    "    response = requests.get(url)\n",
    "    response.raise_for_status()\n",
    "\n",
    "    soup = BeautifulSoup(response.content, 'html.parser')\n",
    "    hdf5_links = []\n",
    "    \n",
    "    # Assuming the links to the HDF5 files are in <a> tags with href attributes\n",
    "    for link in soup.find_all('a'):\n",
    "        href = link.get('href')\n",
    "        if href and href.endswith('.hdf5'):\n",
    "            full_url = urljoin(folder_url, href)  # Build the full URL using urljoin\n",
    "            hdf5_links.append(full_url)\n",
    "    \n",
    "    return hdf5_links\n",
    "\n",
    "# Get the list of HDF5 file URLs\n",
    "hdf5_links = get_hdf5_links_from_webpage(folder_url)\n",
    "\n",
    "# Download each HDF5 file\n",
    "for url in hdf5_links:\n",
    "    download_file(url, download_folder)\n"
   ]
  },
  {
   "cell_type": "code",
   "execution_count": 38,
   "metadata": {},
   "outputs": [
    {
     "name": "stderr",
     "output_type": "stream",
     "text": [
      "Downloading files:   0%|          | 3/1422 [00:00<01:26, 16.35file/s]"
     ]
    },
    {
     "name": "stdout",
     "output_type": "stream",
     "text": [
      "File already exists, skipping: /Users/moustholmes/Projects/METAL-AI/data/Li-Rh/master.hdf5\n",
      "File already exists, skipping: /Users/moustholmes/Projects/METAL-AI/data/Li-Rh/master.hdf5\n",
      "Downloaded: /Users/moustholmes/Projects/METAL-AI/data/Li-Rh/rank_Worker-01368c75-426f-4e90-9d41-70f54af0fc75.hdf5\n",
      "File already exists, skipping: /Users/moustholmes/Projects/METAL-AI/data/Li-Rh/rank_Worker-01368c75-426f-4e90-9d41-70f54af0fc75.hdf5\n",
      "File already exists, skipping: /Users/moustholmes/Projects/METAL-AI/data/Li-Rh/rank_Worker-0184ecfb-b5d8-489b-8b9d-088741b07712.hdf5\n",
      "File already exists, skipping: /Users/moustholmes/Projects/METAL-AI/data/Li-Rh/rank_Worker-0184ecfb-b5d8-489b-8b9d-088741b07712.hdf5\n",
      "File already exists, skipping: /Users/moustholmes/Projects/METAL-AI/data/Li-Rh/rank_Worker-018c3c83-9369-4aa6-b0ee-e58051a04eac.hdf5\n",
      "File already exists, skipping: /Users/moustholmes/Projects/METAL-AI/data/Li-Rh/rank_Worker-018c3c83-9369-4aa6-b0ee-e58051a04eac.hdf5\n",
      "File already exists, skipping: /Users/moustholmes/Projects/METAL-AI/data/Li-Rh/rank_Worker-01a117c3-21e8-4160-8091-3917abe323c0.hdf5\n",
      "File already exists, skipping: /Users/moustholmes/Projects/METAL-AI/data/Li-Rh/rank_Worker-01a117c3-21e8-4160-8091-3917abe323c0.hdf5\n",
      "File already exists, skipping: /Users/moustholmes/Projects/METAL-AI/data/Li-Rh/rank_Worker-02b340d8-113a-41c2-bd6c-afd0230a478d.hdf5\n",
      "File already exists, skipping: /Users/moustholmes/Projects/METAL-AI/data/Li-Rh/rank_Worker-02b340d8-113a-41c2-bd6c-afd0230a478d.hdf5\n",
      "File already exists, skipping: /Users/moustholmes/Projects/METAL-AI/data/Li-Rh/rank_Worker-0303c302-17d6-4d7a-b4ce-602267ba5ced.hdf5\n",
      "File already exists, skipping: /Users/moustholmes/Projects/METAL-AI/data/Li-Rh/rank_Worker-0303c302-17d6-4d7a-b4ce-602267ba5ced.hdf5\n"
     ]
    },
    {
     "name": "stderr",
     "output_type": "stream",
     "text": [
      "Downloading files:   1%|▏         | 20/1422 [00:00<00:40, 34.93file/s]"
     ]
    },
    {
     "name": "stdout",
     "output_type": "stream",
     "text": [
      "Downloaded: /Users/moustholmes/Projects/METAL-AI/data/Li-Rh/rank_Worker-035c74dc-dbe1-49de-beae-5e843625bb73.hdf5\n",
      "File already exists, skipping: /Users/moustholmes/Projects/METAL-AI/data/Li-Rh/rank_Worker-035c74dc-dbe1-49de-beae-5e843625bb73.hdf5\n",
      "File already exists, skipping: /Users/moustholmes/Projects/METAL-AI/data/Li-Rh/rank_Worker-03627f0a-0697-43b7-909e-7ca22b544d7a.hdf5\n",
      "File already exists, skipping: /Users/moustholmes/Projects/METAL-AI/data/Li-Rh/rank_Worker-03627f0a-0697-43b7-909e-7ca22b544d7a.hdf5\n",
      "Downloaded: /Users/moustholmes/Projects/METAL-AI/data/Li-Rh/rank_Worker-04958606-f334-41c1-88ae-f0d89e8528c1.hdf5\n",
      "File already exists, skipping: /Users/moustholmes/Projects/METAL-AI/data/Li-Rh/rank_Worker-04958606-f334-41c1-88ae-f0d89e8528c1.hdf5\n"
     ]
    },
    {
     "name": "stderr",
     "output_type": "stream",
     "text": [
      "Downloading files:   2%|▏         | 27/1422 [00:00<00:58, 23.91file/s]"
     ]
    },
    {
     "name": "stdout",
     "output_type": "stream",
     "text": [
      "Downloaded: /Users/moustholmes/Projects/METAL-AI/data/Li-Rh/rank_Worker-04cf69c2-222e-46aa-b6bb-c251dfcb7f24.hdf5\n",
      "File already exists, skipping: /Users/moustholmes/Projects/METAL-AI/data/Li-Rh/rank_Worker-04cf69c2-222e-46aa-b6bb-c251dfcb7f24.hdf5\n",
      "File already exists, skipping: /Users/moustholmes/Projects/METAL-AI/data/Li-Rh/rank_Worker-052d7b00-d1b1-411c-81f5-3119368ab5a3.hdf5\n",
      "File already exists, skipping: /Users/moustholmes/Projects/METAL-AI/data/Li-Rh/rank_Worker-052d7b00-d1b1-411c-81f5-3119368ab5a3.hdf5\n",
      "File already exists, skipping: /Users/moustholmes/Projects/METAL-AI/data/Li-Rh/rank_Worker-054efa32-0736-4d5f-9834-0b266fbdf4ec.hdf5\n",
      "File already exists, skipping: /Users/moustholmes/Projects/METAL-AI/data/Li-Rh/rank_Worker-054efa32-0736-4d5f-9834-0b266fbdf4ec.hdf5\n",
      "Downloaded: /Users/moustholmes/Projects/METAL-AI/data/Li-Rh/rank_Worker-0560a0c4-0327-49e2-a472-fe5a80548ffa.hdf5\n",
      "File already exists, skipping: /Users/moustholmes/Projects/METAL-AI/data/Li-Rh/rank_Worker-0560a0c4-0327-49e2-a472-fe5a80548ffa.hdf5\n",
      "File already exists, skipping: /Users/moustholmes/Projects/METAL-AI/data/Li-Rh/rank_Worker-05f379b9-2e11-4bbc-aee3-997126230e5a.hdf5\n",
      "File already exists, skipping: /Users/moustholmes/Projects/METAL-AI/data/Li-Rh/rank_Worker-05f379b9-2e11-4bbc-aee3-997126230e5a.hdf5\n",
      "File already exists, skipping: /Users/moustholmes/Projects/METAL-AI/data/Li-Rh/rank_Worker-06445300-7ca6-4d79-aed4-8edfb0bbc94a.hdf5\n",
      "File already exists, skipping: /Users/moustholmes/Projects/METAL-AI/data/Li-Rh/rank_Worker-06445300-7ca6-4d79-aed4-8edfb0bbc94a.hdf5\n"
     ]
    },
    {
     "name": "stderr",
     "output_type": "stream",
     "text": [
      "Downloading files:   2%|▏         | 33/1422 [00:01<00:55, 25.06file/s]"
     ]
    },
    {
     "name": "stdout",
     "output_type": "stream",
     "text": [
      "Downloaded: /Users/moustholmes/Projects/METAL-AI/data/Li-Rh/rank_Worker-07355cc7-e9dd-4440-a5bc-71136a9ff67c.hdf5\n",
      "File already exists, skipping: /Users/moustholmes/Projects/METAL-AI/data/Li-Rh/rank_Worker-07355cc7-e9dd-4440-a5bc-71136a9ff67c.hdf5\n"
     ]
    },
    {
     "name": "stderr",
     "output_type": "stream",
     "text": [
      "Downloading files:   3%|▎         | 36/1422 [00:01<01:05, 21.21file/s]"
     ]
    },
    {
     "name": "stdout",
     "output_type": "stream",
     "text": [
      "Downloaded: /Users/moustholmes/Projects/METAL-AI/data/Li-Rh/rank_Worker-075d7c32-40a3-4903-8974-49e139129746.hdf5\n",
      "File already exists, skipping: /Users/moustholmes/Projects/METAL-AI/data/Li-Rh/rank_Worker-075d7c32-40a3-4903-8974-49e139129746.hdf5\n"
     ]
    },
    {
     "name": "stderr",
     "output_type": "stream",
     "text": [
      "Downloading files:   3%|▎         | 39/1422 [00:01<01:32, 14.95file/s]"
     ]
    },
    {
     "name": "stdout",
     "output_type": "stream",
     "text": [
      "Downloaded: /Users/moustholmes/Projects/METAL-AI/data/Li-Rh/rank_Worker-075daf82-99ec-4b08-8050-270477ed0d04.hdf5\n",
      "File already exists, skipping: /Users/moustholmes/Projects/METAL-AI/data/Li-Rh/rank_Worker-075daf82-99ec-4b08-8050-270477ed0d04.hdf5\n",
      "Downloaded: /Users/moustholmes/Projects/METAL-AI/data/Li-Rh/rank_Worker-077d93bb-52c3-4e0c-82cd-32e26f97f4fe.hdf5\n",
      "File already exists, skipping: /Users/moustholmes/Projects/METAL-AI/data/Li-Rh/rank_Worker-077d93bb-52c3-4e0c-82cd-32e26f97f4fe.hdf5\n",
      "File already exists, skipping: /Users/moustholmes/Projects/METAL-AI/data/Li-Rh/rank_Worker-08c68607-cfac-47a6-8d93-78f8d7793613.hdf5\n",
      "File already exists, skipping: /Users/moustholmes/Projects/METAL-AI/data/Li-Rh/rank_Worker-08c68607-cfac-47a6-8d93-78f8d7793613.hdf5\n",
      "File already exists, skipping: /Users/moustholmes/Projects/METAL-AI/data/Li-Rh/rank_Worker-08f7e88a-8805-4dca-8ac0-e8b76d0e4d77.hdf5\n",
      "File already exists, skipping: /Users/moustholmes/Projects/METAL-AI/data/Li-Rh/rank_Worker-08f7e88a-8805-4dca-8ac0-e8b76d0e4d77.hdf5\n"
     ]
    },
    {
     "name": "stderr",
     "output_type": "stream",
     "text": [
      "Downloading files:   3%|▎         | 45/1422 [00:02<01:12, 18.95file/s]"
     ]
    },
    {
     "name": "stdout",
     "output_type": "stream",
     "text": [
      "Downloaded: /Users/moustholmes/Projects/METAL-AI/data/Li-Rh/rank_Worker-08fc5e5f-13b0-4300-8831-89c48fe92fce.hdf5\n",
      "File already exists, skipping: /Users/moustholmes/Projects/METAL-AI/data/Li-Rh/rank_Worker-08fc5e5f-13b0-4300-8831-89c48fe92fce.hdf5\n",
      "File already exists, skipping: /Users/moustholmes/Projects/METAL-AI/data/Li-Rh/rank_Worker-0927b1e2-d032-46ad-8c19-aa664e3867ac.hdf5\n",
      "File already exists, skipping: /Users/moustholmes/Projects/METAL-AI/data/Li-Rh/rank_Worker-0927b1e2-d032-46ad-8c19-aa664e3867ac.hdf5\n",
      "File already exists, skipping: /Users/moustholmes/Projects/METAL-AI/data/Li-Rh/rank_Worker-09831c00-0fcd-41ff-a595-2b6b12c2947f.hdf5\n",
      "File already exists, skipping: /Users/moustholmes/Projects/METAL-AI/data/Li-Rh/rank_Worker-09831c00-0fcd-41ff-a595-2b6b12c2947f.hdf5\n"
     ]
    },
    {
     "name": "stderr",
     "output_type": "stream",
     "text": [
      "Downloading files:   4%|▎         | 51/1422 [00:02<01:02, 21.84file/s]"
     ]
    },
    {
     "name": "stdout",
     "output_type": "stream",
     "text": [
      "Downloaded: /Users/moustholmes/Projects/METAL-AI/data/Li-Rh/rank_Worker-098a7ac1-8b26-4a30-a836-87d8423899ad.hdf5\n",
      "File already exists, skipping: /Users/moustholmes/Projects/METAL-AI/data/Li-Rh/rank_Worker-098a7ac1-8b26-4a30-a836-87d8423899ad.hdf5\n"
     ]
    },
    {
     "name": "stderr",
     "output_type": "stream",
     "text": [
      "Downloading files:   4%|▍         | 54/1422 [00:02<01:09, 19.62file/s]"
     ]
    },
    {
     "name": "stdout",
     "output_type": "stream",
     "text": [
      "Downloaded: /Users/moustholmes/Projects/METAL-AI/data/Li-Rh/rank_Worker-09bf2019-81b5-4531-b579-aaeeb89ac533.hdf5\n",
      "File already exists, skipping: /Users/moustholmes/Projects/METAL-AI/data/Li-Rh/rank_Worker-09bf2019-81b5-4531-b579-aaeeb89ac533.hdf5\n",
      "Downloaded: /Users/moustholmes/Projects/METAL-AI/data/Li-Rh/rank_Worker-0a046906-19a7-45d5-b413-bc4c59530c23.hdf5\n",
      "File already exists, skipping: /Users/moustholmes/Projects/METAL-AI/data/Li-Rh/rank_Worker-0a046906-19a7-45d5-b413-bc4c59530c23.hdf5\n"
     ]
    },
    {
     "name": "stderr",
     "output_type": "stream",
     "text": [
      "Downloading files:   4%|▍         | 63/1422 [00:03<01:14, 18.20file/s]"
     ]
    },
    {
     "name": "stdout",
     "output_type": "stream",
     "text": [
      "Downloaded: /Users/moustholmes/Projects/METAL-AI/data/Li-Rh/rank_Worker-0a1664ea-6e6e-4604-9400-812bc5b35e3c.hdf5\n",
      "File already exists, skipping: /Users/moustholmes/Projects/METAL-AI/data/Li-Rh/rank_Worker-0a1664ea-6e6e-4604-9400-812bc5b35e3c.hdf5\n",
      "File already exists, skipping: /Users/moustholmes/Projects/METAL-AI/data/Li-Rh/rank_Worker-0a1b5375-f663-4a7b-89de-eeb0361c57c1.hdf5\n",
      "File already exists, skipping: /Users/moustholmes/Projects/METAL-AI/data/Li-Rh/rank_Worker-0a1b5375-f663-4a7b-89de-eeb0361c57c1.hdf5\n",
      "File already exists, skipping: /Users/moustholmes/Projects/METAL-AI/data/Li-Rh/rank_Worker-0b91bd2f-62d9-49c6-a057-3d4340ebba9f.hdf5\n",
      "File already exists, skipping: /Users/moustholmes/Projects/METAL-AI/data/Li-Rh/rank_Worker-0b91bd2f-62d9-49c6-a057-3d4340ebba9f.hdf5\n",
      "Downloaded: /Users/moustholmes/Projects/METAL-AI/data/Li-Rh/rank_Worker-0bd930f4-becb-4a76-b6b5-964bd547cc3f.hdf5\n",
      "File already exists, skipping: /Users/moustholmes/Projects/METAL-AI/data/Li-Rh/rank_Worker-0bd930f4-becb-4a76-b6b5-964bd547cc3f.hdf5\n"
     ]
    },
    {
     "name": "stderr",
     "output_type": "stream",
     "text": [
      "Downloading files:   5%|▌         | 75/1422 [00:03<00:53, 25.02file/s]"
     ]
    },
    {
     "name": "stdout",
     "output_type": "stream",
     "text": [
      "Downloaded: /Users/moustholmes/Projects/METAL-AI/data/Li-Rh/rank_Worker-0bdd476f-bb58-4ba7-9c13-619ae4ab9895.hdf5\n",
      "File already exists, skipping: /Users/moustholmes/Projects/METAL-AI/data/Li-Rh/rank_Worker-0bdd476f-bb58-4ba7-9c13-619ae4ab9895.hdf5\n",
      "File already exists, skipping: /Users/moustholmes/Projects/METAL-AI/data/Li-Rh/rank_Worker-0c35f7c5-e1d8-4b31-82a0-f0ed208c53fe.hdf5\n",
      "File already exists, skipping: /Users/moustholmes/Projects/METAL-AI/data/Li-Rh/rank_Worker-0c35f7c5-e1d8-4b31-82a0-f0ed208c53fe.hdf5\n",
      "File already exists, skipping: /Users/moustholmes/Projects/METAL-AI/data/Li-Rh/rank_Worker-0cbadcbc-258b-4717-83ac-3df2480592be.hdf5\n",
      "File already exists, skipping: /Users/moustholmes/Projects/METAL-AI/data/Li-Rh/rank_Worker-0cbadcbc-258b-4717-83ac-3df2480592be.hdf5\n",
      "File already exists, skipping: /Users/moustholmes/Projects/METAL-AI/data/Li-Rh/rank_Worker-0e860992-1992-4cda-a03b-63b733224716.hdf5\n",
      "File already exists, skipping: /Users/moustholmes/Projects/METAL-AI/data/Li-Rh/rank_Worker-0e860992-1992-4cda-a03b-63b733224716.hdf5\n",
      "File already exists, skipping: /Users/moustholmes/Projects/METAL-AI/data/Li-Rh/rank_Worker-0ed367f8-e8cf-4430-854a-7cdddf498942.hdf5\n",
      "File already exists, skipping: /Users/moustholmes/Projects/METAL-AI/data/Li-Rh/rank_Worker-0ed367f8-e8cf-4430-854a-7cdddf498942.hdf5\n",
      "Downloaded: /Users/moustholmes/Projects/METAL-AI/data/Li-Rh/rank_Worker-109a3957-a8c5-4ca1-9420-6719e4d45e63.hdf5\n",
      "File already exists, skipping: /Users/moustholmes/Projects/METAL-AI/data/Li-Rh/rank_Worker-109a3957-a8c5-4ca1-9420-6719e4d45e63.hdf5\n",
      "File already exists, skipping: /Users/moustholmes/Projects/METAL-AI/data/Li-Rh/rank_Worker-10b820fe-fd6b-40a7-8cb6-33d5cfc3fc3c.hdf5\n",
      "File already exists, skipping: /Users/moustholmes/Projects/METAL-AI/data/Li-Rh/rank_Worker-10b820fe-fd6b-40a7-8cb6-33d5cfc3fc3c.hdf5\n",
      "File already exists, skipping: /Users/moustholmes/Projects/METAL-AI/data/Li-Rh/rank_Worker-10df6040-e37f-4bd5-9e1f-b68356409dda.hdf5\n",
      "File already exists, skipping: /Users/moustholmes/Projects/METAL-AI/data/Li-Rh/rank_Worker-10df6040-e37f-4bd5-9e1f-b68356409dda.hdf5\n",
      "File already exists, skipping: /Users/moustholmes/Projects/METAL-AI/data/Li-Rh/rank_Worker-1103f9fd-3bba-4dc9-b270-6e2acbba3136.hdf5\n",
      "File already exists, skipping: /Users/moustholmes/Projects/METAL-AI/data/Li-Rh/rank_Worker-1103f9fd-3bba-4dc9-b270-6e2acbba3136.hdf5\n"
     ]
    },
    {
     "name": "stderr",
     "output_type": "stream",
     "text": [
      "Downloading files:   6%|▌         | 83/1422 [00:03<00:46, 28.65file/s]"
     ]
    },
    {
     "name": "stdout",
     "output_type": "stream",
     "text": [
      "Downloaded: /Users/moustholmes/Projects/METAL-AI/data/Li-Rh/rank_Worker-116cde3a-b18d-421f-a9f6-e5ebe2a8bf7c.hdf5\n",
      "File already exists, skipping: /Users/moustholmes/Projects/METAL-AI/data/Li-Rh/rank_Worker-116cde3a-b18d-421f-a9f6-e5ebe2a8bf7c.hdf5\n",
      "File already exists, skipping: /Users/moustholmes/Projects/METAL-AI/data/Li-Rh/rank_Worker-128e31a4-ff3d-40a3-b26d-4c37ffcc8698.hdf5\n",
      "File already exists, skipping: /Users/moustholmes/Projects/METAL-AI/data/Li-Rh/rank_Worker-128e31a4-ff3d-40a3-b26d-4c37ffcc8698.hdf5\n",
      "File already exists, skipping: /Users/moustholmes/Projects/METAL-AI/data/Li-Rh/rank_Worker-12e0de19-4e49-455d-86b6-a871a840d96f.hdf5\n",
      "File already exists, skipping: /Users/moustholmes/Projects/METAL-AI/data/Li-Rh/rank_Worker-12e0de19-4e49-455d-86b6-a871a840d96f.hdf5\n"
     ]
    },
    {
     "name": "stderr",
     "output_type": "stream",
     "text": [
      "Downloading files:   6%|▋         | 89/1422 [00:04<01:51, 11.97file/s]"
     ]
    },
    {
     "name": "stdout",
     "output_type": "stream",
     "text": [
      "Downloaded: /Users/moustholmes/Projects/METAL-AI/data/Li-Rh/rank_Worker-138c60d0-01fb-4082-b803-96bb6f54b400.hdf5\n",
      "File already exists, skipping: /Users/moustholmes/Projects/METAL-AI/data/Li-Rh/rank_Worker-138c60d0-01fb-4082-b803-96bb6f54b400.hdf5\n",
      "File already exists, skipping: /Users/moustholmes/Projects/METAL-AI/data/Li-Rh/rank_Worker-13b4400d-47d1-4202-989a-d6b16c8ba02d.hdf5\n",
      "File already exists, skipping: /Users/moustholmes/Projects/METAL-AI/data/Li-Rh/rank_Worker-13b4400d-47d1-4202-989a-d6b16c8ba02d.hdf5\n"
     ]
    },
    {
     "name": "stderr",
     "output_type": "stream",
     "text": [
      "Downloading files:   7%|▋         | 93/1422 [00:05<01:43, 12.90file/s]"
     ]
    },
    {
     "name": "stdout",
     "output_type": "stream",
     "text": [
      "Downloaded: /Users/moustholmes/Projects/METAL-AI/data/Li-Rh/rank_Worker-13ef6d39-d41a-4c7e-85e3-1f7daf80210f.hdf5\n",
      "File already exists, skipping: /Users/moustholmes/Projects/METAL-AI/data/Li-Rh/rank_Worker-13ef6d39-d41a-4c7e-85e3-1f7daf80210f.hdf5\n"
     ]
    },
    {
     "name": "stderr",
     "output_type": "stream",
     "text": [
      "Downloading files:   7%|▋         | 96/1422 [00:05<01:42, 12.95file/s]"
     ]
    },
    {
     "name": "stdout",
     "output_type": "stream",
     "text": [
      "Downloaded: /Users/moustholmes/Projects/METAL-AI/data/Li-Rh/rank_Worker-1470b877-b96f-4332-8034-65c3b3f33c65.hdf5\n",
      "File already exists, skipping: /Users/moustholmes/Projects/METAL-AI/data/Li-Rh/rank_Worker-1470b877-b96f-4332-8034-65c3b3f33c65.hdf5\n",
      "File already exists, skipping: /Users/moustholmes/Projects/METAL-AI/data/Li-Rh/rank_Worker-1492fb9d-4ce4-447e-b015-6a3943488b98.hdf5\n",
      "File already exists, skipping: /Users/moustholmes/Projects/METAL-AI/data/Li-Rh/rank_Worker-1492fb9d-4ce4-447e-b015-6a3943488b98.hdf5\n",
      "File already exists, skipping: /Users/moustholmes/Projects/METAL-AI/data/Li-Rh/rank_Worker-156a2054-7fcb-4f3b-99f2-1e2786d48d0c.hdf5\n",
      "File already exists, skipping: /Users/moustholmes/Projects/METAL-AI/data/Li-Rh/rank_Worker-156a2054-7fcb-4f3b-99f2-1e2786d48d0c.hdf5\n"
     ]
    },
    {
     "name": "stderr",
     "output_type": "stream",
     "text": [
      "Downloading files:   7%|▋         | 105/1422 [00:05<01:21, 16.12file/s]"
     ]
    },
    {
     "name": "stdout",
     "output_type": "stream",
     "text": [
      "Downloaded: /Users/moustholmes/Projects/METAL-AI/data/Li-Rh/rank_Worker-15c0e35e-87d6-48e7-a536-167e0bb588f4.hdf5\n",
      "File already exists, skipping: /Users/moustholmes/Projects/METAL-AI/data/Li-Rh/rank_Worker-15c0e35e-87d6-48e7-a536-167e0bb588f4.hdf5\n",
      "File already exists, skipping: /Users/moustholmes/Projects/METAL-AI/data/Li-Rh/rank_Worker-1607bace-a044-41be-80e2-a12ed9ee8288.hdf5\n",
      "File already exists, skipping: /Users/moustholmes/Projects/METAL-AI/data/Li-Rh/rank_Worker-1607bace-a044-41be-80e2-a12ed9ee8288.hdf5\n",
      "Downloaded: /Users/moustholmes/Projects/METAL-AI/data/Li-Rh/rank_Worker-1613b46f-2778-48d8-bd5a-8972f7c1df1f.hdf5\n",
      "File already exists, skipping: /Users/moustholmes/Projects/METAL-AI/data/Li-Rh/rank_Worker-1613b46f-2778-48d8-bd5a-8972f7c1df1f.hdf5\n",
      "File already exists, skipping: /Users/moustholmes/Projects/METAL-AI/data/Li-Rh/rank_Worker-167f4272-2c81-435c-b04f-fc9c83e88e27.hdf5\n",
      "File already exists, skipping: /Users/moustholmes/Projects/METAL-AI/data/Li-Rh/rank_Worker-167f4272-2c81-435c-b04f-fc9c83e88e27.hdf5\n"
     ]
    },
    {
     "name": "stderr",
     "output_type": "stream",
     "text": [
      "Downloading files:   8%|▊         | 119/1422 [00:06<00:50, 25.78file/s]"
     ]
    },
    {
     "name": "stdout",
     "output_type": "stream",
     "text": [
      "Downloaded: /Users/moustholmes/Projects/METAL-AI/data/Li-Rh/rank_Worker-16a2b394-40ca-402d-ad40-c288de0d7c86.hdf5\n",
      "File already exists, skipping: /Users/moustholmes/Projects/METAL-AI/data/Li-Rh/rank_Worker-16a2b394-40ca-402d-ad40-c288de0d7c86.hdf5\n",
      "File already exists, skipping: /Users/moustholmes/Projects/METAL-AI/data/Li-Rh/rank_Worker-16c201b8-c3c9-4e68-bd24-ea5b5de068d2.hdf5\n",
      "File already exists, skipping: /Users/moustholmes/Projects/METAL-AI/data/Li-Rh/rank_Worker-16c201b8-c3c9-4e68-bd24-ea5b5de068d2.hdf5\n",
      "File already exists, skipping: /Users/moustholmes/Projects/METAL-AI/data/Li-Rh/rank_Worker-17ccaa18-430c-4c10-bf43-3b4237d88385.hdf5\n",
      "File already exists, skipping: /Users/moustholmes/Projects/METAL-AI/data/Li-Rh/rank_Worker-17ccaa18-430c-4c10-bf43-3b4237d88385.hdf5\n",
      "File already exists, skipping: /Users/moustholmes/Projects/METAL-AI/data/Li-Rh/rank_Worker-17dbba78-75f9-4bdf-a6f1-cc32abd5984b.hdf5\n",
      "File already exists, skipping: /Users/moustholmes/Projects/METAL-AI/data/Li-Rh/rank_Worker-17dbba78-75f9-4bdf-a6f1-cc32abd5984b.hdf5\n",
      "File already exists, skipping: /Users/moustholmes/Projects/METAL-AI/data/Li-Rh/rank_Worker-180e5238-e92d-4911-9a8f-8064a9cb4d66.hdf5\n",
      "File already exists, skipping: /Users/moustholmes/Projects/METAL-AI/data/Li-Rh/rank_Worker-180e5238-e92d-4911-9a8f-8064a9cb4d66.hdf5\n",
      "Downloaded: /Users/moustholmes/Projects/METAL-AI/data/Li-Rh/rank_Worker-187f5267-64b2-4f73-8e7a-89c0d97e4501.hdf5\n",
      "File already exists, skipping: /Users/moustholmes/Projects/METAL-AI/data/Li-Rh/rank_Worker-187f5267-64b2-4f73-8e7a-89c0d97e4501.hdf5\n"
     ]
    },
    {
     "name": "stderr",
     "output_type": "stream",
     "text": [
      "Downloading files:   9%|▊         | 123/1422 [00:06<01:10, 18.53file/s]"
     ]
    },
    {
     "name": "stdout",
     "output_type": "stream",
     "text": [
      "Downloaded: /Users/moustholmes/Projects/METAL-AI/data/Li-Rh/rank_Worker-18ac0c13-359e-43d7-9df2-964b7e9b3110.hdf5\n",
      "File already exists, skipping: /Users/moustholmes/Projects/METAL-AI/data/Li-Rh/rank_Worker-18ac0c13-359e-43d7-9df2-964b7e9b3110.hdf5\n",
      "Downloaded: /Users/moustholmes/Projects/METAL-AI/data/Li-Rh/rank_Worker-18c75b97-389f-4686-91b4-b85077292a68.hdf5\n",
      "File already exists, skipping: /Users/moustholmes/Projects/METAL-AI/data/Li-Rh/rank_Worker-18c75b97-389f-4686-91b4-b85077292a68.hdf5\n"
     ]
    },
    {
     "name": "stderr",
     "output_type": "stream",
     "text": [
      "Downloading files:  10%|▉         | 137/1422 [00:06<00:48, 26.64file/s]"
     ]
    },
    {
     "name": "stdout",
     "output_type": "stream",
     "text": [
      "Downloaded: /Users/moustholmes/Projects/METAL-AI/data/Li-Rh/rank_Worker-191210a9-554e-4901-b6d2-f92bf20b8af6.hdf5\n",
      "File already exists, skipping: /Users/moustholmes/Projects/METAL-AI/data/Li-Rh/rank_Worker-191210a9-554e-4901-b6d2-f92bf20b8af6.hdf5\n",
      "File already exists, skipping: /Users/moustholmes/Projects/METAL-AI/data/Li-Rh/rank_Worker-1940300f-7680-4c64-8026-a76648ef88b0.hdf5\n",
      "File already exists, skipping: /Users/moustholmes/Projects/METAL-AI/data/Li-Rh/rank_Worker-1940300f-7680-4c64-8026-a76648ef88b0.hdf5\n",
      "File already exists, skipping: /Users/moustholmes/Projects/METAL-AI/data/Li-Rh/rank_Worker-197f05e6-50dc-4452-8887-ecd0a3bb832d.hdf5\n",
      "File already exists, skipping: /Users/moustholmes/Projects/METAL-AI/data/Li-Rh/rank_Worker-197f05e6-50dc-4452-8887-ecd0a3bb832d.hdf5\n",
      "File already exists, skipping: /Users/moustholmes/Projects/METAL-AI/data/Li-Rh/rank_Worker-19a13197-4ce2-4dea-b15d-10216d6d0c20.hdf5\n",
      "File already exists, skipping: /Users/moustholmes/Projects/METAL-AI/data/Li-Rh/rank_Worker-19a13197-4ce2-4dea-b15d-10216d6d0c20.hdf5\n",
      "File already exists, skipping: /Users/moustholmes/Projects/METAL-AI/data/Li-Rh/rank_Worker-1a716cf6-9493-4153-ba2e-1d862c99ecf4.hdf5\n",
      "File already exists, skipping: /Users/moustholmes/Projects/METAL-AI/data/Li-Rh/rank_Worker-1a716cf6-9493-4153-ba2e-1d862c99ecf4.hdf5\n",
      "File already exists, skipping: /Users/moustholmes/Projects/METAL-AI/data/Li-Rh/rank_Worker-1ad91fd5-cc0a-4a83-b374-89a82b7b32a2.hdf5\n",
      "File already exists, skipping: /Users/moustholmes/Projects/METAL-AI/data/Li-Rh/rank_Worker-1ad91fd5-cc0a-4a83-b374-89a82b7b32a2.hdf5\n",
      "Downloaded: /Users/moustholmes/Projects/METAL-AI/data/Li-Rh/rank_Worker-1b61f1a1-a07e-452c-b6c3-79b85d17261a.hdf5\n",
      "File already exists, skipping: /Users/moustholmes/Projects/METAL-AI/data/Li-Rh/rank_Worker-1b61f1a1-a07e-452c-b6c3-79b85d17261a.hdf5\n"
     ]
    },
    {
     "name": "stderr",
     "output_type": "stream",
     "text": [
      "Downloading files:  10%|▉         | 141/1422 [00:07<00:50, 25.24file/s]"
     ]
    },
    {
     "name": "stdout",
     "output_type": "stream",
     "text": [
      "Downloaded: /Users/moustholmes/Projects/METAL-AI/data/Li-Rh/rank_Worker-1b68c20b-3259-4142-9989-aa3b5bf37afe.hdf5\n",
      "File already exists, skipping: /Users/moustholmes/Projects/METAL-AI/data/Li-Rh/rank_Worker-1b68c20b-3259-4142-9989-aa3b5bf37afe.hdf5\n",
      "File already exists, skipping: /Users/moustholmes/Projects/METAL-AI/data/Li-Rh/rank_Worker-1ba92b59-0c35-4d44-ae77-daa676303a6c.hdf5\n",
      "File already exists, skipping: /Users/moustholmes/Projects/METAL-AI/data/Li-Rh/rank_Worker-1ba92b59-0c35-4d44-ae77-daa676303a6c.hdf5\n",
      "File already exists, skipping: /Users/moustholmes/Projects/METAL-AI/data/Li-Rh/rank_Worker-1c160a68-c83a-4283-b859-39eb1428e5ac.hdf5\n",
      "File already exists, skipping: /Users/moustholmes/Projects/METAL-AI/data/Li-Rh/rank_Worker-1c160a68-c83a-4283-b859-39eb1428e5ac.hdf5\n",
      "File already exists, skipping: /Users/moustholmes/Projects/METAL-AI/data/Li-Rh/rank_Worker-1c6cdf78-dd4c-47ba-b541-21ed061077ca.hdf5\n",
      "File already exists, skipping: /Users/moustholmes/Projects/METAL-AI/data/Li-Rh/rank_Worker-1c6cdf78-dd4c-47ba-b541-21ed061077ca.hdf5\n",
      "File already exists, skipping: /Users/moustholmes/Projects/METAL-AI/data/Li-Rh/rank_Worker-1cab1f8a-3e34-497e-b1e5-f5cd692cd3f3.hdf5\n",
      "File already exists, skipping: /Users/moustholmes/Projects/METAL-AI/data/Li-Rh/rank_Worker-1cab1f8a-3e34-497e-b1e5-f5cd692cd3f3.hdf5\n",
      "File already exists, skipping: /Users/moustholmes/Projects/METAL-AI/data/Li-Rh/rank_Worker-1cd3d469-dcee-4903-8a9b-69071029476f.hdf5\n",
      "File already exists, skipping: /Users/moustholmes/Projects/METAL-AI/data/Li-Rh/rank_Worker-1cd3d469-dcee-4903-8a9b-69071029476f.hdf5\n"
     ]
    },
    {
     "name": "stderr",
     "output_type": "stream",
     "text": [
      "Downloading files:  11%|█         | 151/1422 [00:07<00:41, 30.89file/s]"
     ]
    },
    {
     "name": "stdout",
     "output_type": "stream",
     "text": [
      "Downloaded: /Users/moustholmes/Projects/METAL-AI/data/Li-Rh/rank_Worker-1d870b38-df8c-4f38-a5d8-d658825bb8d5.hdf5\n",
      "File already exists, skipping: /Users/moustholmes/Projects/METAL-AI/data/Li-Rh/rank_Worker-1d870b38-df8c-4f38-a5d8-d658825bb8d5.hdf5\n",
      "Downloaded: /Users/moustholmes/Projects/METAL-AI/data/Li-Rh/rank_Worker-1da1a247-7d83-4e50-8fce-9f31a1b59a4b.hdf5\n",
      "File already exists, skipping: /Users/moustholmes/Projects/METAL-AI/data/Li-Rh/rank_Worker-1da1a247-7d83-4e50-8fce-9f31a1b59a4b.hdf5\n"
     ]
    },
    {
     "name": "stderr",
     "output_type": "stream",
     "text": [
      "Downloading files:  12%|█▏        | 165/1422 [00:07<00:44, 28.21file/s]"
     ]
    },
    {
     "name": "stdout",
     "output_type": "stream",
     "text": [
      "Downloaded: /Users/moustholmes/Projects/METAL-AI/data/Li-Rh/rank_Worker-1e152954-b71a-4391-a457-015b331649f7.hdf5\n",
      "File already exists, skipping: /Users/moustholmes/Projects/METAL-AI/data/Li-Rh/rank_Worker-1e152954-b71a-4391-a457-015b331649f7.hdf5\n",
      "File already exists, skipping: /Users/moustholmes/Projects/METAL-AI/data/Li-Rh/rank_Worker-1e644667-a782-40ce-8e2f-dd2369f82e67.hdf5\n",
      "File already exists, skipping: /Users/moustholmes/Projects/METAL-AI/data/Li-Rh/rank_Worker-1e644667-a782-40ce-8e2f-dd2369f82e67.hdf5\n",
      "File already exists, skipping: /Users/moustholmes/Projects/METAL-AI/data/Li-Rh/rank_Worker-1ec79782-b7f7-42ee-a2fc-102bd6728519.hdf5\n",
      "File already exists, skipping: /Users/moustholmes/Projects/METAL-AI/data/Li-Rh/rank_Worker-1ec79782-b7f7-42ee-a2fc-102bd6728519.hdf5\n",
      "File already exists, skipping: /Users/moustholmes/Projects/METAL-AI/data/Li-Rh/rank_Worker-1ed42ee0-e57f-4339-a51a-4742196acdfb.hdf5\n",
      "File already exists, skipping: /Users/moustholmes/Projects/METAL-AI/data/Li-Rh/rank_Worker-1ed42ee0-e57f-4339-a51a-4742196acdfb.hdf5\n",
      "File already exists, skipping: /Users/moustholmes/Projects/METAL-AI/data/Li-Rh/rank_Worker-1efdd1aa-7359-42f5-9b56-4f8142f7855a.hdf5\n",
      "File already exists, skipping: /Users/moustholmes/Projects/METAL-AI/data/Li-Rh/rank_Worker-1efdd1aa-7359-42f5-9b56-4f8142f7855a.hdf5\n",
      "Downloaded: /Users/moustholmes/Projects/METAL-AI/data/Li-Rh/rank_Worker-1f3a0f17-4b67-4512-8f34-a9f01b5c2bf2.hdf5\n",
      "File already exists, skipping: /Users/moustholmes/Projects/METAL-AI/data/Li-Rh/rank_Worker-1f3a0f17-4b67-4512-8f34-a9f01b5c2bf2.hdf5\n"
     ]
    },
    {
     "name": "stderr",
     "output_type": "stream",
     "text": [
      "Downloading files:  12%|█▏        | 169/1422 [00:08<00:59, 21.22file/s]"
     ]
    },
    {
     "name": "stdout",
     "output_type": "stream",
     "text": [
      "Downloaded: /Users/moustholmes/Projects/METAL-AI/data/Li-Rh/rank_Worker-1f3f9fc1-e491-401b-84cf-eb7b7d13ef37.hdf5\n",
      "File already exists, skipping: /Users/moustholmes/Projects/METAL-AI/data/Li-Rh/rank_Worker-1f3f9fc1-e491-401b-84cf-eb7b7d13ef37.hdf5\n",
      "Downloaded: /Users/moustholmes/Projects/METAL-AI/data/Li-Rh/rank_Worker-1f8108e8-a7aa-4d7c-a071-d685aa4b1dac.hdf5\n",
      "File already exists, skipping: /Users/moustholmes/Projects/METAL-AI/data/Li-Rh/rank_Worker-1f8108e8-a7aa-4d7c-a071-d685aa4b1dac.hdf5\n"
     ]
    },
    {
     "name": "stderr",
     "output_type": "stream",
     "text": [
      "Downloading files:  12%|█▏        | 172/1422 [00:08<01:02, 19.99file/s]"
     ]
    },
    {
     "name": "stdout",
     "output_type": "stream",
     "text": [
      "Downloaded: /Users/moustholmes/Projects/METAL-AI/data/Li-Rh/rank_Worker-1faeb1af-c3f7-4720-b8cc-a4ddb8b5f350.hdf5\n",
      "File already exists, skipping: /Users/moustholmes/Projects/METAL-AI/data/Li-Rh/rank_Worker-1faeb1af-c3f7-4720-b8cc-a4ddb8b5f350.hdf5\n",
      "Downloaded: /Users/moustholmes/Projects/METAL-AI/data/Li-Rh/rank_Worker-1fbe2a76-12b4-454f-aa42-dbbc911fe620.hdf5\n",
      "File already exists, skipping: /Users/moustholmes/Projects/METAL-AI/data/Li-Rh/rank_Worker-1fbe2a76-12b4-454f-aa42-dbbc911fe620.hdf5\n"
     ]
    },
    {
     "name": "stderr",
     "output_type": "stream",
     "text": [
      "Downloading files:  12%|█▏        | 177/1422 [00:09<01:25, 14.58file/s]"
     ]
    },
    {
     "name": "stdout",
     "output_type": "stream",
     "text": [
      "Downloaded: /Users/moustholmes/Projects/METAL-AI/data/Li-Rh/rank_Worker-1ffa5a58-f637-4b4d-95a1-c936950744f5.hdf5\n",
      "File already exists, skipping: /Users/moustholmes/Projects/METAL-AI/data/Li-Rh/rank_Worker-1ffa5a58-f637-4b4d-95a1-c936950744f5.hdf5\n",
      "Downloaded: /Users/moustholmes/Projects/METAL-AI/data/Li-Rh/rank_Worker-201e24a2-3cb9-4906-bf14-064fe001f761.hdf5\n",
      "File already exists, skipping: /Users/moustholmes/Projects/METAL-AI/data/Li-Rh/rank_Worker-201e24a2-3cb9-4906-bf14-064fe001f761.hdf5\n"
     ]
    },
    {
     "name": "stderr",
     "output_type": "stream",
     "text": [
      "Downloading files:  13%|█▎        | 181/1422 [00:09<01:38, 12.57file/s]"
     ]
    },
    {
     "name": "stdout",
     "output_type": "stream",
     "text": [
      "Downloaded: /Users/moustholmes/Projects/METAL-AI/data/Li-Rh/rank_Worker-209cbe6c-aeef-4015-8601-1ccf2eef1a0d.hdf5\n",
      "File already exists, skipping: /Users/moustholmes/Projects/METAL-AI/data/Li-Rh/rank_Worker-209cbe6c-aeef-4015-8601-1ccf2eef1a0d.hdf5\n",
      "Downloaded: /Users/moustholmes/Projects/METAL-AI/data/Li-Rh/rank_Worker-20b95b20-3c1a-4314-807d-99fb60965122.hdf5\n",
      "File already exists, skipping: /Users/moustholmes/Projects/METAL-AI/data/Li-Rh/rank_Worker-20b95b20-3c1a-4314-807d-99fb60965122.hdf5\n"
     ]
    },
    {
     "name": "stderr",
     "output_type": "stream",
     "text": [
      "Downloading files:  13%|█▎        | 183/1422 [00:09<01:44, 11.88file/s]"
     ]
    },
    {
     "name": "stdout",
     "output_type": "stream",
     "text": [
      "Downloaded: /Users/moustholmes/Projects/METAL-AI/data/Li-Rh/rank_Worker-214a96fc-2de5-4c1c-ac67-0f4869dc0861.hdf5\n",
      "File already exists, skipping: /Users/moustholmes/Projects/METAL-AI/data/Li-Rh/rank_Worker-214a96fc-2de5-4c1c-ac67-0f4869dc0861.hdf5\n"
     ]
    },
    {
     "name": "stderr",
     "output_type": "stream",
     "text": [
      "Downloading files:  13%|█▎        | 185/1422 [00:09<01:52, 11.04file/s]"
     ]
    },
    {
     "name": "stdout",
     "output_type": "stream",
     "text": [
      "Downloaded: /Users/moustholmes/Projects/METAL-AI/data/Li-Rh/rank_Worker-214f54df-9258-4aab-92d4-ffe714d3e8ef.hdf5\n",
      "File already exists, skipping: /Users/moustholmes/Projects/METAL-AI/data/Li-Rh/rank_Worker-214f54df-9258-4aab-92d4-ffe714d3e8ef.hdf5\n",
      "File already exists, skipping: /Users/moustholmes/Projects/METAL-AI/data/Li-Rh/rank_Worker-21726075-cd19-4164-ae04-61509513fac1.hdf5\n",
      "File already exists, skipping: /Users/moustholmes/Projects/METAL-AI/data/Li-Rh/rank_Worker-21726075-cd19-4164-ae04-61509513fac1.hdf5\n",
      "File already exists, skipping: /Users/moustholmes/Projects/METAL-AI/data/Li-Rh/rank_Worker-21ef7b68-4cca-488f-b4bb-a05203e0de98.hdf5\n",
      "File already exists, skipping: /Users/moustholmes/Projects/METAL-AI/data/Li-Rh/rank_Worker-21ef7b68-4cca-488f-b4bb-a05203e0de98.hdf5\n",
      "File already exists, skipping: /Users/moustholmes/Projects/METAL-AI/data/Li-Rh/rank_Worker-22e686e2-61ef-4e29-857e-11c359c9392e.hdf5\n",
      "File already exists, skipping: /Users/moustholmes/Projects/METAL-AI/data/Li-Rh/rank_Worker-22e686e2-61ef-4e29-857e-11c359c9392e.hdf5\n",
      "Downloaded: /Users/moustholmes/Projects/METAL-AI/data/Li-Rh/rank_Worker-22f0d52e-f9dc-4d98-b517-7e75e9ef3adc.hdf5\n"
     ]
    },
    {
     "name": "stderr",
     "output_type": "stream",
     "text": [
      "Downloading files:  14%|█▎        | 193/1422 [00:10<01:04, 19.10file/s]"
     ]
    },
    {
     "name": "stdout",
     "output_type": "stream",
     "text": [
      "File already exists, skipping: /Users/moustholmes/Projects/METAL-AI/data/Li-Rh/rank_Worker-22f0d52e-f9dc-4d98-b517-7e75e9ef3adc.hdf5\n",
      "File already exists, skipping: /Users/moustholmes/Projects/METAL-AI/data/Li-Rh/rank_Worker-23239304-1512-4067-b593-b0e312586fe9.hdf5\n",
      "File already exists, skipping: /Users/moustholmes/Projects/METAL-AI/data/Li-Rh/rank_Worker-23239304-1512-4067-b593-b0e312586fe9.hdf5\n",
      "File already exists, skipping: /Users/moustholmes/Projects/METAL-AI/data/Li-Rh/rank_Worker-2324f237-2100-41e2-95ab-982a42cd6646.hdf5\n",
      "File already exists, skipping: /Users/moustholmes/Projects/METAL-AI/data/Li-Rh/rank_Worker-2324f237-2100-41e2-95ab-982a42cd6646.hdf5\n"
     ]
    },
    {
     "name": "stderr",
     "output_type": "stream",
     "text": [
      "Downloading files:  14%|█▍        | 199/1422 [00:10<00:57, 21.44file/s]"
     ]
    },
    {
     "name": "stdout",
     "output_type": "stream",
     "text": [
      "Downloaded: /Users/moustholmes/Projects/METAL-AI/data/Li-Rh/rank_Worker-2388e95f-d35e-427f-bfb7-81e06c1d8d2d.hdf5\n",
      "File already exists, skipping: /Users/moustholmes/Projects/METAL-AI/data/Li-Rh/rank_Worker-2388e95f-d35e-427f-bfb7-81e06c1d8d2d.hdf5\n"
     ]
    },
    {
     "name": "stderr",
     "output_type": "stream",
     "text": [
      "Downloading files:  14%|█▍        | 202/1422 [00:10<01:03, 19.20file/s]"
     ]
    },
    {
     "name": "stdout",
     "output_type": "stream",
     "text": [
      "Downloaded: /Users/moustholmes/Projects/METAL-AI/data/Li-Rh/rank_Worker-23a1a39f-d4e1-471d-b359-407a85f65971.hdf5\n",
      "File already exists, skipping: /Users/moustholmes/Projects/METAL-AI/data/Li-Rh/rank_Worker-23a1a39f-d4e1-471d-b359-407a85f65971.hdf5\n",
      "File already exists, skipping: /Users/moustholmes/Projects/METAL-AI/data/Li-Rh/rank_Worker-23ae7894-e45d-4ae6-8e02-1bbc1b3b2169.hdf5\n",
      "File already exists, skipping: /Users/moustholmes/Projects/METAL-AI/data/Li-Rh/rank_Worker-23ae7894-e45d-4ae6-8e02-1bbc1b3b2169.hdf5\n",
      "File already exists, skipping: /Users/moustholmes/Projects/METAL-AI/data/Li-Rh/rank_Worker-2469abe7-4c98-4839-9f24-15bdc18237bc.hdf5\n",
      "File already exists, skipping: /Users/moustholmes/Projects/METAL-AI/data/Li-Rh/rank_Worker-2469abe7-4c98-4839-9f24-15bdc18237bc.hdf5\n"
     ]
    },
    {
     "name": "stderr",
     "output_type": "stream",
     "text": [
      "Downloading files:  15%|█▍        | 207/1422 [00:10<00:59, 20.30file/s]"
     ]
    },
    {
     "name": "stdout",
     "output_type": "stream",
     "text": [
      "Downloaded: /Users/moustholmes/Projects/METAL-AI/data/Li-Rh/rank_Worker-248de916-6808-4fd9-abc6-5dbc3d5cee47.hdf5\n",
      "File already exists, skipping: /Users/moustholmes/Projects/METAL-AI/data/Li-Rh/rank_Worker-248de916-6808-4fd9-abc6-5dbc3d5cee47.hdf5\n"
     ]
    },
    {
     "name": "stderr",
     "output_type": "stream",
     "text": [
      "Downloading files:  15%|█▍        | 210/1422 [00:10<01:04, 18.73file/s]"
     ]
    },
    {
     "name": "stdout",
     "output_type": "stream",
     "text": [
      "Downloaded: /Users/moustholmes/Projects/METAL-AI/data/Li-Rh/rank_Worker-2526509f-5c34-4d99-9bbf-5ead01ec3452.hdf5\n",
      "File already exists, skipping: /Users/moustholmes/Projects/METAL-AI/data/Li-Rh/rank_Worker-2526509f-5c34-4d99-9bbf-5ead01ec3452.hdf5\n"
     ]
    },
    {
     "name": "stderr",
     "output_type": "stream",
     "text": [
      "Downloading files:  15%|█▍        | 212/1422 [00:11<01:17, 15.60file/s]"
     ]
    },
    {
     "name": "stdout",
     "output_type": "stream",
     "text": [
      "Downloaded: /Users/moustholmes/Projects/METAL-AI/data/Li-Rh/rank_Worker-2584997e-d923-46ad-9575-1b24b994192a.hdf5\n",
      "File already exists, skipping: /Users/moustholmes/Projects/METAL-AI/data/Li-Rh/rank_Worker-2584997e-d923-46ad-9575-1b24b994192a.hdf5\n",
      "File already exists, skipping: /Users/moustholmes/Projects/METAL-AI/data/Li-Rh/rank_Worker-25c0a6eb-7c04-45e1-9ab2-90f4e3420792.hdf5\n",
      "File already exists, skipping: /Users/moustholmes/Projects/METAL-AI/data/Li-Rh/rank_Worker-25c0a6eb-7c04-45e1-9ab2-90f4e3420792.hdf5\n"
     ]
    },
    {
     "name": "stderr",
     "output_type": "stream",
     "text": [
      "Downloading files:  15%|█▌        | 215/1422 [00:11<01:18, 15.34file/s]"
     ]
    },
    {
     "name": "stdout",
     "output_type": "stream",
     "text": [
      "Downloaded: /Users/moustholmes/Projects/METAL-AI/data/Li-Rh/rank_Worker-25fde3f3-d413-42c5-99f1-f1a1ec791abf.hdf5\n",
      "File already exists, skipping: /Users/moustholmes/Projects/METAL-AI/data/Li-Rh/rank_Worker-25fde3f3-d413-42c5-99f1-f1a1ec791abf.hdf5\n",
      "File already exists, skipping: /Users/moustholmes/Projects/METAL-AI/data/Li-Rh/rank_Worker-262aa3d7-a014-4d08-b1c1-5f78388245a7.hdf5\n",
      "File already exists, skipping: /Users/moustholmes/Projects/METAL-AI/data/Li-Rh/rank_Worker-262aa3d7-a014-4d08-b1c1-5f78388245a7.hdf5\n",
      "File already exists, skipping: /Users/moustholmes/Projects/METAL-AI/data/Li-Rh/rank_Worker-269cc3ef-ccd1-40c7-ac0f-7be2ede63616.hdf5\n",
      "File already exists, skipping: /Users/moustholmes/Projects/METAL-AI/data/Li-Rh/rank_Worker-269cc3ef-ccd1-40c7-ac0f-7be2ede63616.hdf5\n",
      "File already exists, skipping: /Users/moustholmes/Projects/METAL-AI/data/Li-Rh/rank_Worker-26a2ea0f-e8e8-4b02-aadf-654b0da91aee.hdf5\n",
      "File already exists, skipping: /Users/moustholmes/Projects/METAL-AI/data/Li-Rh/rank_Worker-26a2ea0f-e8e8-4b02-aadf-654b0da91aee.hdf5\n",
      "File already exists, skipping: /Users/moustholmes/Projects/METAL-AI/data/Li-Rh/rank_Worker-276fbeac-c693-40c6-b28f-0328bb11ff43.hdf5\n",
      "File already exists, skipping: /Users/moustholmes/Projects/METAL-AI/data/Li-Rh/rank_Worker-276fbeac-c693-40c6-b28f-0328bb11ff43.hdf5\n",
      "File already exists, skipping: /Users/moustholmes/Projects/METAL-AI/data/Li-Rh/rank_Worker-2782813f-236a-48f8-8f3a-41a4ae559bd9.hdf5\n",
      "File already exists, skipping: /Users/moustholmes/Projects/METAL-AI/data/Li-Rh/rank_Worker-2782813f-236a-48f8-8f3a-41a4ae559bd9.hdf5\n"
     ]
    },
    {
     "name": "stderr",
     "output_type": "stream",
     "text": [
      "Downloading files:  17%|█▋        | 237/1422 [00:11<00:35, 33.65file/s]"
     ]
    },
    {
     "name": "stdout",
     "output_type": "stream",
     "text": [
      "Downloaded: /Users/moustholmes/Projects/METAL-AI/data/Li-Rh/rank_Worker-27d1f9f7-d95c-4988-9da0-de798e404ecc.hdf5\n",
      "File already exists, skipping: /Users/moustholmes/Projects/METAL-AI/data/Li-Rh/rank_Worker-27d1f9f7-d95c-4988-9da0-de798e404ecc.hdf5\n",
      "File already exists, skipping: /Users/moustholmes/Projects/METAL-AI/data/Li-Rh/rank_Worker-288cbe72-cb26-44e1-8be1-1fd08b59ebba.hdf5\n",
      "File already exists, skipping: /Users/moustholmes/Projects/METAL-AI/data/Li-Rh/rank_Worker-288cbe72-cb26-44e1-8be1-1fd08b59ebba.hdf5\n",
      "File already exists, skipping: /Users/moustholmes/Projects/METAL-AI/data/Li-Rh/rank_Worker-28981b43-29d6-46e5-8249-e87c91cc4d35.hdf5\n",
      "File already exists, skipping: /Users/moustholmes/Projects/METAL-AI/data/Li-Rh/rank_Worker-28981b43-29d6-46e5-8249-e87c91cc4d35.hdf5\n",
      "File already exists, skipping: /Users/moustholmes/Projects/METAL-AI/data/Li-Rh/rank_Worker-2969b818-41b4-4952-b120-10c44e637404.hdf5\n",
      "File already exists, skipping: /Users/moustholmes/Projects/METAL-AI/data/Li-Rh/rank_Worker-2969b818-41b4-4952-b120-10c44e637404.hdf5\n",
      "File already exists, skipping: /Users/moustholmes/Projects/METAL-AI/data/Li-Rh/rank_Worker-29c432bb-450b-46ac-affd-40db570652f6.hdf5\n",
      "File already exists, skipping: /Users/moustholmes/Projects/METAL-AI/data/Li-Rh/rank_Worker-29c432bb-450b-46ac-affd-40db570652f6.hdf5\n",
      "Downloaded: /Users/moustholmes/Projects/METAL-AI/data/Li-Rh/rank_Worker-2b2eae0f-673a-4bf1-ac09-dd6b40869aa1.hdf5\n",
      "File already exists, skipping: /Users/moustholmes/Projects/METAL-AI/data/Li-Rh/rank_Worker-2b2eae0f-673a-4bf1-ac09-dd6b40869aa1.hdf5\n",
      "File already exists, skipping: /Users/moustholmes/Projects/METAL-AI/data/Li-Rh/rank_Worker-2b38d825-06de-4622-bebd-d1a06f6f7281.hdf5\n",
      "File already exists, skipping: /Users/moustholmes/Projects/METAL-AI/data/Li-Rh/rank_Worker-2b38d825-06de-4622-bebd-d1a06f6f7281.hdf5\n",
      "File already exists, skipping: /Users/moustholmes/Projects/METAL-AI/data/Li-Rh/rank_Worker-2b8a22b9-5bc1-400b-800b-4318c167fb4b.hdf5\n",
      "File already exists, skipping: /Users/moustholmes/Projects/METAL-AI/data/Li-Rh/rank_Worker-2b8a22b9-5bc1-400b-800b-4318c167fb4b.hdf5\n",
      "File already exists, skipping: /Users/moustholmes/Projects/METAL-AI/data/Li-Rh/rank_Worker-2b9f4b87-28e8-431b-bfdb-b3069aa8e8d6.hdf5\n",
      "File already exists, skipping: /Users/moustholmes/Projects/METAL-AI/data/Li-Rh/rank_Worker-2b9f4b87-28e8-431b-bfdb-b3069aa8e8d6.hdf5\n",
      "File already exists, skipping: /Users/moustholmes/Projects/METAL-AI/data/Li-Rh/rank_Worker-2bbd75f8-2077-407a-b0b5-226387d6948f.hdf5\n",
      "File already exists, skipping: /Users/moustholmes/Projects/METAL-AI/data/Li-Rh/rank_Worker-2bbd75f8-2077-407a-b0b5-226387d6948f.hdf5\n",
      "File already exists, skipping: /Users/moustholmes/Projects/METAL-AI/data/Li-Rh/rank_Worker-2caba9cc-a685-4314-8cac-ca8e2b99300d.hdf5\n",
      "File already exists, skipping: /Users/moustholmes/Projects/METAL-AI/data/Li-Rh/rank_Worker-2caba9cc-a685-4314-8cac-ca8e2b99300d.hdf5\n"
     ]
    },
    {
     "name": "stderr",
     "output_type": "stream",
     "text": [
      "Downloading files:  18%|█▊        | 254/1422 [00:12<00:31, 36.53file/s]"
     ]
    },
    {
     "name": "stdout",
     "output_type": "stream",
     "text": [
      "Downloaded: /Users/moustholmes/Projects/METAL-AI/data/Li-Rh/rank_Worker-2ce8325e-c747-47b8-a41f-02afc7b52f39.hdf5\n",
      "File already exists, skipping: /Users/moustholmes/Projects/METAL-AI/data/Li-Rh/rank_Worker-2ce8325e-c747-47b8-a41f-02afc7b52f39.hdf5\n",
      "File already exists, skipping: /Users/moustholmes/Projects/METAL-AI/data/Li-Rh/rank_Worker-2d8a73b8-0b8b-45ca-8ddd-7f6fc7230d7c.hdf5\n",
      "File already exists, skipping: /Users/moustholmes/Projects/METAL-AI/data/Li-Rh/rank_Worker-2d8a73b8-0b8b-45ca-8ddd-7f6fc7230d7c.hdf5\n",
      "Downloaded: /Users/moustholmes/Projects/METAL-AI/data/Li-Rh/rank_Worker-2e3d6c9d-cfee-4ce8-9518-3cce48f5576d.hdf5\n",
      "File already exists, skipping: /Users/moustholmes/Projects/METAL-AI/data/Li-Rh/rank_Worker-2e3d6c9d-cfee-4ce8-9518-3cce48f5576d.hdf5\n",
      "File already exists, skipping: /Users/moustholmes/Projects/METAL-AI/data/Li-Rh/rank_Worker-2ebef29d-b1da-4783-80a9-31f3be782aa4.hdf5\n",
      "File already exists, skipping: /Users/moustholmes/Projects/METAL-AI/data/Li-Rh/rank_Worker-2ebef29d-b1da-4783-80a9-31f3be782aa4.hdf5\n",
      "File already exists, skipping: /Users/moustholmes/Projects/METAL-AI/data/Li-Rh/rank_Worker-2f2f6a8d-6b0f-43e1-9697-d379f05b9274.hdf5\n",
      "File already exists, skipping: /Users/moustholmes/Projects/METAL-AI/data/Li-Rh/rank_Worker-2f2f6a8d-6b0f-43e1-9697-d379f05b9274.hdf5\n",
      "File already exists, skipping: /Users/moustholmes/Projects/METAL-AI/data/Li-Rh/rank_Worker-2f7155c4-38c4-4513-a908-a078fb7b584d.hdf5\n",
      "File already exists, skipping: /Users/moustholmes/Projects/METAL-AI/data/Li-Rh/rank_Worker-2f7155c4-38c4-4513-a908-a078fb7b584d.hdf5\n"
     ]
    },
    {
     "name": "stderr",
     "output_type": "stream",
     "text": [
      "Downloading files:  19%|█▉        | 267/1422 [00:12<00:33, 34.79file/s]"
     ]
    },
    {
     "name": "stdout",
     "output_type": "stream",
     "text": [
      "Downloaded: /Users/moustholmes/Projects/METAL-AI/data/Li-Rh/rank_Worker-2f760832-bb57-44bf-8d2a-043b4e375969.hdf5\n",
      "File already exists, skipping: /Users/moustholmes/Projects/METAL-AI/data/Li-Rh/rank_Worker-2f760832-bb57-44bf-8d2a-043b4e375969.hdf5\n",
      "File already exists, skipping: /Users/moustholmes/Projects/METAL-AI/data/Li-Rh/rank_Worker-304908f3-5a2e-48ad-98f7-e56ccd7d5122.hdf5\n",
      "File already exists, skipping: /Users/moustholmes/Projects/METAL-AI/data/Li-Rh/rank_Worker-304908f3-5a2e-48ad-98f7-e56ccd7d5122.hdf5\n",
      "File already exists, skipping: /Users/moustholmes/Projects/METAL-AI/data/Li-Rh/rank_Worker-30b24696-4266-4b9d-97fc-67dd6a05836d.hdf5\n",
      "File already exists, skipping: /Users/moustholmes/Projects/METAL-AI/data/Li-Rh/rank_Worker-30b24696-4266-4b9d-97fc-67dd6a05836d.hdf5\n",
      "Downloaded: /Users/moustholmes/Projects/METAL-AI/data/Li-Rh/rank_Worker-31df7cfd-8b0e-4429-9ff0-65837891e249.hdf5\n",
      "File already exists, skipping: /Users/moustholmes/Projects/METAL-AI/data/Li-Rh/rank_Worker-31df7cfd-8b0e-4429-9ff0-65837891e249.hdf5\n"
     ]
    },
    {
     "name": "stderr",
     "output_type": "stream",
     "text": [
      "Downloading files:  19%|█▉        | 274/1422 [00:13<00:44, 25.62file/s]"
     ]
    },
    {
     "name": "stdout",
     "output_type": "stream",
     "text": [
      "Downloaded: /Users/moustholmes/Projects/METAL-AI/data/Li-Rh/rank_Worker-31ee9860-4950-4fec-9767-dff0d56e4979.hdf5\n",
      "File already exists, skipping: /Users/moustholmes/Projects/METAL-AI/data/Li-Rh/rank_Worker-31ee9860-4950-4fec-9767-dff0d56e4979.hdf5\n",
      "File already exists, skipping: /Users/moustholmes/Projects/METAL-AI/data/Li-Rh/rank_Worker-323e8816-91d8-47cd-8ea0-58816e442358.hdf5\n",
      "File already exists, skipping: /Users/moustholmes/Projects/METAL-AI/data/Li-Rh/rank_Worker-323e8816-91d8-47cd-8ea0-58816e442358.hdf5\n",
      "Downloaded: /Users/moustholmes/Projects/METAL-AI/data/Li-Rh/rank_Worker-32703415-3688-4889-b680-40384f6a7637.hdf5\n",
      "File already exists, skipping: /Users/moustholmes/Projects/METAL-AI/data/Li-Rh/rank_Worker-32703415-3688-4889-b680-40384f6a7637.hdf5\n"
     ]
    },
    {
     "name": "stderr",
     "output_type": "stream",
     "text": [
      "Downloading files:  20%|█▉        | 281/1422 [00:13<00:50, 22.50file/s]"
     ]
    },
    {
     "name": "stdout",
     "output_type": "stream",
     "text": [
      "Downloaded: /Users/moustholmes/Projects/METAL-AI/data/Li-Rh/rank_Worker-32823537-bc67-4387-a84a-bb2b0cdca318.hdf5\n",
      "File already exists, skipping: /Users/moustholmes/Projects/METAL-AI/data/Li-Rh/rank_Worker-32823537-bc67-4387-a84a-bb2b0cdca318.hdf5\n",
      "File already exists, skipping: /Users/moustholmes/Projects/METAL-AI/data/Li-Rh/rank_Worker-33118a96-1625-4613-86c0-b66833bd83c3.hdf5\n",
      "File already exists, skipping: /Users/moustholmes/Projects/METAL-AI/data/Li-Rh/rank_Worker-33118a96-1625-4613-86c0-b66833bd83c3.hdf5\n",
      "File already exists, skipping: /Users/moustholmes/Projects/METAL-AI/data/Li-Rh/rank_Worker-33309595-e88b-4381-8249-67f76299ed21.hdf5\n",
      "File already exists, skipping: /Users/moustholmes/Projects/METAL-AI/data/Li-Rh/rank_Worker-33309595-e88b-4381-8249-67f76299ed21.hdf5\n",
      "Downloaded: /Users/moustholmes/Projects/METAL-AI/data/Li-Rh/rank_Worker-3334f80c-7ff5-4e58-a96a-ff08c9d2000a.hdf5\n",
      "File already exists, skipping: /Users/moustholmes/Projects/METAL-AI/data/Li-Rh/rank_Worker-3334f80c-7ff5-4e58-a96a-ff08c9d2000a.hdf5\n"
     ]
    },
    {
     "name": "stderr",
     "output_type": "stream",
     "text": [
      "Downloading files:  20%|██        | 287/1422 [00:13<01:00, 18.91file/s]"
     ]
    },
    {
     "name": "stdout",
     "output_type": "stream",
     "text": [
      "Downloaded: /Users/moustholmes/Projects/METAL-AI/data/Li-Rh/rank_Worker-33464638-55d6-4e16-be75-faee51188944.hdf5\n",
      "File already exists, skipping: /Users/moustholmes/Projects/METAL-AI/data/Li-Rh/rank_Worker-33464638-55d6-4e16-be75-faee51188944.hdf5\n",
      "Downloaded: /Users/moustholmes/Projects/METAL-AI/data/Li-Rh/rank_Worker-334aa65f-a141-4026-bdf3-0208ea8602d7.hdf5\n",
      "File already exists, skipping: /Users/moustholmes/Projects/METAL-AI/data/Li-Rh/rank_Worker-334aa65f-a141-4026-bdf3-0208ea8602d7.hdf5\n",
      "File already exists, skipping: /Users/moustholmes/Projects/METAL-AI/data/Li-Rh/rank_Worker-337585f5-1e95-4fa3-942c-d84d431c9b4c.hdf5\n",
      "File already exists, skipping: /Users/moustholmes/Projects/METAL-AI/data/Li-Rh/rank_Worker-337585f5-1e95-4fa3-942c-d84d431c9b4c.hdf5\n"
     ]
    },
    {
     "name": "stderr",
     "output_type": "stream",
     "text": [
      "Downloading files:  20%|██        | 291/1422 [00:14<01:18, 14.46file/s]"
     ]
    },
    {
     "name": "stdout",
     "output_type": "stream",
     "text": [
      "Downloaded: /Users/moustholmes/Projects/METAL-AI/data/Li-Rh/rank_Worker-337d9997-649f-4738-a630-1433017cdc26.hdf5\n",
      "File already exists, skipping: /Users/moustholmes/Projects/METAL-AI/data/Li-Rh/rank_Worker-337d9997-649f-4738-a630-1433017cdc26.hdf5\n",
      "Downloaded: /Users/moustholmes/Projects/METAL-AI/data/Li-Rh/rank_Worker-33abccb7-9e4d-4cdc-bfc6-a0d6bc394f31.hdf5\n",
      "File already exists, skipping: /Users/moustholmes/Projects/METAL-AI/data/Li-Rh/rank_Worker-33abccb7-9e4d-4cdc-bfc6-a0d6bc394f31.hdf5\n"
     ]
    },
    {
     "name": "stderr",
     "output_type": "stream",
     "text": [
      "Downloading files:  21%|██        | 295/1422 [00:14<01:08, 16.41file/s]"
     ]
    },
    {
     "name": "stdout",
     "output_type": "stream",
     "text": [
      "File already exists, skipping: /Users/moustholmes/Projects/METAL-AI/data/Li-Rh/rank_Worker-33e377c1-f567-45ca-89b6-912ce5c77f87.hdf5\n",
      "File already exists, skipping: /Users/moustholmes/Projects/METAL-AI/data/Li-Rh/rank_Worker-33e377c1-f567-45ca-89b6-912ce5c77f87.hdf5\n",
      "Downloaded: /Users/moustholmes/Projects/METAL-AI/data/Li-Rh/rank_Worker-35209861-f24f-4877-85cb-df4e508bfa30.hdf5\n",
      "File already exists, skipping: /Users/moustholmes/Projects/METAL-AI/data/Li-Rh/rank_Worker-35209861-f24f-4877-85cb-df4e508bfa30.hdf5\n",
      "File already exists, skipping: /Users/moustholmes/Projects/METAL-AI/data/Li-Rh/rank_Worker-35d570ed-2c21-42bd-aa69-b65d9c796b92.hdf5\n",
      "File already exists, skipping: /Users/moustholmes/Projects/METAL-AI/data/Li-Rh/rank_Worker-35d570ed-2c21-42bd-aa69-b65d9c796b92.hdf5\n"
     ]
    },
    {
     "name": "stderr",
     "output_type": "stream",
     "text": [
      "Downloading files:  21%|██▏       | 305/1422 [00:14<00:50, 22.24file/s]"
     ]
    },
    {
     "name": "stdout",
     "output_type": "stream",
     "text": [
      "Downloaded: /Users/moustholmes/Projects/METAL-AI/data/Li-Rh/rank_Worker-35f712dd-5063-4e03-a96a-52cee580c2c9.hdf5\n",
      "File already exists, skipping: /Users/moustholmes/Projects/METAL-AI/data/Li-Rh/rank_Worker-35f712dd-5063-4e03-a96a-52cee580c2c9.hdf5\n",
      "File already exists, skipping: /Users/moustholmes/Projects/METAL-AI/data/Li-Rh/rank_Worker-36a9ce66-02f0-4801-b847-7086a7454fc9.hdf5\n",
      "File already exists, skipping: /Users/moustholmes/Projects/METAL-AI/data/Li-Rh/rank_Worker-36a9ce66-02f0-4801-b847-7086a7454fc9.hdf5\n",
      "File already exists, skipping: /Users/moustholmes/Projects/METAL-AI/data/Li-Rh/rank_Worker-37d315aa-1849-4e4d-a083-c77935f761d6.hdf5\n",
      "File already exists, skipping: /Users/moustholmes/Projects/METAL-AI/data/Li-Rh/rank_Worker-37d315aa-1849-4e4d-a083-c77935f761d6.hdf5\n",
      "Downloaded: /Users/moustholmes/Projects/METAL-AI/data/Li-Rh/rank_Worker-37e99fca-6999-4b74-b13f-b9a2af4454b4.hdf5\n",
      "File already exists, skipping: /Users/moustholmes/Projects/METAL-AI/data/Li-Rh/rank_Worker-37e99fca-6999-4b74-b13f-b9a2af4454b4.hdf5\n"
     ]
    },
    {
     "name": "stderr",
     "output_type": "stream",
     "text": [
      "Downloading files:  22%|██▏       | 310/1422 [00:15<01:09, 15.98file/s]"
     ]
    },
    {
     "name": "stdout",
     "output_type": "stream",
     "text": [
      "Downloaded: /Users/moustholmes/Projects/METAL-AI/data/Li-Rh/rank_Worker-3851a570-6dfd-46db-8992-b312892c82d3.hdf5\n",
      "File already exists, skipping: /Users/moustholmes/Projects/METAL-AI/data/Li-Rh/rank_Worker-3851a570-6dfd-46db-8992-b312892c82d3.hdf5\n",
      "Downloaded: /Users/moustholmes/Projects/METAL-AI/data/Li-Rh/rank_Worker-39129a08-311b-4553-a383-11c5674a9c6d.hdf5\n",
      "File already exists, skipping: /Users/moustholmes/Projects/METAL-AI/data/Li-Rh/rank_Worker-39129a08-311b-4553-a383-11c5674a9c6d.hdf5\n",
      "File already exists, skipping: /Users/moustholmes/Projects/METAL-AI/data/Li-Rh/rank_Worker-39c2bb86-c791-4579-b07b-25c03194bbe8.hdf5\n",
      "File already exists, skipping: /Users/moustholmes/Projects/METAL-AI/data/Li-Rh/rank_Worker-39c2bb86-c791-4579-b07b-25c03194bbe8.hdf5\n",
      "File already exists, skipping: /Users/moustholmes/Projects/METAL-AI/data/Li-Rh/rank_Worker-3a8f4a04-93d8-45c5-af4e-3122ff5f5c9a.hdf5\n",
      "File already exists, skipping: /Users/moustholmes/Projects/METAL-AI/data/Li-Rh/rank_Worker-3a8f4a04-93d8-45c5-af4e-3122ff5f5c9a.hdf5\n"
     ]
    },
    {
     "name": "stderr",
     "output_type": "stream",
     "text": [
      "Downloading files:  22%|██▏       | 315/1422 [00:15<01:02, 17.62file/s]"
     ]
    },
    {
     "name": "stdout",
     "output_type": "stream",
     "text": [
      "Downloaded: /Users/moustholmes/Projects/METAL-AI/data/Li-Rh/rank_Worker-3acccaa5-6aef-4f89-b51f-2dfc57aa5b56.hdf5\n",
      "File already exists, skipping: /Users/moustholmes/Projects/METAL-AI/data/Li-Rh/rank_Worker-3acccaa5-6aef-4f89-b51f-2dfc57aa5b56.hdf5\n",
      "File already exists, skipping: /Users/moustholmes/Projects/METAL-AI/data/Li-Rh/rank_Worker-3b1251fa-fb4c-42df-94ee-7a49562f8240.hdf5\n",
      "File already exists, skipping: /Users/moustholmes/Projects/METAL-AI/data/Li-Rh/rank_Worker-3b1251fa-fb4c-42df-94ee-7a49562f8240.hdf5\n"
     ]
    },
    {
     "name": "stderr",
     "output_type": "stream",
     "text": [
      "Downloading files:  22%|██▏       | 319/1422 [00:15<01:00, 18.09file/s]"
     ]
    },
    {
     "name": "stdout",
     "output_type": "stream",
     "text": [
      "Downloaded: /Users/moustholmes/Projects/METAL-AI/data/Li-Rh/rank_Worker-3bfe368b-8551-4153-98f0-40a0632066c5.hdf5\n",
      "File already exists, skipping: /Users/moustholmes/Projects/METAL-AI/data/Li-Rh/rank_Worker-3bfe368b-8551-4153-98f0-40a0632066c5.hdf5\n"
     ]
    },
    {
     "name": "stderr",
     "output_type": "stream",
     "text": [
      "Downloading files:  23%|██▎       | 321/1422 [00:15<01:11, 15.48file/s]"
     ]
    },
    {
     "name": "stdout",
     "output_type": "stream",
     "text": [
      "Downloaded: /Users/moustholmes/Projects/METAL-AI/data/Li-Rh/rank_Worker-3c07d30a-d3a8-4358-932f-23ddcbe1d979.hdf5\n",
      "File already exists, skipping: /Users/moustholmes/Projects/METAL-AI/data/Li-Rh/rank_Worker-3c07d30a-d3a8-4358-932f-23ddcbe1d979.hdf5\n",
      "File already exists, skipping: /Users/moustholmes/Projects/METAL-AI/data/Li-Rh/rank_Worker-3c0bd3d3-f938-4957-8f70-76f4a71d293d.hdf5\n",
      "File already exists, skipping: /Users/moustholmes/Projects/METAL-AI/data/Li-Rh/rank_Worker-3c0bd3d3-f938-4957-8f70-76f4a71d293d.hdf5\n"
     ]
    },
    {
     "name": "stderr",
     "output_type": "stream",
     "text": [
      "Downloading files:  23%|██▎       | 325/1422 [00:16<01:06, 16.38file/s]"
     ]
    },
    {
     "name": "stdout",
     "output_type": "stream",
     "text": [
      "Downloaded: /Users/moustholmes/Projects/METAL-AI/data/Li-Rh/rank_Worker-3c151b5c-0923-4790-9c17-0e889a8f4f73.hdf5\n",
      "File already exists, skipping: /Users/moustholmes/Projects/METAL-AI/data/Li-Rh/rank_Worker-3c151b5c-0923-4790-9c17-0e889a8f4f73.hdf5\n",
      "File already exists, skipping: /Users/moustholmes/Projects/METAL-AI/data/Li-Rh/rank_Worker-3cbfd1ea-db36-4bf8-b71d-443f26c1b95b.hdf5\n",
      "File already exists, skipping: /Users/moustholmes/Projects/METAL-AI/data/Li-Rh/rank_Worker-3cbfd1ea-db36-4bf8-b71d-443f26c1b95b.hdf5\n",
      "File already exists, skipping: /Users/moustholmes/Projects/METAL-AI/data/Li-Rh/rank_Worker-3cdf5b53-345d-4107-970c-11dd73fb9da1.hdf5\n",
      "File already exists, skipping: /Users/moustholmes/Projects/METAL-AI/data/Li-Rh/rank_Worker-3cdf5b53-345d-4107-970c-11dd73fb9da1.hdf5\n"
     ]
    },
    {
     "name": "stderr",
     "output_type": "stream",
     "text": [
      "Downloading files:  23%|██▎       | 333/1422 [00:16<01:04, 16.95file/s]"
     ]
    },
    {
     "name": "stdout",
     "output_type": "stream",
     "text": [
      "Downloaded: /Users/moustholmes/Projects/METAL-AI/data/Li-Rh/rank_Worker-3d7174d4-a4ff-4851-a76f-5d4c284effa5.hdf5\n",
      "File already exists, skipping: /Users/moustholmes/Projects/METAL-AI/data/Li-Rh/rank_Worker-3d7174d4-a4ff-4851-a76f-5d4c284effa5.hdf5\n",
      "Downloaded: /Users/moustholmes/Projects/METAL-AI/data/Li-Rh/rank_Worker-3dceab9d-c6f8-4aa7-9231-4b6d3e6d0541.hdf5\n",
      "File already exists, skipping: /Users/moustholmes/Projects/METAL-AI/data/Li-Rh/rank_Worker-3dceab9d-c6f8-4aa7-9231-4b6d3e6d0541.hdf5\n",
      "File already exists, skipping: /Users/moustholmes/Projects/METAL-AI/data/Li-Rh/rank_Worker-3f0238e0-52fe-4892-b2ca-46b50df75b83.hdf5\n",
      "File already exists, skipping: /Users/moustholmes/Projects/METAL-AI/data/Li-Rh/rank_Worker-3f0238e0-52fe-4892-b2ca-46b50df75b83.hdf5\n",
      "File already exists, skipping: /Users/moustholmes/Projects/METAL-AI/data/Li-Rh/rank_Worker-3f3ba0ea-b525-4e1f-92df-9e2a23562e83.hdf5\n",
      "File already exists, skipping: /Users/moustholmes/Projects/METAL-AI/data/Li-Rh/rank_Worker-3f3ba0ea-b525-4e1f-92df-9e2a23562e83.hdf5\n"
     ]
    },
    {
     "name": "stderr",
     "output_type": "stream",
     "text": [
      "Downloading files:  24%|██▍       | 347/1422 [00:16<00:40, 26.34file/s]"
     ]
    },
    {
     "name": "stdout",
     "output_type": "stream",
     "text": [
      "Downloaded: /Users/moustholmes/Projects/METAL-AI/data/Li-Rh/rank_Worker-3f57e8e3-955e-40db-a385-fd2674ff701c.hdf5\n",
      "File already exists, skipping: /Users/moustholmes/Projects/METAL-AI/data/Li-Rh/rank_Worker-3f57e8e3-955e-40db-a385-fd2674ff701c.hdf5\n",
      "File already exists, skipping: /Users/moustholmes/Projects/METAL-AI/data/Li-Rh/rank_Worker-3f830fc4-76c8-4ebe-b5a3-dec7d6b1c2f8.hdf5\n",
      "File already exists, skipping: /Users/moustholmes/Projects/METAL-AI/data/Li-Rh/rank_Worker-3f830fc4-76c8-4ebe-b5a3-dec7d6b1c2f8.hdf5\n",
      "File already exists, skipping: /Users/moustholmes/Projects/METAL-AI/data/Li-Rh/rank_Worker-3f9b30bb-ddda-4795-8c8b-b002b3d960de.hdf5\n",
      "File already exists, skipping: /Users/moustholmes/Projects/METAL-AI/data/Li-Rh/rank_Worker-3f9b30bb-ddda-4795-8c8b-b002b3d960de.hdf5\n",
      "File already exists, skipping: /Users/moustholmes/Projects/METAL-AI/data/Li-Rh/rank_Worker-3fc7bd0f-7adc-4492-a614-35ff34478279.hdf5\n",
      "File already exists, skipping: /Users/moustholmes/Projects/METAL-AI/data/Li-Rh/rank_Worker-3fc7bd0f-7adc-4492-a614-35ff34478279.hdf5\n",
      "Downloaded: /Users/moustholmes/Projects/METAL-AI/data/Li-Rh/rank_Worker-3fd6b05f-902b-4dad-9680-7b97b383fa08.hdf5\n",
      "File already exists, skipping: /Users/moustholmes/Projects/METAL-AI/data/Li-Rh/rank_Worker-3fd6b05f-902b-4dad-9680-7b97b383fa08.hdf5\n"
     ]
    },
    {
     "name": "stderr",
     "output_type": "stream",
     "text": [
      "Downloading files:  25%|██▍       | 353/1422 [00:17<00:52, 20.19file/s]"
     ]
    },
    {
     "name": "stdout",
     "output_type": "stream",
     "text": [
      "Downloaded: /Users/moustholmes/Projects/METAL-AI/data/Li-Rh/rank_Worker-402ddbc4-17a0-470a-82c0-187ca1c520e8.hdf5\n",
      "File already exists, skipping: /Users/moustholmes/Projects/METAL-AI/data/Li-Rh/rank_Worker-402ddbc4-17a0-470a-82c0-187ca1c520e8.hdf5\n",
      "File already exists, skipping: /Users/moustholmes/Projects/METAL-AI/data/Li-Rh/rank_Worker-405746db-468c-4c5c-a9e5-f128a6111c6c.hdf5\n",
      "File already exists, skipping: /Users/moustholmes/Projects/METAL-AI/data/Li-Rh/rank_Worker-405746db-468c-4c5c-a9e5-f128a6111c6c.hdf5\n",
      "Downloaded: /Users/moustholmes/Projects/METAL-AI/data/Li-Rh/rank_Worker-41148140-f86a-4225-a751-549e44ffd2e8.hdf5\n",
      "File already exists, skipping: /Users/moustholmes/Projects/METAL-AI/data/Li-Rh/rank_Worker-41148140-f86a-4225-a751-549e44ffd2e8.hdf5\n"
     ]
    },
    {
     "name": "stderr",
     "output_type": "stream",
     "text": [
      "Downloading files:  25%|██▌       | 356/1422 [00:17<00:56, 18.81file/s]"
     ]
    },
    {
     "name": "stdout",
     "output_type": "stream",
     "text": [
      "Downloaded: /Users/moustholmes/Projects/METAL-AI/data/Li-Rh/rank_Worker-41799c82-0cc9-46fe-b3c1-cd9a6c49645b.hdf5\n",
      "File already exists, skipping: /Users/moustholmes/Projects/METAL-AI/data/Li-Rh/rank_Worker-41799c82-0cc9-46fe-b3c1-cd9a6c49645b.hdf5\n"
     ]
    },
    {
     "name": "stderr",
     "output_type": "stream",
     "text": [
      "Downloading files:  25%|██▌       | 358/1422 [00:17<01:06, 16.06file/s]"
     ]
    },
    {
     "name": "stdout",
     "output_type": "stream",
     "text": [
      "Downloaded: /Users/moustholmes/Projects/METAL-AI/data/Li-Rh/rank_Worker-41c0340c-ad60-4d54-aee8-142db4ec87bb.hdf5\n",
      "File already exists, skipping: /Users/moustholmes/Projects/METAL-AI/data/Li-Rh/rank_Worker-41c0340c-ad60-4d54-aee8-142db4ec87bb.hdf5\n",
      "File already exists, skipping: /Users/moustholmes/Projects/METAL-AI/data/Li-Rh/rank_Worker-428a8335-0785-407b-8092-c8b571909b62.hdf5\n",
      "File already exists, skipping: /Users/moustholmes/Projects/METAL-AI/data/Li-Rh/rank_Worker-428a8335-0785-407b-8092-c8b571909b62.hdf5\n",
      "File already exists, skipping: /Users/moustholmes/Projects/METAL-AI/data/Li-Rh/rank_Worker-42f5dca9-43ca-4136-9cb8-713c77e1f602.hdf5\n",
      "File already exists, skipping: /Users/moustholmes/Projects/METAL-AI/data/Li-Rh/rank_Worker-42f5dca9-43ca-4136-9cb8-713c77e1f602.hdf5\n"
     ]
    },
    {
     "name": "stderr",
     "output_type": "stream",
     "text": [
      "Downloading files:  26%|██▌       | 363/1422 [00:17<00:57, 18.51file/s]"
     ]
    },
    {
     "name": "stdout",
     "output_type": "stream",
     "text": [
      "Downloaded: /Users/moustholmes/Projects/METAL-AI/data/Li-Rh/rank_Worker-42f8ef9e-8e66-46cd-9fcc-152a5f9ff72d.hdf5\n",
      "File already exists, skipping: /Users/moustholmes/Projects/METAL-AI/data/Li-Rh/rank_Worker-42f8ef9e-8e66-46cd-9fcc-152a5f9ff72d.hdf5\n"
     ]
    },
    {
     "name": "stderr",
     "output_type": "stream",
     "text": [
      "Downloading files:  26%|██▌       | 365/1422 [00:18<01:07, 15.68file/s]"
     ]
    },
    {
     "name": "stdout",
     "output_type": "stream",
     "text": [
      "Downloaded: /Users/moustholmes/Projects/METAL-AI/data/Li-Rh/rank_Worker-43d779f2-8ef6-4b48-adf1-847e62758996.hdf5\n",
      "File already exists, skipping: /Users/moustholmes/Projects/METAL-AI/data/Li-Rh/rank_Worker-43d779f2-8ef6-4b48-adf1-847e62758996.hdf5\n"
     ]
    },
    {
     "name": "stderr",
     "output_type": "stream",
     "text": [
      "Downloading files:  26%|██▌       | 371/1422 [00:18<01:06, 15.79file/s]"
     ]
    },
    {
     "name": "stdout",
     "output_type": "stream",
     "text": [
      "Downloaded: /Users/moustholmes/Projects/METAL-AI/data/Li-Rh/rank_Worker-4420aa7e-6615-44e6-803e-20a19d6b7142.hdf5\n",
      "File already exists, skipping: /Users/moustholmes/Projects/METAL-AI/data/Li-Rh/rank_Worker-4420aa7e-6615-44e6-803e-20a19d6b7142.hdf5\n",
      "File already exists, skipping: /Users/moustholmes/Projects/METAL-AI/data/Li-Rh/rank_Worker-44f8455a-d53e-457c-9143-d78abdf94705.hdf5\n",
      "File already exists, skipping: /Users/moustholmes/Projects/METAL-AI/data/Li-Rh/rank_Worker-44f8455a-d53e-457c-9143-d78abdf94705.hdf5\n",
      "Downloaded: /Users/moustholmes/Projects/METAL-AI/data/Li-Rh/rank_Worker-45087d8f-bca8-4981-95d4-1761d4941e3a.hdf5\n",
      "File already exists, skipping: /Users/moustholmes/Projects/METAL-AI/data/Li-Rh/rank_Worker-45087d8f-bca8-4981-95d4-1761d4941e3a.hdf5\n",
      "File already exists, skipping: /Users/moustholmes/Projects/METAL-AI/data/Li-Rh/rank_Worker-450b5a2c-1cfe-4705-9cfc-86f801242ecb.hdf5\n",
      "File already exists, skipping: /Users/moustholmes/Projects/METAL-AI/data/Li-Rh/rank_Worker-450b5a2c-1cfe-4705-9cfc-86f801242ecb.hdf5\n",
      "File already exists, skipping: /Users/moustholmes/Projects/METAL-AI/data/Li-Rh/rank_Worker-450fe37c-cc06-4b25-a1a0-db6cacbd7243.hdf5\n",
      "File already exists, skipping: /Users/moustholmes/Projects/METAL-AI/data/Li-Rh/rank_Worker-450fe37c-cc06-4b25-a1a0-db6cacbd7243.hdf5\n",
      "File already exists, skipping: /Users/moustholmes/Projects/METAL-AI/data/Li-Rh/rank_Worker-4539d635-8c3b-4e9f-80bd-37bff6399f07.hdf5\n",
      "File already exists, skipping: /Users/moustholmes/Projects/METAL-AI/data/Li-Rh/rank_Worker-4539d635-8c3b-4e9f-80bd-37bff6399f07.hdf5\n",
      "File already exists, skipping: /Users/moustholmes/Projects/METAL-AI/data/Li-Rh/rank_Worker-4598f431-a9ab-404a-8f06-efc96fe5be17.hdf5\n",
      "File already exists, skipping: /Users/moustholmes/Projects/METAL-AI/data/Li-Rh/rank_Worker-4598f431-a9ab-404a-8f06-efc96fe5be17.hdf5\n",
      "File already exists, skipping: /Users/moustholmes/Projects/METAL-AI/data/Li-Rh/rank_Worker-4612f51a-690e-42e8-ba89-5ecd12318235.hdf5\n",
      "File already exists, skipping: /Users/moustholmes/Projects/METAL-AI/data/Li-Rh/rank_Worker-4612f51a-690e-42e8-ba89-5ecd12318235.hdf5\n",
      "File already exists, skipping: /Users/moustholmes/Projects/METAL-AI/data/Li-Rh/rank_Worker-46bbd678-442d-4af1-b6c5-ef6fe16ebe13.hdf5\n",
      "File already exists, skipping: /Users/moustholmes/Projects/METAL-AI/data/Li-Rh/rank_Worker-46bbd678-442d-4af1-b6c5-ef6fe16ebe13.hdf5\n"
     ]
    },
    {
     "name": "stderr",
     "output_type": "stream",
     "text": [
      "Downloading files:  28%|██▊       | 393/1422 [00:18<00:29, 35.34file/s]"
     ]
    },
    {
     "name": "stdout",
     "output_type": "stream",
     "text": [
      "Downloaded: /Users/moustholmes/Projects/METAL-AI/data/Li-Rh/rank_Worker-46c141ac-ad69-4aa6-a246-460222ae5398.hdf5\n",
      "File already exists, skipping: /Users/moustholmes/Projects/METAL-AI/data/Li-Rh/rank_Worker-46c141ac-ad69-4aa6-a246-460222ae5398.hdf5\n",
      "File already exists, skipping: /Users/moustholmes/Projects/METAL-AI/data/Li-Rh/rank_Worker-46c85e1a-c2f4-41ec-a071-47c5f4668fd7.hdf5\n",
      "File already exists, skipping: /Users/moustholmes/Projects/METAL-AI/data/Li-Rh/rank_Worker-46c85e1a-c2f4-41ec-a071-47c5f4668fd7.hdf5\n",
      "File already exists, skipping: /Users/moustholmes/Projects/METAL-AI/data/Li-Rh/rank_Worker-4788074c-c58a-4632-a3d0-9ee49366f35c.hdf5\n",
      "File already exists, skipping: /Users/moustholmes/Projects/METAL-AI/data/Li-Rh/rank_Worker-4788074c-c58a-4632-a3d0-9ee49366f35c.hdf5\n",
      "File already exists, skipping: /Users/moustholmes/Projects/METAL-AI/data/Li-Rh/rank_Worker-480840dc-0673-41b2-986e-56d34b50203e.hdf5\n",
      "File already exists, skipping: /Users/moustholmes/Projects/METAL-AI/data/Li-Rh/rank_Worker-480840dc-0673-41b2-986e-56d34b50203e.hdf5\n",
      "Downloaded: /Users/moustholmes/Projects/METAL-AI/data/Li-Rh/rank_Worker-480dbd89-8255-4d02-be13-e068daf7ddbe.hdf5\n",
      "File already exists, skipping: /Users/moustholmes/Projects/METAL-AI/data/Li-Rh/rank_Worker-480dbd89-8255-4d02-be13-e068daf7ddbe.hdf5\n"
     ]
    },
    {
     "name": "stderr",
     "output_type": "stream",
     "text": [
      "Downloading files:  28%|██▊       | 403/1422 [00:19<00:32, 31.24file/s]"
     ]
    },
    {
     "name": "stdout",
     "output_type": "stream",
     "text": [
      "Downloaded: /Users/moustholmes/Projects/METAL-AI/data/Li-Rh/rank_Worker-484ad47f-bb6f-46a8-b679-9ca3850757e3.hdf5\n",
      "File already exists, skipping: /Users/moustholmes/Projects/METAL-AI/data/Li-Rh/rank_Worker-484ad47f-bb6f-46a8-b679-9ca3850757e3.hdf5\n",
      "File already exists, skipping: /Users/moustholmes/Projects/METAL-AI/data/Li-Rh/rank_Worker-496ec1cc-a99b-493d-a584-713959d9d4a4.hdf5\n",
      "File already exists, skipping: /Users/moustholmes/Projects/METAL-AI/data/Li-Rh/rank_Worker-496ec1cc-a99b-493d-a584-713959d9d4a4.hdf5\n",
      "File already exists, skipping: /Users/moustholmes/Projects/METAL-AI/data/Li-Rh/rank_Worker-49fb46ac-36e2-4b30-90fb-74e915c4fc3a.hdf5\n",
      "File already exists, skipping: /Users/moustholmes/Projects/METAL-AI/data/Li-Rh/rank_Worker-49fb46ac-36e2-4b30-90fb-74e915c4fc3a.hdf5\n",
      "File already exists, skipping: /Users/moustholmes/Projects/METAL-AI/data/Li-Rh/rank_Worker-49fbafcf-7955-4c67-a83a-1ab975e41b8c.hdf5\n",
      "File already exists, skipping: /Users/moustholmes/Projects/METAL-AI/data/Li-Rh/rank_Worker-49fbafcf-7955-4c67-a83a-1ab975e41b8c.hdf5\n",
      "Downloaded: /Users/moustholmes/Projects/METAL-AI/data/Li-Rh/rank_Worker-4a02e3ef-202f-41e2-a6dd-94779c56816b.hdf5\n",
      "File already exists, skipping: /Users/moustholmes/Projects/METAL-AI/data/Li-Rh/rank_Worker-4a02e3ef-202f-41e2-a6dd-94779c56816b.hdf5\n",
      "File already exists, skipping: /Users/moustholmes/Projects/METAL-AI/data/Li-Rh/rank_Worker-4bf032c7-e160-4a5d-b663-8462231bae2f.hdf5\n",
      "File already exists, skipping: /Users/moustholmes/Projects/METAL-AI/data/Li-Rh/rank_Worker-4bf032c7-e160-4a5d-b663-8462231bae2f.hdf5\n",
      "File already exists, skipping: /Users/moustholmes/Projects/METAL-AI/data/Li-Rh/rank_Worker-4c444aa6-f3c6-4e1f-8d5c-be32c4c0c134.hdf5\n",
      "File already exists, skipping: /Users/moustholmes/Projects/METAL-AI/data/Li-Rh/rank_Worker-4c444aa6-f3c6-4e1f-8d5c-be32c4c0c134.hdf5\n"
     ]
    },
    {
     "name": "stderr",
     "output_type": "stream",
     "text": [
      "Downloading files:  29%|██▉       | 417/1422 [00:19<00:28, 34.69file/s]"
     ]
    },
    {
     "name": "stdout",
     "output_type": "stream",
     "text": [
      "Downloaded: /Users/moustholmes/Projects/METAL-AI/data/Li-Rh/rank_Worker-4c4ba724-feda-4021-953a-9d5e4cc9cfa8.hdf5\n",
      "File already exists, skipping: /Users/moustholmes/Projects/METAL-AI/data/Li-Rh/rank_Worker-4c4ba724-feda-4021-953a-9d5e4cc9cfa8.hdf5\n",
      "File already exists, skipping: /Users/moustholmes/Projects/METAL-AI/data/Li-Rh/rank_Worker-4e3ebcaa-e93e-4385-8394-d9e9f626eb7e.hdf5\n",
      "File already exists, skipping: /Users/moustholmes/Projects/METAL-AI/data/Li-Rh/rank_Worker-4e3ebcaa-e93e-4385-8394-d9e9f626eb7e.hdf5\n",
      "File already exists, skipping: /Users/moustholmes/Projects/METAL-AI/data/Li-Rh/rank_Worker-4e494fc8-89ab-412f-ad28-422c92faf26e.hdf5\n",
      "File already exists, skipping: /Users/moustholmes/Projects/METAL-AI/data/Li-Rh/rank_Worker-4e494fc8-89ab-412f-ad28-422c92faf26e.hdf5\n",
      "File already exists, skipping: /Users/moustholmes/Projects/METAL-AI/data/Li-Rh/rank_Worker-4fc32e27-5a83-4ea8-ae7c-f618f391e6c5.hdf5\n",
      "File already exists, skipping: /Users/moustholmes/Projects/METAL-AI/data/Li-Rh/rank_Worker-4fc32e27-5a83-4ea8-ae7c-f618f391e6c5.hdf5\n",
      "Downloaded: /Users/moustholmes/Projects/METAL-AI/data/Li-Rh/rank_Worker-509e6133-509f-40f2-8fc9-2eca05ffd56c.hdf5\n",
      "File already exists, skipping: /Users/moustholmes/Projects/METAL-AI/data/Li-Rh/rank_Worker-509e6133-509f-40f2-8fc9-2eca05ffd56c.hdf5\n",
      "Downloaded: /Users/moustholmes/Projects/METAL-AI/data/Li-Rh/rank_Worker-50bf9181-522e-4994-8926-0070cb195b44.hdf5\n",
      "File already exists, skipping: /Users/moustholmes/Projects/METAL-AI/data/Li-Rh/rank_Worker-50bf9181-522e-4994-8926-0070cb195b44.hdf5\n"
     ]
    },
    {
     "name": "stderr",
     "output_type": "stream",
     "text": [
      "Downloading files:  30%|██▉       | 421/1422 [00:20<00:44, 22.66file/s]"
     ]
    },
    {
     "name": "stdout",
     "output_type": "stream",
     "text": [
      "Downloaded: /Users/moustholmes/Projects/METAL-AI/data/Li-Rh/rank_Worker-510eb6fc-145d-49dc-85d4-a145268f7753.hdf5\n",
      "File already exists, skipping: /Users/moustholmes/Projects/METAL-AI/data/Li-Rh/rank_Worker-510eb6fc-145d-49dc-85d4-a145268f7753.hdf5\n"
     ]
    },
    {
     "name": "stderr",
     "output_type": "stream",
     "text": [
      "Downloading files:  30%|██▉       | 424/1422 [00:20<00:49, 20.30file/s]"
     ]
    },
    {
     "name": "stdout",
     "output_type": "stream",
     "text": [
      "Downloaded: /Users/moustholmes/Projects/METAL-AI/data/Li-Rh/rank_Worker-518b884d-1b5a-4e27-a2df-e08643f810b3.hdf5\n",
      "File already exists, skipping: /Users/moustholmes/Projects/METAL-AI/data/Li-Rh/rank_Worker-518b884d-1b5a-4e27-a2df-e08643f810b3.hdf5\n",
      "Downloaded: /Users/moustholmes/Projects/METAL-AI/data/Li-Rh/rank_Worker-5228e31d-31f0-4e02-9421-b3b0aed35553.hdf5\n",
      "File already exists, skipping: /Users/moustholmes/Projects/METAL-AI/data/Li-Rh/rank_Worker-5228e31d-31f0-4e02-9421-b3b0aed35553.hdf5\n"
     ]
    },
    {
     "name": "stderr",
     "output_type": "stream",
     "text": [
      "Downloading files:  30%|███       | 429/1422 [00:20<01:11, 13.96file/s]"
     ]
    },
    {
     "name": "stdout",
     "output_type": "stream",
     "text": [
      "Downloaded: /Users/moustholmes/Projects/METAL-AI/data/Li-Rh/rank_Worker-5257852e-753f-4aac-a41d-0aceebb79862.hdf5\n",
      "File already exists, skipping: /Users/moustholmes/Projects/METAL-AI/data/Li-Rh/rank_Worker-5257852e-753f-4aac-a41d-0aceebb79862.hdf5\n",
      "Downloaded: /Users/moustholmes/Projects/METAL-AI/data/Li-Rh/rank_Worker-528f4a52-8158-4a49-bf01-677d03b0484c.hdf5\n",
      "File already exists, skipping: /Users/moustholmes/Projects/METAL-AI/data/Li-Rh/rank_Worker-528f4a52-8158-4a49-bf01-677d03b0484c.hdf5\n"
     ]
    },
    {
     "name": "stderr",
     "output_type": "stream",
     "text": [
      "Downloading files:  31%|███       | 435/1422 [00:21<01:05, 15.05file/s]"
     ]
    },
    {
     "name": "stdout",
     "output_type": "stream",
     "text": [
      "Downloaded: /Users/moustholmes/Projects/METAL-AI/data/Li-Rh/rank_Worker-52ab5dac-908d-4201-862e-517ee83c98d3.hdf5\n",
      "File already exists, skipping: /Users/moustholmes/Projects/METAL-AI/data/Li-Rh/rank_Worker-52ab5dac-908d-4201-862e-517ee83c98d3.hdf5\n",
      "File already exists, skipping: /Users/moustholmes/Projects/METAL-AI/data/Li-Rh/rank_Worker-52c4a075-d177-4d6d-96ff-2709cbe2df70.hdf5\n",
      "File already exists, skipping: /Users/moustholmes/Projects/METAL-AI/data/Li-Rh/rank_Worker-52c4a075-d177-4d6d-96ff-2709cbe2df70.hdf5\n",
      "Downloaded: /Users/moustholmes/Projects/METAL-AI/data/Li-Rh/rank_Worker-532de1cd-97d0-416a-82b2-4713e728fe1f.hdf5\n",
      "File already exists, skipping: /Users/moustholmes/Projects/METAL-AI/data/Li-Rh/rank_Worker-532de1cd-97d0-416a-82b2-4713e728fe1f.hdf5\n",
      "File already exists, skipping: /Users/moustholmes/Projects/METAL-AI/data/Li-Rh/rank_Worker-5349db7e-d69a-428a-93c7-34f96e00d11a.hdf5\n",
      "File already exists, skipping: /Users/moustholmes/Projects/METAL-AI/data/Li-Rh/rank_Worker-5349db7e-d69a-428a-93c7-34f96e00d11a.hdf5\n"
     ]
    },
    {
     "name": "stderr",
     "output_type": "stream",
     "text": [
      "Downloading files:  31%|███       | 441/1422 [00:21<01:06, 14.80file/s]"
     ]
    },
    {
     "name": "stdout",
     "output_type": "stream",
     "text": [
      "Downloaded: /Users/moustholmes/Projects/METAL-AI/data/Li-Rh/rank_Worker-539ccab0-65c2-407b-a5ec-46738889115e.hdf5\n",
      "File already exists, skipping: /Users/moustholmes/Projects/METAL-AI/data/Li-Rh/rank_Worker-539ccab0-65c2-407b-a5ec-46738889115e.hdf5\n",
      "Downloaded: /Users/moustholmes/Projects/METAL-AI/data/Li-Rh/rank_Worker-553f886c-1fdf-41fd-81a2-9d45cb5b3153.hdf5\n",
      "File already exists, skipping: /Users/moustholmes/Projects/METAL-AI/data/Li-Rh/rank_Worker-553f886c-1fdf-41fd-81a2-9d45cb5b3153.hdf5\n",
      "File already exists, skipping: /Users/moustholmes/Projects/METAL-AI/data/Li-Rh/rank_Worker-559ac20a-375c-47ca-be70-56bff9f44df7.hdf5\n",
      "File already exists, skipping: /Users/moustholmes/Projects/METAL-AI/data/Li-Rh/rank_Worker-559ac20a-375c-47ca-be70-56bff9f44df7.hdf5\n"
     ]
    },
    {
     "name": "stderr",
     "output_type": "stream",
     "text": [
      "Downloading files:  32%|███▏      | 453/1422 [00:22<00:40, 23.83file/s]"
     ]
    },
    {
     "name": "stdout",
     "output_type": "stream",
     "text": [
      "Downloaded: /Users/moustholmes/Projects/METAL-AI/data/Li-Rh/rank_Worker-568fe918-38fc-4523-ae42-bd456d2c5d25.hdf5\n",
      "File already exists, skipping: /Users/moustholmes/Projects/METAL-AI/data/Li-Rh/rank_Worker-568fe918-38fc-4523-ae42-bd456d2c5d25.hdf5\n",
      "File already exists, skipping: /Users/moustholmes/Projects/METAL-AI/data/Li-Rh/rank_Worker-56adca7b-d83a-4d9e-b0af-269871054a7e.hdf5\n",
      "File already exists, skipping: /Users/moustholmes/Projects/METAL-AI/data/Li-Rh/rank_Worker-56adca7b-d83a-4d9e-b0af-269871054a7e.hdf5\n",
      "File already exists, skipping: /Users/moustholmes/Projects/METAL-AI/data/Li-Rh/rank_Worker-56cd0895-df6e-409b-a191-7e42acfb3ce3.hdf5\n",
      "File already exists, skipping: /Users/moustholmes/Projects/METAL-AI/data/Li-Rh/rank_Worker-56cd0895-df6e-409b-a191-7e42acfb3ce3.hdf5\n",
      "File already exists, skipping: /Users/moustholmes/Projects/METAL-AI/data/Li-Rh/rank_Worker-56d644ef-49ad-4620-a415-648eb8bca617.hdf5\n",
      "File already exists, skipping: /Users/moustholmes/Projects/METAL-AI/data/Li-Rh/rank_Worker-56d644ef-49ad-4620-a415-648eb8bca617.hdf5\n",
      "Downloaded: /Users/moustholmes/Projects/METAL-AI/data/Li-Rh/rank_Worker-56e555d3-4b1b-436f-aafd-5f1eb77a86bc.hdf5\n",
      "File already exists, skipping: /Users/moustholmes/Projects/METAL-AI/data/Li-Rh/rank_Worker-56e555d3-4b1b-436f-aafd-5f1eb77a86bc.hdf5\n"
     ]
    },
    {
     "name": "stderr",
     "output_type": "stream",
     "text": [
      "Downloading files:  32%|███▏      | 459/1422 [00:22<00:51, 18.65file/s]"
     ]
    },
    {
     "name": "stdout",
     "output_type": "stream",
     "text": [
      "Downloaded: /Users/moustholmes/Projects/METAL-AI/data/Li-Rh/rank_Worker-572e2939-109d-4d11-8f04-ad208ff3c976.hdf5\n",
      "File already exists, skipping: /Users/moustholmes/Projects/METAL-AI/data/Li-Rh/rank_Worker-572e2939-109d-4d11-8f04-ad208ff3c976.hdf5\n",
      "Downloaded: /Users/moustholmes/Projects/METAL-AI/data/Li-Rh/rank_Worker-57e678a7-8164-4e62-b587-19006ab870ba.hdf5\n",
      "File already exists, skipping: /Users/moustholmes/Projects/METAL-AI/data/Li-Rh/rank_Worker-57e678a7-8164-4e62-b587-19006ab870ba.hdf5\n",
      "File already exists, skipping: /Users/moustholmes/Projects/METAL-AI/data/Li-Rh/rank_Worker-5822ed75-1fe1-4e51-9579-b685be7aeb18.hdf5\n",
      "File already exists, skipping: /Users/moustholmes/Projects/METAL-AI/data/Li-Rh/rank_Worker-5822ed75-1fe1-4e51-9579-b685be7aeb18.hdf5\n",
      "File already exists, skipping: /Users/moustholmes/Projects/METAL-AI/data/Li-Rh/rank_Worker-5824c4e9-2c2b-42b3-aca0-49eb2fb4da9d.hdf5\n",
      "File already exists, skipping: /Users/moustholmes/Projects/METAL-AI/data/Li-Rh/rank_Worker-5824c4e9-2c2b-42b3-aca0-49eb2fb4da9d.hdf5\n",
      "File already exists, skipping: /Users/moustholmes/Projects/METAL-AI/data/Li-Rh/rank_Worker-584d59d2-c216-4b1f-8b69-4c5d589f9610.hdf5\n",
      "File already exists, skipping: /Users/moustholmes/Projects/METAL-AI/data/Li-Rh/rank_Worker-584d59d2-c216-4b1f-8b69-4c5d589f9610.hdf5\n"
     ]
    },
    {
     "name": "stderr",
     "output_type": "stream",
     "text": [
      "Downloading files:  33%|███▎      | 465/1422 [00:22<00:42, 22.59file/s]"
     ]
    },
    {
     "name": "stdout",
     "output_type": "stream",
     "text": [
      "Downloaded: /Users/moustholmes/Projects/METAL-AI/data/Li-Rh/rank_Worker-58b5e498-0a7c-4c69-90a8-ef9ebe367704.hdf5\n",
      "File already exists, skipping: /Users/moustholmes/Projects/METAL-AI/data/Li-Rh/rank_Worker-58b5e498-0a7c-4c69-90a8-ef9ebe367704.hdf5\n",
      "File already exists, skipping: /Users/moustholmes/Projects/METAL-AI/data/Li-Rh/rank_Worker-58df00cb-5b30-4a9a-9010-2e26eab54a1a.hdf5\n",
      "File already exists, skipping: /Users/moustholmes/Projects/METAL-AI/data/Li-Rh/rank_Worker-58df00cb-5b30-4a9a-9010-2e26eab54a1a.hdf5\n",
      "File already exists, skipping: /Users/moustholmes/Projects/METAL-AI/data/Li-Rh/rank_Worker-595cb28f-148d-40a4-a017-d24222e3f6d0.hdf5\n",
      "File already exists, skipping: /Users/moustholmes/Projects/METAL-AI/data/Li-Rh/rank_Worker-595cb28f-148d-40a4-a017-d24222e3f6d0.hdf5\n"
     ]
    },
    {
     "name": "stderr",
     "output_type": "stream",
     "text": [
      "Downloading files:  34%|███▎      | 479/1422 [00:23<00:31, 30.17file/s]"
     ]
    },
    {
     "name": "stdout",
     "output_type": "stream",
     "text": [
      "Downloaded: /Users/moustholmes/Projects/METAL-AI/data/Li-Rh/rank_Worker-59c377bd-6a9b-4cd8-b854-a56089c6f14b.hdf5\n",
      "File already exists, skipping: /Users/moustholmes/Projects/METAL-AI/data/Li-Rh/rank_Worker-59c377bd-6a9b-4cd8-b854-a56089c6f14b.hdf5\n",
      "File already exists, skipping: /Users/moustholmes/Projects/METAL-AI/data/Li-Rh/rank_Worker-5adba668-7a6b-4e2d-8773-f58d53476351.hdf5\n",
      "File already exists, skipping: /Users/moustholmes/Projects/METAL-AI/data/Li-Rh/rank_Worker-5adba668-7a6b-4e2d-8773-f58d53476351.hdf5\n",
      "File already exists, skipping: /Users/moustholmes/Projects/METAL-AI/data/Li-Rh/rank_Worker-5af85f7f-3cbc-4719-a9bd-857fba282a0d.hdf5\n",
      "File already exists, skipping: /Users/moustholmes/Projects/METAL-AI/data/Li-Rh/rank_Worker-5af85f7f-3cbc-4719-a9bd-857fba282a0d.hdf5\n",
      "File already exists, skipping: /Users/moustholmes/Projects/METAL-AI/data/Li-Rh/rank_Worker-5b5ac446-eb92-48e7-9de8-a63ad9820278.hdf5\n",
      "File already exists, skipping: /Users/moustholmes/Projects/METAL-AI/data/Li-Rh/rank_Worker-5b5ac446-eb92-48e7-9de8-a63ad9820278.hdf5\n",
      "Downloaded: /Users/moustholmes/Projects/METAL-AI/data/Li-Rh/rank_Worker-5bc09a7c-6516-409a-9f0c-3111238c2bd7.hdf5\n",
      "File already exists, skipping: /Users/moustholmes/Projects/METAL-AI/data/Li-Rh/rank_Worker-5bc09a7c-6516-409a-9f0c-3111238c2bd7.hdf5\n",
      "Downloaded: /Users/moustholmes/Projects/METAL-AI/data/Li-Rh/rank_Worker-5c019216-2eb5-4d37-9a1b-1a93acfba8e3.hdf5\n",
      "File already exists, skipping: /Users/moustholmes/Projects/METAL-AI/data/Li-Rh/rank_Worker-5c019216-2eb5-4d37-9a1b-1a93acfba8e3.hdf5\n"
     ]
    },
    {
     "name": "stderr",
     "output_type": "stream",
     "text": [
      "Downloading files:  34%|███▍      | 486/1422 [00:23<00:50, 18.51file/s]"
     ]
    },
    {
     "name": "stdout",
     "output_type": "stream",
     "text": [
      "Downloaded: /Users/moustholmes/Projects/METAL-AI/data/Li-Rh/rank_Worker-5c233194-1499-42ac-9983-433a2ec840f4.hdf5\n",
      "File already exists, skipping: /Users/moustholmes/Projects/METAL-AI/data/Li-Rh/rank_Worker-5c233194-1499-42ac-9983-433a2ec840f4.hdf5\n",
      "Downloaded: /Users/moustholmes/Projects/METAL-AI/data/Li-Rh/rank_Worker-5c7d5f12-1e02-4b55-a302-7d18c95fe9c3.hdf5\n",
      "File already exists, skipping: /Users/moustholmes/Projects/METAL-AI/data/Li-Rh/rank_Worker-5c7d5f12-1e02-4b55-a302-7d18c95fe9c3.hdf5\n"
     ]
    },
    {
     "name": "stderr",
     "output_type": "stream",
     "text": [
      "Downloading files:  34%|███▍      | 489/1422 [00:23<00:51, 18.04file/s]"
     ]
    },
    {
     "name": "stdout",
     "output_type": "stream",
     "text": [
      "Downloaded: /Users/moustholmes/Projects/METAL-AI/data/Li-Rh/rank_Worker-5d14945d-0bf5-43b0-883c-eabc3c25bf8b.hdf5\n",
      "File already exists, skipping: /Users/moustholmes/Projects/METAL-AI/data/Li-Rh/rank_Worker-5d14945d-0bf5-43b0-883c-eabc3c25bf8b.hdf5\n",
      "File already exists, skipping: /Users/moustholmes/Projects/METAL-AI/data/Li-Rh/rank_Worker-5d1a7533-550a-4a9e-a811-1bcb77f0f0d9.hdf5\n",
      "File already exists, skipping: /Users/moustholmes/Projects/METAL-AI/data/Li-Rh/rank_Worker-5d1a7533-550a-4a9e-a811-1bcb77f0f0d9.hdf5\n"
     ]
    },
    {
     "name": "stderr",
     "output_type": "stream",
     "text": [
      "Downloading files:  35%|███▍      | 494/1422 [00:24<01:02, 14.95file/s]"
     ]
    },
    {
     "name": "stdout",
     "output_type": "stream",
     "text": [
      "Downloaded: /Users/moustholmes/Projects/METAL-AI/data/Li-Rh/rank_Worker-5d6d55ed-e0c3-4b32-9672-0ca709ad04fd.hdf5\n",
      "File already exists, skipping: /Users/moustholmes/Projects/METAL-AI/data/Li-Rh/rank_Worker-5d6d55ed-e0c3-4b32-9672-0ca709ad04fd.hdf5\n",
      "Downloaded: /Users/moustholmes/Projects/METAL-AI/data/Li-Rh/rank_Worker-5d6eb009-0138-41ed-aee2-b8a743d0ae1b.hdf5\n",
      "File already exists, skipping: /Users/moustholmes/Projects/METAL-AI/data/Li-Rh/rank_Worker-5d6eb009-0138-41ed-aee2-b8a743d0ae1b.hdf5\n",
      "File already exists, skipping: /Users/moustholmes/Projects/METAL-AI/data/Li-Rh/rank_Worker-5e172859-b0ba-4e59-bcc6-f37e00791fcd.hdf5\n",
      "File already exists, skipping: /Users/moustholmes/Projects/METAL-AI/data/Li-Rh/rank_Worker-5e172859-b0ba-4e59-bcc6-f37e00791fcd.hdf5\n",
      "File already exists, skipping: /Users/moustholmes/Projects/METAL-AI/data/Li-Rh/rank_Worker-5f19db7b-3442-4fc9-aadc-ec65cd198c95.hdf5\n",
      "File already exists, skipping: /Users/moustholmes/Projects/METAL-AI/data/Li-Rh/rank_Worker-5f19db7b-3442-4fc9-aadc-ec65cd198c95.hdf5\n"
     ]
    },
    {
     "name": "stderr",
     "output_type": "stream",
     "text": [
      "Downloading files:  35%|███▌      | 499/1422 [00:24<00:53, 17.14file/s]"
     ]
    },
    {
     "name": "stdout",
     "output_type": "stream",
     "text": [
      "Downloaded: /Users/moustholmes/Projects/METAL-AI/data/Li-Rh/rank_Worker-5fa3d675-ff14-406e-8c3d-907f7f12a166.hdf5\n",
      "File already exists, skipping: /Users/moustholmes/Projects/METAL-AI/data/Li-Rh/rank_Worker-5fa3d675-ff14-406e-8c3d-907f7f12a166.hdf5\n",
      "File already exists, skipping: /Users/moustholmes/Projects/METAL-AI/data/Li-Rh/rank_Worker-5feade67-d8bc-4d79-b4a9-97f033ac46e7.hdf5\n",
      "File already exists, skipping: /Users/moustholmes/Projects/METAL-AI/data/Li-Rh/rank_Worker-5feade67-d8bc-4d79-b4a9-97f033ac46e7.hdf5\n",
      "File already exists, skipping: /Users/moustholmes/Projects/METAL-AI/data/Li-Rh/rank_Worker-605cbaf1-1d95-42a2-adff-1f166b13318d.hdf5\n",
      "File already exists, skipping: /Users/moustholmes/Projects/METAL-AI/data/Li-Rh/rank_Worker-605cbaf1-1d95-42a2-adff-1f166b13318d.hdf5\n",
      "File already exists, skipping: /Users/moustholmes/Projects/METAL-AI/data/Li-Rh/rank_Worker-6066d2e1-ef24-41a3-ab9c-90829d09afd3.hdf5\n",
      "File already exists, skipping: /Users/moustholmes/Projects/METAL-AI/data/Li-Rh/rank_Worker-6066d2e1-ef24-41a3-ab9c-90829d09afd3.hdf5\n"
     ]
    },
    {
     "name": "stderr",
     "output_type": "stream",
     "text": [
      "Downloading files:  36%|███▌      | 511/1422 [00:24<00:39, 23.15file/s]"
     ]
    },
    {
     "name": "stdout",
     "output_type": "stream",
     "text": [
      "Downloaded: /Users/moustholmes/Projects/METAL-AI/data/Li-Rh/rank_Worker-6092022e-9d80-4e2c-a5f1-21169fc9d9fb.hdf5\n",
      "File already exists, skipping: /Users/moustholmes/Projects/METAL-AI/data/Li-Rh/rank_Worker-6092022e-9d80-4e2c-a5f1-21169fc9d9fb.hdf5\n",
      "File already exists, skipping: /Users/moustholmes/Projects/METAL-AI/data/Li-Rh/rank_Worker-60b51e50-cc63-49fc-b2c6-1a6e6219c54c.hdf5\n",
      "File already exists, skipping: /Users/moustholmes/Projects/METAL-AI/data/Li-Rh/rank_Worker-60b51e50-cc63-49fc-b2c6-1a6e6219c54c.hdf5\n",
      "Downloaded: /Users/moustholmes/Projects/METAL-AI/data/Li-Rh/rank_Worker-60d2724f-eaae-4a9d-8287-8d8b0123cba4.hdf5\n",
      "File already exists, skipping: /Users/moustholmes/Projects/METAL-AI/data/Li-Rh/rank_Worker-60d2724f-eaae-4a9d-8287-8d8b0123cba4.hdf5\n"
     ]
    },
    {
     "name": "stderr",
     "output_type": "stream",
     "text": [
      "Downloading files:  36%|███▌      | 514/1422 [00:25<00:42, 21.14file/s]"
     ]
    },
    {
     "name": "stdout",
     "output_type": "stream",
     "text": [
      "Downloaded: /Users/moustholmes/Projects/METAL-AI/data/Li-Rh/rank_Worker-612769c5-7370-4318-a446-b4fb3e2a46be.hdf5\n",
      "File already exists, skipping: /Users/moustholmes/Projects/METAL-AI/data/Li-Rh/rank_Worker-612769c5-7370-4318-a446-b4fb3e2a46be.hdf5\n"
     ]
    },
    {
     "name": "stderr",
     "output_type": "stream",
     "text": [
      "Downloading files:  36%|███▋      | 519/1422 [00:25<00:55, 16.27file/s]"
     ]
    },
    {
     "name": "stdout",
     "output_type": "stream",
     "text": [
      "Downloaded: /Users/moustholmes/Projects/METAL-AI/data/Li-Rh/rank_Worker-6127cb76-4c05-49af-a20f-3ed4ff9df0ce.hdf5\n",
      "File already exists, skipping: /Users/moustholmes/Projects/METAL-AI/data/Li-Rh/rank_Worker-6127cb76-4c05-49af-a20f-3ed4ff9df0ce.hdf5\n",
      "File already exists, skipping: /Users/moustholmes/Projects/METAL-AI/data/Li-Rh/rank_Worker-61bfde29-069a-4e6f-940f-bb1214b8d962.hdf5\n",
      "File already exists, skipping: /Users/moustholmes/Projects/METAL-AI/data/Li-Rh/rank_Worker-61bfde29-069a-4e6f-940f-bb1214b8d962.hdf5\n",
      "Downloaded: /Users/moustholmes/Projects/METAL-AI/data/Li-Rh/rank_Worker-623d8348-157d-42d6-9b1c-f3b47255728b.hdf5\n",
      "File already exists, skipping: /Users/moustholmes/Projects/METAL-AI/data/Li-Rh/rank_Worker-623d8348-157d-42d6-9b1c-f3b47255728b.hdf5\n",
      "File already exists, skipping: /Users/moustholmes/Projects/METAL-AI/data/Li-Rh/rank_Worker-6292786f-4a12-4a4d-81d6-72bbef560708.hdf5\n",
      "File already exists, skipping: /Users/moustholmes/Projects/METAL-AI/data/Li-Rh/rank_Worker-6292786f-4a12-4a4d-81d6-72bbef560708.hdf5\n"
     ]
    },
    {
     "name": "stderr",
     "output_type": "stream",
     "text": [
      "Downloading files:  37%|███▋      | 531/1422 [00:25<00:36, 24.53file/s]"
     ]
    },
    {
     "name": "stdout",
     "output_type": "stream",
     "text": [
      "Downloaded: /Users/moustholmes/Projects/METAL-AI/data/Li-Rh/rank_Worker-62bec739-f3cc-4e9f-83e9-58137a83dbaa.hdf5\n",
      "File already exists, skipping: /Users/moustholmes/Projects/METAL-AI/data/Li-Rh/rank_Worker-62bec739-f3cc-4e9f-83e9-58137a83dbaa.hdf5\n",
      "File already exists, skipping: /Users/moustholmes/Projects/METAL-AI/data/Li-Rh/rank_Worker-63474728-0e71-4b89-b8be-daabe8854a52.hdf5\n",
      "File already exists, skipping: /Users/moustholmes/Projects/METAL-AI/data/Li-Rh/rank_Worker-63474728-0e71-4b89-b8be-daabe8854a52.hdf5\n",
      "File already exists, skipping: /Users/moustholmes/Projects/METAL-AI/data/Li-Rh/rank_Worker-63dbecf6-9a78-4b9a-a15d-5b89c8d9d9e7.hdf5\n",
      "File already exists, skipping: /Users/moustholmes/Projects/METAL-AI/data/Li-Rh/rank_Worker-63dbecf6-9a78-4b9a-a15d-5b89c8d9d9e7.hdf5\n",
      "File already exists, skipping: /Users/moustholmes/Projects/METAL-AI/data/Li-Rh/rank_Worker-63f0ff1d-d952-46e6-8db9-32c56cd8b9eb.hdf5\n",
      "File already exists, skipping: /Users/moustholmes/Projects/METAL-AI/data/Li-Rh/rank_Worker-63f0ff1d-d952-46e6-8db9-32c56cd8b9eb.hdf5\n",
      "Downloaded: /Users/moustholmes/Projects/METAL-AI/data/Li-Rh/rank_Worker-6458fb78-74f5-457a-8706-a3253ea52a8c.hdf5\n",
      "File already exists, skipping: /Users/moustholmes/Projects/METAL-AI/data/Li-Rh/rank_Worker-6458fb78-74f5-457a-8706-a3253ea52a8c.hdf5\n",
      "File already exists, skipping: /Users/moustholmes/Projects/METAL-AI/data/Li-Rh/rank_Worker-64a34c76-438e-42e2-afe9-3b93449200f3.hdf5\n",
      "File already exists, skipping: /Users/moustholmes/Projects/METAL-AI/data/Li-Rh/rank_Worker-64a34c76-438e-42e2-afe9-3b93449200f3.hdf5\n",
      "File already exists, skipping: /Users/moustholmes/Projects/METAL-AI/data/Li-Rh/rank_Worker-64fffcaf-83e3-4f10-8a58-73376281e162.hdf5\n",
      "File already exists, skipping: /Users/moustholmes/Projects/METAL-AI/data/Li-Rh/rank_Worker-64fffcaf-83e3-4f10-8a58-73376281e162.hdf5\n"
     ]
    },
    {
     "name": "stderr",
     "output_type": "stream",
     "text": [
      "Downloading files:  38%|███▊      | 537/1422 [00:26<00:33, 26.50file/s]"
     ]
    },
    {
     "name": "stdout",
     "output_type": "stream",
     "text": [
      "Downloaded: /Users/moustholmes/Projects/METAL-AI/data/Li-Rh/rank_Worker-6559adac-8d6d-41d0-a50c-c80f27d949c3.hdf5\n",
      "File already exists, skipping: /Users/moustholmes/Projects/METAL-AI/data/Li-Rh/rank_Worker-6559adac-8d6d-41d0-a50c-c80f27d949c3.hdf5\n",
      "File already exists, skipping: /Users/moustholmes/Projects/METAL-AI/data/Li-Rh/rank_Worker-65d37a99-7e36-4aac-95f1-8b01c5ebea52.hdf5\n",
      "File already exists, skipping: /Users/moustholmes/Projects/METAL-AI/data/Li-Rh/rank_Worker-65d37a99-7e36-4aac-95f1-8b01c5ebea52.hdf5\n",
      "File already exists, skipping: /Users/moustholmes/Projects/METAL-AI/data/Li-Rh/rank_Worker-660907f0-1f81-4a42-b618-4e5b39fd40dc.hdf5\n",
      "File already exists, skipping: /Users/moustholmes/Projects/METAL-AI/data/Li-Rh/rank_Worker-660907f0-1f81-4a42-b618-4e5b39fd40dc.hdf5\n",
      "File already exists, skipping: /Users/moustholmes/Projects/METAL-AI/data/Li-Rh/rank_Worker-676ee629-e6e5-495b-bcb3-0a89e9249561.hdf5\n",
      "File already exists, skipping: /Users/moustholmes/Projects/METAL-AI/data/Li-Rh/rank_Worker-676ee629-e6e5-495b-bcb3-0a89e9249561.hdf5\n",
      "File already exists, skipping: /Users/moustholmes/Projects/METAL-AI/data/Li-Rh/rank_Worker-678c6960-1cb3-4907-b2a0-afb19892e350.hdf5\n",
      "File already exists, skipping: /Users/moustholmes/Projects/METAL-AI/data/Li-Rh/rank_Worker-678c6960-1cb3-4907-b2a0-afb19892e350.hdf5\n"
     ]
    },
    {
     "name": "stderr",
     "output_type": "stream",
     "text": [
      "Downloading files:  38%|███▊      | 547/1422 [00:26<00:28, 31.08file/s]"
     ]
    },
    {
     "name": "stdout",
     "output_type": "stream",
     "text": [
      "Downloaded: /Users/moustholmes/Projects/METAL-AI/data/Li-Rh/rank_Worker-67c9d4cf-a08c-442a-9f62-7bd425b8e8ec.hdf5\n",
      "File already exists, skipping: /Users/moustholmes/Projects/METAL-AI/data/Li-Rh/rank_Worker-67c9d4cf-a08c-442a-9f62-7bd425b8e8ec.hdf5\n",
      "File already exists, skipping: /Users/moustholmes/Projects/METAL-AI/data/Li-Rh/rank_Worker-6853423f-7dd0-436e-b057-98d022d9ef4c.hdf5\n",
      "File already exists, skipping: /Users/moustholmes/Projects/METAL-AI/data/Li-Rh/rank_Worker-6853423f-7dd0-436e-b057-98d022d9ef4c.hdf5\n"
     ]
    },
    {
     "name": "stderr",
     "output_type": "stream",
     "text": [
      "Downloading files:  39%|███▉      | 554/1422 [00:26<00:36, 23.79file/s]"
     ]
    },
    {
     "name": "stdout",
     "output_type": "stream",
     "text": [
      "Downloaded: /Users/moustholmes/Projects/METAL-AI/data/Li-Rh/rank_Worker-688f417c-0cdc-4cfc-8d1f-6b02a6f31309.hdf5\n",
      "File already exists, skipping: /Users/moustholmes/Projects/METAL-AI/data/Li-Rh/rank_Worker-688f417c-0cdc-4cfc-8d1f-6b02a6f31309.hdf5\n",
      "Downloaded: /Users/moustholmes/Projects/METAL-AI/data/Li-Rh/rank_Worker-68a49d96-7b49-4577-8b52-f47324f65333.hdf5\n",
      "File already exists, skipping: /Users/moustholmes/Projects/METAL-AI/data/Li-Rh/rank_Worker-68a49d96-7b49-4577-8b52-f47324f65333.hdf5\n",
      "File already exists, skipping: /Users/moustholmes/Projects/METAL-AI/data/Li-Rh/rank_Worker-68abed08-970f-4b78-9ce2-2bbed43d3231.hdf5\n",
      "File already exists, skipping: /Users/moustholmes/Projects/METAL-AI/data/Li-Rh/rank_Worker-68abed08-970f-4b78-9ce2-2bbed43d3231.hdf5\n",
      "File already exists, skipping: /Users/moustholmes/Projects/METAL-AI/data/Li-Rh/rank_Worker-69406982-aa92-420b-841c-d1cc3b2bb81e.hdf5\n",
      "File already exists, skipping: /Users/moustholmes/Projects/METAL-AI/data/Li-Rh/rank_Worker-69406982-aa92-420b-841c-d1cc3b2bb81e.hdf5\n",
      "File already exists, skipping: /Users/moustholmes/Projects/METAL-AI/data/Li-Rh/rank_Worker-6956dd42-d055-4560-8a08-8160aa449333.hdf5\n",
      "File already exists, skipping: /Users/moustholmes/Projects/METAL-AI/data/Li-Rh/rank_Worker-6956dd42-d055-4560-8a08-8160aa449333.hdf5\n"
     ]
    },
    {
     "name": "stderr",
     "output_type": "stream",
     "text": [
      "Downloading files:  39%|███▉      | 561/1422 [00:26<00:32, 26.80file/s]"
     ]
    },
    {
     "name": "stdout",
     "output_type": "stream",
     "text": [
      "Downloaded: /Users/moustholmes/Projects/METAL-AI/data/Li-Rh/rank_Worker-696a861c-d84e-4f90-86ea-e7b71dfb758e.hdf5\n",
      "File already exists, skipping: /Users/moustholmes/Projects/METAL-AI/data/Li-Rh/rank_Worker-696a861c-d84e-4f90-86ea-e7b71dfb758e.hdf5\n",
      "File already exists, skipping: /Users/moustholmes/Projects/METAL-AI/data/Li-Rh/rank_Worker-6a3988a6-809e-47c5-ad3c-85356a23b09f.hdf5\n",
      "File already exists, skipping: /Users/moustholmes/Projects/METAL-AI/data/Li-Rh/rank_Worker-6a3988a6-809e-47c5-ad3c-85356a23b09f.hdf5\n",
      "File already exists, skipping: /Users/moustholmes/Projects/METAL-AI/data/Li-Rh/rank_Worker-6a8a225c-6244-41f0-82cb-4c8f47f782fb.hdf5\n",
      "File already exists, skipping: /Users/moustholmes/Projects/METAL-AI/data/Li-Rh/rank_Worker-6a8a225c-6244-41f0-82cb-4c8f47f782fb.hdf5\n",
      "File already exists, skipping: /Users/moustholmes/Projects/METAL-AI/data/Li-Rh/rank_Worker-6b856d5b-8475-4ea0-85f6-4b0823744971.hdf5\n",
      "File already exists, skipping: /Users/moustholmes/Projects/METAL-AI/data/Li-Rh/rank_Worker-6b856d5b-8475-4ea0-85f6-4b0823744971.hdf5\n",
      "File already exists, skipping: /Users/moustholmes/Projects/METAL-AI/data/Li-Rh/rank_Worker-6bb2f3f0-8d00-4395-9ab8-b30567aa8e00.hdf5\n",
      "File already exists, skipping: /Users/moustholmes/Projects/METAL-AI/data/Li-Rh/rank_Worker-6bb2f3f0-8d00-4395-9ab8-b30567aa8e00.hdf5\n",
      "File already exists, skipping: /Users/moustholmes/Projects/METAL-AI/data/Li-Rh/rank_Worker-6bde13bd-1ee6-4880-9123-4419cea6b08d.hdf5\n",
      "File already exists, skipping: /Users/moustholmes/Projects/METAL-AI/data/Li-Rh/rank_Worker-6bde13bd-1ee6-4880-9123-4419cea6b08d.hdf5\n"
     ]
    },
    {
     "name": "stderr",
     "output_type": "stream",
     "text": [
      "Downloading files:  41%|████      | 577/1422 [00:27<00:27, 30.66file/s]"
     ]
    },
    {
     "name": "stdout",
     "output_type": "stream",
     "text": [
      "Downloaded: /Users/moustholmes/Projects/METAL-AI/data/Li-Rh/rank_Worker-6c300da1-927f-4e0b-a06e-b11315c34bef.hdf5\n",
      "File already exists, skipping: /Users/moustholmes/Projects/METAL-AI/data/Li-Rh/rank_Worker-6c300da1-927f-4e0b-a06e-b11315c34bef.hdf5\n",
      "Downloaded: /Users/moustholmes/Projects/METAL-AI/data/Li-Rh/rank_Worker-6c6aed76-d744-43bc-8beb-aad3ca893b7f.hdf5\n",
      "File already exists, skipping: /Users/moustholmes/Projects/METAL-AI/data/Li-Rh/rank_Worker-6c6aed76-d744-43bc-8beb-aad3ca893b7f.hdf5\n",
      "File already exists, skipping: /Users/moustholmes/Projects/METAL-AI/data/Li-Rh/rank_Worker-6dbcba3d-8d29-4030-bcf4-838a66554c9b.hdf5\n",
      "File already exists, skipping: /Users/moustholmes/Projects/METAL-AI/data/Li-Rh/rank_Worker-6dbcba3d-8d29-4030-bcf4-838a66554c9b.hdf5\n",
      "File already exists, skipping: /Users/moustholmes/Projects/METAL-AI/data/Li-Rh/rank_Worker-6eabadb7-9319-4bce-9397-7492bcad8444.hdf5\n",
      "File already exists, skipping: /Users/moustholmes/Projects/METAL-AI/data/Li-Rh/rank_Worker-6eabadb7-9319-4bce-9397-7492bcad8444.hdf5\n"
     ]
    },
    {
     "name": "stderr",
     "output_type": "stream",
     "text": [
      "Downloading files:  41%|████      | 581/1422 [00:27<00:30, 27.89file/s]"
     ]
    },
    {
     "name": "stdout",
     "output_type": "stream",
     "text": [
      "Downloaded: /Users/moustholmes/Projects/METAL-AI/data/Li-Rh/rank_Worker-6f938c7a-bccc-437a-b130-100fbe46e222.hdf5\n",
      "File already exists, skipping: /Users/moustholmes/Projects/METAL-AI/data/Li-Rh/rank_Worker-6f938c7a-bccc-437a-b130-100fbe46e222.hdf5\n"
     ]
    },
    {
     "name": "stderr",
     "output_type": "stream",
     "text": [
      "Downloading files:  41%|████      | 584/1422 [00:27<00:35, 23.89file/s]"
     ]
    },
    {
     "name": "stdout",
     "output_type": "stream",
     "text": [
      "Downloaded: /Users/moustholmes/Projects/METAL-AI/data/Li-Rh/rank_Worker-6fa90314-dd1f-4733-bc91-394752bc1884.hdf5\n",
      "File already exists, skipping: /Users/moustholmes/Projects/METAL-AI/data/Li-Rh/rank_Worker-6fa90314-dd1f-4733-bc91-394752bc1884.hdf5\n",
      "File already exists, skipping: /Users/moustholmes/Projects/METAL-AI/data/Li-Rh/rank_Worker-6fc5b697-1b4f-4662-9593-cf1af25791c1.hdf5\n",
      "File already exists, skipping: /Users/moustholmes/Projects/METAL-AI/data/Li-Rh/rank_Worker-6fc5b697-1b4f-4662-9593-cf1af25791c1.hdf5\n",
      "File already exists, skipping: /Users/moustholmes/Projects/METAL-AI/data/Li-Rh/rank_Worker-70d39616-5188-4fea-a92d-25018368e158.hdf5\n",
      "File already exists, skipping: /Users/moustholmes/Projects/METAL-AI/data/Li-Rh/rank_Worker-70d39616-5188-4fea-a92d-25018368e158.hdf5\n"
     ]
    },
    {
     "name": "stderr",
     "output_type": "stream",
     "text": [
      "Downloading files:  41%|████▏     | 589/1422 [00:28<00:35, 23.73file/s]"
     ]
    },
    {
     "name": "stdout",
     "output_type": "stream",
     "text": [
      "Downloaded: /Users/moustholmes/Projects/METAL-AI/data/Li-Rh/rank_Worker-70de8800-dd4b-4e27-841e-e56942e4d315.hdf5\n",
      "File already exists, skipping: /Users/moustholmes/Projects/METAL-AI/data/Li-Rh/rank_Worker-70de8800-dd4b-4e27-841e-e56942e4d315.hdf5\n",
      "File already exists, skipping: /Users/moustholmes/Projects/METAL-AI/data/Li-Rh/rank_Worker-717288ee-d62a-46bb-8587-5727144f0dcb.hdf5\n",
      "File already exists, skipping: /Users/moustholmes/Projects/METAL-AI/data/Li-Rh/rank_Worker-717288ee-d62a-46bb-8587-5727144f0dcb.hdf5\n",
      "File already exists, skipping: /Users/moustholmes/Projects/METAL-AI/data/Li-Rh/rank_Worker-7184ecfc-bf40-4422-a7fc-561c393f79c8.hdf5\n",
      "File already exists, skipping: /Users/moustholmes/Projects/METAL-AI/data/Li-Rh/rank_Worker-7184ecfc-bf40-4422-a7fc-561c393f79c8.hdf5\n"
     ]
    },
    {
     "name": "stderr",
     "output_type": "stream",
     "text": [
      "Downloading files:  43%|████▎     | 609/1422 [00:28<00:20, 38.95file/s]"
     ]
    },
    {
     "name": "stdout",
     "output_type": "stream",
     "text": [
      "Downloaded: /Users/moustholmes/Projects/METAL-AI/data/Li-Rh/rank_Worker-71d8677e-7195-4e7c-9f6c-a6182a754213.hdf5\n",
      "File already exists, skipping: /Users/moustholmes/Projects/METAL-AI/data/Li-Rh/rank_Worker-71d8677e-7195-4e7c-9f6c-a6182a754213.hdf5\n",
      "File already exists, skipping: /Users/moustholmes/Projects/METAL-AI/data/Li-Rh/rank_Worker-7201d682-e0e5-4cfc-b3ca-f6947e420b66.hdf5\n",
      "File already exists, skipping: /Users/moustholmes/Projects/METAL-AI/data/Li-Rh/rank_Worker-7201d682-e0e5-4cfc-b3ca-f6947e420b66.hdf5\n",
      "File already exists, skipping: /Users/moustholmes/Projects/METAL-AI/data/Li-Rh/rank_Worker-720bc6b0-d2a3-40f5-9be1-163cba83725c.hdf5\n",
      "File already exists, skipping: /Users/moustholmes/Projects/METAL-AI/data/Li-Rh/rank_Worker-720bc6b0-d2a3-40f5-9be1-163cba83725c.hdf5\n",
      "File already exists, skipping: /Users/moustholmes/Projects/METAL-AI/data/Li-Rh/rank_Worker-728c31a2-79ac-48e5-92b3-2c3390793bea.hdf5\n",
      "File already exists, skipping: /Users/moustholmes/Projects/METAL-AI/data/Li-Rh/rank_Worker-728c31a2-79ac-48e5-92b3-2c3390793bea.hdf5\n",
      "File already exists, skipping: /Users/moustholmes/Projects/METAL-AI/data/Li-Rh/rank_Worker-729bcac4-0933-4303-b694-d4d2843e4d57.hdf5\n",
      "File already exists, skipping: /Users/moustholmes/Projects/METAL-AI/data/Li-Rh/rank_Worker-729bcac4-0933-4303-b694-d4d2843e4d57.hdf5\n",
      "File already exists, skipping: /Users/moustholmes/Projects/METAL-AI/data/Li-Rh/rank_Worker-72e27585-83fb-4519-a28f-061ec7a923f5.hdf5\n",
      "File already exists, skipping: /Users/moustholmes/Projects/METAL-AI/data/Li-Rh/rank_Worker-72e27585-83fb-4519-a28f-061ec7a923f5.hdf5\n",
      "File already exists, skipping: /Users/moustholmes/Projects/METAL-AI/data/Li-Rh/rank_Worker-72e2b188-f091-4060-99e3-4611ce257a8a.hdf5\n",
      "File already exists, skipping: /Users/moustholmes/Projects/METAL-AI/data/Li-Rh/rank_Worker-72e2b188-f091-4060-99e3-4611ce257a8a.hdf5\n",
      "Downloaded: /Users/moustholmes/Projects/METAL-AI/data/Li-Rh/rank_Worker-72fa9652-a868-4dc3-8779-0a7eb5caf062.hdf5\n",
      "File already exists, skipping: /Users/moustholmes/Projects/METAL-AI/data/Li-Rh/rank_Worker-72fa9652-a868-4dc3-8779-0a7eb5caf062.hdf5\n"
     ]
    },
    {
     "name": "stderr",
     "output_type": "stream",
     "text": [
      "Downloading files:  44%|████▍     | 625/1422 [00:28<00:18, 42.82file/s]"
     ]
    },
    {
     "name": "stdout",
     "output_type": "stream",
     "text": [
      "Downloaded: /Users/moustholmes/Projects/METAL-AI/data/Li-Rh/rank_Worker-730ea2a6-4297-4fc5-8027-3eb9ef85e4dc.hdf5\n",
      "File already exists, skipping: /Users/moustholmes/Projects/METAL-AI/data/Li-Rh/rank_Worker-730ea2a6-4297-4fc5-8027-3eb9ef85e4dc.hdf5\n",
      "File already exists, skipping: /Users/moustholmes/Projects/METAL-AI/data/Li-Rh/rank_Worker-7395df9e-39c5-4852-bd46-d19d77183885.hdf5\n",
      "File already exists, skipping: /Users/moustholmes/Projects/METAL-AI/data/Li-Rh/rank_Worker-7395df9e-39c5-4852-bd46-d19d77183885.hdf5\n",
      "File already exists, skipping: /Users/moustholmes/Projects/METAL-AI/data/Li-Rh/rank_Worker-753f392d-c434-41bd-bb89-5cfc80295206.hdf5\n",
      "File already exists, skipping: /Users/moustholmes/Projects/METAL-AI/data/Li-Rh/rank_Worker-753f392d-c434-41bd-bb89-5cfc80295206.hdf5\n",
      "File already exists, skipping: /Users/moustholmes/Projects/METAL-AI/data/Li-Rh/rank_Worker-75b00766-cb1c-4733-a3a1-855b3902cdf0.hdf5\n",
      "File already exists, skipping: /Users/moustholmes/Projects/METAL-AI/data/Li-Rh/rank_Worker-75b00766-cb1c-4733-a3a1-855b3902cdf0.hdf5\n",
      "File already exists, skipping: /Users/moustholmes/Projects/METAL-AI/data/Li-Rh/rank_Worker-75d6f949-f684-40c7-8033-f20be09ea55a.hdf5\n",
      "File already exists, skipping: /Users/moustholmes/Projects/METAL-AI/data/Li-Rh/rank_Worker-75d6f949-f684-40c7-8033-f20be09ea55a.hdf5\n",
      "File already exists, skipping: /Users/moustholmes/Projects/METAL-AI/data/Li-Rh/rank_Worker-75dde8ca-6cf3-484c-8f0c-8b353c08a76f.hdf5\n",
      "File already exists, skipping: /Users/moustholmes/Projects/METAL-AI/data/Li-Rh/rank_Worker-75dde8ca-6cf3-484c-8f0c-8b353c08a76f.hdf5\n",
      "File already exists, skipping: /Users/moustholmes/Projects/METAL-AI/data/Li-Rh/rank_Worker-75fb6fa5-b60e-4b0b-97bc-b4c0eadc55bd.hdf5\n",
      "File already exists, skipping: /Users/moustholmes/Projects/METAL-AI/data/Li-Rh/rank_Worker-75fb6fa5-b60e-4b0b-97bc-b4c0eadc55bd.hdf5\n",
      "Downloaded: /Users/moustholmes/Projects/METAL-AI/data/Li-Rh/rank_Worker-7677e76c-0952-4a7d-8e7e-4e5a5cc20c03.hdf5\n",
      "File already exists, skipping: /Users/moustholmes/Projects/METAL-AI/data/Li-Rh/rank_Worker-7677e76c-0952-4a7d-8e7e-4e5a5cc20c03.hdf5\n",
      "File already exists, skipping: /Users/moustholmes/Projects/METAL-AI/data/Li-Rh/rank_Worker-76efaebb-f041-448c-ac32-c40465da9b99.hdf5\n",
      "File already exists, skipping: /Users/moustholmes/Projects/METAL-AI/data/Li-Rh/rank_Worker-76efaebb-f041-448c-ac32-c40465da9b99.hdf5\n",
      "File already exists, skipping: /Users/moustholmes/Projects/METAL-AI/data/Li-Rh/rank_Worker-7705dce3-ede3-4be1-92f6-32b6e10300e3.hdf5\n",
      "File already exists, skipping: /Users/moustholmes/Projects/METAL-AI/data/Li-Rh/rank_Worker-7705dce3-ede3-4be1-92f6-32b6e10300e3.hdf5\n"
     ]
    },
    {
     "name": "stderr",
     "output_type": "stream",
     "text": [
      "Downloading files:  44%|████▍     | 631/1422 [00:29<00:20, 38.43file/s]"
     ]
    },
    {
     "name": "stdout",
     "output_type": "stream",
     "text": [
      "Downloaded: /Users/moustholmes/Projects/METAL-AI/data/Li-Rh/rank_Worker-77401b81-a01b-437b-82b2-972ea520feb0.hdf5\n",
      "File already exists, skipping: /Users/moustholmes/Projects/METAL-AI/data/Li-Rh/rank_Worker-77401b81-a01b-437b-82b2-972ea520feb0.hdf5\n"
     ]
    },
    {
     "name": "stderr",
     "output_type": "stream",
     "text": [
      "Downloading files:  45%|████▍     | 639/1422 [00:29<00:26, 29.20file/s]"
     ]
    },
    {
     "name": "stdout",
     "output_type": "stream",
     "text": [
      "Downloaded: /Users/moustholmes/Projects/METAL-AI/data/Li-Rh/rank_Worker-776974d3-d289-40f9-b5ea-443016e60944.hdf5\n",
      "File already exists, skipping: /Users/moustholmes/Projects/METAL-AI/data/Li-Rh/rank_Worker-776974d3-d289-40f9-b5ea-443016e60944.hdf5\n",
      "File already exists, skipping: /Users/moustholmes/Projects/METAL-AI/data/Li-Rh/rank_Worker-77d5819d-a216-42f4-80ce-b48248c40f65.hdf5\n",
      "File already exists, skipping: /Users/moustholmes/Projects/METAL-AI/data/Li-Rh/rank_Worker-77d5819d-a216-42f4-80ce-b48248c40f65.hdf5\n",
      "File already exists, skipping: /Users/moustholmes/Projects/METAL-AI/data/Li-Rh/rank_Worker-77e0090b-1c39-4e8a-acb2-ef19e7e42353.hdf5\n",
      "File already exists, skipping: /Users/moustholmes/Projects/METAL-AI/data/Li-Rh/rank_Worker-77e0090b-1c39-4e8a-acb2-ef19e7e42353.hdf5\n",
      "Downloaded: /Users/moustholmes/Projects/METAL-AI/data/Li-Rh/rank_Worker-78796f70-0c61-47d2-8159-dd1dfd197d0f.hdf5\n",
      "File already exists, skipping: /Users/moustholmes/Projects/METAL-AI/data/Li-Rh/rank_Worker-78796f70-0c61-47d2-8159-dd1dfd197d0f.hdf5\n"
     ]
    },
    {
     "name": "stderr",
     "output_type": "stream",
     "text": [
      "Downloading files:  45%|████▌     | 642/1422 [00:29<00:32, 23.84file/s]"
     ]
    },
    {
     "name": "stdout",
     "output_type": "stream",
     "text": [
      "Downloaded: /Users/moustholmes/Projects/METAL-AI/data/Li-Rh/rank_Worker-788e8f44-a636-4a68-b0f6-e720ea4c4aee.hdf5\n",
      "File already exists, skipping: /Users/moustholmes/Projects/METAL-AI/data/Li-Rh/rank_Worker-788e8f44-a636-4a68-b0f6-e720ea4c4aee.hdf5\n",
      "Downloaded: /Users/moustholmes/Projects/METAL-AI/data/Li-Rh/rank_Worker-78aa7091-0e44-4b2f-97d7-4a72695c0f97.hdf5\n",
      "File already exists, skipping: /Users/moustholmes/Projects/METAL-AI/data/Li-Rh/rank_Worker-78aa7091-0e44-4b2f-97d7-4a72695c0f97.hdf5\n"
     ]
    },
    {
     "name": "stderr",
     "output_type": "stream",
     "text": [
      "Downloading files:  45%|████▌     | 647/1422 [00:30<00:50, 15.20file/s]"
     ]
    },
    {
     "name": "stdout",
     "output_type": "stream",
     "text": [
      "Downloaded: /Users/moustholmes/Projects/METAL-AI/data/Li-Rh/rank_Worker-78ed2f54-a3ea-4052-b90f-9c9478511ac9.hdf5\n",
      "File already exists, skipping: /Users/moustholmes/Projects/METAL-AI/data/Li-Rh/rank_Worker-78ed2f54-a3ea-4052-b90f-9c9478511ac9.hdf5\n",
      "Downloaded: /Users/moustholmes/Projects/METAL-AI/data/Li-Rh/rank_Worker-7908ae6d-f24d-459d-a38b-fe752652c525.hdf5\n",
      "File already exists, skipping: /Users/moustholmes/Projects/METAL-AI/data/Li-Rh/rank_Worker-7908ae6d-f24d-459d-a38b-fe752652c525.hdf5\n"
     ]
    },
    {
     "name": "stderr",
     "output_type": "stream",
     "text": [
      "Downloading files:  46%|████▌     | 655/1422 [00:30<00:41, 18.42file/s]"
     ]
    },
    {
     "name": "stdout",
     "output_type": "stream",
     "text": [
      "Downloaded: /Users/moustholmes/Projects/METAL-AI/data/Li-Rh/rank_Worker-79882389-f813-456f-bebb-4d0791da25ca.hdf5\n",
      "File already exists, skipping: /Users/moustholmes/Projects/METAL-AI/data/Li-Rh/rank_Worker-79882389-f813-456f-bebb-4d0791da25ca.hdf5\n",
      "File already exists, skipping: /Users/moustholmes/Projects/METAL-AI/data/Li-Rh/rank_Worker-798ce00e-d26a-48bc-abe7-43d24f6aaf29.hdf5\n",
      "File already exists, skipping: /Users/moustholmes/Projects/METAL-AI/data/Li-Rh/rank_Worker-798ce00e-d26a-48bc-abe7-43d24f6aaf29.hdf5\n",
      "File already exists, skipping: /Users/moustholmes/Projects/METAL-AI/data/Li-Rh/rank_Worker-79a5b269-ae32-412b-aa75-63982f03be90.hdf5\n",
      "File already exists, skipping: /Users/moustholmes/Projects/METAL-AI/data/Li-Rh/rank_Worker-79a5b269-ae32-412b-aa75-63982f03be90.hdf5\n",
      "Downloaded: /Users/moustholmes/Projects/METAL-AI/data/Li-Rh/rank_Worker-7ab094ee-b2fe-4e00-8efb-63b6f419a7c4.hdf5\n",
      "File already exists, skipping: /Users/moustholmes/Projects/METAL-AI/data/Li-Rh/rank_Worker-7ab094ee-b2fe-4e00-8efb-63b6f419a7c4.hdf5\n",
      "File already exists, skipping: /Users/moustholmes/Projects/METAL-AI/data/Li-Rh/rank_Worker-7be38a2c-9afb-49d3-a910-45e4db536cc3.hdf5\n",
      "File already exists, skipping: /Users/moustholmes/Projects/METAL-AI/data/Li-Rh/rank_Worker-7be38a2c-9afb-49d3-a910-45e4db536cc3.hdf5\n"
     ]
    },
    {
     "name": "stderr",
     "output_type": "stream",
     "text": [
      "Downloading files:  47%|████▋     | 662/1422 [00:30<00:41, 18.48file/s]"
     ]
    },
    {
     "name": "stdout",
     "output_type": "stream",
     "text": [
      "Downloaded: /Users/moustholmes/Projects/METAL-AI/data/Li-Rh/rank_Worker-7bfe99c2-ac8b-4487-9236-11b51bbbb6a1.hdf5\n",
      "File already exists, skipping: /Users/moustholmes/Projects/METAL-AI/data/Li-Rh/rank_Worker-7bfe99c2-ac8b-4487-9236-11b51bbbb6a1.hdf5\n",
      "Downloaded: /Users/moustholmes/Projects/METAL-AI/data/Li-Rh/rank_Worker-7c4ac5bb-2c78-4a6c-b092-1883f1d291a3.hdf5\n",
      "File already exists, skipping: /Users/moustholmes/Projects/METAL-AI/data/Li-Rh/rank_Worker-7c4ac5bb-2c78-4a6c-b092-1883f1d291a3.hdf5\n",
      "File already exists, skipping: /Users/moustholmes/Projects/METAL-AI/data/Li-Rh/rank_Worker-7c9e9c02-9f9e-4c84-830a-02e8686ecc7f.hdf5\n",
      "File already exists, skipping: /Users/moustholmes/Projects/METAL-AI/data/Li-Rh/rank_Worker-7c9e9c02-9f9e-4c84-830a-02e8686ecc7f.hdf5\n",
      "File already exists, skipping: /Users/moustholmes/Projects/METAL-AI/data/Li-Rh/rank_Worker-7d6b7d26-e065-4cc9-9bad-71fb1580c79e.hdf5\n",
      "File already exists, skipping: /Users/moustholmes/Projects/METAL-AI/data/Li-Rh/rank_Worker-7d6b7d26-e065-4cc9-9bad-71fb1580c79e.hdf5\n",
      "File already exists, skipping: /Users/moustholmes/Projects/METAL-AI/data/Li-Rh/rank_Worker-7dd3c0b4-795e-4e17-a6b6-05fcb1c7fa8b.hdf5\n",
      "File already exists, skipping: /Users/moustholmes/Projects/METAL-AI/data/Li-Rh/rank_Worker-7dd3c0b4-795e-4e17-a6b6-05fcb1c7fa8b.hdf5\n",
      "File already exists, skipping: /Users/moustholmes/Projects/METAL-AI/data/Li-Rh/rank_Worker-7e0d40b8-e206-424b-89ea-25b085080b21.hdf5\n",
      "File already exists, skipping: /Users/moustholmes/Projects/METAL-AI/data/Li-Rh/rank_Worker-7e0d40b8-e206-424b-89ea-25b085080b21.hdf5\n"
     ]
    },
    {
     "name": "stderr",
     "output_type": "stream",
     "text": [
      "Downloading files:  47%|████▋     | 675/1422 [00:31<00:29, 25.19file/s]"
     ]
    },
    {
     "name": "stdout",
     "output_type": "stream",
     "text": [
      "Downloaded: /Users/moustholmes/Projects/METAL-AI/data/Li-Rh/rank_Worker-7ed62f6b-393c-4c61-b664-1ada72bf65d6.hdf5\n",
      "File already exists, skipping: /Users/moustholmes/Projects/METAL-AI/data/Li-Rh/rank_Worker-7ed62f6b-393c-4c61-b664-1ada72bf65d6.hdf5\n",
      "File already exists, skipping: /Users/moustholmes/Projects/METAL-AI/data/Li-Rh/rank_Worker-7f2c2d3f-363f-4c3d-b55c-0213b1a6f7db.hdf5\n",
      "File already exists, skipping: /Users/moustholmes/Projects/METAL-AI/data/Li-Rh/rank_Worker-7f2c2d3f-363f-4c3d-b55c-0213b1a6f7db.hdf5\n",
      "Downloaded: /Users/moustholmes/Projects/METAL-AI/data/Li-Rh/rank_Worker-7fc312d0-ac57-4230-9b3c-30640d16b281.hdf5\n",
      "File already exists, skipping: /Users/moustholmes/Projects/METAL-AI/data/Li-Rh/rank_Worker-7fc312d0-ac57-4230-9b3c-30640d16b281.hdf5\n"
     ]
    },
    {
     "name": "stderr",
     "output_type": "stream",
     "text": [
      "Downloading files:  48%|████▊     | 678/1422 [00:31<00:33, 21.97file/s]"
     ]
    },
    {
     "name": "stdout",
     "output_type": "stream",
     "text": [
      "Downloaded: /Users/moustholmes/Projects/METAL-AI/data/Li-Rh/rank_Worker-7fdeb543-2f35-443a-8e73-3a5c4afe4f68.hdf5\n",
      "File already exists, skipping: /Users/moustholmes/Projects/METAL-AI/data/Li-Rh/rank_Worker-7fdeb543-2f35-443a-8e73-3a5c4afe4f68.hdf5\n",
      "File already exists, skipping: /Users/moustholmes/Projects/METAL-AI/data/Li-Rh/rank_Worker-8021d968-c5d0-47df-b22e-1b209fab4801.hdf5\n",
      "File already exists, skipping: /Users/moustholmes/Projects/METAL-AI/data/Li-Rh/rank_Worker-8021d968-c5d0-47df-b22e-1b209fab4801.hdf5\n"
     ]
    },
    {
     "name": "stderr",
     "output_type": "stream",
     "text": [
      "Downloading files:  48%|████▊     | 681/1422 [00:31<00:39, 18.98file/s]"
     ]
    },
    {
     "name": "stdout",
     "output_type": "stream",
     "text": [
      "Downloaded: /Users/moustholmes/Projects/METAL-AI/data/Li-Rh/rank_Worker-807387f6-af23-4cf5-930e-6efc3eafa80f.hdf5\n",
      "File already exists, skipping: /Users/moustholmes/Projects/METAL-AI/data/Li-Rh/rank_Worker-807387f6-af23-4cf5-930e-6efc3eafa80f.hdf5\n",
      "File already exists, skipping: /Users/moustholmes/Projects/METAL-AI/data/Li-Rh/rank_Worker-80a34d17-6583-49de-bb59-903e8f27c269.hdf5\n",
      "File already exists, skipping: /Users/moustholmes/Projects/METAL-AI/data/Li-Rh/rank_Worker-80a34d17-6583-49de-bb59-903e8f27c269.hdf5\n",
      "File already exists, skipping: /Users/moustholmes/Projects/METAL-AI/data/Li-Rh/rank_Worker-80f96f86-7ea9-498c-8d10-7a4d2140f86b.hdf5\n",
      "File already exists, skipping: /Users/moustholmes/Projects/METAL-AI/data/Li-Rh/rank_Worker-80f96f86-7ea9-498c-8d10-7a4d2140f86b.hdf5\n",
      "File already exists, skipping: /Users/moustholmes/Projects/METAL-AI/data/Li-Rh/rank_Worker-824c315c-0fd2-42b3-8509-cfd97eb95013.hdf5\n",
      "File already exists, skipping: /Users/moustholmes/Projects/METAL-AI/data/Li-Rh/rank_Worker-824c315c-0fd2-42b3-8509-cfd97eb95013.hdf5\n",
      "File already exists, skipping: /Users/moustholmes/Projects/METAL-AI/data/Li-Rh/rank_Worker-82a24054-d49a-40f2-9ec6-7efe4f095b4b.hdf5\n",
      "File already exists, skipping: /Users/moustholmes/Projects/METAL-AI/data/Li-Rh/rank_Worker-82a24054-d49a-40f2-9ec6-7efe4f095b4b.hdf5\n"
     ]
    },
    {
     "name": "stderr",
     "output_type": "stream",
     "text": [
      "Downloading files:  49%|████▉     | 694/1422 [00:32<00:29, 24.60file/s]"
     ]
    },
    {
     "name": "stdout",
     "output_type": "stream",
     "text": [
      "Downloaded: /Users/moustholmes/Projects/METAL-AI/data/Li-Rh/rank_Worker-838924ce-bfd5-46d2-8e51-1dc860814f3d.hdf5\n",
      "File already exists, skipping: /Users/moustholmes/Projects/METAL-AI/data/Li-Rh/rank_Worker-838924ce-bfd5-46d2-8e51-1dc860814f3d.hdf5\n",
      "Downloaded: /Users/moustholmes/Projects/METAL-AI/data/Li-Rh/rank_Worker-843944d5-93ef-4483-bd50-aa96ce75a624.hdf5\n",
      "File already exists, skipping: /Users/moustholmes/Projects/METAL-AI/data/Li-Rh/rank_Worker-843944d5-93ef-4483-bd50-aa96ce75a624.hdf5\n",
      "Downloaded: /Users/moustholmes/Projects/METAL-AI/data/Li-Rh/rank_Worker-84687d3c-ce6b-4c3c-b5af-877748ff8eb2.hdf5\n",
      "File already exists, skipping: /Users/moustholmes/Projects/METAL-AI/data/Li-Rh/rank_Worker-84687d3c-ce6b-4c3c-b5af-877748ff8eb2.hdf5\n"
     ]
    },
    {
     "name": "stderr",
     "output_type": "stream",
     "text": [
      "Downloading files:  49%|████▉     | 697/1422 [00:32<00:44, 16.28file/s]"
     ]
    },
    {
     "name": "stdout",
     "output_type": "stream",
     "text": [
      "Downloaded: /Users/moustholmes/Projects/METAL-AI/data/Li-Rh/rank_Worker-846b6ac0-d042-42d1-91e7-d8e0fad7cec7.hdf5\n",
      "File already exists, skipping: /Users/moustholmes/Projects/METAL-AI/data/Li-Rh/rank_Worker-846b6ac0-d042-42d1-91e7-d8e0fad7cec7.hdf5\n",
      "File already exists, skipping: /Users/moustholmes/Projects/METAL-AI/data/Li-Rh/rank_Worker-84850da3-9142-4a1a-b22c-4aba5bf5450f.hdf5\n",
      "File already exists, skipping: /Users/moustholmes/Projects/METAL-AI/data/Li-Rh/rank_Worker-84850da3-9142-4a1a-b22c-4aba5bf5450f.hdf5\n",
      "File already exists, skipping: /Users/moustholmes/Projects/METAL-AI/data/Li-Rh/rank_Worker-84a4b9ad-02b8-4438-94c4-0ec0c102cb03.hdf5\n",
      "File already exists, skipping: /Users/moustholmes/Projects/METAL-AI/data/Li-Rh/rank_Worker-84a4b9ad-02b8-4438-94c4-0ec0c102cb03.hdf5\n"
     ]
    },
    {
     "name": "stderr",
     "output_type": "stream",
     "text": [
      "Downloading files:  49%|████▉     | 703/1422 [00:32<00:37, 19.35file/s]"
     ]
    },
    {
     "name": "stdout",
     "output_type": "stream",
     "text": [
      "Downloaded: /Users/moustholmes/Projects/METAL-AI/data/Li-Rh/rank_Worker-853f91cf-729d-44e6-96bf-c863f2d7cb8c.hdf5\n",
      "File already exists, skipping: /Users/moustholmes/Projects/METAL-AI/data/Li-Rh/rank_Worker-853f91cf-729d-44e6-96bf-c863f2d7cb8c.hdf5\n"
     ]
    },
    {
     "name": "stderr",
     "output_type": "stream",
     "text": [
      "Downloading files:  50%|████▉     | 706/1422 [00:33<00:39, 18.04file/s]"
     ]
    },
    {
     "name": "stdout",
     "output_type": "stream",
     "text": [
      "Downloaded: /Users/moustholmes/Projects/METAL-AI/data/Li-Rh/rank_Worker-8682b897-36ec-4ef5-8cd0-840171beafe7.hdf5\n",
      "File already exists, skipping: /Users/moustholmes/Projects/METAL-AI/data/Li-Rh/rank_Worker-8682b897-36ec-4ef5-8cd0-840171beafe7.hdf5\n",
      "File already exists, skipping: /Users/moustholmes/Projects/METAL-AI/data/Li-Rh/rank_Worker-86be73a0-8516-47bf-8f04-1182a7a0bf72.hdf5\n",
      "File already exists, skipping: /Users/moustholmes/Projects/METAL-AI/data/Li-Rh/rank_Worker-86be73a0-8516-47bf-8f04-1182a7a0bf72.hdf5\n",
      "File already exists, skipping: /Users/moustholmes/Projects/METAL-AI/data/Li-Rh/rank_Worker-87287e70-8bd5-4afd-afb8-355714b3329f.hdf5\n",
      "File already exists, skipping: /Users/moustholmes/Projects/METAL-AI/data/Li-Rh/rank_Worker-87287e70-8bd5-4afd-afb8-355714b3329f.hdf5\n",
      "File already exists, skipping: /Users/moustholmes/Projects/METAL-AI/data/Li-Rh/rank_Worker-875108cc-0faa-4466-9bdb-9e56279a7bbb.hdf5\n",
      "File already exists, skipping: /Users/moustholmes/Projects/METAL-AI/data/Li-Rh/rank_Worker-875108cc-0faa-4466-9bdb-9e56279a7bbb.hdf5\n",
      "File already exists, skipping: /Users/moustholmes/Projects/METAL-AI/data/Li-Rh/rank_Worker-876851e8-f9b2-4334-bb2a-457e6abbefe5.hdf5\n",
      "File already exists, skipping: /Users/moustholmes/Projects/METAL-AI/data/Li-Rh/rank_Worker-876851e8-f9b2-4334-bb2a-457e6abbefe5.hdf5\n",
      "File already exists, skipping: /Users/moustholmes/Projects/METAL-AI/data/Li-Rh/rank_Worker-879b8fb3-b28a-4cb9-9ef5-8472beef368c.hdf5\n",
      "File already exists, skipping: /Users/moustholmes/Projects/METAL-AI/data/Li-Rh/rank_Worker-879b8fb3-b28a-4cb9-9ef5-8472beef368c.hdf5\n"
     ]
    },
    {
     "name": "stderr",
     "output_type": "stream",
     "text": [
      "Downloading files:  51%|█████     | 723/1422 [00:33<00:24, 28.73file/s]"
     ]
    },
    {
     "name": "stdout",
     "output_type": "stream",
     "text": [
      "Downloaded: /Users/moustholmes/Projects/METAL-AI/data/Li-Rh/rank_Worker-87ced6da-4231-4885-a6c0-16ba449d2a4d.hdf5\n",
      "File already exists, skipping: /Users/moustholmes/Projects/METAL-AI/data/Li-Rh/rank_Worker-87ced6da-4231-4885-a6c0-16ba449d2a4d.hdf5\n",
      "File already exists, skipping: /Users/moustholmes/Projects/METAL-AI/data/Li-Rh/rank_Worker-87d34a8c-93af-4b46-81b0-e5d2a5dabe73.hdf5\n",
      "File already exists, skipping: /Users/moustholmes/Projects/METAL-AI/data/Li-Rh/rank_Worker-87d34a8c-93af-4b46-81b0-e5d2a5dabe73.hdf5\n",
      "File already exists, skipping: /Users/moustholmes/Projects/METAL-AI/data/Li-Rh/rank_Worker-8813bd57-0746-4c66-815a-969c0a524009.hdf5\n",
      "File already exists, skipping: /Users/moustholmes/Projects/METAL-AI/data/Li-Rh/rank_Worker-8813bd57-0746-4c66-815a-969c0a524009.hdf5\n",
      "Downloaded: /Users/moustholmes/Projects/METAL-AI/data/Li-Rh/rank_Worker-88e9f3ab-7247-4c8c-bdb4-35a9d8bb7602.hdf5\n",
      "File already exists, skipping: /Users/moustholmes/Projects/METAL-AI/data/Li-Rh/rank_Worker-88e9f3ab-7247-4c8c-bdb4-35a9d8bb7602.hdf5\n"
     ]
    },
    {
     "name": "stderr",
     "output_type": "stream",
     "text": [
      "Downloading files:  51%|█████     | 727/1422 [00:33<00:34, 20.07file/s]"
     ]
    },
    {
     "name": "stdout",
     "output_type": "stream",
     "text": [
      "Downloaded: /Users/moustholmes/Projects/METAL-AI/data/Li-Rh/rank_Worker-892b818c-7e91-4a70-9bfa-6ef321174827.hdf5\n",
      "File already exists, skipping: /Users/moustholmes/Projects/METAL-AI/data/Li-Rh/rank_Worker-892b818c-7e91-4a70-9bfa-6ef321174827.hdf5\n",
      "Downloaded: /Users/moustholmes/Projects/METAL-AI/data/Li-Rh/rank_Worker-894bc72a-092a-420d-bd68-e6c8f13ae16a.hdf5\n",
      "File already exists, skipping: /Users/moustholmes/Projects/METAL-AI/data/Li-Rh/rank_Worker-894bc72a-092a-420d-bd68-e6c8f13ae16a.hdf5\n"
     ]
    },
    {
     "name": "stderr",
     "output_type": "stream",
     "text": [
      "Downloading files:  51%|█████▏    | 730/1422 [00:34<00:36, 19.12file/s]"
     ]
    },
    {
     "name": "stdout",
     "output_type": "stream",
     "text": [
      "Downloaded: /Users/moustholmes/Projects/METAL-AI/data/Li-Rh/rank_Worker-89566603-8eab-4df3-af94-d1e3681cc187.hdf5\n",
      "File already exists, skipping: /Users/moustholmes/Projects/METAL-AI/data/Li-Rh/rank_Worker-89566603-8eab-4df3-af94-d1e3681cc187.hdf5\n",
      "File already exists, skipping: /Users/moustholmes/Projects/METAL-AI/data/Li-Rh/rank_Worker-89935e19-3202-4795-bb16-97ef4bd7511b.hdf5\n",
      "File already exists, skipping: /Users/moustholmes/Projects/METAL-AI/data/Li-Rh/rank_Worker-89935e19-3202-4795-bb16-97ef4bd7511b.hdf5\n",
      "File already exists, skipping: /Users/moustholmes/Projects/METAL-AI/data/Li-Rh/rank_Worker-8a1ad836-f51c-4743-8c0c-4aaec80095d1.hdf5\n",
      "File already exists, skipping: /Users/moustholmes/Projects/METAL-AI/data/Li-Rh/rank_Worker-8a1ad836-f51c-4743-8c0c-4aaec80095d1.hdf5\n",
      "File already exists, skipping: /Users/moustholmes/Projects/METAL-AI/data/Li-Rh/rank_Worker-8a592e8c-9582-4c3a-ba9e-8c7cd16974a8.hdf5\n",
      "File already exists, skipping: /Users/moustholmes/Projects/METAL-AI/data/Li-Rh/rank_Worker-8a592e8c-9582-4c3a-ba9e-8c7cd16974a8.hdf5\n",
      "File already exists, skipping: /Users/moustholmes/Projects/METAL-AI/data/Li-Rh/rank_Worker-8a96f767-0b2d-4467-bb86-6bebd0ac34a9.hdf5\n",
      "File already exists, skipping: /Users/moustholmes/Projects/METAL-AI/data/Li-Rh/rank_Worker-8a96f767-0b2d-4467-bb86-6bebd0ac34a9.hdf5\n",
      "File already exists, skipping: /Users/moustholmes/Projects/METAL-AI/data/Li-Rh/rank_Worker-8aa1c12f-033d-473a-99dc-a3b69f724bc2.hdf5\n",
      "File already exists, skipping: /Users/moustholmes/Projects/METAL-AI/data/Li-Rh/rank_Worker-8aa1c12f-033d-473a-99dc-a3b69f724bc2.hdf5\n",
      "File already exists, skipping: /Users/moustholmes/Projects/METAL-AI/data/Li-Rh/rank_Worker-8add6193-b132-4707-8fd4-eb3ae1183979.hdf5\n",
      "File already exists, skipping: /Users/moustholmes/Projects/METAL-AI/data/Li-Rh/rank_Worker-8add6193-b132-4707-8fd4-eb3ae1183979.hdf5\n",
      "File already exists, skipping: /Users/moustholmes/Projects/METAL-AI/data/Li-Rh/rank_Worker-8af78d82-51f5-4ee9-8540-fbb357f7ac56.hdf5\n",
      "File already exists, skipping: /Users/moustholmes/Projects/METAL-AI/data/Li-Rh/rank_Worker-8af78d82-51f5-4ee9-8540-fbb357f7ac56.hdf5\n",
      "File already exists, skipping: /Users/moustholmes/Projects/METAL-AI/data/Li-Rh/rank_Worker-8b5ce2a7-f28c-4790-b087-78a389c22fec.hdf5\n",
      "File already exists, skipping: /Users/moustholmes/Projects/METAL-AI/data/Li-Rh/rank_Worker-8b5ce2a7-f28c-4790-b087-78a389c22fec.hdf5\n",
      "File already exists, skipping: /Users/moustholmes/Projects/METAL-AI/data/Li-Rh/rank_Worker-8ba552de-f56f-4f11-898e-1172abe5deba.hdf5\n",
      "File already exists, skipping: /Users/moustholmes/Projects/METAL-AI/data/Li-Rh/rank_Worker-8ba552de-f56f-4f11-898e-1172abe5deba.hdf5\n"
     ]
    },
    {
     "name": "stderr",
     "output_type": "stream",
     "text": [
      "Downloading files:  53%|█████▎    | 749/1422 [00:34<00:17, 37.50file/s]"
     ]
    },
    {
     "name": "stdout",
     "output_type": "stream",
     "text": [
      "Downloaded: /Users/moustholmes/Projects/METAL-AI/data/Li-Rh/rank_Worker-8baa584e-e977-4be3-af5b-335fae52c065.hdf5\n",
      "File already exists, skipping: /Users/moustholmes/Projects/METAL-AI/data/Li-Rh/rank_Worker-8baa584e-e977-4be3-af5b-335fae52c065.hdf5\n"
     ]
    },
    {
     "name": "stderr",
     "output_type": "stream",
     "text": [
      "Downloading files:  53%|█████▎    | 758/1422 [00:34<00:21, 30.22file/s]"
     ]
    },
    {
     "name": "stdout",
     "output_type": "stream",
     "text": [
      "Downloaded: /Users/moustholmes/Projects/METAL-AI/data/Li-Rh/rank_Worker-8c0eb665-227f-4873-af64-635018689b06.hdf5\n",
      "File already exists, skipping: /Users/moustholmes/Projects/METAL-AI/data/Li-Rh/rank_Worker-8c0eb665-227f-4873-af64-635018689b06.hdf5\n",
      "File already exists, skipping: /Users/moustholmes/Projects/METAL-AI/data/Li-Rh/rank_Worker-8c5e66a6-b4e2-40d7-b94d-a12bdb4c17c6.hdf5\n",
      "File already exists, skipping: /Users/moustholmes/Projects/METAL-AI/data/Li-Rh/rank_Worker-8c5e66a6-b4e2-40d7-b94d-a12bdb4c17c6.hdf5\n",
      "Downloaded: /Users/moustholmes/Projects/METAL-AI/data/Li-Rh/rank_Worker-8c640a5d-f388-4be8-b836-9b12940725c9.hdf5\n",
      "File already exists, skipping: /Users/moustholmes/Projects/METAL-AI/data/Li-Rh/rank_Worker-8c640a5d-f388-4be8-b836-9b12940725c9.hdf5\n",
      "File already exists, skipping: /Users/moustholmes/Projects/METAL-AI/data/Li-Rh/rank_Worker-8c698ff9-1b4e-4a20-8105-f061bf5a27eb.hdf5\n",
      "File already exists, skipping: /Users/moustholmes/Projects/METAL-AI/data/Li-Rh/rank_Worker-8c698ff9-1b4e-4a20-8105-f061bf5a27eb.hdf5\n",
      "Downloaded: /Users/moustholmes/Projects/METAL-AI/data/Li-Rh/rank_Worker-8c867d2c-e198-4f38-bda1-911bf2f78a57.hdf5\n",
      "File already exists, skipping: /Users/moustholmes/Projects/METAL-AI/data/Li-Rh/rank_Worker-8c867d2c-e198-4f38-bda1-911bf2f78a57.hdf5\n"
     ]
    },
    {
     "name": "stderr",
     "output_type": "stream",
     "text": [
      "Downloading files:  54%|█████▎    | 762/1422 [00:35<00:30, 21.69file/s]"
     ]
    },
    {
     "name": "stdout",
     "output_type": "stream",
     "text": [
      "Downloaded: /Users/moustholmes/Projects/METAL-AI/data/Li-Rh/rank_Worker-8ca7e5b1-066f-4e66-bb62-dda17e59da21.hdf5\n",
      "File already exists, skipping: /Users/moustholmes/Projects/METAL-AI/data/Li-Rh/rank_Worker-8ca7e5b1-066f-4e66-bb62-dda17e59da21.hdf5\n",
      "File already exists, skipping: /Users/moustholmes/Projects/METAL-AI/data/Li-Rh/rank_Worker-8cacc883-2c54-45bd-a1b9-f8605fb8cee6.hdf5\n",
      "File already exists, skipping: /Users/moustholmes/Projects/METAL-AI/data/Li-Rh/rank_Worker-8cacc883-2c54-45bd-a1b9-f8605fb8cee6.hdf5\n",
      "File already exists, skipping: /Users/moustholmes/Projects/METAL-AI/data/Li-Rh/rank_Worker-8d0f8e79-76dd-4418-ab13-37a72a32582a.hdf5\n",
      "File already exists, skipping: /Users/moustholmes/Projects/METAL-AI/data/Li-Rh/rank_Worker-8d0f8e79-76dd-4418-ab13-37a72a32582a.hdf5\n",
      "File already exists, skipping: /Users/moustholmes/Projects/METAL-AI/data/Li-Rh/rank_Worker-8d1e0203-8910-492f-bb52-384b75b2dafa.hdf5\n",
      "File already exists, skipping: /Users/moustholmes/Projects/METAL-AI/data/Li-Rh/rank_Worker-8d1e0203-8910-492f-bb52-384b75b2dafa.hdf5\n",
      "File already exists, skipping: /Users/moustholmes/Projects/METAL-AI/data/Li-Rh/rank_Worker-8dfbd828-9280-4f4b-a540-e1f49a52a4c7.hdf5\n",
      "File already exists, skipping: /Users/moustholmes/Projects/METAL-AI/data/Li-Rh/rank_Worker-8dfbd828-9280-4f4b-a540-e1f49a52a4c7.hdf5\n"
     ]
    },
    {
     "name": "stderr",
     "output_type": "stream",
     "text": [
      "Downloading files:  54%|█████▍    | 771/1422 [00:35<00:24, 26.88file/s]"
     ]
    },
    {
     "name": "stdout",
     "output_type": "stream",
     "text": [
      "Downloaded: /Users/moustholmes/Projects/METAL-AI/data/Li-Rh/rank_Worker-8e968d72-e46f-49e8-b0fb-aff751e5f9b1.hdf5\n",
      "File already exists, skipping: /Users/moustholmes/Projects/METAL-AI/data/Li-Rh/rank_Worker-8e968d72-e46f-49e8-b0fb-aff751e5f9b1.hdf5\n"
     ]
    },
    {
     "name": "stderr",
     "output_type": "stream",
     "text": [
      "Downloading files:  55%|█████▍    | 778/1422 [00:35<00:28, 22.78file/s]"
     ]
    },
    {
     "name": "stdout",
     "output_type": "stream",
     "text": [
      "Downloaded: /Users/moustholmes/Projects/METAL-AI/data/Li-Rh/rank_Worker-8f2f2af9-cf04-44e0-9ed2-58126f543f3d.hdf5\n",
      "File already exists, skipping: /Users/moustholmes/Projects/METAL-AI/data/Li-Rh/rank_Worker-8f2f2af9-cf04-44e0-9ed2-58126f543f3d.hdf5\n",
      "File already exists, skipping: /Users/moustholmes/Projects/METAL-AI/data/Li-Rh/rank_Worker-8f359224-e842-457d-812c-183b8d458242.hdf5\n",
      "File already exists, skipping: /Users/moustholmes/Projects/METAL-AI/data/Li-Rh/rank_Worker-8f359224-e842-457d-812c-183b8d458242.hdf5\n",
      "Downloaded: /Users/moustholmes/Projects/METAL-AI/data/Li-Rh/rank_Worker-8fbd68b5-20c8-4f47-871e-31360ad2d9a0.hdf5\n",
      "File already exists, skipping: /Users/moustholmes/Projects/METAL-AI/data/Li-Rh/rank_Worker-8fbd68b5-20c8-4f47-871e-31360ad2d9a0.hdf5\n"
     ]
    },
    {
     "name": "stderr",
     "output_type": "stream",
     "text": [
      "Downloading files:  55%|█████▌    | 784/1422 [00:36<00:33, 19.23file/s]"
     ]
    },
    {
     "name": "stdout",
     "output_type": "stream",
     "text": [
      "Downloaded: /Users/moustholmes/Projects/METAL-AI/data/Li-Rh/rank_Worker-90163eb7-c33a-46c6-8b33-0726df4ce1d7.hdf5\n",
      "File already exists, skipping: /Users/moustholmes/Projects/METAL-AI/data/Li-Rh/rank_Worker-90163eb7-c33a-46c6-8b33-0726df4ce1d7.hdf5\n",
      "File already exists, skipping: /Users/moustholmes/Projects/METAL-AI/data/Li-Rh/rank_Worker-901a0f3b-55e4-4803-aee6-42f4e4385aaf.hdf5\n",
      "File already exists, skipping: /Users/moustholmes/Projects/METAL-AI/data/Li-Rh/rank_Worker-901a0f3b-55e4-4803-aee6-42f4e4385aaf.hdf5\n",
      "Downloaded: /Users/moustholmes/Projects/METAL-AI/data/Li-Rh/rank_Worker-90350af4-9857-4b68-b1a1-008d07af2b02.hdf5\n",
      "File already exists, skipping: /Users/moustholmes/Projects/METAL-AI/data/Li-Rh/rank_Worker-90350af4-9857-4b68-b1a1-008d07af2b02.hdf5\n",
      "File already exists, skipping: /Users/moustholmes/Projects/METAL-AI/data/Li-Rh/rank_Worker-90604895-1464-4970-b76c-00aef073252d.hdf5\n",
      "File already exists, skipping: /Users/moustholmes/Projects/METAL-AI/data/Li-Rh/rank_Worker-90604895-1464-4970-b76c-00aef073252d.hdf5\n",
      "File already exists, skipping: /Users/moustholmes/Projects/METAL-AI/data/Li-Rh/rank_Worker-90c8832d-3574-4571-971d-ec5a2ebbc503.hdf5\n",
      "File already exists, skipping: /Users/moustholmes/Projects/METAL-AI/data/Li-Rh/rank_Worker-90c8832d-3574-4571-971d-ec5a2ebbc503.hdf5\n",
      "File already exists, skipping: /Users/moustholmes/Projects/METAL-AI/data/Li-Rh/rank_Worker-90f5146a-8ad8-4501-bbda-151620c21f6f.hdf5\n",
      "File already exists, skipping: /Users/moustholmes/Projects/METAL-AI/data/Li-Rh/rank_Worker-90f5146a-8ad8-4501-bbda-151620c21f6f.hdf5\n",
      "File already exists, skipping: /Users/moustholmes/Projects/METAL-AI/data/Li-Rh/rank_Worker-910b41b8-f4c9-42e6-9d25-787ccfbf34a9.hdf5\n",
      "File already exists, skipping: /Users/moustholmes/Projects/METAL-AI/data/Li-Rh/rank_Worker-910b41b8-f4c9-42e6-9d25-787ccfbf34a9.hdf5\n"
     ]
    },
    {
     "name": "stderr",
     "output_type": "stream",
     "text": [
      "Downloading files:  56%|█████▌    | 796/1422 [00:36<00:25, 24.24file/s]"
     ]
    },
    {
     "name": "stdout",
     "output_type": "stream",
     "text": [
      "Downloaded: /Users/moustholmes/Projects/METAL-AI/data/Li-Rh/rank_Worker-91854a86-90f8-4505-9efa-dd7798c291bb.hdf5\n",
      "File already exists, skipping: /Users/moustholmes/Projects/METAL-AI/data/Li-Rh/rank_Worker-91854a86-90f8-4505-9efa-dd7798c291bb.hdf5\n",
      "Downloaded: /Users/moustholmes/Projects/METAL-AI/data/Li-Rh/rank_Worker-91daf194-4348-4c7e-8ac5-f72d7b6c16d2.hdf5\n",
      "File already exists, skipping: /Users/moustholmes/Projects/METAL-AI/data/Li-Rh/rank_Worker-91daf194-4348-4c7e-8ac5-f72d7b6c16d2.hdf5\n",
      "File already exists, skipping: /Users/moustholmes/Projects/METAL-AI/data/Li-Rh/rank_Worker-9209c4e5-10cc-4011-92c8-f2ccc54137bf.hdf5\n",
      "File already exists, skipping: /Users/moustholmes/Projects/METAL-AI/data/Li-Rh/rank_Worker-9209c4e5-10cc-4011-92c8-f2ccc54137bf.hdf5\n",
      "File already exists, skipping: /Users/moustholmes/Projects/METAL-AI/data/Li-Rh/rank_Worker-925ca044-f1af-4354-a0e2-53714a5fc6fa.hdf5\n",
      "File already exists, skipping: /Users/moustholmes/Projects/METAL-AI/data/Li-Rh/rank_Worker-925ca044-f1af-4354-a0e2-53714a5fc6fa.hdf5\n",
      "File already exists, skipping: /Users/moustholmes/Projects/METAL-AI/data/Li-Rh/rank_Worker-926c560d-b976-4cf1-9ca1-98159230fb0a.hdf5\n",
      "File already exists, skipping: /Users/moustholmes/Projects/METAL-AI/data/Li-Rh/rank_Worker-926c560d-b976-4cf1-9ca1-98159230fb0a.hdf5\n",
      "File already exists, skipping: /Users/moustholmes/Projects/METAL-AI/data/Li-Rh/rank_Worker-92a15cb9-3aec-47f8-a334-c65e13fff8b6.hdf5\n",
      "File already exists, skipping: /Users/moustholmes/Projects/METAL-AI/data/Li-Rh/rank_Worker-92a15cb9-3aec-47f8-a334-c65e13fff8b6.hdf5\n",
      "File already exists, skipping: /Users/moustholmes/Projects/METAL-AI/data/Li-Rh/rank_Worker-92ae1e56-81b6-418f-b7d0-341866070369.hdf5\n",
      "File already exists, skipping: /Users/moustholmes/Projects/METAL-AI/data/Li-Rh/rank_Worker-92ae1e56-81b6-418f-b7d0-341866070369.hdf5\n",
      "File already exists, skipping: /Users/moustholmes/Projects/METAL-AI/data/Li-Rh/rank_Worker-92e753a2-9540-4c1e-b467-f8d35859b718.hdf5\n",
      "File already exists, skipping: /Users/moustholmes/Projects/METAL-AI/data/Li-Rh/rank_Worker-92e753a2-9540-4c1e-b467-f8d35859b718.hdf5\n",
      "File already exists, skipping: /Users/moustholmes/Projects/METAL-AI/data/Li-Rh/rank_Worker-93789580-6be6-4392-a4dd-6eed098220ff.hdf5\n",
      "File already exists, skipping: /Users/moustholmes/Projects/METAL-AI/data/Li-Rh/rank_Worker-93789580-6be6-4392-a4dd-6eed098220ff.hdf5\n",
      "File already exists, skipping: /Users/moustholmes/Projects/METAL-AI/data/Li-Rh/rank_Worker-938d254d-9f6b-481f-8d35-d04169bc22f8.hdf5\n",
      "File already exists, skipping: /Users/moustholmes/Projects/METAL-AI/data/Li-Rh/rank_Worker-938d254d-9f6b-481f-8d35-d04169bc22f8.hdf5\n"
     ]
    },
    {
     "name": "stderr",
     "output_type": "stream",
     "text": [
      "Downloading files:  57%|█████▋    | 813/1422 [00:36<00:14, 42.97file/s]"
     ]
    },
    {
     "name": "stdout",
     "output_type": "stream",
     "text": [
      "Downloaded: /Users/moustholmes/Projects/METAL-AI/data/Li-Rh/rank_Worker-94be6c63-699d-46f2-8219-79bd33032d9c.hdf5\n",
      "File already exists, skipping: /Users/moustholmes/Projects/METAL-AI/data/Li-Rh/rank_Worker-94be6c63-699d-46f2-8219-79bd33032d9c.hdf5\n",
      "File already exists, skipping: /Users/moustholmes/Projects/METAL-AI/data/Li-Rh/rank_Worker-94bf874c-768a-4293-9b9d-8a19d91cb22c.hdf5\n",
      "File already exists, skipping: /Users/moustholmes/Projects/METAL-AI/data/Li-Rh/rank_Worker-94bf874c-768a-4293-9b9d-8a19d91cb22c.hdf5\n"
     ]
    },
    {
     "name": "stderr",
     "output_type": "stream",
     "text": [
      "Downloading files:  58%|█████▊    | 818/1422 [00:36<00:17, 35.47file/s]"
     ]
    },
    {
     "name": "stdout",
     "output_type": "stream",
     "text": [
      "Downloaded: /Users/moustholmes/Projects/METAL-AI/data/Li-Rh/rank_Worker-94c51c6c-962a-4e7a-9606-4678cae77a69.hdf5\n",
      "File already exists, skipping: /Users/moustholmes/Projects/METAL-AI/data/Li-Rh/rank_Worker-94c51c6c-962a-4e7a-9606-4678cae77a69.hdf5\n"
     ]
    },
    {
     "name": "stderr",
     "output_type": "stream",
     "text": [
      "Downloading files:  58%|█████▊    | 822/1422 [00:37<00:25, 23.68file/s]"
     ]
    },
    {
     "name": "stdout",
     "output_type": "stream",
     "text": [
      "Downloaded: /Users/moustholmes/Projects/METAL-AI/data/Li-Rh/rank_Worker-94dd216d-7a8a-4e78-88d0-fb09820f20e2.hdf5\n",
      "File already exists, skipping: /Users/moustholmes/Projects/METAL-AI/data/Li-Rh/rank_Worker-94dd216d-7a8a-4e78-88d0-fb09820f20e2.hdf5\n",
      "Downloaded: /Users/moustholmes/Projects/METAL-AI/data/Li-Rh/rank_Worker-95ff1c53-582e-4c7f-9e90-46afaebcbdfe.hdf5\n",
      "File already exists, skipping: /Users/moustholmes/Projects/METAL-AI/data/Li-Rh/rank_Worker-95ff1c53-582e-4c7f-9e90-46afaebcbdfe.hdf5\n"
     ]
    },
    {
     "name": "stderr",
     "output_type": "stream",
     "text": [
      "Downloading files:  58%|█████▊    | 825/1422 [00:37<00:34, 17.33file/s]"
     ]
    },
    {
     "name": "stdout",
     "output_type": "stream",
     "text": [
      "Downloaded: /Users/moustholmes/Projects/METAL-AI/data/Li-Rh/rank_Worker-9622047c-faea-44bf-b9c2-0eac6a98f84a.hdf5\n",
      "File already exists, skipping: /Users/moustholmes/Projects/METAL-AI/data/Li-Rh/rank_Worker-9622047c-faea-44bf-b9c2-0eac6a98f84a.hdf5\n",
      "Downloaded: /Users/moustholmes/Projects/METAL-AI/data/Li-Rh/rank_Worker-96483d26-cf02-44b8-828b-f0d3b57b012f.hdf5\n",
      "File already exists, skipping: /Users/moustholmes/Projects/METAL-AI/data/Li-Rh/rank_Worker-96483d26-cf02-44b8-828b-f0d3b57b012f.hdf5\n"
     ]
    },
    {
     "name": "stderr",
     "output_type": "stream",
     "text": [
      "Downloading files:  59%|█████▉    | 837/1422 [00:38<00:24, 24.20file/s]"
     ]
    },
    {
     "name": "stdout",
     "output_type": "stream",
     "text": [
      "Downloaded: /Users/moustholmes/Projects/METAL-AI/data/Li-Rh/rank_Worker-96b1ece1-94e5-4026-9455-564e06caa288.hdf5\n",
      "File already exists, skipping: /Users/moustholmes/Projects/METAL-AI/data/Li-Rh/rank_Worker-96b1ece1-94e5-4026-9455-564e06caa288.hdf5\n",
      "File already exists, skipping: /Users/moustholmes/Projects/METAL-AI/data/Li-Rh/rank_Worker-96c0810d-3707-4a31-af16-86f12d9986d7.hdf5\n",
      "File already exists, skipping: /Users/moustholmes/Projects/METAL-AI/data/Li-Rh/rank_Worker-96c0810d-3707-4a31-af16-86f12d9986d7.hdf5\n",
      "File already exists, skipping: /Users/moustholmes/Projects/METAL-AI/data/Li-Rh/rank_Worker-96d9e44c-1b0f-4397-9afd-fab2c09301e9.hdf5\n",
      "File already exists, skipping: /Users/moustholmes/Projects/METAL-AI/data/Li-Rh/rank_Worker-96d9e44c-1b0f-4397-9afd-fab2c09301e9.hdf5\n",
      "File already exists, skipping: /Users/moustholmes/Projects/METAL-AI/data/Li-Rh/rank_Worker-96fe060c-5197-42ca-98c3-8d1244b6ff86.hdf5\n",
      "File already exists, skipping: /Users/moustholmes/Projects/METAL-AI/data/Li-Rh/rank_Worker-96fe060c-5197-42ca-98c3-8d1244b6ff86.hdf5\n",
      "File already exists, skipping: /Users/moustholmes/Projects/METAL-AI/data/Li-Rh/rank_Worker-9710a703-d86f-4ce8-a0b7-b7d0cc11f4cb.hdf5\n",
      "File already exists, skipping: /Users/moustholmes/Projects/METAL-AI/data/Li-Rh/rank_Worker-9710a703-d86f-4ce8-a0b7-b7d0cc11f4cb.hdf5\n",
      "Downloaded: /Users/moustholmes/Projects/METAL-AI/data/Li-Rh/rank_Worker-97bf9ad5-f51f-4e9a-b8ea-fcdb82190030.hdf5\n",
      "File already exists, skipping: /Users/moustholmes/Projects/METAL-AI/data/Li-Rh/rank_Worker-97bf9ad5-f51f-4e9a-b8ea-fcdb82190030.hdf5\n"
     ]
    },
    {
     "name": "stderr",
     "output_type": "stream",
     "text": [
      "Downloading files:  60%|█████▉    | 847/1422 [00:38<00:22, 25.85file/s]"
     ]
    },
    {
     "name": "stdout",
     "output_type": "stream",
     "text": [
      "Downloaded: /Users/moustholmes/Projects/METAL-AI/data/Li-Rh/rank_Worker-97d3c424-15ef-4f7f-9dc6-a457f52e4704.hdf5\n",
      "File already exists, skipping: /Users/moustholmes/Projects/METAL-AI/data/Li-Rh/rank_Worker-97d3c424-15ef-4f7f-9dc6-a457f52e4704.hdf5\n",
      "File already exists, skipping: /Users/moustholmes/Projects/METAL-AI/data/Li-Rh/rank_Worker-98281e07-a27e-48ba-af7c-d0e714952f45.hdf5\n",
      "File already exists, skipping: /Users/moustholmes/Projects/METAL-AI/data/Li-Rh/rank_Worker-98281e07-a27e-48ba-af7c-d0e714952f45.hdf5\n",
      "File already exists, skipping: /Users/moustholmes/Projects/METAL-AI/data/Li-Rh/rank_Worker-987c9441-8c34-4176-bc9c-d9fada5ad451.hdf5\n",
      "File already exists, skipping: /Users/moustholmes/Projects/METAL-AI/data/Li-Rh/rank_Worker-987c9441-8c34-4176-bc9c-d9fada5ad451.hdf5\n",
      "File already exists, skipping: /Users/moustholmes/Projects/METAL-AI/data/Li-Rh/rank_Worker-9881d568-d849-4771-9e28-35481f60e2a7.hdf5\n",
      "File already exists, skipping: /Users/moustholmes/Projects/METAL-AI/data/Li-Rh/rank_Worker-9881d568-d849-4771-9e28-35481f60e2a7.hdf5\n",
      "Downloaded: /Users/moustholmes/Projects/METAL-AI/data/Li-Rh/rank_Worker-98d2e779-ecb3-4e12-8285-ca95338287d6.hdf5\n",
      "File already exists, skipping: /Users/moustholmes/Projects/METAL-AI/data/Li-Rh/rank_Worker-98d2e779-ecb3-4e12-8285-ca95338287d6.hdf5\n",
      "File already exists, skipping: /Users/moustholmes/Projects/METAL-AI/data/Li-Rh/rank_Worker-98da3ac1-b01e-46df-8cdd-87d69bd7f712.hdf5\n",
      "File already exists, skipping: /Users/moustholmes/Projects/METAL-AI/data/Li-Rh/rank_Worker-98da3ac1-b01e-46df-8cdd-87d69bd7f712.hdf5\n"
     ]
    },
    {
     "name": "stderr",
     "output_type": "stream",
     "text": [
      "Downloading files:  60%|██████    | 854/1422 [00:38<00:26, 21.70file/s]"
     ]
    },
    {
     "name": "stdout",
     "output_type": "stream",
     "text": [
      "Downloaded: /Users/moustholmes/Projects/METAL-AI/data/Li-Rh/rank_Worker-98f292f5-038e-4626-8929-05e8f518f4c3.hdf5\n",
      "File already exists, skipping: /Users/moustholmes/Projects/METAL-AI/data/Li-Rh/rank_Worker-98f292f5-038e-4626-8929-05e8f518f4c3.hdf5\n",
      "Downloaded: /Users/moustholmes/Projects/METAL-AI/data/Li-Rh/rank_Worker-99230883-9c36-4df4-acb3-a9e14741c9cc.hdf5\n",
      "File already exists, skipping: /Users/moustholmes/Projects/METAL-AI/data/Li-Rh/rank_Worker-99230883-9c36-4df4-acb3-a9e14741c9cc.hdf5\n"
     ]
    },
    {
     "name": "stderr",
     "output_type": "stream",
     "text": [
      "Downloading files:  60%|██████    | 857/1422 [00:39<00:36, 15.43file/s]"
     ]
    },
    {
     "name": "stdout",
     "output_type": "stream",
     "text": [
      "Downloaded: /Users/moustholmes/Projects/METAL-AI/data/Li-Rh/rank_Worker-9925aea3-48db-4327-82ab-78c594115eb8.hdf5\n",
      "File already exists, skipping: /Users/moustholmes/Projects/METAL-AI/data/Li-Rh/rank_Worker-9925aea3-48db-4327-82ab-78c594115eb8.hdf5\n",
      "Downloaded: /Users/moustholmes/Projects/METAL-AI/data/Li-Rh/rank_Worker-997a0c1b-2f35-42c8-a5e7-36777e8a0d19.hdf5\n",
      "File already exists, skipping: /Users/moustholmes/Projects/METAL-AI/data/Li-Rh/rank_Worker-997a0c1b-2f35-42c8-a5e7-36777e8a0d19.hdf5\n",
      "File already exists, skipping: /Users/moustholmes/Projects/METAL-AI/data/Li-Rh/rank_Worker-9a12ea69-34e9-4351-918e-4177ad455348.hdf5\n",
      "File already exists, skipping: /Users/moustholmes/Projects/METAL-AI/data/Li-Rh/rank_Worker-9a12ea69-34e9-4351-918e-4177ad455348.hdf5\n"
     ]
    },
    {
     "name": "stderr",
     "output_type": "stream",
     "text": [
      "Downloading files:  61%|██████    | 861/1422 [00:39<00:33, 16.66file/s]"
     ]
    },
    {
     "name": "stdout",
     "output_type": "stream",
     "text": [
      "Downloaded: /Users/moustholmes/Projects/METAL-AI/data/Li-Rh/rank_Worker-9a4d8056-56ea-411c-b7c0-9b9b3f752a55.hdf5\n",
      "File already exists, skipping: /Users/moustholmes/Projects/METAL-AI/data/Li-Rh/rank_Worker-9a4d8056-56ea-411c-b7c0-9b9b3f752a55.hdf5\n",
      "File already exists, skipping: /Users/moustholmes/Projects/METAL-AI/data/Li-Rh/rank_Worker-9a58de85-b641-44b8-9855-aa743bc46988.hdf5\n",
      "File already exists, skipping: /Users/moustholmes/Projects/METAL-AI/data/Li-Rh/rank_Worker-9a58de85-b641-44b8-9855-aa743bc46988.hdf5\n"
     ]
    },
    {
     "name": "stderr",
     "output_type": "stream",
     "text": [
      "Downloading files:  61%|██████    | 869/1422 [00:39<00:30, 18.11file/s]"
     ]
    },
    {
     "name": "stdout",
     "output_type": "stream",
     "text": [
      "Downloaded: /Users/moustholmes/Projects/METAL-AI/data/Li-Rh/rank_Worker-9aac4e4d-4cd0-43a6-a475-f5b4bf07f350.hdf5\n",
      "File already exists, skipping: /Users/moustholmes/Projects/METAL-AI/data/Li-Rh/rank_Worker-9aac4e4d-4cd0-43a6-a475-f5b4bf07f350.hdf5\n",
      "File already exists, skipping: /Users/moustholmes/Projects/METAL-AI/data/Li-Rh/rank_Worker-9af77a75-f1d4-4f98-8632-e3ab615aa58e.hdf5\n",
      "File already exists, skipping: /Users/moustholmes/Projects/METAL-AI/data/Li-Rh/rank_Worker-9af77a75-f1d4-4f98-8632-e3ab615aa58e.hdf5\n",
      "Downloaded: /Users/moustholmes/Projects/METAL-AI/data/Li-Rh/rank_Worker-9b07410b-a93e-429c-a467-fedc56393c55.hdf5\n",
      "File already exists, skipping: /Users/moustholmes/Projects/METAL-AI/data/Li-Rh/rank_Worker-9b07410b-a93e-429c-a467-fedc56393c55.hdf5\n",
      "File already exists, skipping: /Users/moustholmes/Projects/METAL-AI/data/Li-Rh/rank_Worker-9b759a52-9ef2-4e85-93d2-1ef11f6795ef.hdf5\n",
      "File already exists, skipping: /Users/moustholmes/Projects/METAL-AI/data/Li-Rh/rank_Worker-9b759a52-9ef2-4e85-93d2-1ef11f6795ef.hdf5\n",
      "File already exists, skipping: /Users/moustholmes/Projects/METAL-AI/data/Li-Rh/rank_Worker-9c003887-fa38-4e4f-b593-54089f5a545a.hdf5\n",
      "File already exists, skipping: /Users/moustholmes/Projects/METAL-AI/data/Li-Rh/rank_Worker-9c003887-fa38-4e4f-b593-54089f5a545a.hdf5\n"
     ]
    },
    {
     "name": "stderr",
     "output_type": "stream",
     "text": [
      "Downloading files:  62%|██████▏   | 879/1422 [00:40<00:25, 21.53file/s]"
     ]
    },
    {
     "name": "stdout",
     "output_type": "stream",
     "text": [
      "Downloaded: /Users/moustholmes/Projects/METAL-AI/data/Li-Rh/rank_Worker-9c332ddc-cf5f-4c6a-9460-48afe5503fc5.hdf5\n",
      "File already exists, skipping: /Users/moustholmes/Projects/METAL-AI/data/Li-Rh/rank_Worker-9c332ddc-cf5f-4c6a-9460-48afe5503fc5.hdf5\n",
      "File already exists, skipping: /Users/moustholmes/Projects/METAL-AI/data/Li-Rh/rank_Worker-9ca1068d-2f0e-4a06-862d-c59810c51d49.hdf5\n",
      "File already exists, skipping: /Users/moustholmes/Projects/METAL-AI/data/Li-Rh/rank_Worker-9ca1068d-2f0e-4a06-862d-c59810c51d49.hdf5\n",
      "Downloaded: /Users/moustholmes/Projects/METAL-AI/data/Li-Rh/rank_Worker-9cf00e80-ba06-4ebe-b88f-9082b7cf5cc0.hdf5\n",
      "File already exists, skipping: /Users/moustholmes/Projects/METAL-AI/data/Li-Rh/rank_Worker-9cf00e80-ba06-4ebe-b88f-9082b7cf5cc0.hdf5\n",
      "File already exists, skipping: /Users/moustholmes/Projects/METAL-AI/data/Li-Rh/rank_Worker-9e02d33c-5289-4033-ae7a-c6e841d781ff.hdf5\n",
      "File already exists, skipping: /Users/moustholmes/Projects/METAL-AI/data/Li-Rh/rank_Worker-9e02d33c-5289-4033-ae7a-c6e841d781ff.hdf5\n",
      "File already exists, skipping: /Users/moustholmes/Projects/METAL-AI/data/Li-Rh/rank_Worker-9eeba17d-13f0-4d88-8932-02611965cc19.hdf5\n",
      "File already exists, skipping: /Users/moustholmes/Projects/METAL-AI/data/Li-Rh/rank_Worker-9eeba17d-13f0-4d88-8932-02611965cc19.hdf5\n"
     ]
    },
    {
     "name": "stderr",
     "output_type": "stream",
     "text": [
      "Downloading files:  62%|██████▏   | 885/1422 [00:40<00:22, 24.10file/s]"
     ]
    },
    {
     "name": "stdout",
     "output_type": "stream",
     "text": [
      "Downloaded: /Users/moustholmes/Projects/METAL-AI/data/Li-Rh/rank_Worker-9fbc08b6-e103-4d04-9ff2-34f56f5aee18.hdf5\n",
      "File already exists, skipping: /Users/moustholmes/Projects/METAL-AI/data/Li-Rh/rank_Worker-9fbc08b6-e103-4d04-9ff2-34f56f5aee18.hdf5\n",
      "File already exists, skipping: /Users/moustholmes/Projects/METAL-AI/data/Li-Rh/rank_Worker-a0ba7789-8bf0-4102-b1bc-66d2e3a14941.hdf5\n",
      "File already exists, skipping: /Users/moustholmes/Projects/METAL-AI/data/Li-Rh/rank_Worker-a0ba7789-8bf0-4102-b1bc-66d2e3a14941.hdf5\n",
      "File already exists, skipping: /Users/moustholmes/Projects/METAL-AI/data/Li-Rh/rank_Worker-a14571d1-37b8-426b-96af-6b5abb1fccf4.hdf5\n",
      "File already exists, skipping: /Users/moustholmes/Projects/METAL-AI/data/Li-Rh/rank_Worker-a14571d1-37b8-426b-96af-6b5abb1fccf4.hdf5\n",
      "File already exists, skipping: /Users/moustholmes/Projects/METAL-AI/data/Li-Rh/rank_Worker-a1a6cd26-01a4-424b-8b0c-c10caa8add98.hdf5\n",
      "File already exists, skipping: /Users/moustholmes/Projects/METAL-AI/data/Li-Rh/rank_Worker-a1a6cd26-01a4-424b-8b0c-c10caa8add98.hdf5\n"
     ]
    },
    {
     "name": "stderr",
     "output_type": "stream",
     "text": [
      "Downloading files:  63%|██████▎   | 896/1422 [00:40<00:21, 24.28file/s]"
     ]
    },
    {
     "name": "stdout",
     "output_type": "stream",
     "text": [
      "Downloaded: /Users/moustholmes/Projects/METAL-AI/data/Li-Rh/rank_Worker-a207602b-09b5-4989-94e4-be1c1d31b684.hdf5\n",
      "File already exists, skipping: /Users/moustholmes/Projects/METAL-AI/data/Li-Rh/rank_Worker-a207602b-09b5-4989-94e4-be1c1d31b684.hdf5\n",
      "Downloaded: /Users/moustholmes/Projects/METAL-AI/data/Li-Rh/rank_Worker-a22e1617-9d30-4718-8956-a622e3ecb154.hdf5\n",
      "File already exists, skipping: /Users/moustholmes/Projects/METAL-AI/data/Li-Rh/rank_Worker-a22e1617-9d30-4718-8956-a622e3ecb154.hdf5\n",
      "File already exists, skipping: /Users/moustholmes/Projects/METAL-AI/data/Li-Rh/rank_Worker-a2effd86-0052-46f6-b144-60451d22d724.hdf5\n",
      "File already exists, skipping: /Users/moustholmes/Projects/METAL-AI/data/Li-Rh/rank_Worker-a2effd86-0052-46f6-b144-60451d22d724.hdf5\n",
      "File already exists, skipping: /Users/moustholmes/Projects/METAL-AI/data/Li-Rh/rank_Worker-a320fad2-3444-4318-a0da-97eaef290937.hdf5\n",
      "File already exists, skipping: /Users/moustholmes/Projects/METAL-AI/data/Li-Rh/rank_Worker-a320fad2-3444-4318-a0da-97eaef290937.hdf5\n",
      "File already exists, skipping: /Users/moustholmes/Projects/METAL-AI/data/Li-Rh/rank_Worker-a36913ba-1b7e-4b05-b9cf-2b2b78b7a6b5.hdf5\n",
      "File already exists, skipping: /Users/moustholmes/Projects/METAL-AI/data/Li-Rh/rank_Worker-a36913ba-1b7e-4b05-b9cf-2b2b78b7a6b5.hdf5\n"
     ]
    },
    {
     "name": "stderr",
     "output_type": "stream",
     "text": [
      "Downloading files:  64%|██████▎   | 903/1422 [00:41<00:18, 27.35file/s]"
     ]
    },
    {
     "name": "stdout",
     "output_type": "stream",
     "text": [
      "Downloaded: /Users/moustholmes/Projects/METAL-AI/data/Li-Rh/rank_Worker-a424cb0d-4e2e-4132-97ef-5f278df7cf90.hdf5\n",
      "File already exists, skipping: /Users/moustholmes/Projects/METAL-AI/data/Li-Rh/rank_Worker-a424cb0d-4e2e-4132-97ef-5f278df7cf90.hdf5\n"
     ]
    },
    {
     "name": "stderr",
     "output_type": "stream",
     "text": [
      "Downloading files:  64%|██████▎   | 906/1422 [00:41<00:21, 23.57file/s]"
     ]
    },
    {
     "name": "stdout",
     "output_type": "stream",
     "text": [
      "Downloaded: /Users/moustholmes/Projects/METAL-AI/data/Li-Rh/rank_Worker-a45aca9d-f972-4941-83ad-d865015ca064.hdf5\n",
      "File already exists, skipping: /Users/moustholmes/Projects/METAL-AI/data/Li-Rh/rank_Worker-a45aca9d-f972-4941-83ad-d865015ca064.hdf5\n",
      "File already exists, skipping: /Users/moustholmes/Projects/METAL-AI/data/Li-Rh/rank_Worker-a537ea09-c4ad-4c1f-b882-b81a104fc54f.hdf5\n",
      "File already exists, skipping: /Users/moustholmes/Projects/METAL-AI/data/Li-Rh/rank_Worker-a537ea09-c4ad-4c1f-b882-b81a104fc54f.hdf5\n",
      "File already exists, skipping: /Users/moustholmes/Projects/METAL-AI/data/Li-Rh/rank_Worker-a54b00dd-e6d6-4fad-b51c-cd3754c9015e.hdf5\n",
      "File already exists, skipping: /Users/moustholmes/Projects/METAL-AI/data/Li-Rh/rank_Worker-a54b00dd-e6d6-4fad-b51c-cd3754c9015e.hdf5\n",
      "File already exists, skipping: /Users/moustholmes/Projects/METAL-AI/data/Li-Rh/rank_Worker-a574c489-e60d-4bdd-a2bc-fff435c3dc1c.hdf5\n",
      "File already exists, skipping: /Users/moustholmes/Projects/METAL-AI/data/Li-Rh/rank_Worker-a574c489-e60d-4bdd-a2bc-fff435c3dc1c.hdf5\n"
     ]
    },
    {
     "name": "stderr",
     "output_type": "stream",
     "text": [
      "Downloading files:  64%|██████▍   | 913/1422 [00:41<00:19, 26.23file/s]"
     ]
    },
    {
     "name": "stdout",
     "output_type": "stream",
     "text": [
      "Downloaded: /Users/moustholmes/Projects/METAL-AI/data/Li-Rh/rank_Worker-a5c62494-4cfb-4cf8-9969-cb145ab9d19d.hdf5\n",
      "File already exists, skipping: /Users/moustholmes/Projects/METAL-AI/data/Li-Rh/rank_Worker-a5c62494-4cfb-4cf8-9969-cb145ab9d19d.hdf5\n"
     ]
    },
    {
     "name": "stderr",
     "output_type": "stream",
     "text": [
      "Downloading files:  64%|██████▍   | 916/1422 [00:41<00:24, 21.07file/s]"
     ]
    },
    {
     "name": "stdout",
     "output_type": "stream",
     "text": [
      "Downloaded: /Users/moustholmes/Projects/METAL-AI/data/Li-Rh/rank_Worker-a6808abc-021b-4605-9882-61f9d616fe8e.hdf5\n",
      "File already exists, skipping: /Users/moustholmes/Projects/METAL-AI/data/Li-Rh/rank_Worker-a6808abc-021b-4605-9882-61f9d616fe8e.hdf5\n",
      "File already exists, skipping: /Users/moustholmes/Projects/METAL-AI/data/Li-Rh/rank_Worker-a6d7b68d-31b7-42b2-9cd6-2de0806198d1.hdf5\n",
      "File already exists, skipping: /Users/moustholmes/Projects/METAL-AI/data/Li-Rh/rank_Worker-a6d7b68d-31b7-42b2-9cd6-2de0806198d1.hdf5\n",
      "File already exists, skipping: /Users/moustholmes/Projects/METAL-AI/data/Li-Rh/rank_Worker-a6f7dc39-dbb3-478d-a5e4-ac1ba5e2a3e4.hdf5\n",
      "File already exists, skipping: /Users/moustholmes/Projects/METAL-AI/data/Li-Rh/rank_Worker-a6f7dc39-dbb3-478d-a5e4-ac1ba5e2a3e4.hdf5\n",
      "File already exists, skipping: /Users/moustholmes/Projects/METAL-AI/data/Li-Rh/rank_Worker-a71dcae6-66a7-4570-a904-e78b42526fd0.hdf5\n",
      "File already exists, skipping: /Users/moustholmes/Projects/METAL-AI/data/Li-Rh/rank_Worker-a71dcae6-66a7-4570-a904-e78b42526fd0.hdf5\n",
      "File already exists, skipping: /Users/moustholmes/Projects/METAL-AI/data/Li-Rh/rank_Worker-a73a964e-da88-4357-9a75-a7ac08a7b488.hdf5\n",
      "File already exists, skipping: /Users/moustholmes/Projects/METAL-AI/data/Li-Rh/rank_Worker-a73a964e-da88-4357-9a75-a7ac08a7b488.hdf5\n"
     ]
    },
    {
     "name": "stderr",
     "output_type": "stream",
     "text": [
      "Downloading files:  65%|██████▌   | 925/1422 [00:41<00:18, 27.47file/s]"
     ]
    },
    {
     "name": "stdout",
     "output_type": "stream",
     "text": [
      "Downloaded: /Users/moustholmes/Projects/METAL-AI/data/Li-Rh/rank_Worker-a742902a-6c07-412c-b393-48599918649c.hdf5\n",
      "File already exists, skipping: /Users/moustholmes/Projects/METAL-AI/data/Li-Rh/rank_Worker-a742902a-6c07-412c-b393-48599918649c.hdf5\n",
      "File already exists, skipping: /Users/moustholmes/Projects/METAL-AI/data/Li-Rh/rank_Worker-a78d573f-2691-4d5a-aba1-8b99ac931e44.hdf5\n",
      "File already exists, skipping: /Users/moustholmes/Projects/METAL-AI/data/Li-Rh/rank_Worker-a78d573f-2691-4d5a-aba1-8b99ac931e44.hdf5\n"
     ]
    },
    {
     "name": "stderr",
     "output_type": "stream",
     "text": [
      "Downloading files:  66%|██████▌   | 932/1422 [00:42<00:21, 22.60file/s]"
     ]
    },
    {
     "name": "stdout",
     "output_type": "stream",
     "text": [
      "Downloaded: /Users/moustholmes/Projects/METAL-AI/data/Li-Rh/rank_Worker-a89ae270-2329-4eb9-8456-5f8f251cdc19.hdf5\n",
      "File already exists, skipping: /Users/moustholmes/Projects/METAL-AI/data/Li-Rh/rank_Worker-a89ae270-2329-4eb9-8456-5f8f251cdc19.hdf5\n",
      "Downloaded: /Users/moustholmes/Projects/METAL-AI/data/Li-Rh/rank_Worker-a8af0920-8b8d-4209-9369-f7ed70646634.hdf5\n",
      "File already exists, skipping: /Users/moustholmes/Projects/METAL-AI/data/Li-Rh/rank_Worker-a8af0920-8b8d-4209-9369-f7ed70646634.hdf5\n",
      "File already exists, skipping: /Users/moustholmes/Projects/METAL-AI/data/Li-Rh/rank_Worker-a8c57572-14cc-4675-a762-ede341a0a01e.hdf5\n",
      "File already exists, skipping: /Users/moustholmes/Projects/METAL-AI/data/Li-Rh/rank_Worker-a8c57572-14cc-4675-a762-ede341a0a01e.hdf5\n",
      "File already exists, skipping: /Users/moustholmes/Projects/METAL-AI/data/Li-Rh/rank_Worker-a9117727-bb5b-4cc3-a708-1df43d061853.hdf5\n",
      "File already exists, skipping: /Users/moustholmes/Projects/METAL-AI/data/Li-Rh/rank_Worker-a9117727-bb5b-4cc3-a708-1df43d061853.hdf5\n",
      "File already exists, skipping: /Users/moustholmes/Projects/METAL-AI/data/Li-Rh/rank_Worker-a95dc70e-e021-4aed-974a-f3e81738e210.hdf5\n",
      "File already exists, skipping: /Users/moustholmes/Projects/METAL-AI/data/Li-Rh/rank_Worker-a95dc70e-e021-4aed-974a-f3e81738e210.hdf5\n",
      "File already exists, skipping: /Users/moustholmes/Projects/METAL-AI/data/Li-Rh/rank_Worker-a97bab88-fb86-494f-8357-db6fa5487eee.hdf5\n",
      "File already exists, skipping: /Users/moustholmes/Projects/METAL-AI/data/Li-Rh/rank_Worker-a97bab88-fb86-494f-8357-db6fa5487eee.hdf5\n",
      "File already exists, skipping: /Users/moustholmes/Projects/METAL-AI/data/Li-Rh/rank_Worker-a9b05412-b09f-4f24-85b6-d8b248192003.hdf5\n",
      "File already exists, skipping: /Users/moustholmes/Projects/METAL-AI/data/Li-Rh/rank_Worker-a9b05412-b09f-4f24-85b6-d8b248192003.hdf5\n"
     ]
    },
    {
     "name": "stderr",
     "output_type": "stream",
     "text": [
      "Downloading files:  66%|██████▋   | 943/1422 [00:42<00:14, 32.16file/s]"
     ]
    },
    {
     "name": "stdout",
     "output_type": "stream",
     "text": [
      "Downloaded: /Users/moustholmes/Projects/METAL-AI/data/Li-Rh/rank_Worker-a9ba105a-a380-4be1-9121-7ef77488272e.hdf5\n",
      "File already exists, skipping: /Users/moustholmes/Projects/METAL-AI/data/Li-Rh/rank_Worker-a9ba105a-a380-4be1-9121-7ef77488272e.hdf5\n",
      "File already exists, skipping: /Users/moustholmes/Projects/METAL-AI/data/Li-Rh/rank_Worker-aa959643-9caa-447f-ab53-c8d12153e8ce.hdf5\n",
      "File already exists, skipping: /Users/moustholmes/Projects/METAL-AI/data/Li-Rh/rank_Worker-aa959643-9caa-447f-ab53-c8d12153e8ce.hdf5\n",
      "File already exists, skipping: /Users/moustholmes/Projects/METAL-AI/data/Li-Rh/rank_Worker-ab525cd8-9a35-4db1-9691-3a8d333f7926.hdf5\n",
      "File already exists, skipping: /Users/moustholmes/Projects/METAL-AI/data/Li-Rh/rank_Worker-ab525cd8-9a35-4db1-9691-3a8d333f7926.hdf5\n",
      "File already exists, skipping: /Users/moustholmes/Projects/METAL-AI/data/Li-Rh/rank_Worker-ab5f2672-15c3-4693-844f-0cce2786b655.hdf5\n",
      "File already exists, skipping: /Users/moustholmes/Projects/METAL-AI/data/Li-Rh/rank_Worker-ab5f2672-15c3-4693-844f-0cce2786b655.hdf5\n"
     ]
    },
    {
     "name": "stderr",
     "output_type": "stream",
     "text": [
      "Downloading files:  67%|██████▋   | 951/1422 [00:42<00:13, 33.98file/s]"
     ]
    },
    {
     "name": "stdout",
     "output_type": "stream",
     "text": [
      "Downloaded: /Users/moustholmes/Projects/METAL-AI/data/Li-Rh/rank_Worker-ab76b534-8b0a-404c-9a6c-e38b11cdd0aa.hdf5\n",
      "File already exists, skipping: /Users/moustholmes/Projects/METAL-AI/data/Li-Rh/rank_Worker-ab76b534-8b0a-404c-9a6c-e38b11cdd0aa.hdf5\n",
      "Downloaded: /Users/moustholmes/Projects/METAL-AI/data/Li-Rh/rank_Worker-acc626c9-51eb-49f3-b152-d49199a44c35.hdf5\n",
      "File already exists, skipping: /Users/moustholmes/Projects/METAL-AI/data/Li-Rh/rank_Worker-acc626c9-51eb-49f3-b152-d49199a44c35.hdf5\n"
     ]
    },
    {
     "name": "stderr",
     "output_type": "stream",
     "text": [
      "Downloading files:  67%|██████▋   | 958/1422 [00:43<00:21, 21.93file/s]"
     ]
    },
    {
     "name": "stdout",
     "output_type": "stream",
     "text": [
      "Downloaded: /Users/moustholmes/Projects/METAL-AI/data/Li-Rh/rank_Worker-adc6e174-fcfe-4969-ace6-b59d20ff20ec.hdf5\n",
      "File already exists, skipping: /Users/moustholmes/Projects/METAL-AI/data/Li-Rh/rank_Worker-adc6e174-fcfe-4969-ace6-b59d20ff20ec.hdf5\n",
      "Downloaded: /Users/moustholmes/Projects/METAL-AI/data/Li-Rh/rank_Worker-adf16456-821c-47d1-8b0b-9e704ebebf78.hdf5\n",
      "File already exists, skipping: /Users/moustholmes/Projects/METAL-AI/data/Li-Rh/rank_Worker-adf16456-821c-47d1-8b0b-9e704ebebf78.hdf5\n",
      "File already exists, skipping: /Users/moustholmes/Projects/METAL-AI/data/Li-Rh/rank_Worker-ae0430cd-4dc3-4bae-b2a9-3043e5fc659f.hdf5\n",
      "File already exists, skipping: /Users/moustholmes/Projects/METAL-AI/data/Li-Rh/rank_Worker-ae0430cd-4dc3-4bae-b2a9-3043e5fc659f.hdf5\n",
      "File already exists, skipping: /Users/moustholmes/Projects/METAL-AI/data/Li-Rh/rank_Worker-ae592d39-fcfa-43fc-bfd2-be79734d73ba.hdf5\n",
      "File already exists, skipping: /Users/moustholmes/Projects/METAL-AI/data/Li-Rh/rank_Worker-ae592d39-fcfa-43fc-bfd2-be79734d73ba.hdf5\n",
      "File already exists, skipping: /Users/moustholmes/Projects/METAL-AI/data/Li-Rh/rank_Worker-ae6c0f62-d7c8-4291-9835-5c9cfd0bbde1.hdf5\n",
      "File already exists, skipping: /Users/moustholmes/Projects/METAL-AI/data/Li-Rh/rank_Worker-ae6c0f62-d7c8-4291-9835-5c9cfd0bbde1.hdf5\n",
      "File already exists, skipping: /Users/moustholmes/Projects/METAL-AI/data/Li-Rh/rank_Worker-ae84ff13-3dbb-4120-b24f-88d0bda42796.hdf5\n",
      "File already exists, skipping: /Users/moustholmes/Projects/METAL-AI/data/Li-Rh/rank_Worker-ae84ff13-3dbb-4120-b24f-88d0bda42796.hdf5\n"
     ]
    },
    {
     "name": "stderr",
     "output_type": "stream",
     "text": [
      "Downloading files:  68%|██████▊   | 967/1422 [00:43<00:16, 28.05file/s]"
     ]
    },
    {
     "name": "stdout",
     "output_type": "stream",
     "text": [
      "Downloaded: /Users/moustholmes/Projects/METAL-AI/data/Li-Rh/rank_Worker-ae92855a-9fad-44d8-ac5b-73ee9de8ee39.hdf5\n",
      "File already exists, skipping: /Users/moustholmes/Projects/METAL-AI/data/Li-Rh/rank_Worker-ae92855a-9fad-44d8-ac5b-73ee9de8ee39.hdf5\n"
     ]
    },
    {
     "name": "stderr",
     "output_type": "stream",
     "text": [
      "Downloading files:  68%|██████▊   | 971/1422 [00:43<00:22, 20.33file/s]"
     ]
    },
    {
     "name": "stdout",
     "output_type": "stream",
     "text": [
      "Downloaded: /Users/moustholmes/Projects/METAL-AI/data/Li-Rh/rank_Worker-ae9d7620-5be3-4a7d-a3e6-aef50431b247.hdf5\n",
      "File already exists, skipping: /Users/moustholmes/Projects/METAL-AI/data/Li-Rh/rank_Worker-ae9d7620-5be3-4a7d-a3e6-aef50431b247.hdf5\n",
      "Downloaded: /Users/moustholmes/Projects/METAL-AI/data/Li-Rh/rank_Worker-aef215c8-3b32-4744-98ee-751942d96262.hdf5\n",
      "File already exists, skipping: /Users/moustholmes/Projects/METAL-AI/data/Li-Rh/rank_Worker-aef215c8-3b32-4744-98ee-751942d96262.hdf5\n"
     ]
    },
    {
     "name": "stderr",
     "output_type": "stream",
     "text": [
      "Downloading files:  69%|██████▊   | 977/1422 [00:44<00:24, 18.13file/s]"
     ]
    },
    {
     "name": "stdout",
     "output_type": "stream",
     "text": [
      "Downloaded: /Users/moustholmes/Projects/METAL-AI/data/Li-Rh/rank_Worker-af178db3-0ecc-42de-8e61-c105c1ca416e.hdf5\n",
      "File already exists, skipping: /Users/moustholmes/Projects/METAL-AI/data/Li-Rh/rank_Worker-af178db3-0ecc-42de-8e61-c105c1ca416e.hdf5\n",
      "Downloaded: /Users/moustholmes/Projects/METAL-AI/data/Li-Rh/rank_Worker-af31341d-6480-4ca5-8d4c-bfd7a41047bd.hdf5\n",
      "File already exists, skipping: /Users/moustholmes/Projects/METAL-AI/data/Li-Rh/rank_Worker-af31341d-6480-4ca5-8d4c-bfd7a41047bd.hdf5\n",
      "File already exists, skipping: /Users/moustholmes/Projects/METAL-AI/data/Li-Rh/rank_Worker-af68d7af-16a1-4a5c-91d0-6f22bd206d37.hdf5\n",
      "File already exists, skipping: /Users/moustholmes/Projects/METAL-AI/data/Li-Rh/rank_Worker-af68d7af-16a1-4a5c-91d0-6f22bd206d37.hdf5\n",
      "File already exists, skipping: /Users/moustholmes/Projects/METAL-AI/data/Li-Rh/rank_Worker-b006bc5e-0065-4538-8c8c-5cd0b64797e7.hdf5\n",
      "File already exists, skipping: /Users/moustholmes/Projects/METAL-AI/data/Li-Rh/rank_Worker-b006bc5e-0065-4538-8c8c-5cd0b64797e7.hdf5\n"
     ]
    },
    {
     "name": "stderr",
     "output_type": "stream",
     "text": [
      "Downloading files:  69%|██████▉   | 984/1422 [00:44<00:23, 18.26file/s]"
     ]
    },
    {
     "name": "stdout",
     "output_type": "stream",
     "text": [
      "Downloaded: /Users/moustholmes/Projects/METAL-AI/data/Li-Rh/rank_Worker-b05eedf8-bc60-4a6f-a783-f0963db682ca.hdf5\n",
      "File already exists, skipping: /Users/moustholmes/Projects/METAL-AI/data/Li-Rh/rank_Worker-b05eedf8-bc60-4a6f-a783-f0963db682ca.hdf5\n",
      "Downloaded: /Users/moustholmes/Projects/METAL-AI/data/Li-Rh/rank_Worker-b197c4bf-0fc9-41d5-a1da-ebe6e514c259.hdf5\n",
      "File already exists, skipping: /Users/moustholmes/Projects/METAL-AI/data/Li-Rh/rank_Worker-b197c4bf-0fc9-41d5-a1da-ebe6e514c259.hdf5\n"
     ]
    },
    {
     "name": "stderr",
     "output_type": "stream",
     "text": [
      "Downloading files:  70%|██████▉   | 989/1422 [00:45<00:27, 15.90file/s]"
     ]
    },
    {
     "name": "stdout",
     "output_type": "stream",
     "text": [
      "Downloaded: /Users/moustholmes/Projects/METAL-AI/data/Li-Rh/rank_Worker-b281881c-c861-407b-b0bd-ab2fff3f0e4b.hdf5\n",
      "File already exists, skipping: /Users/moustholmes/Projects/METAL-AI/data/Li-Rh/rank_Worker-b281881c-c861-407b-b0bd-ab2fff3f0e4b.hdf5\n",
      "File already exists, skipping: /Users/moustholmes/Projects/METAL-AI/data/Li-Rh/rank_Worker-b2c15001-f209-4ae4-afb8-a5301268082a.hdf5\n",
      "File already exists, skipping: /Users/moustholmes/Projects/METAL-AI/data/Li-Rh/rank_Worker-b2c15001-f209-4ae4-afb8-a5301268082a.hdf5\n",
      "Downloaded: /Users/moustholmes/Projects/METAL-AI/data/Li-Rh/rank_Worker-b31f84b1-b65e-4668-bf95-00b49679a4e6.hdf5\n",
      "File already exists, skipping: /Users/moustholmes/Projects/METAL-AI/data/Li-Rh/rank_Worker-b31f84b1-b65e-4668-bf95-00b49679a4e6.hdf5\n"
     ]
    },
    {
     "name": "stderr",
     "output_type": "stream",
     "text": [
      "Downloading files:  70%|██████▉   | 993/1422 [00:45<00:33, 12.85file/s]"
     ]
    },
    {
     "name": "stdout",
     "output_type": "stream",
     "text": [
      "Downloaded: /Users/moustholmes/Projects/METAL-AI/data/Li-Rh/rank_Worker-b35e378c-a88f-441b-bf62-23fc865fad9b.hdf5\n",
      "File already exists, skipping: /Users/moustholmes/Projects/METAL-AI/data/Li-Rh/rank_Worker-b35e378c-a88f-441b-bf62-23fc865fad9b.hdf5\n",
      "Downloaded: /Users/moustholmes/Projects/METAL-AI/data/Li-Rh/rank_Worker-b3fa16c0-3d68-4692-87e4-4c039c885278.hdf5\n",
      "File already exists, skipping: /Users/moustholmes/Projects/METAL-AI/data/Li-Rh/rank_Worker-b3fa16c0-3d68-4692-87e4-4c039c885278.hdf5\n"
     ]
    },
    {
     "name": "stderr",
     "output_type": "stream",
     "text": [
      "Downloading files:  70%|███████   | 1001/1422 [00:45<00:24, 17.16file/s]"
     ]
    },
    {
     "name": "stdout",
     "output_type": "stream",
     "text": [
      "Downloaded: /Users/moustholmes/Projects/METAL-AI/data/Li-Rh/rank_Worker-b48706c4-786a-4ad1-bb7e-e41499031df5.hdf5\n",
      "File already exists, skipping: /Users/moustholmes/Projects/METAL-AI/data/Li-Rh/rank_Worker-b48706c4-786a-4ad1-bb7e-e41499031df5.hdf5\n",
      "File already exists, skipping: /Users/moustholmes/Projects/METAL-AI/data/Li-Rh/rank_Worker-b59b8c93-bb09-4be9-9a08-dd56a8461f59.hdf5\n",
      "File already exists, skipping: /Users/moustholmes/Projects/METAL-AI/data/Li-Rh/rank_Worker-b59b8c93-bb09-4be9-9a08-dd56a8461f59.hdf5\n",
      "File already exists, skipping: /Users/moustholmes/Projects/METAL-AI/data/Li-Rh/rank_Worker-b5b3b5c4-7e0a-4d6a-b766-5c88e97a68b4.hdf5\n",
      "File already exists, skipping: /Users/moustholmes/Projects/METAL-AI/data/Li-Rh/rank_Worker-b5b3b5c4-7e0a-4d6a-b766-5c88e97a68b4.hdf5\n",
      "Downloaded: /Users/moustholmes/Projects/METAL-AI/data/Li-Rh/rank_Worker-b637ade0-62b7-49c6-9f16-d09e495cecc4.hdf5\n",
      "File already exists, skipping: /Users/moustholmes/Projects/METAL-AI/data/Li-Rh/rank_Worker-b637ade0-62b7-49c6-9f16-d09e495cecc4.hdf5\n"
     ]
    },
    {
     "name": "stderr",
     "output_type": "stream",
     "text": [
      "Downloading files:  71%|███████   | 1003/1422 [00:46<00:28, 14.87file/s]"
     ]
    },
    {
     "name": "stdout",
     "output_type": "stream",
     "text": [
      "Downloaded: /Users/moustholmes/Projects/METAL-AI/data/Li-Rh/rank_Worker-b6ba9fa5-7724-413d-a7ba-ae9cbfcd1c0a.hdf5\n",
      "File already exists, skipping: /Users/moustholmes/Projects/METAL-AI/data/Li-Rh/rank_Worker-b6ba9fa5-7724-413d-a7ba-ae9cbfcd1c0a.hdf5\n",
      "File already exists, skipping: /Users/moustholmes/Projects/METAL-AI/data/Li-Rh/rank_Worker-b73bec19-2e8d-4baf-8701-a0febed338b0.hdf5\n",
      "File already exists, skipping: /Users/moustholmes/Projects/METAL-AI/data/Li-Rh/rank_Worker-b73bec19-2e8d-4baf-8701-a0febed338b0.hdf5\n"
     ]
    },
    {
     "name": "stderr",
     "output_type": "stream",
     "text": [
      "Downloading files:  71%|███████   | 1007/1422 [00:46<00:26, 15.87file/s]"
     ]
    },
    {
     "name": "stdout",
     "output_type": "stream",
     "text": [
      "Downloaded: /Users/moustholmes/Projects/METAL-AI/data/Li-Rh/rank_Worker-b7cdca3d-4d05-4e99-92ad-da92c015f21b.hdf5\n",
      "File already exists, skipping: /Users/moustholmes/Projects/METAL-AI/data/Li-Rh/rank_Worker-b7cdca3d-4d05-4e99-92ad-da92c015f21b.hdf5\n"
     ]
    },
    {
     "name": "stderr",
     "output_type": "stream",
     "text": [
      "Downloading files:  71%|███████   | 1013/1422 [00:46<00:25, 16.25file/s]"
     ]
    },
    {
     "name": "stdout",
     "output_type": "stream",
     "text": [
      "Downloaded: /Users/moustholmes/Projects/METAL-AI/data/Li-Rh/rank_Worker-b85895e9-1ae2-4b69-83d2-b79c4d5d9143.hdf5\n",
      "File already exists, skipping: /Users/moustholmes/Projects/METAL-AI/data/Li-Rh/rank_Worker-b85895e9-1ae2-4b69-83d2-b79c4d5d9143.hdf5\n",
      "File already exists, skipping: /Users/moustholmes/Projects/METAL-AI/data/Li-Rh/rank_Worker-b85b6e90-9892-4006-aded-f69c624496cf.hdf5\n",
      "File already exists, skipping: /Users/moustholmes/Projects/METAL-AI/data/Li-Rh/rank_Worker-b85b6e90-9892-4006-aded-f69c624496cf.hdf5\n",
      "Downloaded: /Users/moustholmes/Projects/METAL-AI/data/Li-Rh/rank_Worker-b88cd1f5-70ee-48c0-aa3d-3e631f8ecadd.hdf5\n",
      "File already exists, skipping: /Users/moustholmes/Projects/METAL-AI/data/Li-Rh/rank_Worker-b88cd1f5-70ee-48c0-aa3d-3e631f8ecadd.hdf5\n",
      "File already exists, skipping: /Users/moustholmes/Projects/METAL-AI/data/Li-Rh/rank_Worker-b92768ce-5d95-4cb0-a411-1dc83f8f2e49.hdf5\n",
      "File already exists, skipping: /Users/moustholmes/Projects/METAL-AI/data/Li-Rh/rank_Worker-b92768ce-5d95-4cb0-a411-1dc83f8f2e49.hdf5\n"
     ]
    },
    {
     "name": "stderr",
     "output_type": "stream",
     "text": [
      "Downloading files:  72%|███████▏  | 1021/1422 [00:47<00:21, 18.68file/s]"
     ]
    },
    {
     "name": "stdout",
     "output_type": "stream",
     "text": [
      "Downloaded: /Users/moustholmes/Projects/METAL-AI/data/Li-Rh/rank_Worker-b9711ed0-bbe2-4d32-807d-9a1a6cf473e8.hdf5\n",
      "File already exists, skipping: /Users/moustholmes/Projects/METAL-AI/data/Li-Rh/rank_Worker-b9711ed0-bbe2-4d32-807d-9a1a6cf473e8.hdf5\n",
      "File already exists, skipping: /Users/moustholmes/Projects/METAL-AI/data/Li-Rh/rank_Worker-b9819c6a-0160-4d11-9436-c8e0a509b40d.hdf5\n",
      "File already exists, skipping: /Users/moustholmes/Projects/METAL-AI/data/Li-Rh/rank_Worker-b9819c6a-0160-4d11-9436-c8e0a509b40d.hdf5\n",
      "Downloaded: /Users/moustholmes/Projects/METAL-AI/data/Li-Rh/rank_Worker-b9e90e6d-aeb0-45ac-84e1-6505dfb79bf0.hdf5\n",
      "File already exists, skipping: /Users/moustholmes/Projects/METAL-AI/data/Li-Rh/rank_Worker-b9e90e6d-aeb0-45ac-84e1-6505dfb79bf0.hdf5\n"
     ]
    },
    {
     "name": "stderr",
     "output_type": "stream",
     "text": [
      "Downloading files:  72%|███████▏  | 1025/1422 [00:47<00:27, 14.39file/s]"
     ]
    },
    {
     "name": "stdout",
     "output_type": "stream",
     "text": [
      "Downloaded: /Users/moustholmes/Projects/METAL-AI/data/Li-Rh/rank_Worker-ba3f4821-cb9e-49a0-b802-8f7057257a00.hdf5\n",
      "File already exists, skipping: /Users/moustholmes/Projects/METAL-AI/data/Li-Rh/rank_Worker-ba3f4821-cb9e-49a0-b802-8f7057257a00.hdf5\n",
      "Downloaded: /Users/moustholmes/Projects/METAL-AI/data/Li-Rh/rank_Worker-ba7fa079-66f8-4dba-887d-a38a11050c88.hdf5\n",
      "File already exists, skipping: /Users/moustholmes/Projects/METAL-AI/data/Li-Rh/rank_Worker-ba7fa079-66f8-4dba-887d-a38a11050c88.hdf5\n"
     ]
    },
    {
     "name": "stderr",
     "output_type": "stream",
     "text": [
      "Downloading files:  72%|███████▏  | 1027/1422 [00:47<00:29, 13.38file/s]"
     ]
    },
    {
     "name": "stdout",
     "output_type": "stream",
     "text": [
      "Downloaded: /Users/moustholmes/Projects/METAL-AI/data/Li-Rh/rank_Worker-bb447fc5-3b9b-4470-b5ff-4e68413c7279.hdf5\n",
      "File already exists, skipping: /Users/moustholmes/Projects/METAL-AI/data/Li-Rh/rank_Worker-bb447fc5-3b9b-4470-b5ff-4e68413c7279.hdf5\n"
     ]
    },
    {
     "name": "stderr",
     "output_type": "stream",
     "text": [
      "Downloading files:  73%|███████▎  | 1039/1422 [00:48<00:16, 23.62file/s]"
     ]
    },
    {
     "name": "stdout",
     "output_type": "stream",
     "text": [
      "Downloaded: /Users/moustholmes/Projects/METAL-AI/data/Li-Rh/rank_Worker-bb4dbc46-14ba-4324-81e2-c5048f911eeb.hdf5\n",
      "File already exists, skipping: /Users/moustholmes/Projects/METAL-AI/data/Li-Rh/rank_Worker-bb4dbc46-14ba-4324-81e2-c5048f911eeb.hdf5\n",
      "File already exists, skipping: /Users/moustholmes/Projects/METAL-AI/data/Li-Rh/rank_Worker-bc20c03b-dcd3-4acf-9be8-f06ab6f37c9c.hdf5\n",
      "File already exists, skipping: /Users/moustholmes/Projects/METAL-AI/data/Li-Rh/rank_Worker-bc20c03b-dcd3-4acf-9be8-f06ab6f37c9c.hdf5\n",
      "File already exists, skipping: /Users/moustholmes/Projects/METAL-AI/data/Li-Rh/rank_Worker-bdabfb29-1309-4f8e-961a-4bc0f49ebeed.hdf5\n",
      "File already exists, skipping: /Users/moustholmes/Projects/METAL-AI/data/Li-Rh/rank_Worker-bdabfb29-1309-4f8e-961a-4bc0f49ebeed.hdf5\n",
      "File already exists, skipping: /Users/moustholmes/Projects/METAL-AI/data/Li-Rh/rank_Worker-be09fa68-1e04-4b37-8143-9585fe3e519e.hdf5\n",
      "File already exists, skipping: /Users/moustholmes/Projects/METAL-AI/data/Li-Rh/rank_Worker-be09fa68-1e04-4b37-8143-9585fe3e519e.hdf5\n",
      "File already exists, skipping: /Users/moustholmes/Projects/METAL-AI/data/Li-Rh/rank_Worker-be5bd610-4ea5-4810-b7ce-faa5134999df.hdf5\n",
      "File already exists, skipping: /Users/moustholmes/Projects/METAL-AI/data/Li-Rh/rank_Worker-be5bd610-4ea5-4810-b7ce-faa5134999df.hdf5\n",
      "Downloaded: /Users/moustholmes/Projects/METAL-AI/data/Li-Rh/rank_Worker-bf05d264-7b1c-47dd-afe8-3abd5afa62d1.hdf5\n",
      "File already exists, skipping: /Users/moustholmes/Projects/METAL-AI/data/Li-Rh/rank_Worker-bf05d264-7b1c-47dd-afe8-3abd5afa62d1.hdf5\n"
     ]
    },
    {
     "name": "stderr",
     "output_type": "stream",
     "text": [
      "Downloading files:  73%|███████▎  | 1045/1422 [00:48<00:18, 19.88file/s]"
     ]
    },
    {
     "name": "stdout",
     "output_type": "stream",
     "text": [
      "Downloaded: /Users/moustholmes/Projects/METAL-AI/data/Li-Rh/rank_Worker-bf514541-37c8-4293-ba4c-f6de0cdfb65d.hdf5\n",
      "File already exists, skipping: /Users/moustholmes/Projects/METAL-AI/data/Li-Rh/rank_Worker-bf514541-37c8-4293-ba4c-f6de0cdfb65d.hdf5\n",
      "Downloaded: /Users/moustholmes/Projects/METAL-AI/data/Li-Rh/rank_Worker-bf78ed20-623a-4230-8aab-061f7c22bf00.hdf5\n",
      "File already exists, skipping: /Users/moustholmes/Projects/METAL-AI/data/Li-Rh/rank_Worker-bf78ed20-623a-4230-8aab-061f7c22bf00.hdf5\n",
      "File already exists, skipping: /Users/moustholmes/Projects/METAL-AI/data/Li-Rh/rank_Worker-bfb80b11-98fd-4214-82c1-099a38a7aa00.hdf5\n",
      "File already exists, skipping: /Users/moustholmes/Projects/METAL-AI/data/Li-Rh/rank_Worker-bfb80b11-98fd-4214-82c1-099a38a7aa00.hdf5\n"
     ]
    },
    {
     "name": "stderr",
     "output_type": "stream",
     "text": [
      "Downloading files:  74%|███████▎  | 1047/1422 [00:48<00:21, 17.32file/s]"
     ]
    },
    {
     "name": "stdout",
     "output_type": "stream",
     "text": [
      "Downloaded: /Users/moustholmes/Projects/METAL-AI/data/Li-Rh/rank_Worker-c172614c-8ab5-480c-8624-e11e0cc989bd.hdf5\n",
      "File already exists, skipping: /Users/moustholmes/Projects/METAL-AI/data/Li-Rh/rank_Worker-c172614c-8ab5-480c-8624-e11e0cc989bd.hdf5\n",
      "File already exists, skipping: /Users/moustholmes/Projects/METAL-AI/data/Li-Rh/rank_Worker-c2130a56-2a1d-4275-bf5e-c1bdc80d5fc1.hdf5\n",
      "File already exists, skipping: /Users/moustholmes/Projects/METAL-AI/data/Li-Rh/rank_Worker-c2130a56-2a1d-4275-bf5e-c1bdc80d5fc1.hdf5\n"
     ]
    },
    {
     "name": "stderr",
     "output_type": "stream",
     "text": [
      "Downloading files:  74%|███████▍  | 1053/1422 [00:48<00:23, 15.62file/s]"
     ]
    },
    {
     "name": "stdout",
     "output_type": "stream",
     "text": [
      "Downloaded: /Users/moustholmes/Projects/METAL-AI/data/Li-Rh/rank_Worker-c21c12aa-406a-458c-9a46-46b09fd350cd.hdf5\n",
      "File already exists, skipping: /Users/moustholmes/Projects/METAL-AI/data/Li-Rh/rank_Worker-c21c12aa-406a-458c-9a46-46b09fd350cd.hdf5\n",
      "Downloaded: /Users/moustholmes/Projects/METAL-AI/data/Li-Rh/rank_Worker-c25c664f-d84e-4bfe-9378-ba2190a3b4b9.hdf5\n",
      "File already exists, skipping: /Users/moustholmes/Projects/METAL-AI/data/Li-Rh/rank_Worker-c25c664f-d84e-4bfe-9378-ba2190a3b4b9.hdf5\n"
     ]
    },
    {
     "name": "stderr",
     "output_type": "stream",
     "text": [
      "Downloading files:  74%|███████▍  | 1055/1422 [00:49<00:26, 13.84file/s]"
     ]
    },
    {
     "name": "stdout",
     "output_type": "stream",
     "text": [
      "Downloaded: /Users/moustholmes/Projects/METAL-AI/data/Li-Rh/rank_Worker-c2a0b02f-5c5c-4524-b864-f2cfa4fc379f.hdf5\n",
      "File already exists, skipping: /Users/moustholmes/Projects/METAL-AI/data/Li-Rh/rank_Worker-c2a0b02f-5c5c-4524-b864-f2cfa4fc379f.hdf5\n"
     ]
    },
    {
     "name": "stderr",
     "output_type": "stream",
     "text": [
      "Downloading files:  74%|███████▍  | 1057/1422 [00:49<00:29, 12.53file/s]"
     ]
    },
    {
     "name": "stdout",
     "output_type": "stream",
     "text": [
      "Downloaded: /Users/moustholmes/Projects/METAL-AI/data/Li-Rh/rank_Worker-c2b2989f-a223-4295-be4d-8cc87550c6ea.hdf5\n",
      "File already exists, skipping: /Users/moustholmes/Projects/METAL-AI/data/Li-Rh/rank_Worker-c2b2989f-a223-4295-be4d-8cc87550c6ea.hdf5\n"
     ]
    },
    {
     "name": "stderr",
     "output_type": "stream",
     "text": [
      "Downloading files:  75%|███████▍  | 1065/1422 [00:49<00:20, 17.01file/s]"
     ]
    },
    {
     "name": "stdout",
     "output_type": "stream",
     "text": [
      "Downloaded: /Users/moustholmes/Projects/METAL-AI/data/Li-Rh/rank_Worker-c3844f71-fb9f-4b53-9152-3d1a8f77a008.hdf5\n",
      "File already exists, skipping: /Users/moustholmes/Projects/METAL-AI/data/Li-Rh/rank_Worker-c3844f71-fb9f-4b53-9152-3d1a8f77a008.hdf5\n",
      "File already exists, skipping: /Users/moustholmes/Projects/METAL-AI/data/Li-Rh/rank_Worker-c4b0e67c-e73a-4e96-b5be-9b2a8342457b.hdf5\n",
      "File already exists, skipping: /Users/moustholmes/Projects/METAL-AI/data/Li-Rh/rank_Worker-c4b0e67c-e73a-4e96-b5be-9b2a8342457b.hdf5\n",
      "File already exists, skipping: /Users/moustholmes/Projects/METAL-AI/data/Li-Rh/rank_Worker-c4d3ac67-41ef-4d82-b6f8-5d2ab86a0f70.hdf5\n",
      "File already exists, skipping: /Users/moustholmes/Projects/METAL-AI/data/Li-Rh/rank_Worker-c4d3ac67-41ef-4d82-b6f8-5d2ab86a0f70.hdf5\n",
      "Downloaded: /Users/moustholmes/Projects/METAL-AI/data/Li-Rh/rank_Worker-c4da5a46-b07f-499d-9d51-36fdf16e611f.hdf5\n",
      "File already exists, skipping: /Users/moustholmes/Projects/METAL-AI/data/Li-Rh/rank_Worker-c4da5a46-b07f-499d-9d51-36fdf16e611f.hdf5\n"
     ]
    },
    {
     "name": "stderr",
     "output_type": "stream",
     "text": [
      "Downloading files:  75%|███████▌  | 1071/1422 [00:50<00:21, 16.66file/s]"
     ]
    },
    {
     "name": "stdout",
     "output_type": "stream",
     "text": [
      "Downloaded: /Users/moustholmes/Projects/METAL-AI/data/Li-Rh/rank_Worker-c52d4d63-5fd8-464d-8ea8-3c1a0a677ca2.hdf5\n",
      "File already exists, skipping: /Users/moustholmes/Projects/METAL-AI/data/Li-Rh/rank_Worker-c52d4d63-5fd8-464d-8ea8-3c1a0a677ca2.hdf5\n",
      "File already exists, skipping: /Users/moustholmes/Projects/METAL-AI/data/Li-Rh/rank_Worker-c5662dbd-7efb-4187-ad21-2c7a972be502.hdf5\n",
      "File already exists, skipping: /Users/moustholmes/Projects/METAL-AI/data/Li-Rh/rank_Worker-c5662dbd-7efb-4187-ad21-2c7a972be502.hdf5\n",
      "Downloaded: /Users/moustholmes/Projects/METAL-AI/data/Li-Rh/rank_Worker-c5d0d8ce-1200-4cb5-a4c9-311f38cf63a6.hdf5\n",
      "File already exists, skipping: /Users/moustholmes/Projects/METAL-AI/data/Li-Rh/rank_Worker-c5d0d8ce-1200-4cb5-a4c9-311f38cf63a6.hdf5\n",
      "File already exists, skipping: /Users/moustholmes/Projects/METAL-AI/data/Li-Rh/rank_Worker-c677cb00-b4f9-4921-a45a-0c9c60b8b2fa.hdf5\n",
      "File already exists, skipping: /Users/moustholmes/Projects/METAL-AI/data/Li-Rh/rank_Worker-c677cb00-b4f9-4921-a45a-0c9c60b8b2fa.hdf5\n"
     ]
    },
    {
     "name": "stderr",
     "output_type": "stream",
     "text": [
      "Downloading files:  76%|███████▌  | 1081/1422 [00:50<00:15, 21.54file/s]"
     ]
    },
    {
     "name": "stdout",
     "output_type": "stream",
     "text": [
      "Downloaded: /Users/moustholmes/Projects/METAL-AI/data/Li-Rh/rank_Worker-c6afa73c-9f23-4cdf-8544-0c2a5469ae3b.hdf5\n",
      "File already exists, skipping: /Users/moustholmes/Projects/METAL-AI/data/Li-Rh/rank_Worker-c6afa73c-9f23-4cdf-8544-0c2a5469ae3b.hdf5\n",
      "File already exists, skipping: /Users/moustholmes/Projects/METAL-AI/data/Li-Rh/rank_Worker-c784aa43-d43e-4c0b-8e89-8f2a55a6b51b.hdf5\n",
      "File already exists, skipping: /Users/moustholmes/Projects/METAL-AI/data/Li-Rh/rank_Worker-c784aa43-d43e-4c0b-8e89-8f2a55a6b51b.hdf5\n",
      "File already exists, skipping: /Users/moustholmes/Projects/METAL-AI/data/Li-Rh/rank_Worker-c791469a-edce-42b6-9cda-c1ab5bd8632a.hdf5\n",
      "File already exists, skipping: /Users/moustholmes/Projects/METAL-AI/data/Li-Rh/rank_Worker-c791469a-edce-42b6-9cda-c1ab5bd8632a.hdf5\n",
      "Downloaded: /Users/moustholmes/Projects/METAL-AI/data/Li-Rh/rank_Worker-c896835e-1990-4580-bbac-c14ab425986a.hdf5\n",
      "File already exists, skipping: /Users/moustholmes/Projects/METAL-AI/data/Li-Rh/rank_Worker-c896835e-1990-4580-bbac-c14ab425986a.hdf5\n",
      "File already exists, skipping: /Users/moustholmes/Projects/METAL-AI/data/Li-Rh/rank_Worker-c89eb211-e89e-4619-8dc6-11ca8c1ca584.hdf5\n",
      "File already exists, skipping: /Users/moustholmes/Projects/METAL-AI/data/Li-Rh/rank_Worker-c89eb211-e89e-4619-8dc6-11ca8c1ca584.hdf5\n",
      "File already exists, skipping: /Users/moustholmes/Projects/METAL-AI/data/Li-Rh/rank_Worker-c8cb32c2-4830-4eea-8cf3-76c990ad3a4f.hdf5\n",
      "File already exists, skipping: /Users/moustholmes/Projects/METAL-AI/data/Li-Rh/rank_Worker-c8cb32c2-4830-4eea-8cf3-76c990ad3a4f.hdf5\n",
      "File already exists, skipping: /Users/moustholmes/Projects/METAL-AI/data/Li-Rh/rank_Worker-c8d15ce3-4f2b-4e4c-a641-5a42c6535c47.hdf5\n",
      "File already exists, skipping: /Users/moustholmes/Projects/METAL-AI/data/Li-Rh/rank_Worker-c8d15ce3-4f2b-4e4c-a641-5a42c6535c47.hdf5\n"
     ]
    },
    {
     "name": "stderr",
     "output_type": "stream",
     "text": [
      "Downloading files:  77%|███████▋  | 1089/1422 [00:50<00:12, 27.69file/s]"
     ]
    },
    {
     "name": "stdout",
     "output_type": "stream",
     "text": [
      "Downloaded: /Users/moustholmes/Projects/METAL-AI/data/Li-Rh/rank_Worker-c921bdf7-91a3-46a5-a506-05ced9868f5d.hdf5\n",
      "File already exists, skipping: /Users/moustholmes/Projects/METAL-AI/data/Li-Rh/rank_Worker-c921bdf7-91a3-46a5-a506-05ced9868f5d.hdf5\n"
     ]
    },
    {
     "name": "stderr",
     "output_type": "stream",
     "text": [
      "Downloading files:  77%|███████▋  | 1092/1422 [00:51<00:14, 22.45file/s]"
     ]
    },
    {
     "name": "stdout",
     "output_type": "stream",
     "text": [
      "Downloaded: /Users/moustholmes/Projects/METAL-AI/data/Li-Rh/rank_Worker-c95beaec-23b8-4ef8-8747-e9953f139435.hdf5\n",
      "File already exists, skipping: /Users/moustholmes/Projects/METAL-AI/data/Li-Rh/rank_Worker-c95beaec-23b8-4ef8-8747-e9953f139435.hdf5\n",
      "Downloaded: /Users/moustholmes/Projects/METAL-AI/data/Li-Rh/rank_Worker-c99748fb-efa0-456d-8757-370974eda9c1.hdf5\n",
      "File already exists, skipping: /Users/moustholmes/Projects/METAL-AI/data/Li-Rh/rank_Worker-c99748fb-efa0-456d-8757-370974eda9c1.hdf5\n"
     ]
    },
    {
     "name": "stderr",
     "output_type": "stream",
     "text": [
      "Downloading files:  77%|███████▋  | 1095/1422 [00:51<00:20, 15.58file/s]"
     ]
    },
    {
     "name": "stdout",
     "output_type": "stream",
     "text": [
      "Downloaded: /Users/moustholmes/Projects/METAL-AI/data/Li-Rh/rank_Worker-c9b1ece4-679d-498c-9743-2ddd7877aab9.hdf5\n",
      "File already exists, skipping: /Users/moustholmes/Projects/METAL-AI/data/Li-Rh/rank_Worker-c9b1ece4-679d-498c-9743-2ddd7877aab9.hdf5\n",
      "File already exists, skipping: /Users/moustholmes/Projects/METAL-AI/data/Li-Rh/rank_Worker-ca3ceb1b-5fdc-48a3-b10d-1d9b46981700.hdf5\n",
      "File already exists, skipping: /Users/moustholmes/Projects/METAL-AI/data/Li-Rh/rank_Worker-ca3ceb1b-5fdc-48a3-b10d-1d9b46981700.hdf5\n"
     ]
    },
    {
     "name": "stderr",
     "output_type": "stream",
     "text": [
      "Downloading files:  77%|███████▋  | 1099/1422 [00:51<00:19, 16.38file/s]"
     ]
    },
    {
     "name": "stdout",
     "output_type": "stream",
     "text": [
      "Downloaded: /Users/moustholmes/Projects/METAL-AI/data/Li-Rh/rank_Worker-ca6cbb63-81a7-486f-b8ea-d5057bc2a2cd.hdf5\n",
      "File already exists, skipping: /Users/moustholmes/Projects/METAL-AI/data/Li-Rh/rank_Worker-ca6cbb63-81a7-486f-b8ea-d5057bc2a2cd.hdf5\n"
     ]
    },
    {
     "name": "stderr",
     "output_type": "stream",
     "text": [
      "Downloading files:  77%|███████▋  | 1101/1422 [00:51<00:22, 14.56file/s]"
     ]
    },
    {
     "name": "stdout",
     "output_type": "stream",
     "text": [
      "Downloaded: /Users/moustholmes/Projects/METAL-AI/data/Li-Rh/rank_Worker-caa48265-ad39-454b-8449-82a8a6f4835f.hdf5\n",
      "File already exists, skipping: /Users/moustholmes/Projects/METAL-AI/data/Li-Rh/rank_Worker-caa48265-ad39-454b-8449-82a8a6f4835f.hdf5\n"
     ]
    },
    {
     "name": "stderr",
     "output_type": "stream",
     "text": [
      "Downloading files:  78%|███████▊  | 1103/1422 [00:52<00:24, 13.27file/s]"
     ]
    },
    {
     "name": "stdout",
     "output_type": "stream",
     "text": [
      "Downloaded: /Users/moustholmes/Projects/METAL-AI/data/Li-Rh/rank_Worker-cbbbb36d-3f2d-4bea-9a79-5c3bbb786a55.hdf5\n",
      "File already exists, skipping: /Users/moustholmes/Projects/METAL-AI/data/Li-Rh/rank_Worker-cbbbb36d-3f2d-4bea-9a79-5c3bbb786a55.hdf5\n",
      "File already exists, skipping: /Users/moustholmes/Projects/METAL-AI/data/Li-Rh/rank_Worker-cc74c89e-15eb-4e85-9cc4-b447738a574c.hdf5\n",
      "File already exists, skipping: /Users/moustholmes/Projects/METAL-AI/data/Li-Rh/rank_Worker-cc74c89e-15eb-4e85-9cc4-b447738a574c.hdf5\n",
      "File already exists, skipping: /Users/moustholmes/Projects/METAL-AI/data/Li-Rh/rank_Worker-cca208b5-2893-46ed-b655-d202733d8d5f.hdf5\n",
      "File already exists, skipping: /Users/moustholmes/Projects/METAL-AI/data/Li-Rh/rank_Worker-cca208b5-2893-46ed-b655-d202733d8d5f.hdf5\n"
     ]
    },
    {
     "name": "stderr",
     "output_type": "stream",
     "text": [
      "Downloading files:  78%|███████▊  | 1109/1422 [00:52<00:17, 17.47file/s]"
     ]
    },
    {
     "name": "stdout",
     "output_type": "stream",
     "text": [
      "Downloaded: /Users/moustholmes/Projects/METAL-AI/data/Li-Rh/rank_Worker-cca98252-57b8-44bd-8ce9-79116c945fa7.hdf5\n",
      "File already exists, skipping: /Users/moustholmes/Projects/METAL-AI/data/Li-Rh/rank_Worker-cca98252-57b8-44bd-8ce9-79116c945fa7.hdf5\n"
     ]
    },
    {
     "name": "stderr",
     "output_type": "stream",
     "text": [
      "Downloading files:  78%|███████▊  | 1111/1422 [00:52<00:20, 14.89file/s]"
     ]
    },
    {
     "name": "stdout",
     "output_type": "stream",
     "text": [
      "Downloaded: /Users/moustholmes/Projects/METAL-AI/data/Li-Rh/rank_Worker-cccdad8e-c81f-402e-9777-1c5571f6d851.hdf5\n",
      "File already exists, skipping: /Users/moustholmes/Projects/METAL-AI/data/Li-Rh/rank_Worker-cccdad8e-c81f-402e-9777-1c5571f6d851.hdf5\n"
     ]
    },
    {
     "name": "stderr",
     "output_type": "stream",
     "text": [
      "Downloading files:  78%|███████▊  | 1113/1422 [00:52<00:23, 13.32file/s]"
     ]
    },
    {
     "name": "stdout",
     "output_type": "stream",
     "text": [
      "Downloaded: /Users/moustholmes/Projects/METAL-AI/data/Li-Rh/rank_Worker-cd42b2ed-e8e8-4d3c-bf0c-4d46f6bd0776.hdf5\n",
      "File already exists, skipping: /Users/moustholmes/Projects/METAL-AI/data/Li-Rh/rank_Worker-cd42b2ed-e8e8-4d3c-bf0c-4d46f6bd0776.hdf5\n",
      "File already exists, skipping: /Users/moustholmes/Projects/METAL-AI/data/Li-Rh/rank_Worker-cdcf9e37-94fe-49c9-a6b0-cab0649d8eb8.hdf5\n",
      "File already exists, skipping: /Users/moustholmes/Projects/METAL-AI/data/Li-Rh/rank_Worker-cdcf9e37-94fe-49c9-a6b0-cab0649d8eb8.hdf5\n",
      "Downloaded: /Users/moustholmes/Projects/METAL-AI/data/Li-Rh/rank_Worker-cdfaa342-2a90-4f29-884c-0758cfd482ce.hdf5\n"
     ]
    },
    {
     "name": "stderr",
     "output_type": "stream",
     "text": [
      "Downloading files:  79%|███████▊  | 1117/1422 [00:52<00:20, 15.17file/s]"
     ]
    },
    {
     "name": "stdout",
     "output_type": "stream",
     "text": [
      "File already exists, skipping: /Users/moustholmes/Projects/METAL-AI/data/Li-Rh/rank_Worker-cdfaa342-2a90-4f29-884c-0758cfd482ce.hdf5\n"
     ]
    },
    {
     "name": "stderr",
     "output_type": "stream",
     "text": [
      "Downloading files:  79%|███████▊  | 1119/1422 [00:53<00:23, 12.72file/s]"
     ]
    },
    {
     "name": "stdout",
     "output_type": "stream",
     "text": [
      "Downloaded: /Users/moustholmes/Projects/METAL-AI/data/Li-Rh/rank_Worker-ce01e08e-cafb-45a4-88ec-29dcba8cfccb.hdf5\n",
      "File already exists, skipping: /Users/moustholmes/Projects/METAL-AI/data/Li-Rh/rank_Worker-ce01e08e-cafb-45a4-88ec-29dcba8cfccb.hdf5\n",
      "File already exists, skipping: /Users/moustholmes/Projects/METAL-AI/data/Li-Rh/rank_Worker-ce6ec22a-efa4-448c-aa63-a7b66b232cf4.hdf5\n",
      "File already exists, skipping: /Users/moustholmes/Projects/METAL-AI/data/Li-Rh/rank_Worker-ce6ec22a-efa4-448c-aa63-a7b66b232cf4.hdf5\n",
      "File already exists, skipping: /Users/moustholmes/Projects/METAL-AI/data/Li-Rh/rank_Worker-cef4aac7-18d2-4062-91fa-ea5be35346d4.hdf5\n",
      "File already exists, skipping: /Users/moustholmes/Projects/METAL-AI/data/Li-Rh/rank_Worker-cef4aac7-18d2-4062-91fa-ea5be35346d4.hdf5\n"
     ]
    },
    {
     "name": "stderr",
     "output_type": "stream",
     "text": [
      "Downloading files:  79%|███████▉  | 1127/1422 [00:53<00:19, 15.18file/s]"
     ]
    },
    {
     "name": "stdout",
     "output_type": "stream",
     "text": [
      "Downloaded: /Users/moustholmes/Projects/METAL-AI/data/Li-Rh/rank_Worker-cf1f5147-4cc7-4cd3-9769-cefd3729a1fd.hdf5\n",
      "File already exists, skipping: /Users/moustholmes/Projects/METAL-AI/data/Li-Rh/rank_Worker-cf1f5147-4cc7-4cd3-9769-cefd3729a1fd.hdf5\n",
      "Downloaded: /Users/moustholmes/Projects/METAL-AI/data/Li-Rh/rank_Worker-cf4bdc62-33dc-4961-bc0b-82fd3a335130.hdf5\n",
      "File already exists, skipping: /Users/moustholmes/Projects/METAL-AI/data/Li-Rh/rank_Worker-cf4bdc62-33dc-4961-bc0b-82fd3a335130.hdf5\n"
     ]
    },
    {
     "name": "stderr",
     "output_type": "stream",
     "text": [
      "Downloading files:  79%|███████▉  | 1129/1422 [00:53<00:22, 12.79file/s]"
     ]
    },
    {
     "name": "stdout",
     "output_type": "stream",
     "text": [
      "Downloaded: /Users/moustholmes/Projects/METAL-AI/data/Li-Rh/rank_Worker-cfafd110-f76d-4c6e-9285-a9ca3b174eb2.hdf5\n",
      "File already exists, skipping: /Users/moustholmes/Projects/METAL-AI/data/Li-Rh/rank_Worker-cfafd110-f76d-4c6e-9285-a9ca3b174eb2.hdf5\n",
      "File already exists, skipping: /Users/moustholmes/Projects/METAL-AI/data/Li-Rh/rank_Worker-d1156379-08fe-4406-9e24-998029743b76.hdf5\n",
      "File already exists, skipping: /Users/moustholmes/Projects/METAL-AI/data/Li-Rh/rank_Worker-d1156379-08fe-4406-9e24-998029743b76.hdf5\n"
     ]
    },
    {
     "name": "stderr",
     "output_type": "stream",
     "text": [
      "Downloading files:  80%|████████  | 1139/1422 [00:54<00:15, 18.68file/s]"
     ]
    },
    {
     "name": "stdout",
     "output_type": "stream",
     "text": [
      "Downloaded: /Users/moustholmes/Projects/METAL-AI/data/Li-Rh/rank_Worker-d15f26f1-e8ca-41ed-8353-dc8c206aedcc.hdf5\n",
      "File already exists, skipping: /Users/moustholmes/Projects/METAL-AI/data/Li-Rh/rank_Worker-d15f26f1-e8ca-41ed-8353-dc8c206aedcc.hdf5\n",
      "File already exists, skipping: /Users/moustholmes/Projects/METAL-AI/data/Li-Rh/rank_Worker-d1a1d4db-f88a-43d0-bed4-55695b21e565.hdf5\n",
      "File already exists, skipping: /Users/moustholmes/Projects/METAL-AI/data/Li-Rh/rank_Worker-d1a1d4db-f88a-43d0-bed4-55695b21e565.hdf5\n",
      "File already exists, skipping: /Users/moustholmes/Projects/METAL-AI/data/Li-Rh/rank_Worker-d1beca42-c8eb-44bd-b5b5-6e275a9371b4.hdf5\n",
      "File already exists, skipping: /Users/moustholmes/Projects/METAL-AI/data/Li-Rh/rank_Worker-d1beca42-c8eb-44bd-b5b5-6e275a9371b4.hdf5\n",
      "Downloaded: /Users/moustholmes/Projects/METAL-AI/data/Li-Rh/rank_Worker-d229505e-bbbb-47be-a5c0-9ca1bf381725.hdf5\n",
      "File already exists, skipping: /Users/moustholmes/Projects/METAL-AI/data/Li-Rh/rank_Worker-d229505e-bbbb-47be-a5c0-9ca1bf381725.hdf5\n",
      "File already exists, skipping: /Users/moustholmes/Projects/METAL-AI/data/Li-Rh/rank_Worker-d2577112-534c-4230-8104-1187f5c647b8.hdf5\n",
      "File already exists, skipping: /Users/moustholmes/Projects/METAL-AI/data/Li-Rh/rank_Worker-d2577112-534c-4230-8104-1187f5c647b8.hdf5\n",
      "File already exists, skipping: /Users/moustholmes/Projects/METAL-AI/data/Li-Rh/rank_Worker-d2a28e0c-d229-412c-97b9-83440738e11d.hdf5\n",
      "File already exists, skipping: /Users/moustholmes/Projects/METAL-AI/data/Li-Rh/rank_Worker-d2a28e0c-d229-412c-97b9-83440738e11d.hdf5\n",
      "File already exists, skipping: /Users/moustholmes/Projects/METAL-AI/data/Li-Rh/rank_Worker-d34ccf7a-ebb0-42a8-915e-2b261e8a12c8.hdf5\n",
      "File already exists, skipping: /Users/moustholmes/Projects/METAL-AI/data/Li-Rh/rank_Worker-d34ccf7a-ebb0-42a8-915e-2b261e8a12c8.hdf5\n",
      "File already exists, skipping: /Users/moustholmes/Projects/METAL-AI/data/Li-Rh/rank_Worker-d35688ae-b626-47df-9128-8382830c8494.hdf5\n",
      "File already exists, skipping: /Users/moustholmes/Projects/METAL-AI/data/Li-Rh/rank_Worker-d35688ae-b626-47df-9128-8382830c8494.hdf5\n"
     ]
    },
    {
     "name": "stderr",
     "output_type": "stream",
     "text": [
      "Downloading files:  81%|████████  | 1152/1422 [00:54<00:11, 24.29file/s]"
     ]
    },
    {
     "name": "stdout",
     "output_type": "stream",
     "text": [
      "Downloaded: /Users/moustholmes/Projects/METAL-AI/data/Li-Rh/rank_Worker-d3623307-04ba-41aa-9f16-44c9e64d79bb.hdf5\n",
      "File already exists, skipping: /Users/moustholmes/Projects/METAL-AI/data/Li-Rh/rank_Worker-d3623307-04ba-41aa-9f16-44c9e64d79bb.hdf5\n",
      "Downloaded: /Users/moustholmes/Projects/METAL-AI/data/Li-Rh/rank_Worker-d4434a0b-c7e4-4ccc-8a0c-e1ce94a82cc8.hdf5\n",
      "File already exists, skipping: /Users/moustholmes/Projects/METAL-AI/data/Li-Rh/rank_Worker-d4434a0b-c7e4-4ccc-8a0c-e1ce94a82cc8.hdf5\n",
      "Downloaded: /Users/moustholmes/Projects/METAL-AI/data/Li-Rh/rank_Worker-d4931f9a-ba6a-4dc1-a30b-588c3e96fd14.hdf5\n",
      "File already exists, skipping: /Users/moustholmes/Projects/METAL-AI/data/Li-Rh/rank_Worker-d4931f9a-ba6a-4dc1-a30b-588c3e96fd14.hdf5\n"
     ]
    },
    {
     "name": "stderr",
     "output_type": "stream",
     "text": [
      "Downloading files:  81%|████████  | 1155/1422 [00:55<00:16, 15.83file/s]"
     ]
    },
    {
     "name": "stdout",
     "output_type": "stream",
     "text": [
      "Downloaded: /Users/moustholmes/Projects/METAL-AI/data/Li-Rh/rank_Worker-d5631db3-570f-4e36-ba54-7215d154a495.hdf5\n",
      "File already exists, skipping: /Users/moustholmes/Projects/METAL-AI/data/Li-Rh/rank_Worker-d5631db3-570f-4e36-ba54-7215d154a495.hdf5\n",
      "File already exists, skipping: /Users/moustholmes/Projects/METAL-AI/data/Li-Rh/rank_Worker-d61dd038-5916-4743-bfdf-4f26d0f7d4b8.hdf5\n",
      "File already exists, skipping: /Users/moustholmes/Projects/METAL-AI/data/Li-Rh/rank_Worker-d61dd038-5916-4743-bfdf-4f26d0f7d4b8.hdf5\n"
     ]
    },
    {
     "name": "stderr",
     "output_type": "stream",
     "text": [
      "Downloading files:  82%|████████▏ | 1161/1422 [00:55<00:19, 13.52file/s]"
     ]
    },
    {
     "name": "stdout",
     "output_type": "stream",
     "text": [
      "Downloaded: /Users/moustholmes/Projects/METAL-AI/data/Li-Rh/rank_Worker-d65a362c-6a10-4173-8328-620875b66914.hdf5\n",
      "File already exists, skipping: /Users/moustholmes/Projects/METAL-AI/data/Li-Rh/rank_Worker-d65a362c-6a10-4173-8328-620875b66914.hdf5\n",
      "Downloaded: /Users/moustholmes/Projects/METAL-AI/data/Li-Rh/rank_Worker-d69e9e49-8b81-4844-8c29-2d7948937876.hdf5\n",
      "File already exists, skipping: /Users/moustholmes/Projects/METAL-AI/data/Li-Rh/rank_Worker-d69e9e49-8b81-4844-8c29-2d7948937876.hdf5\n",
      "File already exists, skipping: /Users/moustholmes/Projects/METAL-AI/data/Li-Rh/rank_Worker-d6a31e3a-9e83-4712-be9b-55e959df8ae7.hdf5\n",
      "File already exists, skipping: /Users/moustholmes/Projects/METAL-AI/data/Li-Rh/rank_Worker-d6a31e3a-9e83-4712-be9b-55e959df8ae7.hdf5\n",
      "File already exists, skipping: /Users/moustholmes/Projects/METAL-AI/data/Li-Rh/rank_Worker-d77e1177-7d7f-4e60-94a8-8333a8c368a7.hdf5\n",
      "File already exists, skipping: /Users/moustholmes/Projects/METAL-AI/data/Li-Rh/rank_Worker-d77e1177-7d7f-4e60-94a8-8333a8c368a7.hdf5\n",
      "File already exists, skipping: /Users/moustholmes/Projects/METAL-AI/data/Li-Rh/rank_Worker-d7c2206e-ecc3-4bad-8f9f-738a179515ce.hdf5\n",
      "File already exists, skipping: /Users/moustholmes/Projects/METAL-AI/data/Li-Rh/rank_Worker-d7c2206e-ecc3-4bad-8f9f-738a179515ce.hdf5\n",
      "File already exists, skipping: /Users/moustholmes/Projects/METAL-AI/data/Li-Rh/rank_Worker-d819fc29-9606-4c3b-ad9d-c119fb316cdc.hdf5\n",
      "File already exists, skipping: /Users/moustholmes/Projects/METAL-AI/data/Li-Rh/rank_Worker-d819fc29-9606-4c3b-ad9d-c119fb316cdc.hdf5\n",
      "File already exists, skipping: /Users/moustholmes/Projects/METAL-AI/data/Li-Rh/rank_Worker-d887e8f2-8629-4021-8da6-856d458adff6.hdf5\n",
      "File already exists, skipping: /Users/moustholmes/Projects/METAL-AI/data/Li-Rh/rank_Worker-d887e8f2-8629-4021-8da6-856d458adff6.hdf5\n"
     ]
    },
    {
     "name": "stderr",
     "output_type": "stream",
     "text": [
      "Downloading files:  83%|████████▎ | 1176/1422 [00:56<00:11, 22.30file/s]"
     ]
    },
    {
     "name": "stdout",
     "output_type": "stream",
     "text": [
      "Downloaded: /Users/moustholmes/Projects/METAL-AI/data/Li-Rh/rank_Worker-d8a5ed11-d1e5-45ab-93aa-21a807870523.hdf5\n",
      "File already exists, skipping: /Users/moustholmes/Projects/METAL-AI/data/Li-Rh/rank_Worker-d8a5ed11-d1e5-45ab-93aa-21a807870523.hdf5\n",
      "Downloaded: /Users/moustholmes/Projects/METAL-AI/data/Li-Rh/rank_Worker-d8cd28f8-98df-4071-b8ea-1cf2f4f503d7.hdf5\n",
      "File already exists, skipping: /Users/moustholmes/Projects/METAL-AI/data/Li-Rh/rank_Worker-d8cd28f8-98df-4071-b8ea-1cf2f4f503d7.hdf5\n"
     ]
    },
    {
     "name": "stderr",
     "output_type": "stream",
     "text": [
      "Downloading files:  83%|████████▎ | 1179/1422 [00:56<00:11, 20.80file/s]"
     ]
    },
    {
     "name": "stdout",
     "output_type": "stream",
     "text": [
      "Downloaded: /Users/moustholmes/Projects/METAL-AI/data/Li-Rh/rank_Worker-d9edab3e-c56a-4180-9a15-49ef146dcd1a.hdf5\n",
      "File already exists, skipping: /Users/moustholmes/Projects/METAL-AI/data/Li-Rh/rank_Worker-d9edab3e-c56a-4180-9a15-49ef146dcd1a.hdf5\n",
      "File already exists, skipping: /Users/moustholmes/Projects/METAL-AI/data/Li-Rh/rank_Worker-da375a60-cc53-4ce6-a76f-6b30a816a9fd.hdf5\n",
      "File already exists, skipping: /Users/moustholmes/Projects/METAL-AI/data/Li-Rh/rank_Worker-da375a60-cc53-4ce6-a76f-6b30a816a9fd.hdf5\n",
      "File already exists, skipping: /Users/moustholmes/Projects/METAL-AI/data/Li-Rh/rank_Worker-daac34ee-8eb1-4fbf-bf75-fa79b8bcd97c.hdf5\n",
      "File already exists, skipping: /Users/moustholmes/Projects/METAL-AI/data/Li-Rh/rank_Worker-daac34ee-8eb1-4fbf-bf75-fa79b8bcd97c.hdf5\n",
      "File already exists, skipping: /Users/moustholmes/Projects/METAL-AI/data/Li-Rh/rank_Worker-daf4b452-cd79-4fe9-abd1-2a4e4e2c0f5d.hdf5\n",
      "File already exists, skipping: /Users/moustholmes/Projects/METAL-AI/data/Li-Rh/rank_Worker-daf4b452-cd79-4fe9-abd1-2a4e4e2c0f5d.hdf5\n"
     ]
    },
    {
     "name": "stderr",
     "output_type": "stream",
     "text": [
      "Downloading files:  84%|████████▎ | 1189/1422 [00:56<00:10, 21.87file/s]"
     ]
    },
    {
     "name": "stdout",
     "output_type": "stream",
     "text": [
      "Downloaded: /Users/moustholmes/Projects/METAL-AI/data/Li-Rh/rank_Worker-db78fdb9-dd33-4199-9dc8-c516366d775c.hdf5\n",
      "File already exists, skipping: /Users/moustholmes/Projects/METAL-AI/data/Li-Rh/rank_Worker-db78fdb9-dd33-4199-9dc8-c516366d775c.hdf5\n",
      "File already exists, skipping: /Users/moustholmes/Projects/METAL-AI/data/Li-Rh/rank_Worker-dbb1dab4-5076-4d4b-a784-3d6b740d87ba.hdf5\n",
      "File already exists, skipping: /Users/moustholmes/Projects/METAL-AI/data/Li-Rh/rank_Worker-dbb1dab4-5076-4d4b-a784-3d6b740d87ba.hdf5\n",
      "Downloaded: /Users/moustholmes/Projects/METAL-AI/data/Li-Rh/rank_Worker-dbc8ec7a-50a0-404f-9ba8-4b069c4ecbcb.hdf5\n",
      "File already exists, skipping: /Users/moustholmes/Projects/METAL-AI/data/Li-Rh/rank_Worker-dbc8ec7a-50a0-404f-9ba8-4b069c4ecbcb.hdf5\n",
      "File already exists, skipping: /Users/moustholmes/Projects/METAL-AI/data/Li-Rh/rank_Worker-dbd25541-fd26-42ea-a75c-241ab2a0f9ed.hdf5\n",
      "File already exists, skipping: /Users/moustholmes/Projects/METAL-AI/data/Li-Rh/rank_Worker-dbd25541-fd26-42ea-a75c-241ab2a0f9ed.hdf5\n",
      "File already exists, skipping: /Users/moustholmes/Projects/METAL-AI/data/Li-Rh/rank_Worker-dbf4d024-e61e-428f-a3aa-bdb3d151ab86.hdf5\n",
      "File already exists, skipping: /Users/moustholmes/Projects/METAL-AI/data/Li-Rh/rank_Worker-dbf4d024-e61e-428f-a3aa-bdb3d151ab86.hdf5\n"
     ]
    },
    {
     "name": "stderr",
     "output_type": "stream",
     "text": [
      "Downloading files:  84%|████████▍ | 1195/1422 [00:56<00:09, 24.60file/s]"
     ]
    },
    {
     "name": "stdout",
     "output_type": "stream",
     "text": [
      "Downloaded: /Users/moustholmes/Projects/METAL-AI/data/Li-Rh/rank_Worker-dc50eab1-ddd5-4782-87d2-0262da690882.hdf5\n",
      "File already exists, skipping: /Users/moustholmes/Projects/METAL-AI/data/Li-Rh/rank_Worker-dc50eab1-ddd5-4782-87d2-0262da690882.hdf5\n",
      "File already exists, skipping: /Users/moustholmes/Projects/METAL-AI/data/Li-Rh/rank_Worker-dce82e15-9e1c-4f10-83a8-c0f72aa5e65f.hdf5\n",
      "File already exists, skipping: /Users/moustholmes/Projects/METAL-AI/data/Li-Rh/rank_Worker-dce82e15-9e1c-4f10-83a8-c0f72aa5e65f.hdf5\n"
     ]
    },
    {
     "name": "stderr",
     "output_type": "stream",
     "text": [
      "Downloading files:  85%|████████▍ | 1202/1422 [00:57<00:10, 20.67file/s]"
     ]
    },
    {
     "name": "stdout",
     "output_type": "stream",
     "text": [
      "Downloaded: /Users/moustholmes/Projects/METAL-AI/data/Li-Rh/rank_Worker-dcf9692c-3cba-4bbc-bc9d-0b382cab7f0c.hdf5\n",
      "File already exists, skipping: /Users/moustholmes/Projects/METAL-AI/data/Li-Rh/rank_Worker-dcf9692c-3cba-4bbc-bc9d-0b382cab7f0c.hdf5\n",
      "Downloaded: /Users/moustholmes/Projects/METAL-AI/data/Li-Rh/rank_Worker-dea6575d-6f07-41e5-beb7-55129a01ef6f.hdf5\n",
      "File already exists, skipping: /Users/moustholmes/Projects/METAL-AI/data/Li-Rh/rank_Worker-dea6575d-6f07-41e5-beb7-55129a01ef6f.hdf5\n"
     ]
    },
    {
     "name": "stderr",
     "output_type": "stream",
     "text": [
      "Downloading files:  85%|████████▍ | 1205/1422 [00:57<00:11, 18.95file/s]"
     ]
    },
    {
     "name": "stdout",
     "output_type": "stream",
     "text": [
      "Downloaded: /Users/moustholmes/Projects/METAL-AI/data/Li-Rh/rank_Worker-debdf3b7-1eaa-4b7c-8b0c-a6dbcefb3910.hdf5\n",
      "File already exists, skipping: /Users/moustholmes/Projects/METAL-AI/data/Li-Rh/rank_Worker-debdf3b7-1eaa-4b7c-8b0c-a6dbcefb3910.hdf5\n",
      "File already exists, skipping: /Users/moustholmes/Projects/METAL-AI/data/Li-Rh/rank_Worker-decb3648-4bc3-4bac-93e1-a5a606e13422.hdf5\n",
      "File already exists, skipping: /Users/moustholmes/Projects/METAL-AI/data/Li-Rh/rank_Worker-decb3648-4bc3-4bac-93e1-a5a606e13422.hdf5\n"
     ]
    },
    {
     "name": "stderr",
     "output_type": "stream",
     "text": [
      "Downloading files:  85%|████████▍ | 1207/1422 [00:57<00:13, 16.26file/s]"
     ]
    },
    {
     "name": "stdout",
     "output_type": "stream",
     "text": [
      "Downloaded: /Users/moustholmes/Projects/METAL-AI/data/Li-Rh/rank_Worker-df24b96c-fa87-4a30-a674-3503bd1c66dc.hdf5\n",
      "File already exists, skipping: /Users/moustholmes/Projects/METAL-AI/data/Li-Rh/rank_Worker-df24b96c-fa87-4a30-a674-3503bd1c66dc.hdf5\n",
      "File already exists, skipping: /Users/moustholmes/Projects/METAL-AI/data/Li-Rh/rank_Worker-df47c648-5d21-40a6-92dd-1d102ac3d678.hdf5\n",
      "File already exists, skipping: /Users/moustholmes/Projects/METAL-AI/data/Li-Rh/rank_Worker-df47c648-5d21-40a6-92dd-1d102ac3d678.hdf5\n",
      "File already exists, skipping: /Users/moustholmes/Projects/METAL-AI/data/Li-Rh/rank_Worker-df84cee4-8853-4698-9f9b-8faee3612b57.hdf5\n",
      "File already exists, skipping: /Users/moustholmes/Projects/METAL-AI/data/Li-Rh/rank_Worker-df84cee4-8853-4698-9f9b-8faee3612b57.hdf5\n"
     ]
    },
    {
     "name": "stderr",
     "output_type": "stream",
     "text": [
      "Downloading files:  85%|████████▌ | 1213/1422 [00:57<00:10, 19.43file/s]"
     ]
    },
    {
     "name": "stdout",
     "output_type": "stream",
     "text": [
      "Downloaded: /Users/moustholmes/Projects/METAL-AI/data/Li-Rh/rank_Worker-dfd7b9ff-9a1b-4005-a991-99fdba92c2bf.hdf5\n",
      "File already exists, skipping: /Users/moustholmes/Projects/METAL-AI/data/Li-Rh/rank_Worker-dfd7b9ff-9a1b-4005-a991-99fdba92c2bf.hdf5\n",
      "File already exists, skipping: /Users/moustholmes/Projects/METAL-AI/data/Li-Rh/rank_Worker-dffdea1b-3063-4df3-904e-a7568f9bd00e.hdf5\n",
      "File already exists, skipping: /Users/moustholmes/Projects/METAL-AI/data/Li-Rh/rank_Worker-dffdea1b-3063-4df3-904e-a7568f9bd00e.hdf5\n",
      "File already exists, skipping: /Users/moustholmes/Projects/METAL-AI/data/Li-Rh/rank_Worker-e00a834e-dfe1-4e10-a029-df94b3b23b39.hdf5\n",
      "File already exists, skipping: /Users/moustholmes/Projects/METAL-AI/data/Li-Rh/rank_Worker-e00a834e-dfe1-4e10-a029-df94b3b23b39.hdf5\n"
     ]
    },
    {
     "name": "stderr",
     "output_type": "stream",
     "text": [
      "Downloading files:  86%|████████▌ | 1219/1422 [00:58<00:09, 21.07file/s]"
     ]
    },
    {
     "name": "stdout",
     "output_type": "stream",
     "text": [
      "Downloaded: /Users/moustholmes/Projects/METAL-AI/data/Li-Rh/rank_Worker-e06fa6e3-377b-409e-84fb-c27c211cf1f1.hdf5\n",
      "File already exists, skipping: /Users/moustholmes/Projects/METAL-AI/data/Li-Rh/rank_Worker-e06fa6e3-377b-409e-84fb-c27c211cf1f1.hdf5\n",
      "File already exists, skipping: /Users/moustholmes/Projects/METAL-AI/data/Li-Rh/rank_Worker-e0fbc2ca-ce3b-4990-96df-d81fd0fc4a82.hdf5\n",
      "File already exists, skipping: /Users/moustholmes/Projects/METAL-AI/data/Li-Rh/rank_Worker-e0fbc2ca-ce3b-4990-96df-d81fd0fc4a82.hdf5\n"
     ]
    },
    {
     "name": "stderr",
     "output_type": "stream",
     "text": [
      "Downloading files:  86%|████████▌ | 1223/1422 [00:58<00:09, 20.51file/s]"
     ]
    },
    {
     "name": "stdout",
     "output_type": "stream",
     "text": [
      "Downloaded: /Users/moustholmes/Projects/METAL-AI/data/Li-Rh/rank_Worker-e1a2d0f4-9bb4-41bd-8d71-6126341006ab.hdf5\n",
      "File already exists, skipping: /Users/moustholmes/Projects/METAL-AI/data/Li-Rh/rank_Worker-e1a2d0f4-9bb4-41bd-8d71-6126341006ab.hdf5\n",
      "File already exists, skipping: /Users/moustholmes/Projects/METAL-AI/data/Li-Rh/rank_Worker-e1bec468-ae36-4672-8dbb-46661ab67c97.hdf5\n",
      "File already exists, skipping: /Users/moustholmes/Projects/METAL-AI/data/Li-Rh/rank_Worker-e1bec468-ae36-4672-8dbb-46661ab67c97.hdf5\n",
      "File already exists, skipping: /Users/moustholmes/Projects/METAL-AI/data/Li-Rh/rank_Worker-e23e771a-95b0-4c5c-9c73-ecfe59af49e1.hdf5\n",
      "File already exists, skipping: /Users/moustholmes/Projects/METAL-AI/data/Li-Rh/rank_Worker-e23e771a-95b0-4c5c-9c73-ecfe59af49e1.hdf5\n",
      "File already exists, skipping: /Users/moustholmes/Projects/METAL-AI/data/Li-Rh/rank_Worker-e28ce871-101e-4918-a7db-6b175cfa534b.hdf5\n",
      "File already exists, skipping: /Users/moustholmes/Projects/METAL-AI/data/Li-Rh/rank_Worker-e28ce871-101e-4918-a7db-6b175cfa534b.hdf5\n",
      "File already exists, skipping: /Users/moustholmes/Projects/METAL-AI/data/Li-Rh/rank_Worker-e297cd95-7977-46f2-99eb-b42cd2710a0e.hdf5\n",
      "File already exists, skipping: /Users/moustholmes/Projects/METAL-AI/data/Li-Rh/rank_Worker-e297cd95-7977-46f2-99eb-b42cd2710a0e.hdf5\n",
      "File already exists, skipping: /Users/moustholmes/Projects/METAL-AI/data/Li-Rh/rank_Worker-e2efd483-7b6a-4257-adb1-5566fdafeb14.hdf5\n",
      "File already exists, skipping: /Users/moustholmes/Projects/METAL-AI/data/Li-Rh/rank_Worker-e2efd483-7b6a-4257-adb1-5566fdafeb14.hdf5\n",
      "File already exists, skipping: /Users/moustholmes/Projects/METAL-AI/data/Li-Rh/rank_Worker-e2f838b6-4b6f-4452-996a-8dc289ecd6bd.hdf5\n",
      "File already exists, skipping: /Users/moustholmes/Projects/METAL-AI/data/Li-Rh/rank_Worker-e2f838b6-4b6f-4452-996a-8dc289ecd6bd.hdf5\n",
      "File already exists, skipping: /Users/moustholmes/Projects/METAL-AI/data/Li-Rh/rank_Worker-e372c9cd-8acc-42df-9f73-0cc8e7cf8c37.hdf5\n",
      "File already exists, skipping: /Users/moustholmes/Projects/METAL-AI/data/Li-Rh/rank_Worker-e372c9cd-8acc-42df-9f73-0cc8e7cf8c37.hdf5\n",
      "File already exists, skipping: /Users/moustholmes/Projects/METAL-AI/data/Li-Rh/rank_Worker-e381108f-1aed-48a5-ab1a-622973c3414a.hdf5\n",
      "File already exists, skipping: /Users/moustholmes/Projects/METAL-AI/data/Li-Rh/rank_Worker-e381108f-1aed-48a5-ab1a-622973c3414a.hdf5\n"
     ]
    },
    {
     "name": "stderr",
     "output_type": "stream",
     "text": [
      "Downloading files:  88%|████████▊ | 1249/1422 [00:58<00:04, 41.36file/s]"
     ]
    },
    {
     "name": "stdout",
     "output_type": "stream",
     "text": [
      "Downloaded: /Users/moustholmes/Projects/METAL-AI/data/Li-Rh/rank_Worker-e406d67c-990f-4a01-8530-13e8ed0edcec.hdf5\n",
      "File already exists, skipping: /Users/moustholmes/Projects/METAL-AI/data/Li-Rh/rank_Worker-e406d67c-990f-4a01-8530-13e8ed0edcec.hdf5\n",
      "File already exists, skipping: /Users/moustholmes/Projects/METAL-AI/data/Li-Rh/rank_Worker-e488e9b0-302b-4227-b49b-21050c3a89be.hdf5\n",
      "File already exists, skipping: /Users/moustholmes/Projects/METAL-AI/data/Li-Rh/rank_Worker-e488e9b0-302b-4227-b49b-21050c3a89be.hdf5\n",
      "File already exists, skipping: /Users/moustholmes/Projects/METAL-AI/data/Li-Rh/rank_Worker-e5021c2f-ba68-489e-81ef-64dd7c6ec19d.hdf5\n",
      "File already exists, skipping: /Users/moustholmes/Projects/METAL-AI/data/Li-Rh/rank_Worker-e5021c2f-ba68-489e-81ef-64dd7c6ec19d.hdf5\n",
      "File already exists, skipping: /Users/moustholmes/Projects/METAL-AI/data/Li-Rh/rank_Worker-e52c6655-1f18-4078-ad43-a968b1c73425.hdf5\n",
      "File already exists, skipping: /Users/moustholmes/Projects/METAL-AI/data/Li-Rh/rank_Worker-e52c6655-1f18-4078-ad43-a968b1c73425.hdf5\n",
      "Downloaded: /Users/moustholmes/Projects/METAL-AI/data/Li-Rh/rank_Worker-e54d1d84-fcd1-4a12-be3f-4084f42b2d49.hdf5\n",
      "File already exists, skipping: /Users/moustholmes/Projects/METAL-AI/data/Li-Rh/rank_Worker-e54d1d84-fcd1-4a12-be3f-4084f42b2d49.hdf5\n"
     ]
    },
    {
     "name": "stderr",
     "output_type": "stream",
     "text": [
      "Downloading files:  88%|████████▊ | 1258/1422 [00:59<00:05, 31.23file/s]"
     ]
    },
    {
     "name": "stdout",
     "output_type": "stream",
     "text": [
      "Downloaded: /Users/moustholmes/Projects/METAL-AI/data/Li-Rh/rank_Worker-e57d72dc-4337-40eb-8531-6416cac7f4e9.hdf5\n",
      "File already exists, skipping: /Users/moustholmes/Projects/METAL-AI/data/Li-Rh/rank_Worker-e57d72dc-4337-40eb-8531-6416cac7f4e9.hdf5\n",
      "File already exists, skipping: /Users/moustholmes/Projects/METAL-AI/data/Li-Rh/rank_Worker-e612328e-f91a-4b1e-b72d-0ef58da275f0.hdf5\n",
      "File already exists, skipping: /Users/moustholmes/Projects/METAL-AI/data/Li-Rh/rank_Worker-e612328e-f91a-4b1e-b72d-0ef58da275f0.hdf5\n",
      "Downloaded: /Users/moustholmes/Projects/METAL-AI/data/Li-Rh/rank_Worker-e65b265e-7c67-4405-8d84-e6876c419312.hdf5\n",
      "File already exists, skipping: /Users/moustholmes/Projects/METAL-AI/data/Li-Rh/rank_Worker-e65b265e-7c67-4405-8d84-e6876c419312.hdf5\n",
      "File already exists, skipping: /Users/moustholmes/Projects/METAL-AI/data/Li-Rh/rank_Worker-e6912308-3c30-4592-aee3-012ac7664ad2.hdf5\n",
      "File already exists, skipping: /Users/moustholmes/Projects/METAL-AI/data/Li-Rh/rank_Worker-e6912308-3c30-4592-aee3-012ac7664ad2.hdf5\n"
     ]
    },
    {
     "name": "stderr",
     "output_type": "stream",
     "text": [
      "Downloading files:  89%|████████▉ | 1265/1422 [00:59<00:06, 23.93file/s]"
     ]
    },
    {
     "name": "stdout",
     "output_type": "stream",
     "text": [
      "Downloaded: /Users/moustholmes/Projects/METAL-AI/data/Li-Rh/rank_Worker-e69c1c6a-590f-44ef-931e-ba01e14ccca5.hdf5\n",
      "File already exists, skipping: /Users/moustholmes/Projects/METAL-AI/data/Li-Rh/rank_Worker-e69c1c6a-590f-44ef-931e-ba01e14ccca5.hdf5\n",
      "File already exists, skipping: /Users/moustholmes/Projects/METAL-AI/data/Li-Rh/rank_Worker-e69cbe37-b4a2-4631-9f01-2869984288fc.hdf5\n",
      "File already exists, skipping: /Users/moustholmes/Projects/METAL-AI/data/Li-Rh/rank_Worker-e69cbe37-b4a2-4631-9f01-2869984288fc.hdf5\n",
      "File already exists, skipping: /Users/moustholmes/Projects/METAL-AI/data/Li-Rh/rank_Worker-e744fccd-329b-47d5-b2d2-3ba2a6106c71.hdf5\n",
      "File already exists, skipping: /Users/moustholmes/Projects/METAL-AI/data/Li-Rh/rank_Worker-e744fccd-329b-47d5-b2d2-3ba2a6106c71.hdf5\n",
      "Downloaded: /Users/moustholmes/Projects/METAL-AI/data/Li-Rh/rank_Worker-e7bdaa5d-b90b-4c24-a6b7-1bc7a65fedf2.hdf5\n",
      "File already exists, skipping: /Users/moustholmes/Projects/METAL-AI/data/Li-Rh/rank_Worker-e7bdaa5d-b90b-4c24-a6b7-1bc7a65fedf2.hdf5\n"
     ]
    },
    {
     "name": "stderr",
     "output_type": "stream",
     "text": [
      "Downloading files:  89%|████████▉ | 1271/1422 [00:59<00:07, 19.93file/s]"
     ]
    },
    {
     "name": "stdout",
     "output_type": "stream",
     "text": [
      "Downloaded: /Users/moustholmes/Projects/METAL-AI/data/Li-Rh/rank_Worker-e7cb77c9-bbdd-42a1-bc80-bca5a0c5ed26.hdf5\n",
      "File already exists, skipping: /Users/moustholmes/Projects/METAL-AI/data/Li-Rh/rank_Worker-e7cb77c9-bbdd-42a1-bc80-bca5a0c5ed26.hdf5\n",
      "Downloaded: /Users/moustholmes/Projects/METAL-AI/data/Li-Rh/rank_Worker-e7d6491f-64bb-4c38-bc74-5179f7d1f674.hdf5\n",
      "File already exists, skipping: /Users/moustholmes/Projects/METAL-AI/data/Li-Rh/rank_Worker-e7d6491f-64bb-4c38-bc74-5179f7d1f674.hdf5\n",
      "File already exists, skipping: /Users/moustholmes/Projects/METAL-AI/data/Li-Rh/rank_Worker-e7f5f9df-e399-42af-a27d-fe38cefba322.hdf5\n",
      "File already exists, skipping: /Users/moustholmes/Projects/METAL-AI/data/Li-Rh/rank_Worker-e7f5f9df-e399-42af-a27d-fe38cefba322.hdf5\n"
     ]
    },
    {
     "name": "stderr",
     "output_type": "stream",
     "text": [
      "Downloading files:  90%|████████▉ | 1273/1422 [01:00<00:09, 16.54file/s]"
     ]
    },
    {
     "name": "stdout",
     "output_type": "stream",
     "text": [
      "Downloaded: /Users/moustholmes/Projects/METAL-AI/data/Li-Rh/rank_Worker-e8069993-c065-407d-b7b0-79e923ab7c56.hdf5\n",
      "File already exists, skipping: /Users/moustholmes/Projects/METAL-AI/data/Li-Rh/rank_Worker-e8069993-c065-407d-b7b0-79e923ab7c56.hdf5\n"
     ]
    },
    {
     "name": "stderr",
     "output_type": "stream",
     "text": [
      "Downloading files:  90%|████████▉ | 1275/1422 [01:00<00:10, 14.07file/s]"
     ]
    },
    {
     "name": "stdout",
     "output_type": "stream",
     "text": [
      "Downloaded: /Users/moustholmes/Projects/METAL-AI/data/Li-Rh/rank_Worker-e81576be-5a90-4661-b4d8-f9f0a992b03d.hdf5\n",
      "File already exists, skipping: /Users/moustholmes/Projects/METAL-AI/data/Li-Rh/rank_Worker-e81576be-5a90-4661-b4d8-f9f0a992b03d.hdf5\n"
     ]
    },
    {
     "name": "stderr",
     "output_type": "stream",
     "text": [
      "Downloading files:  90%|█████████ | 1285/1422 [01:00<00:06, 20.84file/s]"
     ]
    },
    {
     "name": "stdout",
     "output_type": "stream",
     "text": [
      "Downloaded: /Users/moustholmes/Projects/METAL-AI/data/Li-Rh/rank_Worker-e8641174-a5b0-41fc-9ee6-e33ac7014042.hdf5\n",
      "File already exists, skipping: /Users/moustholmes/Projects/METAL-AI/data/Li-Rh/rank_Worker-e8641174-a5b0-41fc-9ee6-e33ac7014042.hdf5\n",
      "File already exists, skipping: /Users/moustholmes/Projects/METAL-AI/data/Li-Rh/rank_Worker-e905c12e-c5ed-4dd2-946e-055533a31520.hdf5\n",
      "File already exists, skipping: /Users/moustholmes/Projects/METAL-AI/data/Li-Rh/rank_Worker-e905c12e-c5ed-4dd2-946e-055533a31520.hdf5\n",
      "File already exists, skipping: /Users/moustholmes/Projects/METAL-AI/data/Li-Rh/rank_Worker-e935848d-19c4-4ef4-97cd-693d17ba8010.hdf5\n",
      "File already exists, skipping: /Users/moustholmes/Projects/METAL-AI/data/Li-Rh/rank_Worker-e935848d-19c4-4ef4-97cd-693d17ba8010.hdf5\n",
      "File already exists, skipping: /Users/moustholmes/Projects/METAL-AI/data/Li-Rh/rank_Worker-e93d0a88-d9dd-462a-a005-364c8a01959d.hdf5\n",
      "File already exists, skipping: /Users/moustholmes/Projects/METAL-AI/data/Li-Rh/rank_Worker-e93d0a88-d9dd-462a-a005-364c8a01959d.hdf5\n",
      "Downloaded: /Users/moustholmes/Projects/METAL-AI/data/Li-Rh/rank_Worker-e99d62d4-3ca9-487d-97fb-f49b38104346.hdf5\n",
      "File already exists, skipping: /Users/moustholmes/Projects/METAL-AI/data/Li-Rh/rank_Worker-e99d62d4-3ca9-487d-97fb-f49b38104346.hdf5\n",
      "File already exists, skipping: /Users/moustholmes/Projects/METAL-AI/data/Li-Rh/rank_Worker-ead2fef6-50fa-4843-8557-aceeaa3d293d.hdf5\n",
      "File already exists, skipping: /Users/moustholmes/Projects/METAL-AI/data/Li-Rh/rank_Worker-ead2fef6-50fa-4843-8557-aceeaa3d293d.hdf5\n"
     ]
    },
    {
     "name": "stderr",
     "output_type": "stream",
     "text": [
      "Downloading files:  91%|█████████ | 1289/1422 [01:00<00:06, 20.76file/s]"
     ]
    },
    {
     "name": "stdout",
     "output_type": "stream",
     "text": [
      "Downloaded: /Users/moustholmes/Projects/METAL-AI/data/Li-Rh/rank_Worker-eaf3741f-a090-4293-af6d-618bb1d27055.hdf5\n",
      "File already exists, skipping: /Users/moustholmes/Projects/METAL-AI/data/Li-Rh/rank_Worker-eaf3741f-a090-4293-af6d-618bb1d27055.hdf5\n"
     ]
    },
    {
     "name": "stderr",
     "output_type": "stream",
     "text": [
      "Downloading files:  91%|█████████ | 1292/1422 [01:01<00:06, 18.66file/s]"
     ]
    },
    {
     "name": "stdout",
     "output_type": "stream",
     "text": [
      "Downloaded: /Users/moustholmes/Projects/METAL-AI/data/Li-Rh/rank_Worker-eb41f84f-7a79-4aa1-bea8-bb899df36b20.hdf5\n",
      "File already exists, skipping: /Users/moustholmes/Projects/METAL-AI/data/Li-Rh/rank_Worker-eb41f84f-7a79-4aa1-bea8-bb899df36b20.hdf5\n",
      "File already exists, skipping: /Users/moustholmes/Projects/METAL-AI/data/Li-Rh/rank_Worker-eb5fd71c-fce2-402f-a45e-f6d9e8a769b8.hdf5\n",
      "File already exists, skipping: /Users/moustholmes/Projects/METAL-AI/data/Li-Rh/rank_Worker-eb5fd71c-fce2-402f-a45e-f6d9e8a769b8.hdf5\n"
     ]
    },
    {
     "name": "stderr",
     "output_type": "stream",
     "text": [
      "Downloading files:  91%|█████████ | 1295/1422 [01:01<00:07, 17.26file/s]"
     ]
    },
    {
     "name": "stdout",
     "output_type": "stream",
     "text": [
      "Downloaded: /Users/moustholmes/Projects/METAL-AI/data/Li-Rh/rank_Worker-ebfcfd4b-f470-4a68-aee8-65d60ee00376.hdf5\n",
      "File already exists, skipping: /Users/moustholmes/Projects/METAL-AI/data/Li-Rh/rank_Worker-ebfcfd4b-f470-4a68-aee8-65d60ee00376.hdf5\n"
     ]
    },
    {
     "name": "stderr",
     "output_type": "stream",
     "text": [
      "Downloading files:  91%|█████████ | 1297/1422 [01:01<00:08, 14.77file/s]"
     ]
    },
    {
     "name": "stdout",
     "output_type": "stream",
     "text": [
      "Downloaded: /Users/moustholmes/Projects/METAL-AI/data/Li-Rh/rank_Worker-ec662358-cb71-4d0f-8933-ac160593c9ad.hdf5\n",
      "File already exists, skipping: /Users/moustholmes/Projects/METAL-AI/data/Li-Rh/rank_Worker-ec662358-cb71-4d0f-8933-ac160593c9ad.hdf5\n",
      "File already exists, skipping: /Users/moustholmes/Projects/METAL-AI/data/Li-Rh/rank_Worker-ec7313c4-2251-456a-a3f1-0bd08e77a9ff.hdf5\n",
      "File already exists, skipping: /Users/moustholmes/Projects/METAL-AI/data/Li-Rh/rank_Worker-ec7313c4-2251-456a-a3f1-0bd08e77a9ff.hdf5\n",
      "File already exists, skipping: /Users/moustholmes/Projects/METAL-AI/data/Li-Rh/rank_Worker-ed5f27f6-aad1-42b5-aaa6-30a8570a4531.hdf5\n",
      "File already exists, skipping: /Users/moustholmes/Projects/METAL-AI/data/Li-Rh/rank_Worker-ed5f27f6-aad1-42b5-aaa6-30a8570a4531.hdf5\n"
     ]
    },
    {
     "name": "stderr",
     "output_type": "stream",
     "text": [
      "Downloading files:  92%|█████████▏| 1305/1422 [01:01<00:07, 16.27file/s]"
     ]
    },
    {
     "name": "stdout",
     "output_type": "stream",
     "text": [
      "Downloaded: /Users/moustholmes/Projects/METAL-AI/data/Li-Rh/rank_Worker-edb87c16-1470-4c26-98f0-590d4277fbb6.hdf5\n",
      "File already exists, skipping: /Users/moustholmes/Projects/METAL-AI/data/Li-Rh/rank_Worker-edb87c16-1470-4c26-98f0-590d4277fbb6.hdf5\n",
      "Downloaded: /Users/moustholmes/Projects/METAL-AI/data/Li-Rh/rank_Worker-ee7e3538-542a-4272-86c7-866c9e872b53.hdf5\n",
      "File already exists, skipping: /Users/moustholmes/Projects/METAL-AI/data/Li-Rh/rank_Worker-ee7e3538-542a-4272-86c7-866c9e872b53.hdf5\n",
      "File already exists, skipping: /Users/moustholmes/Projects/METAL-AI/data/Li-Rh/rank_Worker-ee8ed9ac-5652-4b14-8ac4-b185ccf17a71.hdf5\n",
      "File already exists, skipping: /Users/moustholmes/Projects/METAL-AI/data/Li-Rh/rank_Worker-ee8ed9ac-5652-4b14-8ac4-b185ccf17a71.hdf5\n"
     ]
    },
    {
     "name": "stderr",
     "output_type": "stream",
     "text": [
      "Downloading files:  92%|█████████▏| 1313/1422 [01:02<00:05, 18.87file/s]"
     ]
    },
    {
     "name": "stdout",
     "output_type": "stream",
     "text": [
      "Downloaded: /Users/moustholmes/Projects/METAL-AI/data/Li-Rh/rank_Worker-ee9598ba-0e14-40ae-86ef-fb29bcf3f691.hdf5\n",
      "File already exists, skipping: /Users/moustholmes/Projects/METAL-AI/data/Li-Rh/rank_Worker-ee9598ba-0e14-40ae-86ef-fb29bcf3f691.hdf5\n",
      "File already exists, skipping: /Users/moustholmes/Projects/METAL-AI/data/Li-Rh/rank_Worker-ee96dc44-e31d-4423-9473-69d5481ad864.hdf5\n",
      "File already exists, skipping: /Users/moustholmes/Projects/METAL-AI/data/Li-Rh/rank_Worker-ee96dc44-e31d-4423-9473-69d5481ad864.hdf5\n",
      "Downloaded: /Users/moustholmes/Projects/METAL-AI/data/Li-Rh/rank_Worker-eeea9e07-5eb2-42b0-9e5c-17b7198c79ed.hdf5\n",
      "File already exists, skipping: /Users/moustholmes/Projects/METAL-AI/data/Li-Rh/rank_Worker-eeea9e07-5eb2-42b0-9e5c-17b7198c79ed.hdf5\n",
      "File already exists, skipping: /Users/moustholmes/Projects/METAL-AI/data/Li-Rh/rank_Worker-ef33dfe5-e347-446f-9ef1-a8020d767fbc.hdf5\n",
      "File already exists, skipping: /Users/moustholmes/Projects/METAL-AI/data/Li-Rh/rank_Worker-ef33dfe5-e347-446f-9ef1-a8020d767fbc.hdf5\n",
      "File already exists, skipping: /Users/moustholmes/Projects/METAL-AI/data/Li-Rh/rank_Worker-f022f25c-9e32-4d49-86fe-98f5c6d6517b.hdf5\n",
      "File already exists, skipping: /Users/moustholmes/Projects/METAL-AI/data/Li-Rh/rank_Worker-f022f25c-9e32-4d49-86fe-98f5c6d6517b.hdf5\n",
      "File already exists, skipping: /Users/moustholmes/Projects/METAL-AI/data/Li-Rh/rank_Worker-f0240e4f-0c65-44b2-8d7c-8522fb73b68e.hdf5\n",
      "File already exists, skipping: /Users/moustholmes/Projects/METAL-AI/data/Li-Rh/rank_Worker-f0240e4f-0c65-44b2-8d7c-8522fb73b68e.hdf5\n",
      "File already exists, skipping: /Users/moustholmes/Projects/METAL-AI/data/Li-Rh/rank_Worker-f1003104-7127-48be-a262-de08fa511973.hdf5\n",
      "File already exists, skipping: /Users/moustholmes/Projects/METAL-AI/data/Li-Rh/rank_Worker-f1003104-7127-48be-a262-de08fa511973.hdf5\n"
     ]
    },
    {
     "name": "stderr",
     "output_type": "stream",
     "text": [
      "Downloading files:  93%|█████████▎| 1323/1422 [01:02<00:03, 28.47file/s]"
     ]
    },
    {
     "name": "stdout",
     "output_type": "stream",
     "text": [
      "Downloaded: /Users/moustholmes/Projects/METAL-AI/data/Li-Rh/rank_Worker-f13e1810-b2b6-4ce2-bf30-429d14205283.hdf5\n",
      "File already exists, skipping: /Users/moustholmes/Projects/METAL-AI/data/Li-Rh/rank_Worker-f13e1810-b2b6-4ce2-bf30-429d14205283.hdf5\n",
      "File already exists, skipping: /Users/moustholmes/Projects/METAL-AI/data/Li-Rh/rank_Worker-f1ff3e6f-8391-4370-8599-b22f1fe568b8.hdf5\n",
      "File already exists, skipping: /Users/moustholmes/Projects/METAL-AI/data/Li-Rh/rank_Worker-f1ff3e6f-8391-4370-8599-b22f1fe568b8.hdf5\n",
      "File already exists, skipping: /Users/moustholmes/Projects/METAL-AI/data/Li-Rh/rank_Worker-f222643c-bab8-4859-8c85-eca1751f41cb.hdf5\n",
      "File already exists, skipping: /Users/moustholmes/Projects/METAL-AI/data/Li-Rh/rank_Worker-f222643c-bab8-4859-8c85-eca1751f41cb.hdf5\n",
      "File already exists, skipping: /Users/moustholmes/Projects/METAL-AI/data/Li-Rh/rank_Worker-f2691716-d8d8-4cbc-a281-6216a673f6bb.hdf5\n",
      "File already exists, skipping: /Users/moustholmes/Projects/METAL-AI/data/Li-Rh/rank_Worker-f2691716-d8d8-4cbc-a281-6216a673f6bb.hdf5\n",
      "File already exists, skipping: /Users/moustholmes/Projects/METAL-AI/data/Li-Rh/rank_Worker-f2acebf0-a5ad-4bef-a0fb-86a314da04c3.hdf5\n",
      "File already exists, skipping: /Users/moustholmes/Projects/METAL-AI/data/Li-Rh/rank_Worker-f2acebf0-a5ad-4bef-a0fb-86a314da04c3.hdf5\n",
      "File already exists, skipping: /Users/moustholmes/Projects/METAL-AI/data/Li-Rh/rank_Worker-f2cd0501-c2ed-47fc-858d-3150d5758da0.hdf5\n",
      "File already exists, skipping: /Users/moustholmes/Projects/METAL-AI/data/Li-Rh/rank_Worker-f2cd0501-c2ed-47fc-858d-3150d5758da0.hdf5\n"
     ]
    },
    {
     "name": "stderr",
     "output_type": "stream",
     "text": [
      "Downloading files:  94%|█████████▍| 1335/1422 [01:02<00:02, 37.73file/s]"
     ]
    },
    {
     "name": "stdout",
     "output_type": "stream",
     "text": [
      "Downloaded: /Users/moustholmes/Projects/METAL-AI/data/Li-Rh/rank_Worker-f339ce96-40c4-4e80-a076-566726736011.hdf5\n",
      "File already exists, skipping: /Users/moustholmes/Projects/METAL-AI/data/Li-Rh/rank_Worker-f339ce96-40c4-4e80-a076-566726736011.hdf5\n"
     ]
    },
    {
     "name": "stderr",
     "output_type": "stream",
     "text": [
      "Downloading files:  94%|█████████▍| 1339/1422 [01:03<00:03, 24.76file/s]"
     ]
    },
    {
     "name": "stdout",
     "output_type": "stream",
     "text": [
      "Downloaded: /Users/moustholmes/Projects/METAL-AI/data/Li-Rh/rank_Worker-f4c8c9c2-8a93-457a-a419-e658bd42c0e8.hdf5\n",
      "File already exists, skipping: /Users/moustholmes/Projects/METAL-AI/data/Li-Rh/rank_Worker-f4c8c9c2-8a93-457a-a419-e658bd42c0e8.hdf5\n",
      "Downloaded: /Users/moustholmes/Projects/METAL-AI/data/Li-Rh/rank_Worker-f4f45f26-5d5b-4886-b9fb-9342026e2984.hdf5\n",
      "File already exists, skipping: /Users/moustholmes/Projects/METAL-AI/data/Li-Rh/rank_Worker-f4f45f26-5d5b-4886-b9fb-9342026e2984.hdf5\n",
      "File already exists, skipping: /Users/moustholmes/Projects/METAL-AI/data/Li-Rh/rank_Worker-f5137de8-bcb8-4e2f-8abb-4cd987f9124b.hdf5\n",
      "File already exists, skipping: /Users/moustholmes/Projects/METAL-AI/data/Li-Rh/rank_Worker-f5137de8-bcb8-4e2f-8abb-4cd987f9124b.hdf5\n"
     ]
    },
    {
     "name": "stderr",
     "output_type": "stream",
     "text": [
      "Downloading files:  95%|█████████▌| 1357/1422 [01:03<00:01, 36.88file/s]"
     ]
    },
    {
     "name": "stdout",
     "output_type": "stream",
     "text": [
      "Downloaded: /Users/moustholmes/Projects/METAL-AI/data/Li-Rh/rank_Worker-f522c0d9-88d2-4053-9cfc-9d8314feb50f.hdf5\n",
      "File already exists, skipping: /Users/moustholmes/Projects/METAL-AI/data/Li-Rh/rank_Worker-f522c0d9-88d2-4053-9cfc-9d8314feb50f.hdf5\n",
      "File already exists, skipping: /Users/moustholmes/Projects/METAL-AI/data/Li-Rh/rank_Worker-f59e200f-2c63-45d9-8af6-0179e62515ce.hdf5\n",
      "File already exists, skipping: /Users/moustholmes/Projects/METAL-AI/data/Li-Rh/rank_Worker-f59e200f-2c63-45d9-8af6-0179e62515ce.hdf5\n",
      "File already exists, skipping: /Users/moustholmes/Projects/METAL-AI/data/Li-Rh/rank_Worker-f5be3750-50ff-467a-96ff-679de5b8663d.hdf5\n",
      "File already exists, skipping: /Users/moustholmes/Projects/METAL-AI/data/Li-Rh/rank_Worker-f5be3750-50ff-467a-96ff-679de5b8663d.hdf5\n",
      "File already exists, skipping: /Users/moustholmes/Projects/METAL-AI/data/Li-Rh/rank_Worker-f5ef1b02-0500-49d2-aeab-b723fadeba91.hdf5\n",
      "File already exists, skipping: /Users/moustholmes/Projects/METAL-AI/data/Li-Rh/rank_Worker-f5ef1b02-0500-49d2-aeab-b723fadeba91.hdf5\n",
      "File already exists, skipping: /Users/moustholmes/Projects/METAL-AI/data/Li-Rh/rank_Worker-f5f2c4dd-4c41-442d-a376-bdad6dab4315.hdf5\n",
      "File already exists, skipping: /Users/moustholmes/Projects/METAL-AI/data/Li-Rh/rank_Worker-f5f2c4dd-4c41-442d-a376-bdad6dab4315.hdf5\n",
      "File already exists, skipping: /Users/moustholmes/Projects/METAL-AI/data/Li-Rh/rank_Worker-f61369eb-8bed-4234-8898-4bb0b21ac50d.hdf5\n",
      "File already exists, skipping: /Users/moustholmes/Projects/METAL-AI/data/Li-Rh/rank_Worker-f61369eb-8bed-4234-8898-4bb0b21ac50d.hdf5\n",
      "File already exists, skipping: /Users/moustholmes/Projects/METAL-AI/data/Li-Rh/rank_Worker-f655cb1b-3d26-41b7-b83e-f8f23a7d5bcd.hdf5\n",
      "File already exists, skipping: /Users/moustholmes/Projects/METAL-AI/data/Li-Rh/rank_Worker-f655cb1b-3d26-41b7-b83e-f8f23a7d5bcd.hdf5\n",
      "Downloaded: /Users/moustholmes/Projects/METAL-AI/data/Li-Rh/rank_Worker-f6d2f981-2b0f-46bf-96ef-75a22c9b74ad.hdf5\n",
      "File already exists, skipping: /Users/moustholmes/Projects/METAL-AI/data/Li-Rh/rank_Worker-f6d2f981-2b0f-46bf-96ef-75a22c9b74ad.hdf5\n",
      "File already exists, skipping: /Users/moustholmes/Projects/METAL-AI/data/Li-Rh/rank_Worker-f6f8952e-3817-46e8-b8d4-ba633b3a8bc4.hdf5\n",
      "File already exists, skipping: /Users/moustholmes/Projects/METAL-AI/data/Li-Rh/rank_Worker-f6f8952e-3817-46e8-b8d4-ba633b3a8bc4.hdf5\n",
      "File already exists, skipping: /Users/moustholmes/Projects/METAL-AI/data/Li-Rh/rank_Worker-f6fe5034-1eee-4e9d-aadd-a8f8e12b06d3.hdf5\n",
      "File already exists, skipping: /Users/moustholmes/Projects/METAL-AI/data/Li-Rh/rank_Worker-f6fe5034-1eee-4e9d-aadd-a8f8e12b06d3.hdf5\n"
     ]
    },
    {
     "name": "stderr",
     "output_type": "stream",
     "text": [
      "Downloading files:  96%|█████████▌| 1367/1422 [01:03<00:01, 30.14file/s]"
     ]
    },
    {
     "name": "stdout",
     "output_type": "stream",
     "text": [
      "Downloaded: /Users/moustholmes/Projects/METAL-AI/data/Li-Rh/rank_Worker-f7740b74-8ee4-4a47-b110-4b502a10a9f2.hdf5\n",
      "File already exists, skipping: /Users/moustholmes/Projects/METAL-AI/data/Li-Rh/rank_Worker-f7740b74-8ee4-4a47-b110-4b502a10a9f2.hdf5\n",
      "Downloaded: /Users/moustholmes/Projects/METAL-AI/data/Li-Rh/rank_Worker-f7b6afe1-f848-4ec2-9537-474b574ed47a.hdf5\n",
      "File already exists, skipping: /Users/moustholmes/Projects/METAL-AI/data/Li-Rh/rank_Worker-f7b6afe1-f848-4ec2-9537-474b574ed47a.hdf5\n",
      "File already exists, skipping: /Users/moustholmes/Projects/METAL-AI/data/Li-Rh/rank_Worker-f7cb0a3e-2df6-43b3-9565-f3ee2dc00382.hdf5\n",
      "File already exists, skipping: /Users/moustholmes/Projects/METAL-AI/data/Li-Rh/rank_Worker-f7cb0a3e-2df6-43b3-9565-f3ee2dc00382.hdf5\n"
     ]
    },
    {
     "name": "stderr",
     "output_type": "stream",
     "text": [
      "Downloading files:  96%|█████████▋| 1371/1422 [01:04<00:02, 21.41file/s]"
     ]
    },
    {
     "name": "stdout",
     "output_type": "stream",
     "text": [
      "Downloaded: /Users/moustholmes/Projects/METAL-AI/data/Li-Rh/rank_Worker-f7f405e0-5efd-4a1b-acf8-8c0f63f60dcc.hdf5\n",
      "File already exists, skipping: /Users/moustholmes/Projects/METAL-AI/data/Li-Rh/rank_Worker-f7f405e0-5efd-4a1b-acf8-8c0f63f60dcc.hdf5\n",
      "Downloaded: /Users/moustholmes/Projects/METAL-AI/data/Li-Rh/rank_Worker-f81abc5e-4d5f-491a-9d86-278f9c8a37ce.hdf5\n",
      "File already exists, skipping: /Users/moustholmes/Projects/METAL-AI/data/Li-Rh/rank_Worker-f81abc5e-4d5f-491a-9d86-278f9c8a37ce.hdf5\n",
      "File already exists, skipping: /Users/moustholmes/Projects/METAL-AI/data/Li-Rh/rank_Worker-f87c0622-ec01-46c1-9a0e-32600ca44dab.hdf5\n",
      "File already exists, skipping: /Users/moustholmes/Projects/METAL-AI/data/Li-Rh/rank_Worker-f87c0622-ec01-46c1-9a0e-32600ca44dab.hdf5\n",
      "File already exists, skipping: /Users/moustholmes/Projects/METAL-AI/data/Li-Rh/rank_Worker-f88835ed-d4be-43b1-b5e9-272fd24bdbb2.hdf5\n",
      "File already exists, skipping: /Users/moustholmes/Projects/METAL-AI/data/Li-Rh/rank_Worker-f88835ed-d4be-43b1-b5e9-272fd24bdbb2.hdf5\n",
      "File already exists, skipping: /Users/moustholmes/Projects/METAL-AI/data/Li-Rh/rank_Worker-f88f67d8-91d0-4f26-9a05-e0c85a30cc0b.hdf5\n",
      "File already exists, skipping: /Users/moustholmes/Projects/METAL-AI/data/Li-Rh/rank_Worker-f88f67d8-91d0-4f26-9a05-e0c85a30cc0b.hdf5\n",
      "File already exists, skipping: /Users/moustholmes/Projects/METAL-AI/data/Li-Rh/rank_Worker-f8ce20de-e399-4ec0-bd12-02c6b2e0e019.hdf5\n",
      "File already exists, skipping: /Users/moustholmes/Projects/METAL-AI/data/Li-Rh/rank_Worker-f8ce20de-e399-4ec0-bd12-02c6b2e0e019.hdf5\n",
      "File already exists, skipping: /Users/moustholmes/Projects/METAL-AI/data/Li-Rh/rank_Worker-f90c84b3-5f1c-4d4d-9110-b96fbb548699.hdf5\n",
      "File already exists, skipping: /Users/moustholmes/Projects/METAL-AI/data/Li-Rh/rank_Worker-f90c84b3-5f1c-4d4d-9110-b96fbb548699.hdf5\n"
     ]
    },
    {
     "name": "stderr",
     "output_type": "stream",
     "text": [
      "Downloading files:  97%|█████████▋| 1383/1422 [01:04<00:01, 30.29file/s]"
     ]
    },
    {
     "name": "stdout",
     "output_type": "stream",
     "text": [
      "Downloaded: /Users/moustholmes/Projects/METAL-AI/data/Li-Rh/rank_Worker-f99d3cc8-f4ee-43f8-97d6-db25acc0de17.hdf5\n",
      "File already exists, skipping: /Users/moustholmes/Projects/METAL-AI/data/Li-Rh/rank_Worker-f99d3cc8-f4ee-43f8-97d6-db25acc0de17.hdf5\n",
      "File already exists, skipping: /Users/moustholmes/Projects/METAL-AI/data/Li-Rh/rank_Worker-fa351dd0-c6ed-4534-a07e-79fba5b571ed.hdf5\n",
      "File already exists, skipping: /Users/moustholmes/Projects/METAL-AI/data/Li-Rh/rank_Worker-fa351dd0-c6ed-4534-a07e-79fba5b571ed.hdf5\n"
     ]
    },
    {
     "name": "stderr",
     "output_type": "stream",
     "text": [
      "Downloading files:  98%|█████████▊| 1391/1422 [01:04<00:01, 25.59file/s]"
     ]
    },
    {
     "name": "stdout",
     "output_type": "stream",
     "text": [
      "Downloaded: /Users/moustholmes/Projects/METAL-AI/data/Li-Rh/rank_Worker-fa7ce76f-f179-47e4-80a8-04aca4554e96.hdf5\n",
      "File already exists, skipping: /Users/moustholmes/Projects/METAL-AI/data/Li-Rh/rank_Worker-fa7ce76f-f179-47e4-80a8-04aca4554e96.hdf5\n",
      "Downloaded: /Users/moustholmes/Projects/METAL-AI/data/Li-Rh/rank_Worker-fb0be526-06f5-49c2-9552-9a9b49f251f8.hdf5\n",
      "File already exists, skipping: /Users/moustholmes/Projects/METAL-AI/data/Li-Rh/rank_Worker-fb0be526-06f5-49c2-9552-9a9b49f251f8.hdf5\n",
      "File already exists, skipping: /Users/moustholmes/Projects/METAL-AI/data/Li-Rh/rank_Worker-fb159d66-6e67-446e-acec-dca3d06a7098.hdf5\n",
      "File already exists, skipping: /Users/moustholmes/Projects/METAL-AI/data/Li-Rh/rank_Worker-fb159d66-6e67-446e-acec-dca3d06a7098.hdf5\n",
      "File already exists, skipping: /Users/moustholmes/Projects/METAL-AI/data/Li-Rh/rank_Worker-fba3aef7-b20e-41e5-978c-60334483d32a.hdf5\n",
      "File already exists, skipping: /Users/moustholmes/Projects/METAL-AI/data/Li-Rh/rank_Worker-fba3aef7-b20e-41e5-978c-60334483d32a.hdf5\n",
      "File already exists, skipping: /Users/moustholmes/Projects/METAL-AI/data/Li-Rh/rank_Worker-fc21da75-5061-47ce-9905-a425b3d46382.hdf5\n",
      "File already exists, skipping: /Users/moustholmes/Projects/METAL-AI/data/Li-Rh/rank_Worker-fc21da75-5061-47ce-9905-a425b3d46382.hdf5\n",
      "File already exists, skipping: /Users/moustholmes/Projects/METAL-AI/data/Li-Rh/rank_Worker-fc5c1f8a-3561-45c2-b0b7-2004ff9293e5.hdf5\n",
      "File already exists, skipping: /Users/moustholmes/Projects/METAL-AI/data/Li-Rh/rank_Worker-fc5c1f8a-3561-45c2-b0b7-2004ff9293e5.hdf5\n"
     ]
    },
    {
     "name": "stderr",
     "output_type": "stream",
     "text": [
      "Downloading files:  98%|█████████▊| 1399/1422 [01:05<00:00, 28.30file/s]"
     ]
    },
    {
     "name": "stdout",
     "output_type": "stream",
     "text": [
      "Downloaded: /Users/moustholmes/Projects/METAL-AI/data/Li-Rh/rank_Worker-fc73531a-6e4c-4b6d-adc5-3b336ae9ff30.hdf5\n",
      "File already exists, skipping: /Users/moustholmes/Projects/METAL-AI/data/Li-Rh/rank_Worker-fc73531a-6e4c-4b6d-adc5-3b336ae9ff30.hdf5\n"
     ]
    },
    {
     "name": "stderr",
     "output_type": "stream",
     "text": [
      "Downloading files:  99%|█████████▊| 1402/1422 [01:05<00:00, 24.09file/s]"
     ]
    },
    {
     "name": "stdout",
     "output_type": "stream",
     "text": [
      "Downloaded: /Users/moustholmes/Projects/METAL-AI/data/Li-Rh/rank_Worker-fc73d060-7335-4cf0-b385-57070678fa04.hdf5\n",
      "File already exists, skipping: /Users/moustholmes/Projects/METAL-AI/data/Li-Rh/rank_Worker-fc73d060-7335-4cf0-b385-57070678fa04.hdf5\n",
      "Downloaded: /Users/moustholmes/Projects/METAL-AI/data/Li-Rh/rank_Worker-fccf4b9d-57b8-4b8c-8d38-218850a4278b.hdf5\n",
      "File already exists, skipping: /Users/moustholmes/Projects/METAL-AI/data/Li-Rh/rank_Worker-fccf4b9d-57b8-4b8c-8d38-218850a4278b.hdf5\n"
     ]
    },
    {
     "name": "stderr",
     "output_type": "stream",
     "text": [
      "Downloading files:  99%|█████████▉| 1411/1422 [01:06<00:00, 19.93file/s]"
     ]
    },
    {
     "name": "stdout",
     "output_type": "stream",
     "text": [
      "Downloaded: /Users/moustholmes/Projects/METAL-AI/data/Li-Rh/rank_Worker-fcd2fad3-64f9-4838-8cb7-493d3989ccd0.hdf5\n",
      "File already exists, skipping: /Users/moustholmes/Projects/METAL-AI/data/Li-Rh/rank_Worker-fcd2fad3-64f9-4838-8cb7-493d3989ccd0.hdf5\n",
      "File already exists, skipping: /Users/moustholmes/Projects/METAL-AI/data/Li-Rh/rank_Worker-fd8ba4e1-3b48-460a-9f77-84aad697687c.hdf5\n",
      "File already exists, skipping: /Users/moustholmes/Projects/METAL-AI/data/Li-Rh/rank_Worker-fd8ba4e1-3b48-460a-9f77-84aad697687c.hdf5\n",
      "File already exists, skipping: /Users/moustholmes/Projects/METAL-AI/data/Li-Rh/rank_Worker-fd9c8478-180b-4f84-bbfa-81f0ea5317d9.hdf5\n",
      "File already exists, skipping: /Users/moustholmes/Projects/METAL-AI/data/Li-Rh/rank_Worker-fd9c8478-180b-4f84-bbfa-81f0ea5317d9.hdf5\n",
      "Downloaded: /Users/moustholmes/Projects/METAL-AI/data/Li-Rh/rank_Worker-fdb03c2f-f210-473c-8f33-dd03fb8e88ce.hdf5\n",
      "File already exists, skipping: /Users/moustholmes/Projects/METAL-AI/data/Li-Rh/rank_Worker-fdb03c2f-f210-473c-8f33-dd03fb8e88ce.hdf5\n",
      "File already exists, skipping: /Users/moustholmes/Projects/METAL-AI/data/Li-Rh/rank_Worker-fdef6153-456b-4053-918f-c9ef4e8aa780.hdf5\n",
      "File already exists, skipping: /Users/moustholmes/Projects/METAL-AI/data/Li-Rh/rank_Worker-fdef6153-456b-4053-918f-c9ef4e8aa780.hdf5\n",
      "File already exists, skipping: /Users/moustholmes/Projects/METAL-AI/data/Li-Rh/rank_Worker-fe1e3a38-b819-4333-8396-25d966dc9510.hdf5\n",
      "File already exists, skipping: /Users/moustholmes/Projects/METAL-AI/data/Li-Rh/rank_Worker-fe1e3a38-b819-4333-8396-25d966dc9510.hdf5\n",
      "File already exists, skipping: /Users/moustholmes/Projects/METAL-AI/data/Li-Rh/rank_Worker-fe5a7137-49b9-499c-8816-7a00ee7b744f.hdf5\n",
      "File already exists, skipping: /Users/moustholmes/Projects/METAL-AI/data/Li-Rh/rank_Worker-fe5a7137-49b9-499c-8816-7a00ee7b744f.hdf5\n"
     ]
    },
    {
     "name": "stderr",
     "output_type": "stream",
     "text": [
      "Downloading files: 100%|██████████| 1422/1422 [01:06<00:00, 21.47file/s]"
     ]
    },
    {
     "name": "stdout",
     "output_type": "stream",
     "text": [
      "Downloaded: /Users/moustholmes/Projects/METAL-AI/data/Li-Rh/rank_Worker-fee6c0b6-bea5-473a-a8eb-ab0ee3e15b8f.hdf5\n",
      "File already exists, skipping: /Users/moustholmes/Projects/METAL-AI/data/Li-Rh/rank_Worker-fee6c0b6-bea5-473a-a8eb-ab0ee3e15b8f.hdf5\n",
      "File already exists, skipping: /Users/moustholmes/Projects/METAL-AI/data/Li-Rh/rank_Worker-ffc96a00-fe8c-41ba-87fa-cfa72d65280a.hdf5\n",
      "File already exists, skipping: /Users/moustholmes/Projects/METAL-AI/data/Li-Rh/rank_Worker-ffc96a00-fe8c-41ba-87fa-cfa72d65280a.hdf5\n",
      "Downloaded 321 new file(s). 1101 file(s) were already present.\n"
     ]
    },
    {
     "name": "stderr",
     "output_type": "stream",
     "text": [
      "\n"
     ]
    }
   ],
   "source": [
    "import os\n",
    "import requests\n",
    "from bs4 import BeautifulSoup\n",
    "from urllib.parse import urljoin\n",
    "from tqdm import tqdm\n",
    "\n",
    "# Specify the URL of the folder\n",
    "folder_url = \"https://sid.erda.dk/cgi-sid/ls.py?share_id=B4tAJ71xkh&current_dir=Li-Rh/results&flags=f\"\n",
    "\n",
    "# Specify the path to save the files\n",
    "download_folder = \"/Users/moustholmes/Projects/METAL-AI/data/Li-Rh\"\n",
    "\n",
    "# Make sure the folder exists\n",
    "if not os.path.exists(download_folder):\n",
    "    os.makedirs(download_folder)\n",
    "\n",
    "# Function to download an HDF5 file if it doesn't already exist\n",
    "def download_file(url, folder):\n",
    "    local_filename = os.path.join(folder, url.split('/')[-1])\n",
    "\n",
    "    # Skip downloading if the file already exists\n",
    "    if os.path.exists(local_filename):\n",
    "        # print(f\"File already exists, skipping: {local_filename}\")\n",
    "        return False  # Indicates file was not downloaded\n",
    "    \n",
    "    with requests.get(url, stream=True) as r:\n",
    "        r.raise_for_status()\n",
    "        with open(local_filename, 'wb') as f:\n",
    "            for chunk in r.iter_content(chunk_size=8192):\n",
    "                f.write(chunk)\n",
    "    print(f\"Downloaded: {local_filename}\")\n",
    "    return True  # Indicates file was downloaded\n",
    "\n",
    "# Scrape the webpage to find all .hdf5 file links\n",
    "def get_hdf5_links_from_webpage(url):\n",
    "    response = requests.get(url)\n",
    "    response.raise_for_status()\n",
    "\n",
    "    soup = BeautifulSoup(response.content, 'html.parser')\n",
    "    hdf5_links = []\n",
    "    \n",
    "    # Assuming the links to the HDF5 files are in <a> tags with href attributes\n",
    "    for link in soup.find_all('a'):\n",
    "        href = link.get('href')\n",
    "        if href and href.endswith('.hdf5'):\n",
    "            full_url = urljoin(folder_url, href)  # Build the full URL using urljoin\n",
    "            hdf5_links.append(full_url)\n",
    "    \n",
    "    return hdf5_links\n",
    "\n",
    "# Get the list of HDF5 file URLs\n",
    "hdf5_links = get_hdf5_links_from_webpage(folder_url)\n",
    "\n",
    "# Progress bar for downloading files\n",
    "total_files = len(hdf5_links)\n",
    "downloaded_count = 0\n",
    "\n",
    "with tqdm(total=total_files, desc=\"Downloading files\", unit=\"file\") as pbar:\n",
    "    for url in hdf5_links:\n",
    "        was_downloaded = download_file(url, download_folder)\n",
    "        if was_downloaded:\n",
    "            downloaded_count += 1\n",
    "        pbar.update(1)\n",
    "\n",
    "print(f\"Downloaded {downloaded_count} new file(s). {total_files - downloaded_count} file(s) were already present.\")\n"
   ]
  },
  {
   "cell_type": "code",
   "execution_count": 46,
   "metadata": {},
   "outputs": [
    {
     "name": "stdout",
     "output_type": "stream",
     "text": [
      "[]\n"
     ]
    }
   ],
   "source": [
    "import os\n",
    "import requests\n",
    "from bs4 import BeautifulSoup\n",
    "from urllib.parse import urljoin\n",
    "\n",
    "\n",
    "# Specify the URL of the folder\n",
    "folder_url = \"https://sid.erda.dk/cgi-sid/ls.py?share_id=B4tAJ71xkh&current_dir=Li-Rh/results&flags=f\"\n",
    "\n",
    "# Specify the path to save the files\n",
    "download_folder = \"/Users/moustholmes/Projects/METAL-AI/data/Li-Rh/results\"\n",
    "\n",
    "\n",
    "# Make sure the folder exists\n",
    "if not os.path.exists(download_folder):\n",
    "    os.makedirs(download_folder)\n",
    "\n",
    "# Function to download an HDF5 file, checking the content type\n",
    "def download_file(url, folder):\n",
    "    local_filename = os.path.join(folder, url.split('/')[-1])\n",
    "\n",
    "    # Get the file content\n",
    "    with requests.get(url, stream=True) as r:\n",
    "        r.raise_for_status()\n",
    "\n",
    "        # Check if the content type is HDF5\n",
    "        content_type = r.headers.get('Content-Type')\n",
    "        if content_type != 'application/x-hdf5':\n",
    "            print(f\"Skipped: {url} - Content type is not HDF5 (got {content_type})\")\n",
    "            return\n",
    "\n",
    "        # Save the file if it's HDF5\n",
    "        with open(local_filename, 'wb') as f:\n",
    "            for chunk in r.iter_content(chunk_size=8192):\n",
    "                f.write(chunk)\n",
    "        print(f\"Downloaded: {local_filename}\")\n",
    "    \n",
    "    return local_filename\n",
    "\n",
    "# Scrape the webpage to find all .hdf5 file links\n",
    "def get_hdf5_links_from_webpage(url):\n",
    "    response = requests.get(url)\n",
    "    response.raise_for_status()\n",
    "\n",
    "    soup = BeautifulSoup(response.content, 'html.parser')\n",
    "    hdf5_links = []\n",
    "    \n",
    "    # Assuming the links to the HDF5 files are in <a> tags with href attributes\n",
    "    for link in soup.find_all('a'):\n",
    "        href = link.get('href')\n",
    "        if href and href.endswith('.hdf5'):\n",
    "            full_url = urljoin(folder_url, href)  # Build the full URL using urljoin\n",
    "            hdf5_links.append(full_url)\n",
    "    \n",
    "    return hdf5_links\n",
    "\n",
    "# Get the list of HDF5 file URLs\n",
    "hdf5_links = get_hdf5_links_from_webpage(folder_url)\n",
    "print(hdf5_links)\n",
    "# Download each HDF5 file\n",
    "for url in hdf5_links:\n",
    "    print(f\"Downloading: {url}\")\n",
    "    download_file(url, download_folder)\n"
   ]
  },
  {
   "cell_type": "code",
   "execution_count": 43,
   "metadata": {},
   "outputs": [
    {
     "name": "stdout",
     "output_type": "stream",
     "text": [
      "Deleted: /Users/moustholmes/Projects/METAL-AI/data/Li-Rh/results/rank_Worker-f7b6afe1-f848-4ec2-9537-474b574ed47a.hdf5\n",
      "Deleted: /Users/moustholmes/Projects/METAL-AI/data/Li-Rh/results/rank_Worker-aef215c8-3b32-4744-98ee-751942d96262.hdf5\n",
      "Deleted: /Users/moustholmes/Projects/METAL-AI/data/Li-Rh/results/rank_Worker-3bfe368b-8551-4153-98f0-40a0632066c5.hdf5\n",
      "Deleted: /Users/moustholmes/Projects/METAL-AI/data/Li-Rh/results/rank_Worker-2526509f-5c34-4d99-9bbf-5ead01ec3452.hdf5\n",
      "Deleted: /Users/moustholmes/Projects/METAL-AI/data/Li-Rh/results/rank_Worker-098a7ac1-8b26-4a30-a836-87d8423899ad.hdf5\n",
      "Deleted: /Users/moustholmes/Projects/METAL-AI/data/Li-Rh/results/rank_Worker-89566603-8eab-4df3-af94-d1e3681cc187.hdf5\n",
      "Deleted: /Users/moustholmes/Projects/METAL-AI/data/Li-Rh/results/rank_Worker-41148140-f86a-4225-a751-549e44ffd2e8.hdf5\n",
      "Deleted: /Users/moustholmes/Projects/METAL-AI/data/Li-Rh/results/rank_Worker-a5c62494-4cfb-4cf8-9969-cb145ab9d19d.hdf5\n",
      "Deleted: /Users/moustholmes/Projects/METAL-AI/data/Li-Rh/results/rank_Worker-c4da5a46-b07f-499d-9d51-36fdf16e611f.hdf5\n",
      "Deleted: /Users/moustholmes/Projects/METAL-AI/data/Li-Rh/results/rank_Worker-b35e378c-a88f-441b-bf62-23fc865fad9b.hdf5\n",
      "Deleted: /Users/moustholmes/Projects/METAL-AI/data/Li-Rh/results/rank_Worker-32703415-3688-4889-b680-40384f6a7637.hdf5\n",
      "Deleted: /Users/moustholmes/Projects/METAL-AI/data/Li-Rh/results/rank_Worker-07355cc7-e9dd-4440-a5bc-71136a9ff67c.hdf5\n",
      "Deleted: /Users/moustholmes/Projects/METAL-AI/data/Li-Rh/results/rank_Worker-95ff1c53-582e-4c7f-9e90-46afaebcbdfe.hdf5\n",
      "Deleted: /Users/moustholmes/Projects/METAL-AI/data/Li-Rh/results/rank_Worker-ce01e08e-cafb-45a4-88ec-29dcba8cfccb.hdf5\n",
      "Deleted: /Users/moustholmes/Projects/METAL-AI/data/Li-Rh/results/rank_Worker-b637ade0-62b7-49c6-9f16-d09e495cecc4.hdf5\n",
      "Deleted: /Users/moustholmes/Projects/METAL-AI/data/Li-Rh/results/rank_Worker-ab76b534-8b0a-404c-9a6c-e38b11cdd0aa.hdf5\n",
      "Deleted: /Users/moustholmes/Projects/METAL-AI/data/Li-Rh/results/rank_Worker-187f5267-64b2-4f73-8e7a-89c0d97e4501.hdf5\n",
      "Deleted: /Users/moustholmes/Projects/METAL-AI/data/Li-Rh/results/rank_Worker-7ab094ee-b2fe-4e00-8efb-63b6f419a7c4.hdf5\n",
      "Deleted: /Users/moustholmes/Projects/METAL-AI/data/Li-Rh/results/rank_Worker-2e3d6c9d-cfee-4ce8-9518-3cce48f5576d.hdf5\n",
      "Deleted: /Users/moustholmes/Projects/METAL-AI/data/Li-Rh/results/rank_Worker-6458fb78-74f5-457a-8706-a3253ea52a8c.hdf5\n",
      "Deleted: /Users/moustholmes/Projects/METAL-AI/data/Li-Rh/results/rank_Worker-bb447fc5-3b9b-4470-b5ff-4e68413c7279.hdf5\n",
      "Deleted: /Users/moustholmes/Projects/METAL-AI/data/Li-Rh/results/rank_Worker-838924ce-bfd5-46d2-8e51-1dc860814f3d.hdf5\n",
      "Deleted: /Users/moustholmes/Projects/METAL-AI/data/Li-Rh/results/rank_Worker-f13e1810-b2b6-4ce2-bf30-429d14205283.hdf5\n",
      "Deleted: /Users/moustholmes/Projects/METAL-AI/data/Li-Rh/results/rank_Worker-3334f80c-7ff5-4e58-a96a-ff08c9d2000a.hdf5\n",
      "Deleted: /Users/moustholmes/Projects/METAL-AI/data/Li-Rh/results/rank_Worker-18c75b97-389f-4686-91b4-b85077292a68.hdf5\n",
      "Deleted: /Users/moustholmes/Projects/METAL-AI/data/Li-Rh/results/rank_Worker-9cf00e80-ba06-4ebe-b88f-9082b7cf5cc0.hdf5\n",
      "Deleted: /Users/moustholmes/Projects/METAL-AI/data/Li-Rh/results/rank_Worker-c25c664f-d84e-4bfe-9378-ba2190a3b4b9.hdf5\n",
      "Deleted: /Users/moustholmes/Projects/METAL-AI/data/Li-Rh/results/rank_Worker-04958606-f334-41c1-88ae-f0d89e8528c1.hdf5\n",
      "Deleted: /Users/moustholmes/Projects/METAL-AI/data/Li-Rh/results/rank_Worker-62bec739-f3cc-4e9f-83e9-58137a83dbaa.hdf5\n",
      "Deleted: /Users/moustholmes/Projects/METAL-AI/data/Li-Rh/results/rank_Worker-4a02e3ef-202f-41e2-a6dd-94779c56816b.hdf5\n",
      "Deleted: /Users/moustholmes/Projects/METAL-AI/data/Li-Rh/results/rank_Worker-2ce8325e-c747-47b8-a41f-02afc7b52f39.hdf5\n",
      "Deleted: /Users/moustholmes/Projects/METAL-AI/data/Li-Rh/results/rank_Worker-35209861-f24f-4877-85cb-df4e508bfa30.hdf5\n",
      "Deleted: /Users/moustholmes/Projects/METAL-AI/data/Li-Rh/results/rank_Worker-7fdeb543-2f35-443a-8e73-3a5c4afe4f68.hdf5\n",
      "Deleted: /Users/moustholmes/Projects/METAL-AI/data/Li-Rh/results/rank_Worker-532de1cd-97d0-416a-82b2-4713e728fe1f.hdf5\n",
      "Deleted: /Users/moustholmes/Projects/METAL-AI/data/Li-Rh/results/rank_Worker-04cf69c2-222e-46aa-b6bb-c251dfcb7f24.hdf5\n",
      "Deleted: /Users/moustholmes/Projects/METAL-AI/data/Li-Rh/results/rank_Worker-5d14945d-0bf5-43b0-883c-eabc3c25bf8b.hdf5\n",
      "Deleted: /Users/moustholmes/Projects/METAL-AI/data/Li-Rh/results/rank_Worker-fb0be526-06f5-49c2-9552-9a9b49f251f8.hdf5\n",
      "Deleted: /Users/moustholmes/Projects/METAL-AI/data/Li-Rh/results/rank_Worker-b85895e9-1ae2-4b69-83d2-b79c4d5d9143.hdf5\n",
      "Deleted: /Users/moustholmes/Projects/METAL-AI/data/Li-Rh/results/rank_Worker-b9711ed0-bbe2-4d32-807d-9a1a6cf473e8.hdf5\n",
      "Deleted: /Users/moustholmes/Projects/METAL-AI/data/Li-Rh/results/rank_Worker-a9ba105a-a380-4be1-9121-7ef77488272e.hdf5\n",
      "Deleted: /Users/moustholmes/Projects/METAL-AI/data/Li-Rh/results/rank_Worker-94c51c6c-962a-4e7a-9606-4678cae77a69.hdf5\n",
      "Deleted: /Users/moustholmes/Projects/METAL-AI/data/Li-Rh/results/rank_Worker-c95beaec-23b8-4ef8-8747-e9953f139435.hdf5\n",
      "Deleted: /Users/moustholmes/Projects/METAL-AI/data/Li-Rh/results/rank_Worker-a22e1617-9d30-4718-8956-a622e3ecb154.hdf5\n",
      "Deleted: /Users/moustholmes/Projects/METAL-AI/data/Li-Rh/results/rank_Worker-72fa9652-a868-4dc3-8779-0a7eb5caf062.hdf5\n",
      "Deleted: /Users/moustholmes/Projects/METAL-AI/data/Li-Rh/results/rank_Worker-78aa7091-0e44-4b2f-97d7-4a72695c0f97.hdf5\n",
      "Deleted: /Users/moustholmes/Projects/METAL-AI/data/Li-Rh/results/rank_Worker-46c141ac-ad69-4aa6-a246-460222ae5398.hdf5\n",
      "Deleted: /Users/moustholmes/Projects/METAL-AI/data/Li-Rh/results/rank_Worker-3851a570-6dfd-46db-8992-b312892c82d3.hdf5\n",
      "Deleted: /Users/moustholmes/Projects/METAL-AI/data/Li-Rh/results/rank_Worker-a8af0920-8b8d-4209-9369-f7ed70646634.hdf5\n",
      "Deleted: /Users/moustholmes/Projects/METAL-AI/data/Li-Rh/results/rank_Worker-fa7ce76f-f179-47e4-80a8-04aca4554e96.hdf5\n",
      "Deleted: /Users/moustholmes/Projects/METAL-AI/data/Li-Rh/results/rank_Worker-6092022e-9d80-4e2c-a5f1-21169fc9d9fb.hdf5\n",
      "Deleted: /Users/moustholmes/Projects/METAL-AI/data/Li-Rh/results/rank_Worker-8baa584e-e977-4be3-af5b-335fae52c065.hdf5\n",
      "Deleted: /Users/moustholmes/Projects/METAL-AI/data/Li-Rh/results/rank_Worker-696a861c-d84e-4f90-86ea-e7b71dfb758e.hdf5\n",
      "Deleted: /Users/moustholmes/Projects/METAL-AI/data/Li-Rh/results/rank_Worker-480dbd89-8255-4d02-be13-e068daf7ddbe.hdf5\n",
      "Deleted: /Users/moustholmes/Projects/METAL-AI/data/Li-Rh/results/rank_Worker-f4f45f26-5d5b-4886-b9fb-9342026e2984.hdf5\n",
      "Deleted: /Users/moustholmes/Projects/METAL-AI/data/Li-Rh/results/rank_Worker-37e99fca-6999-4b74-b13f-b9a2af4454b4.hdf5\n",
      "Deleted: /Users/moustholmes/Projects/METAL-AI/data/Li-Rh/results/rank_Worker-cfafd110-f76d-4c6e-9285-a9ca3b174eb2.hdf5\n",
      "Deleted: /Users/moustholmes/Projects/METAL-AI/data/Li-Rh/results/rank_Worker-7ed62f6b-393c-4c61-b664-1ada72bf65d6.hdf5\n",
      "Deleted: /Users/moustholmes/Projects/METAL-AI/data/Li-Rh/results/rank_Worker-9925aea3-48db-4327-82ab-78c594115eb8.hdf5\n",
      "Deleted: /Users/moustholmes/Projects/METAL-AI/data/Li-Rh/results/rank_Worker-892b818c-7e91-4a70-9bfa-6ef321174827.hdf5\n",
      "Deleted: /Users/moustholmes/Projects/METAL-AI/data/Li-Rh/results/rank_Worker-60d2724f-eaae-4a9d-8287-8d8b0123cba4.hdf5\n",
      "Deleted: /Users/moustholmes/Projects/METAL-AI/data/Li-Rh/results/rank_Worker-eeea9e07-5eb2-42b0-9e5c-17b7198c79ed.hdf5\n",
      "Deleted: /Users/moustholmes/Projects/METAL-AI/data/Li-Rh/results/rank_Worker-bf05d264-7b1c-47dd-afe8-3abd5afa62d1.hdf5\n",
      "Deleted: /Users/moustholmes/Projects/METAL-AI/data/Li-Rh/results/rank_Worker-dbc8ec7a-50a0-404f-9ba8-4b069c4ecbcb.hdf5\n",
      "Deleted: /Users/moustholmes/Projects/METAL-AI/data/Li-Rh/results/rank_Worker-0bdd476f-bb58-4ba7-9c13-619ae4ab9895.hdf5\n",
      "Deleted: /Users/moustholmes/Projects/METAL-AI/data/Li-Rh/results/rank_Worker-b281881c-c861-407b-b0bd-ab2fff3f0e4b.hdf5\n",
      "Deleted: /Users/moustholmes/Projects/METAL-AI/data/Li-Rh/results/rank_Worker-68a49d96-7b49-4577-8b52-f47324f65333.hdf5\n",
      "Deleted: /Users/moustholmes/Projects/METAL-AI/data/Li-Rh/results/rank_Worker-f99d3cc8-f4ee-43f8-97d6-db25acc0de17.hdf5\n",
      "Deleted: /Users/moustholmes/Projects/METAL-AI/data/Li-Rh/results/rank_Worker-1b68c20b-3259-4142-9989-aa3b5bf37afe.hdf5\n",
      "Deleted: /Users/moustholmes/Projects/METAL-AI/data/Li-Rh/results/rank_Worker-ec662358-cb71-4d0f-8933-ac160593c9ad.hdf5\n",
      "Deleted: /Users/moustholmes/Projects/METAL-AI/data/Li-Rh/results/rank_Worker-f4c8c9c2-8a93-457a-a419-e658bd42c0e8.hdf5\n",
      "Deleted: /Users/moustholmes/Projects/METAL-AI/data/Li-Rh/results/rank_Worker-b31f84b1-b65e-4668-bf95-00b49679a4e6.hdf5\n",
      "Deleted: /Users/moustholmes/Projects/METAL-AI/data/Li-Rh/results/rank_Worker-f6d2f981-2b0f-46bf-96ef-75a22c9b74ad.hdf5\n",
      "Deleted: /Users/moustholmes/Projects/METAL-AI/data/Li-Rh/results/rank_Worker-7677e76c-0952-4a7d-8e7e-4e5a5cc20c03.hdf5\n",
      "Deleted: /Users/moustholmes/Projects/METAL-AI/data/Li-Rh/results/rank_Worker-97bf9ad5-f51f-4e9a-b8ea-fcdb82190030.hdf5\n",
      "Deleted: /Users/moustholmes/Projects/METAL-AI/data/Li-Rh/results/rank_Worker-9aac4e4d-4cd0-43a6-a475-f5b4bf07f350.hdf5\n",
      "Deleted: /Users/moustholmes/Projects/METAL-AI/data/Li-Rh/results/rank_Worker-3f57e8e3-955e-40db-a385-fd2674ff701c.hdf5\n",
      "Deleted: /Users/moustholmes/Projects/METAL-AI/data/Li-Rh/results/rank_Worker-dfd7b9ff-9a1b-4005-a991-99fdba92c2bf.hdf5\n",
      "Deleted: /Users/moustholmes/Projects/METAL-AI/data/Li-Rh/results/rank_Worker-22f0d52e-f9dc-4d98-b517-7e75e9ef3adc.hdf5\n",
      "Deleted: /Users/moustholmes/Projects/METAL-AI/data/Li-Rh/results/rank_Worker-ebfcfd4b-f470-4a68-aee8-65d60ee00376.hdf5\n",
      "Deleted: /Users/moustholmes/Projects/METAL-AI/data/Li-Rh/results/rank_Worker-1faeb1af-c3f7-4720-b8cc-a4ddb8b5f350.hdf5\n",
      "Deleted: /Users/moustholmes/Projects/METAL-AI/data/Li-Rh/results/rank_Worker-78796f70-0c61-47d2-8159-dd1dfd197d0f.hdf5\n",
      "Deleted: /Users/moustholmes/Projects/METAL-AI/data/Li-Rh/results/rank_Worker-d15f26f1-e8ca-41ed-8353-dc8c206aedcc.hdf5\n",
      "Deleted: /Users/moustholmes/Projects/METAL-AI/data/Li-Rh/results/rank_Worker-bf78ed20-623a-4230-8aab-061f7c22bf00.hdf5\n",
      "Deleted: /Users/moustholmes/Projects/METAL-AI/data/Li-Rh/results/rank_Worker-13ef6d39-d41a-4c7e-85e3-1f7daf80210f.hdf5\n",
      "Deleted: /Users/moustholmes/Projects/METAL-AI/data/Li-Rh/results/rank_Worker-c896835e-1990-4580-bbac-c14ab425986a.hdf5\n",
      "Deleted: /Users/moustholmes/Projects/METAL-AI/data/Li-Rh/results/rank_Worker-a89ae270-2329-4eb9-8456-5f8f251cdc19.hdf5\n",
      "Deleted: /Users/moustholmes/Projects/METAL-AI/data/Li-Rh/results/rank_Worker-90350af4-9857-4b68-b1a1-008d07af2b02.hdf5\n",
      "Deleted: /Users/moustholmes/Projects/METAL-AI/data/Li-Rh/results/rank_Worker-688f417c-0cdc-4cfc-8d1f-6b02a6f31309.hdf5\n",
      "Deleted: /Users/moustholmes/Projects/METAL-AI/data/Li-Rh/results/rank_Worker-5c233194-1499-42ac-9983-433a2ec840f4.hdf5\n",
      "Deleted: /Users/moustholmes/Projects/METAL-AI/data/Li-Rh/results/rank_Worker-88e9f3ab-7247-4c8c-bdb4-35a9d8bb7602.hdf5\n",
      "Deleted: /Users/moustholmes/Projects/METAL-AI/data/Li-Rh/results/rank_Worker-d229505e-bbbb-47be-a5c0-9ca1bf381725.hdf5\n",
      "Deleted: /Users/moustholmes/Projects/METAL-AI/data/Li-Rh/results/rank_Worker-caa48265-ad39-454b-8449-82a8a6f4835f.hdf5\n",
      "Deleted: /Users/moustholmes/Projects/METAL-AI/data/Li-Rh/results/rank_Worker-67c9d4cf-a08c-442a-9f62-7bd425b8e8ec.hdf5\n",
      "Deleted: /Users/moustholmes/Projects/METAL-AI/data/Li-Rh/results/rank_Worker-e81576be-5a90-4661-b4d8-f9f0a992b03d.hdf5\n",
      "Deleted: /Users/moustholmes/Projects/METAL-AI/data/Li-Rh/results/rank_Worker-7c4ac5bb-2c78-4a6c-b092-1883f1d291a3.hdf5\n",
      "Deleted: /Users/moustholmes/Projects/METAL-AI/data/Li-Rh/results/rank_Worker-1da1a247-7d83-4e50-8fce-9f31a1b59a4b.hdf5\n",
      "Deleted: /Users/moustholmes/Projects/METAL-AI/data/Li-Rh/results/rank_Worker-612769c5-7370-4318-a446-b4fb3e2a46be.hdf5\n",
      "Deleted: /Users/moustholmes/Projects/METAL-AI/data/Li-Rh/results/rank_Worker-e57d72dc-4337-40eb-8531-6416cac7f4e9.hdf5\n",
      "Deleted: /Users/moustholmes/Projects/METAL-AI/data/Li-Rh/results/rank_Worker-8c0eb665-227f-4873-af64-635018689b06.hdf5\n",
      "Deleted: /Users/moustholmes/Projects/METAL-AI/data/Li-Rh/results/rank_Worker-79882389-f813-456f-bebb-4d0791da25ca.hdf5\n",
      "Deleted: /Users/moustholmes/Projects/METAL-AI/data/Li-Rh/results/rank_Worker-ba3f4821-cb9e-49a0-b802-8f7057257a00.hdf5\n",
      "Deleted: /Users/moustholmes/Projects/METAL-AI/data/Li-Rh/results/rank_Worker-df24b96c-fa87-4a30-a674-3503bd1c66dc.hdf5\n",
      "Deleted: /Users/moustholmes/Projects/METAL-AI/data/Li-Rh/results/rank_Worker-b6ba9fa5-7724-413d-a7ba-ae9cbfcd1c0a.hdf5\n",
      "Deleted: /Users/moustholmes/Projects/METAL-AI/data/Li-Rh/results/rank_Worker-e1a2d0f4-9bb4-41bd-8d71-6126341006ab.hdf5\n",
      "Deleted: /Users/moustholmes/Projects/METAL-AI/data/Li-Rh/results/rank_Worker-87ced6da-4231-4885-a6c0-16ba449d2a4d.hdf5\n",
      "Deleted: /Users/moustholmes/Projects/METAL-AI/data/Li-Rh/results/rank_Worker-5d6eb009-0138-41ed-aee2-b8a743d0ae1b.hdf5\n",
      "Deleted: /Users/moustholmes/Projects/METAL-AI/data/Li-Rh/results/rank_Worker-077d93bb-52c3-4e0c-82cd-32e26f97f4fe.hdf5\n",
      "Deleted: /Users/moustholmes/Projects/METAL-AI/data/Li-Rh/results/rank_Worker-8c867d2c-e198-4f38-bda1-911bf2f78a57.hdf5\n",
      "Deleted: /Users/moustholmes/Projects/METAL-AI/data/Li-Rh/results/rank_Worker-9c332ddc-cf5f-4c6a-9460-48afe5503fc5.hdf5\n",
      "Deleted: /Users/moustholmes/Projects/METAL-AI/data/Li-Rh/results/rank_Worker-1d870b38-df8c-4f38-a5d8-d658825bb8d5.hdf5\n",
      "Deleted: /Users/moustholmes/Projects/METAL-AI/data/Li-Rh/results/rank_Worker-84687d3c-ce6b-4c3c-b5af-877748ff8eb2.hdf5\n",
      "Deleted: /Users/moustholmes/Projects/METAL-AI/data/Li-Rh/results/rank_Worker-eb41f84f-7a79-4aa1-bea8-bb899df36b20.hdf5\n",
      "Deleted: /Users/moustholmes/Projects/METAL-AI/data/Li-Rh/results/rank_Worker-b197c4bf-0fc9-41d5-a1da-ebe6e514c259.hdf5\n",
      "Deleted: /Users/moustholmes/Projects/METAL-AI/data/Li-Rh/results/rank_Worker-138c60d0-01fb-4082-b803-96bb6f54b400.hdf5\n",
      "Deleted: /Users/moustholmes/Projects/METAL-AI/data/Li-Rh/results/rank_Worker-1613b46f-2778-48d8-bd5a-8972f7c1df1f.hdf5\n",
      "Deleted: /Users/moustholmes/Projects/METAL-AI/data/Li-Rh/results/rank_Worker-730ea2a6-4297-4fc5-8027-3eb9ef85e4dc.hdf5\n",
      "Deleted: /Users/moustholmes/Projects/METAL-AI/data/Li-Rh/results/rank_Worker-c2a0b02f-5c5c-4524-b864-f2cfa4fc379f.hdf5\n",
      "Deleted: /Users/moustholmes/Projects/METAL-AI/data/Li-Rh/results/rank_Worker-3fd6b05f-902b-4dad-9680-7b97b383fa08.hdf5\n",
      "Deleted: /Users/moustholmes/Projects/METAL-AI/data/Li-Rh/results/rank_Worker-b9e90e6d-aeb0-45ac-84e1-6505dfb79bf0.hdf5\n",
      "Deleted: /Users/moustholmes/Projects/METAL-AI/data/Li-Rh/results/rank_Worker-58b5e498-0a7c-4c69-90a8-ef9ebe367704.hdf5\n",
      "Deleted: /Users/moustholmes/Projects/METAL-AI/data/Li-Rh/results/rank_Worker-623d8348-157d-42d6-9b1c-f3b47255728b.hdf5\n",
      "Deleted: /Users/moustholmes/Projects/METAL-AI/data/Li-Rh/results/rank_Worker-41c0340c-ad60-4d54-aee8-142db4ec87bb.hdf5\n",
      "Deleted: /Users/moustholmes/Projects/METAL-AI/data/Li-Rh/results/rank_Worker-7fc312d0-ac57-4230-9b3c-30640d16b281.hdf5\n",
      "Deleted: /Users/moustholmes/Projects/METAL-AI/data/Li-Rh/results/rank_Worker-9622047c-faea-44bf-b9c2-0eac6a98f84a.hdf5\n",
      "Deleted: /Users/moustholmes/Projects/METAL-AI/data/Li-Rh/results/rank_Worker-9b07410b-a93e-429c-a467-fedc56393c55.hdf5\n",
      "Deleted: /Users/moustholmes/Projects/METAL-AI/data/Li-Rh/results/rank_Worker-adc6e174-fcfe-4969-ace6-b59d20ff20ec.hdf5\n",
      "Deleted: /Users/moustholmes/Projects/METAL-AI/data/Li-Rh/results/rank_Worker-518b884d-1b5a-4e27-a2df-e08643f810b3.hdf5\n",
      "Deleted: /Users/moustholmes/Projects/METAL-AI/data/Li-Rh/results/rank_Worker-484ad47f-bb6f-46a8-b679-9ca3850757e3.hdf5\n",
      "Deleted: /Users/moustholmes/Projects/METAL-AI/data/Li-Rh/results/rank_Worker-5bc09a7c-6516-409a-9f0c-3111238c2bd7.hdf5\n",
      "Deleted: /Users/moustholmes/Projects/METAL-AI/data/Li-Rh/results/rank_Worker-96b1ece1-94e5-4026-9455-564e06caa288.hdf5\n",
      "Deleted: /Users/moustholmes/Projects/METAL-AI/data/Li-Rh/results/rank_Worker-c921bdf7-91a3-46a5-a506-05ced9868f5d.hdf5\n",
      "Deleted: /Users/moustholmes/Projects/METAL-AI/data/Li-Rh/results/rank_Worker-1f3a0f17-4b67-4512-8f34-a9f01b5c2bf2.hdf5\n",
      "Deleted: /Users/moustholmes/Projects/METAL-AI/data/Li-Rh/results/rank_Worker-e8069993-c065-407d-b7b0-79e923ab7c56.hdf5\n",
      "Deleted: /Users/moustholmes/Projects/METAL-AI/data/Li-Rh/results/rank_Worker-f522c0d9-88d2-4053-9cfc-9d8314feb50f.hdf5\n",
      "Deleted: /Users/moustholmes/Projects/METAL-AI/data/Li-Rh/results/rank_Worker-d69e9e49-8b81-4844-8c29-2d7948937876.hdf5\n",
      "Deleted: /Users/moustholmes/Projects/METAL-AI/data/Li-Rh/results/rank_Worker-08fc5e5f-13b0-4300-8831-89c48fe92fce.hdf5\n",
      "Deleted: /Users/moustholmes/Projects/METAL-AI/data/Li-Rh/results/rank_Worker-15c0e35e-87d6-48e7-a536-167e0bb588f4.hdf5\n",
      "Deleted: /Users/moustholmes/Projects/METAL-AI/data/Li-Rh/results/rank_Worker-5d6d55ed-e0c3-4b32-9672-0ca709ad04fd.hdf5\n",
      "Deleted: /Users/moustholmes/Projects/METAL-AI/data/Li-Rh/results/rank_Worker-d8a5ed11-d1e5-45ab-93aa-21a807870523.hdf5\n",
      "Deleted: /Users/moustholmes/Projects/METAL-AI/data/Li-Rh/results/rank_Worker-c52d4d63-5fd8-464d-8ea8-3c1a0a677ca2.hdf5\n",
      "Deleted: /Users/moustholmes/Projects/METAL-AI/data/Li-Rh/results/rank_Worker-b05eedf8-bc60-4a6f-a783-f0963db682ca.hdf5\n",
      "Deleted: /Users/moustholmes/Projects/METAL-AI/data/Li-Rh/results/rank_Worker-1f3f9fc1-e491-401b-84cf-eb7b7d13ef37.hdf5\n",
      "Deleted: /Users/moustholmes/Projects/METAL-AI/data/Li-Rh/results/rank_Worker-20b95b20-3c1a-4314-807d-99fb60965122.hdf5\n",
      "Deleted: /Users/moustholmes/Projects/METAL-AI/data/Li-Rh/results/rank_Worker-846b6ac0-d042-42d1-91e7-d8e0fad7cec7.hdf5\n",
      "Deleted: /Users/moustholmes/Projects/METAL-AI/data/Li-Rh/results/rank_Worker-33464638-55d6-4e16-be75-faee51188944.hdf5\n",
      "Deleted: /Users/moustholmes/Projects/METAL-AI/data/Li-Rh/results/rank_Worker-4c4ba724-feda-4021-953a-9d5e4cc9cfa8.hdf5\n",
      "Deleted: /Users/moustholmes/Projects/METAL-AI/data/Li-Rh/results/rank_Worker-201e24a2-3cb9-4906-bf14-064fe001f761.hdf5\n",
      "Deleted: /Users/moustholmes/Projects/METAL-AI/data/Li-Rh/results/rank_Worker-509e6133-509f-40f2-8fc9-2eca05ffd56c.hdf5\n",
      "Deleted: /Users/moustholmes/Projects/METAL-AI/data/Li-Rh/results/rank_Worker-5c019216-2eb5-4d37-9a1b-1a93acfba8e3.hdf5\n",
      "Deleted: /Users/moustholmes/Projects/METAL-AI/data/Li-Rh/results/rank_Worker-18ac0c13-359e-43d7-9df2-964b7e9b3110.hdf5\n",
      "Deleted: /Users/moustholmes/Projects/METAL-AI/data/Li-Rh/results/rank_Worker-91daf194-4348-4c7e-8ac5-f72d7b6c16d2.hdf5\n",
      "Deleted: /Users/moustholmes/Projects/METAL-AI/data/Li-Rh/results/rank_Worker-23a1a39f-d4e1-471d-b359-407a85f65971.hdf5\n",
      "Deleted: /Users/moustholmes/Projects/METAL-AI/data/Li-Rh/results/rank_Worker-af178db3-0ecc-42de-8e61-c105c1ca416e.hdf5\n",
      "Deleted: /Users/moustholmes/Projects/METAL-AI/data/Li-Rh/results/rank_Worker-b7cdca3d-4d05-4e99-92ad-da92c015f21b.hdf5\n",
      "Deleted: /Users/moustholmes/Projects/METAL-AI/data/Li-Rh/results/rank_Worker-78ed2f54-a3ea-4052-b90f-9c9478511ac9.hdf5\n",
      "Deleted: /Users/moustholmes/Projects/METAL-AI/data/Li-Rh/results/rank_Worker-fcd2fad3-64f9-4838-8cb7-493d3989ccd0.hdf5\n",
      "Deleted: /Users/moustholmes/Projects/METAL-AI/data/Li-Rh/results/rank_Worker-56e555d3-4b1b-436f-aafd-5f1eb77a86bc.hdf5\n",
      "Deleted: /Users/moustholmes/Projects/METAL-AI/data/Li-Rh/results/rank_Worker-1ffa5a58-f637-4b4d-95a1-c936950744f5.hdf5\n",
      "Deleted: /Users/moustholmes/Projects/METAL-AI/data/Li-Rh/results/rank_Worker-e8641174-a5b0-41fc-9ee6-e33ac7014042.hdf5\n",
      "Deleted: /Users/moustholmes/Projects/METAL-AI/data/Li-Rh/results/rank_Worker-fdb03c2f-f210-473c-8f33-dd03fb8e88ce.hdf5\n",
      "Deleted: /Users/moustholmes/Projects/METAL-AI/data/Li-Rh/results/rank_Worker-a207602b-09b5-4989-94e4-be1c1d31b684.hdf5\n",
      "Deleted: /Users/moustholmes/Projects/METAL-AI/data/Li-Rh/results/rank_Worker-209cbe6c-aeef-4015-8601-1ccf2eef1a0d.hdf5\n",
      "Deleted: /Users/moustholmes/Projects/METAL-AI/data/Li-Rh/results/rank_Worker-d4931f9a-ba6a-4dc1-a30b-588c3e96fd14.hdf5\n",
      "Deleted: /Users/moustholmes/Projects/METAL-AI/data/Li-Rh/results/rank_Worker-402ddbc4-17a0-470a-82c0-187ca1c520e8.hdf5\n",
      "Deleted: /Users/moustholmes/Projects/METAL-AI/data/Li-Rh/results/rank_Worker-bf514541-37c8-4293-ba4c-f6de0cdfb65d.hdf5\n",
      "Deleted: /Users/moustholmes/Projects/METAL-AI/data/Li-Rh/results/rank_Worker-6f938c7a-bccc-437a-b130-100fbe46e222.hdf5\n",
      "Deleted: /Users/moustholmes/Projects/METAL-AI/data/Li-Rh/results/rank_Worker-db78fdb9-dd33-4199-9dc8-c516366d775c.hdf5\n",
      "Deleted: /Users/moustholmes/Projects/METAL-AI/data/Li-Rh/results/rank_Worker-a742902a-6c07-412c-b393-48599918649c.hdf5\n",
      "Deleted: /Users/moustholmes/Projects/METAL-AI/data/Li-Rh/results/rank_Worker-99230883-9c36-4df4-acb3-a9e14741c9cc.hdf5\n",
      "Deleted: /Users/moustholmes/Projects/METAL-AI/data/Li-Rh/results/rank_Worker-43d779f2-8ef6-4b48-adf1-847e62758996.hdf5\n",
      "Deleted: /Users/moustholmes/Projects/METAL-AI/data/Li-Rh/results/rank_Worker-42f8ef9e-8e66-46cd-9fcc-152a5f9ff72d.hdf5\n",
      "Deleted: /Users/moustholmes/Projects/METAL-AI/data/Li-Rh/results/rank_Worker-c6afa73c-9f23-4cdf-8544-0c2a5469ae3b.hdf5\n",
      "Deleted: /Users/moustholmes/Projects/METAL-AI/data/Li-Rh/results/rank_Worker-c5d0d8ce-1200-4cb5-a4c9-311f38cf63a6.hdf5\n",
      "Deleted: /Users/moustholmes/Projects/METAL-AI/data/Li-Rh/results/rank_Worker-ba7fa079-66f8-4dba-887d-a38a11050c88.hdf5\n",
      "Deleted: /Users/moustholmes/Projects/METAL-AI/data/Li-Rh/results/rank_Worker-af31341d-6480-4ca5-8d4c-bfd7a41047bd.hdf5\n",
      "Deleted: /Users/moustholmes/Projects/METAL-AI/data/Li-Rh/results/rank_Worker-dea6575d-6f07-41e5-beb7-55129a01ef6f.hdf5\n",
      "Deleted: /Users/moustholmes/Projects/METAL-AI/data/Li-Rh/results/rank_Worker-075daf82-99ec-4b08-8050-270477ed0d04.hdf5\n",
      "Deleted: /Users/moustholmes/Projects/METAL-AI/data/Li-Rh/results/rank_Worker-35f712dd-5063-4e03-a96a-52cee580c2c9.hdf5\n",
      "Deleted: /Users/moustholmes/Projects/METAL-AI/data/Li-Rh/results/rank_Worker-45087d8f-bca8-4981-95d4-1761d4941e3a.hdf5\n",
      "Deleted: /Users/moustholmes/Projects/METAL-AI/data/Li-Rh/results/rank_Worker-4420aa7e-6615-44e6-803e-20a19d6b7142.hdf5\n",
      "Deleted: /Users/moustholmes/Projects/METAL-AI/data/Li-Rh/results/rank_Worker-6c6aed76-d744-43bc-8beb-aad3ca893b7f.hdf5\n",
      "Deleted: /Users/moustholmes/Projects/METAL-AI/data/Li-Rh/results/rank_Worker-94be6c63-699d-46f2-8219-79bd33032d9c.hdf5\n",
      "Deleted: /Users/moustholmes/Projects/METAL-AI/data/Li-Rh/results/rank_Worker-97d3c424-15ef-4f7f-9dc6-a457f52e4704.hdf5\n",
      "Deleted: /Users/moustholmes/Projects/METAL-AI/data/Li-Rh/results/rank_Worker-e7cb77c9-bbdd-42a1-bc80-bca5a0c5ed26.hdf5\n",
      "Deleted: /Users/moustholmes/Projects/METAL-AI/data/Li-Rh/results/rank_Worker-fee6c0b6-bea5-473a-a8eb-ab0ee3e15b8f.hdf5\n",
      "Deleted: /Users/moustholmes/Projects/METAL-AI/data/Li-Rh/results/rank_Worker-7908ae6d-f24d-459d-a38b-fe752652c525.hdf5\n",
      "Deleted: /Users/moustholmes/Projects/METAL-AI/data/Li-Rh/results/rank_Worker-6127cb76-4c05-49af-a20f-3ed4ff9df0ce.hdf5\n",
      "Deleted: /Users/moustholmes/Projects/METAL-AI/data/Li-Rh/results/rank_Worker-248de916-6808-4fd9-abc6-5dbc3d5cee47.hdf5\n",
      "Deleted: /Users/moustholmes/Projects/METAL-AI/data/Li-Rh/results/rank_Worker-98f292f5-038e-4626-8929-05e8f518f4c3.hdf5\n",
      "Deleted: /Users/moustholmes/Projects/METAL-AI/data/Li-Rh/results/rank_Worker-39129a08-311b-4553-a383-11c5674a9c6d.hdf5\n",
      "Deleted: /Users/moustholmes/Projects/METAL-AI/data/Li-Rh/results/rank_Worker-8e968d72-e46f-49e8-b0fb-aff751e5f9b1.hdf5\n",
      "Deleted: /Users/moustholmes/Projects/METAL-AI/data/Li-Rh/results/rank_Worker-9fbc08b6-e103-4d04-9ff2-34f56f5aee18.hdf5\n",
      "Deleted: /Users/moustholmes/Projects/METAL-AI/data/Li-Rh/results/rank_Worker-572e2939-109d-4d11-8f04-ad208ff3c976.hdf5\n",
      "Deleted: /Users/moustholmes/Projects/METAL-AI/data/Li-Rh/results/rank_Worker-09bf2019-81b5-4531-b579-aaeeb89ac533.hdf5\n",
      "Deleted: /Users/moustholmes/Projects/METAL-AI/data/Li-Rh/results/rank_Worker-f81abc5e-4d5f-491a-9d86-278f9c8a37ce.hdf5\n",
      "Deleted: /Users/moustholmes/Projects/METAL-AI/data/Li-Rh/results/rank_Worker-843944d5-93ef-4483-bd50-aa96ce75a624.hdf5\n",
      "Deleted: /Users/moustholmes/Projects/METAL-AI/data/Li-Rh/results/rank_Worker-7bfe99c2-ac8b-4487-9236-11b51bbbb6a1.hdf5\n",
      "Deleted: /Users/moustholmes/Projects/METAL-AI/data/Li-Rh/results/rank_Worker-035c74dc-dbe1-49de-beae-5e843625bb73.hdf5\n",
      "Deleted: /Users/moustholmes/Projects/METAL-AI/data/Li-Rh/results/rank_Worker-116cde3a-b18d-421f-a9f6-e5ebe2a8bf7c.hdf5\n",
      "Deleted: /Users/moustholmes/Projects/METAL-AI/data/Li-Rh/results/rank_Worker-dc50eab1-ddd5-4782-87d2-0262da690882.hdf5\n",
      "Deleted: /Users/moustholmes/Projects/METAL-AI/data/Li-Rh/results/rank_Worker-8ca7e5b1-066f-4e66-bb62-dda17e59da21.hdf5\n",
      "Deleted: /Users/moustholmes/Projects/METAL-AI/data/Li-Rh/results/rank_Worker-c21c12aa-406a-458c-9a46-46b09fd350cd.hdf5\n",
      "Deleted: /Users/moustholmes/Projects/METAL-AI/data/Li-Rh/results/rank_Worker-57e678a7-8164-4e62-b587-19006ab870ba.hdf5\n",
      "Deleted: /Users/moustholmes/Projects/METAL-AI/data/Li-Rh/results/rank_Worker-3dceab9d-c6f8-4aa7-9231-4b6d3e6d0541.hdf5\n",
      "Deleted: /Users/moustholmes/Projects/METAL-AI/data/Li-Rh/results/rank_Worker-c3844f71-fb9f-4b53-9152-3d1a8f77a008.hdf5\n",
      "Deleted: /Users/moustholmes/Projects/METAL-AI/data/Li-Rh/results/rank_Worker-3c07d30a-d3a8-4358-932f-23ddcbe1d979.hdf5\n",
      "Deleted: /Users/moustholmes/Projects/METAL-AI/data/Li-Rh/results/rank_Worker-6fa90314-dd1f-4733-bc91-394752bc1884.hdf5\n",
      "Deleted: /Users/moustholmes/Projects/METAL-AI/data/Li-Rh/results/rank_Worker-b88cd1f5-70ee-48c0-aa3d-3e631f8ecadd.hdf5\n",
      "Deleted: /Users/moustholmes/Projects/METAL-AI/data/Li-Rh/results/rank_Worker-553f886c-1fdf-41fd-81a2-9d45cb5b3153.hdf5\n",
      "Deleted: /Users/moustholmes/Projects/METAL-AI/data/Li-Rh/results/rank_Worker-d65a362c-6a10-4173-8328-620875b66914.hdf5\n",
      "Deleted: /Users/moustholmes/Projects/METAL-AI/data/Li-Rh/results/rank_Worker-1e152954-b71a-4391-a457-015b331649f7.hdf5\n",
      "Deleted: /Users/moustholmes/Projects/METAL-AI/data/Li-Rh/results/rank_Worker-90163eb7-c33a-46c6-8b33-0726df4ce1d7.hdf5\n",
      "Deleted: /Users/moustholmes/Projects/METAL-AI/data/Li-Rh/results/rank_Worker-0560a0c4-0327-49e2-a472-fe5a80548ffa.hdf5\n",
      "Deleted: /Users/moustholmes/Projects/METAL-AI/data/Li-Rh/results/rank_Worker-31ee9860-4950-4fec-9767-dff0d56e4979.hdf5\n",
      "Deleted: /Users/moustholmes/Projects/METAL-AI/data/Li-Rh/results/rank_Worker-191210a9-554e-4901-b6d2-f92bf20b8af6.hdf5\n",
      "Deleted: /Users/moustholmes/Projects/METAL-AI/data/Li-Rh/results/rank_Worker-894bc72a-092a-420d-bd68-e6c8f13ae16a.hdf5\n",
      "Deleted: /Users/moustholmes/Projects/METAL-AI/data/Li-Rh/results/rank_Worker-fc73d060-7335-4cf0-b385-57070678fa04.hdf5\n",
      "Deleted: /Users/moustholmes/Projects/METAL-AI/data/Li-Rh/results/rank_Worker-ee7e3538-542a-4272-86c7-866c9e872b53.hdf5\n",
      "Deleted: /Users/moustholmes/Projects/METAL-AI/data/Li-Rh/results/rank_Worker-6559adac-8d6d-41d0-a50c-c80f27d949c3.hdf5\n",
      "Deleted: /Users/moustholmes/Projects/METAL-AI/data/Li-Rh/results/rank_Worker-bb4dbc46-14ba-4324-81e2-c5048f911eeb.hdf5\n",
      "Deleted: /Users/moustholmes/Projects/METAL-AI/data/Li-Rh/results/rank_Worker-cbbbb36d-3f2d-4bea-9a79-5c3bbb786a55.hdf5\n",
      "Deleted: /Users/moustholmes/Projects/METAL-AI/data/Li-Rh/results/rank_Worker-52ab5dac-908d-4201-862e-517ee83c98d3.hdf5\n",
      "Deleted: /Users/moustholmes/Projects/METAL-AI/data/Li-Rh/results/rank_Worker-cca98252-57b8-44bd-8ce9-79116c945fa7.hdf5\n",
      "Deleted: /Users/moustholmes/Projects/METAL-AI/data/Li-Rh/results/rank_Worker-5257852e-753f-4aac-a41d-0aceebb79862.hdf5\n",
      "Deleted: /Users/moustholmes/Projects/METAL-AI/data/Li-Rh/results/rank_Worker-2b2eae0f-673a-4bf1-ac09-dd6b40869aa1.hdf5\n",
      "Deleted: /Users/moustholmes/Projects/METAL-AI/data/Li-Rh/results/rank_Worker-debdf3b7-1eaa-4b7c-8b0c-a6dbcefb3910.hdf5\n",
      "Deleted: /Users/moustholmes/Projects/METAL-AI/data/Li-Rh/results/rank_Worker-0a046906-19a7-45d5-b413-bc4c59530c23.hdf5\n",
      "Deleted: /Users/moustholmes/Projects/METAL-AI/data/Li-Rh/results/rank_Worker-539ccab0-65c2-407b-a5ec-46738889115e.hdf5\n",
      "Deleted: /Users/moustholmes/Projects/METAL-AI/data/Li-Rh/results/rank_Worker-3c151b5c-0923-4790-9c17-0e889a8f4f73.hdf5\n",
      "Deleted: /Users/moustholmes/Projects/METAL-AI/data/Li-Rh/results/rank_Worker-edb87c16-1470-4c26-98f0-590d4277fbb6.hdf5\n",
      "Deleted: /Users/moustholmes/Projects/METAL-AI/data/Li-Rh/results/rank_Worker-ee9598ba-0e14-40ae-86ef-fb29bcf3f691.hdf5\n",
      "Deleted: /Users/moustholmes/Projects/METAL-AI/data/Li-Rh/results/rank_Worker-9a4d8056-56ea-411c-b7c0-9b9b3f752a55.hdf5\n",
      "Deleted: /Users/moustholmes/Projects/METAL-AI/data/Li-Rh/results/rank_Worker-e06fa6e3-377b-409e-84fb-c27c211cf1f1.hdf5\n",
      "Deleted: /Users/moustholmes/Projects/METAL-AI/data/Li-Rh/results/rank_Worker-e65b265e-7c67-4405-8d84-e6876c419312.hdf5\n",
      "Deleted: /Users/moustholmes/Projects/METAL-AI/data/Li-Rh/results/rank_Worker-1fbe2a76-12b4-454f-aa42-dbbc911fe620.hdf5\n",
      "Deleted: /Users/moustholmes/Projects/METAL-AI/data/Li-Rh/results/rank_Worker-cf4bdc62-33dc-4961-bc0b-82fd3a335130.hdf5\n",
      "Deleted: /Users/moustholmes/Projects/METAL-AI/data/Li-Rh/results/rank_Worker-d8cd28f8-98df-4071-b8ea-1cf2f4f503d7.hdf5\n",
      "Deleted: /Users/moustholmes/Projects/METAL-AI/data/Li-Rh/results/rank_Worker-eaf3741f-a090-4293-af6d-618bb1d27055.hdf5\n",
      "Deleted: /Users/moustholmes/Projects/METAL-AI/data/Li-Rh/results/rank_Worker-5c7d5f12-1e02-4b55-a302-7d18c95fe9c3.hdf5\n",
      "Deleted: /Users/moustholmes/Projects/METAL-AI/data/Li-Rh/results/rank_Worker-3acccaa5-6aef-4f89-b51f-2dfc57aa5b56.hdf5\n",
      "Deleted: /Users/moustholmes/Projects/METAL-AI/data/Li-Rh/results/rank_Worker-33abccb7-9e4d-4cdc-bfc6-a0d6bc394f31.hdf5\n",
      "Deleted: /Users/moustholmes/Projects/METAL-AI/data/Li-Rh/results/rank_Worker-a6808abc-021b-4605-9882-61f9d616fe8e.hdf5\n",
      "Deleted: /Users/moustholmes/Projects/METAL-AI/data/Li-Rh/results/rank_Worker-91854a86-90f8-4505-9efa-dd7798c291bb.hdf5\n",
      "Deleted: /Users/moustholmes/Projects/METAL-AI/data/Li-Rh/results/rank_Worker-5228e31d-31f0-4e02-9421-b3b0aed35553.hdf5\n",
      "Deleted: /Users/moustholmes/Projects/METAL-AI/data/Li-Rh/results/rank_Worker-5fa3d675-ff14-406e-8c3d-907f7f12a166.hdf5\n",
      "Deleted: /Users/moustholmes/Projects/METAL-AI/data/Li-Rh/results/rank_Worker-c172614c-8ab5-480c-8624-e11e0cc989bd.hdf5\n",
      "Deleted: /Users/moustholmes/Projects/METAL-AI/data/Li-Rh/results/rank_Worker-8c640a5d-f388-4be8-b836-9b12940725c9.hdf5\n",
      "Deleted: /Users/moustholmes/Projects/METAL-AI/data/Li-Rh/results/rank_Worker-cccdad8e-c81f-402e-9777-1c5571f6d851.hdf5\n",
      "Deleted: /Users/moustholmes/Projects/METAL-AI/data/Li-Rh/results/rank_Worker-8fbd68b5-20c8-4f47-871e-31360ad2d9a0.hdf5\n",
      "Deleted: /Users/moustholmes/Projects/METAL-AI/data/Li-Rh/results/rank_Worker-dcf9692c-3cba-4bbc-bc9d-0b382cab7f0c.hdf5\n",
      "Deleted: /Users/moustholmes/Projects/METAL-AI/data/Li-Rh/results/rank_Worker-ae92855a-9fad-44d8-ac5b-73ee9de8ee39.hdf5\n",
      "Deleted: /Users/moustholmes/Projects/METAL-AI/data/Li-Rh/results/rank_Worker-98d2e779-ecb3-4e12-8285-ca95338287d6.hdf5\n",
      "Deleted: /Users/moustholmes/Projects/METAL-AI/data/Li-Rh/results/rank_Worker-a45aca9d-f972-4941-83ad-d865015ca064.hdf5\n",
      "Deleted: /Users/moustholmes/Projects/METAL-AI/data/Li-Rh/results/rank_Worker-0bd930f4-becb-4a76-b6b5-964bd547cc3f.hdf5\n",
      "Deleted: /Users/moustholmes/Projects/METAL-AI/data/Li-Rh/results/rank_Worker-788e8f44-a636-4a68-b0f6-e720ea4c4aee.hdf5\n",
      "Deleted: /Users/moustholmes/Projects/METAL-AI/data/Li-Rh/results/rank_Worker-e99d62d4-3ca9-487d-97fb-f49b38104346.hdf5\n",
      "Deleted: /Users/moustholmes/Projects/METAL-AI/data/Li-Rh/results/rank_Worker-3d7174d4-a4ff-4851-a76f-5d4c284effa5.hdf5\n",
      "Deleted: /Users/moustholmes/Projects/METAL-AI/data/Li-Rh/results/rank_Worker-cf1f5147-4cc7-4cd3-9769-cefd3729a1fd.hdf5\n",
      "Deleted: /Users/moustholmes/Projects/METAL-AI/data/Li-Rh/results/rank_Worker-acc626c9-51eb-49f3-b152-d49199a44c35.hdf5\n",
      "Deleted: /Users/moustholmes/Projects/METAL-AI/data/Li-Rh/results/rank_Worker-568fe918-38fc-4523-ae42-bd456d2c5d25.hdf5\n",
      "Deleted: /Users/moustholmes/Projects/METAL-AI/data/Li-Rh/results/rank_Worker-d5631db3-570f-4e36-ba54-7215d154a495.hdf5\n",
      "Deleted: /Users/moustholmes/Projects/METAL-AI/data/Li-Rh/results/rank_Worker-70de8800-dd4b-4e27-841e-e56942e4d315.hdf5\n",
      "Deleted: /Users/moustholmes/Projects/METAL-AI/data/Li-Rh/results/rank_Worker-337d9997-649f-4738-a630-1433017cdc26.hdf5\n",
      "Deleted: /Users/moustholmes/Projects/METAL-AI/data/Li-Rh/results/rank_Worker-e7d6491f-64bb-4c38-bc74-5179f7d1f674.hdf5\n",
      "Deleted: /Users/moustholmes/Projects/METAL-AI/data/Li-Rh/results/rank_Worker-e7bdaa5d-b90b-4c24-a6b7-1bc7a65fedf2.hdf5\n",
      "Deleted: /Users/moustholmes/Projects/METAL-AI/data/Li-Rh/results/rank_Worker-94dd216d-7a8a-4e78-88d0-fb09820f20e2.hdf5\n",
      "Deleted: /Users/moustholmes/Projects/METAL-AI/data/Li-Rh/results/rank_Worker-2f760832-bb57-44bf-8d2a-043b4e375969.hdf5\n",
      "Deleted: /Users/moustholmes/Projects/METAL-AI/data/Li-Rh/results/rank_Worker-01368c75-426f-4e90-9d41-70f54af0fc75.hdf5\n",
      "Deleted: /Users/moustholmes/Projects/METAL-AI/data/Li-Rh/results/rank_Worker-25fde3f3-d413-42c5-99f1-f1a1ec791abf.hdf5\n",
      "Deleted: /Users/moustholmes/Projects/METAL-AI/data/Li-Rh/results/rank_Worker-b3fa16c0-3d68-4692-87e4-4c039c885278.hdf5\n",
      "Deleted: /Users/moustholmes/Projects/METAL-AI/data/Li-Rh/results/rank_Worker-109a3957-a8c5-4ca1-9420-6719e4d45e63.hdf5\n",
      "Deleted: /Users/moustholmes/Projects/METAL-AI/data/Li-Rh/results/rank_Worker-a424cb0d-4e2e-4132-97ef-5f278df7cf90.hdf5\n",
      "Deleted: /Users/moustholmes/Projects/METAL-AI/data/Li-Rh/results/rank_Worker-0a1664ea-6e6e-4604-9400-812bc5b35e3c.hdf5\n",
      "Deleted: /Users/moustholmes/Projects/METAL-AI/data/Li-Rh/results/rank_Worker-1f8108e8-a7aa-4d7c-a071-d685aa4b1dac.hdf5\n",
      "Deleted: /Users/moustholmes/Projects/METAL-AI/data/Li-Rh/results/rank_Worker-776974d3-d289-40f9-b5ea-443016e60944.hdf5\n",
      "Deleted: /Users/moustholmes/Projects/METAL-AI/data/Li-Rh/results/rank_Worker-e54d1d84-fcd1-4a12-be3f-4084f42b2d49.hdf5\n",
      "Deleted: /Users/moustholmes/Projects/METAL-AI/data/Li-Rh/results/rank_Worker-214a96fc-2de5-4c1c-ac67-0f4869dc0861.hdf5\n",
      "Deleted: /Users/moustholmes/Projects/METAL-AI/data/Li-Rh/results/rank_Worker-1b61f1a1-a07e-452c-b6c3-79b85d17261a.hdf5\n",
      "Deleted: /Users/moustholmes/Projects/METAL-AI/data/Li-Rh/results/rank_Worker-b48706c4-786a-4ad1-bb7e-e41499031df5.hdf5\n",
      "Deleted: /Users/moustholmes/Projects/METAL-AI/data/Li-Rh/results/rank_Worker-d9edab3e-c56a-4180-9a15-49ef146dcd1a.hdf5\n",
      "Deleted: /Users/moustholmes/Projects/METAL-AI/data/Li-Rh/results/rank_Worker-50bf9181-522e-4994-8926-0070cb195b44.hdf5\n",
      "Deleted: /Users/moustholmes/Projects/METAL-AI/data/Li-Rh/results/rank_Worker-d3623307-04ba-41aa-9f16-44c9e64d79bb.hdf5\n",
      "Deleted: /Users/moustholmes/Projects/METAL-AI/data/Li-Rh/results/rank_Worker-853f91cf-729d-44e6-96bf-c863f2d7cb8c.hdf5\n",
      "Deleted: /Users/moustholmes/Projects/METAL-AI/data/Li-Rh/results/rank_Worker-e406d67c-990f-4a01-8530-13e8ed0edcec.hdf5\n",
      "Deleted: /Users/moustholmes/Projects/METAL-AI/data/Li-Rh/results/rank_Worker-c99748fb-efa0-456d-8757-370974eda9c1.hdf5\n",
      "Deleted: /Users/moustholmes/Projects/METAL-AI/data/Li-Rh/results/rank_Worker-6c300da1-927f-4e0b-a06e-b11315c34bef.hdf5\n",
      "Deleted: /Users/moustholmes/Projects/METAL-AI/data/Li-Rh/results/rank_Worker-fc73531a-6e4c-4b6d-adc5-3b336ae9ff30.hdf5\n",
      "Deleted: /Users/moustholmes/Projects/METAL-AI/data/Li-Rh/results/rank_Worker-c9b1ece4-679d-498c-9743-2ddd7877aab9.hdf5\n",
      "Deleted: /Users/moustholmes/Projects/METAL-AI/data/Li-Rh/results/rank_Worker-32823537-bc67-4387-a84a-bb2b0cdca318.hdf5\n",
      "Deleted: /Users/moustholmes/Projects/METAL-AI/data/Li-Rh/results/rank_Worker-807387f6-af23-4cf5-930e-6efc3eafa80f.hdf5\n",
      "Deleted: /Users/moustholmes/Projects/METAL-AI/data/Li-Rh/results/rank_Worker-997a0c1b-2f35-42c8-a5e7-36777e8a0d19.hdf5\n",
      "Deleted: /Users/moustholmes/Projects/METAL-AI/data/Li-Rh/results/rank_Worker-77401b81-a01b-437b-82b2-972ea520feb0.hdf5\n",
      "Deleted: /Users/moustholmes/Projects/METAL-AI/data/Li-Rh/results/rank_Worker-e69c1c6a-590f-44ef-931e-ba01e14ccca5.hdf5\n",
      "Deleted: /Users/moustholmes/Projects/METAL-AI/data/Li-Rh/results/rank_Worker-fccf4b9d-57b8-4b8c-8d38-218850a4278b.hdf5\n",
      "Deleted: /Users/moustholmes/Projects/METAL-AI/data/Li-Rh/results/rank_Worker-ca6cbb63-81a7-486f-b8ea-d5057bc2a2cd.hdf5\n",
      "Deleted: /Users/moustholmes/Projects/METAL-AI/data/Li-Rh/results/rank_Worker-2584997e-d923-46ad-9575-1b24b994192a.hdf5\n",
      "Deleted: /Users/moustholmes/Projects/METAL-AI/data/Li-Rh/results/rank_Worker-075d7c32-40a3-4903-8974-49e139129746.hdf5\n",
      "Deleted: /Users/moustholmes/Projects/METAL-AI/data/Li-Rh/results/rank_Worker-f7740b74-8ee4-4a47-b110-4b502a10a9f2.hdf5\n",
      "Deleted: /Users/moustholmes/Projects/METAL-AI/data/Li-Rh/results/rank_Worker-27d1f9f7-d95c-4988-9da0-de798e404ecc.hdf5\n",
      "Deleted: /Users/moustholmes/Projects/METAL-AI/data/Li-Rh/results/rank_Worker-8682b897-36ec-4ef5-8cd0-840171beafe7.hdf5\n",
      "Deleted: /Users/moustholmes/Projects/METAL-AI/data/Li-Rh/results/rank_Worker-f339ce96-40c4-4e80-a076-566726736011.hdf5\n",
      "Deleted: /Users/moustholmes/Projects/METAL-AI/data/Li-Rh/results/rank_Worker-cd42b2ed-e8e8-4d3c-bf0c-4d46f6bd0776.hdf5\n",
      "Deleted: /Users/moustholmes/Projects/METAL-AI/data/Li-Rh/results/rank_Worker-8f2f2af9-cf04-44e0-9ed2-58126f543f3d.hdf5\n",
      "Deleted: /Users/moustholmes/Projects/METAL-AI/data/Li-Rh/results/rank_Worker-96483d26-cf02-44b8-828b-f0d3b57b012f.hdf5\n",
      "Deleted: /Users/moustholmes/Projects/METAL-AI/data/Li-Rh/results/rank_Worker-adf16456-821c-47d1-8b0b-9e704ebebf78.hdf5\n",
      "Deleted: /Users/moustholmes/Projects/METAL-AI/data/Li-Rh/results/rank_Worker-510eb6fc-145d-49dc-85d4-a145268f7753.hdf5\n",
      "Deleted: /Users/moustholmes/Projects/METAL-AI/data/Li-Rh/results/rank_Worker-f7f405e0-5efd-4a1b-acf8-8c0f63f60dcc.hdf5\n",
      "Deleted: /Users/moustholmes/Projects/METAL-AI/data/Li-Rh/results/rank_Worker-71d8677e-7195-4e7c-9f6c-a6182a754213.hdf5\n",
      "Deleted: /Users/moustholmes/Projects/METAL-AI/data/Li-Rh/results/rank_Worker-cdfaa342-2a90-4f29-884c-0758cfd482ce.hdf5\n",
      "Deleted: /Users/moustholmes/Projects/METAL-AI/data/Li-Rh/results/rank_Worker-c2b2989f-a223-4295-be4d-8cc87550c6ea.hdf5\n",
      "Deleted: /Users/moustholmes/Projects/METAL-AI/data/Li-Rh/results/rank_Worker-d4434a0b-c7e4-4ccc-8a0c-e1ce94a82cc8.hdf5\n",
      "Deleted: /Users/moustholmes/Projects/METAL-AI/data/Li-Rh/results/rank_Worker-214f54df-9258-4aab-92d4-ffe714d3e8ef.hdf5\n",
      "Deleted: /Users/moustholmes/Projects/METAL-AI/data/Li-Rh/results/rank_Worker-ae9d7620-5be3-4a7d-a3e6-aef50431b247.hdf5\n",
      "Deleted: /Users/moustholmes/Projects/METAL-AI/data/Li-Rh/results/rank_Worker-334aa65f-a141-4026-bdf3-0208ea8602d7.hdf5\n",
      "Deleted: /Users/moustholmes/Projects/METAL-AI/data/Li-Rh/results/rank_Worker-2388e95f-d35e-427f-bfb7-81e06c1d8d2d.hdf5\n",
      "Deleted: /Users/moustholmes/Projects/METAL-AI/data/Li-Rh/results/rank_Worker-16a2b394-40ca-402d-ad40-c288de0d7c86.hdf5\n",
      "Deleted: /Users/moustholmes/Projects/METAL-AI/data/Li-Rh/results/rank_Worker-59c377bd-6a9b-4cd8-b854-a56089c6f14b.hdf5\n",
      "Deleted: /Users/moustholmes/Projects/METAL-AI/data/Li-Rh/results/rank_Worker-41799c82-0cc9-46fe-b3c1-cd9a6c49645b.hdf5\n",
      "Deleted: /Users/moustholmes/Projects/METAL-AI/data/Li-Rh/results/rank_Worker-31df7cfd-8b0e-4429-9ff0-65837891e249.hdf5\n",
      "Deleted: /Users/moustholmes/Projects/METAL-AI/data/Li-Rh/results/rank_Worker-1470b877-b96f-4332-8034-65c3b3f33c65.hdf5\n",
      "Deleted: /Users/moustholmes/Projects/METAL-AI/data/Li-Rh/results/rank_Worker-528f4a52-8158-4a49-bf01-677d03b0484c.hdf5\n",
      "\n",
      "Total HTML files deleted: 321\n"
     ]
    }
   ],
   "source": [
    "import os\n",
    "\n",
    "# Path to the folder containing your downloaded files\n",
    "download_folder = \"/Users/moustholmes/Projects/METAL-AI/data/Li-Rh/results\"\n",
    "\n",
    "# Function to check if a file is HTML\n",
    "def is_html_file(file_path):\n",
    "    with open(file_path, 'r', encoding='utf-8', errors='ignore') as f:\n",
    "        # Read the first few lines of the file to check for an HTML structure\n",
    "        content = f.read(1024)  # Read the first 1 KB\n",
    "        return '<html' in content.lower() or '<!doctype html' in content.lower()\n",
    "\n",
    "# Function to delete HTML files\n",
    "def delete_html_files(folder):\n",
    "    deleted_files = 0\n",
    "    for filename in os.listdir(folder):\n",
    "        file_path = os.path.join(folder, filename)\n",
    "        \n",
    "        # Only check regular files (ignore folders)\n",
    "        if os.path.isfile(file_path):\n",
    "            if is_html_file(file_path):\n",
    "                os.remove(file_path)\n",
    "                deleted_files += 1\n",
    "                print(f\"Deleted: {file_path}\")\n",
    "    \n",
    "    print(f\"\\nTotal HTML files deleted: {deleted_files}\")\n",
    "\n",
    "# Run the function\n",
    "delete_html_files(download_folder)\n"
   ]
  },
  {
   "cell_type": "markdown",
   "metadata": {},
   "source": [
    "# Dataset"
   ]
  },
  {
   "cell_type": "code",
   "execution_count": 27,
   "metadata": {},
   "outputs": [
    {
     "name": "stdout",
     "output_type": "stream",
     "text": [
      "Original Config:\n",
      "{'_target_': 'src.data.dict_datamodule.DictDataModule',\n",
      " 'batch_size': 128,\n",
      " 'data_dir': '${paths.data_dir}',\n",
      " 'num_workers': 0,\n",
      " 'persistent_workers': False,\n",
      " 'pin_memory': True,\n",
      " 'train_val_split': 0.15}\n"
     ]
    }
   ],
   "source": [
    "dataset_config_path = '/Users/moustholmes/Projects/METAL-AI/configs/data/dict_dataset.yaml'\n",
    "# Load the YAML file\n",
    "with open(dataset_config_path, 'r') as file:\n",
    "    config = yaml.safe_load(file)\n",
    "\n",
    "# Print the original configuration\n",
    "print(\"Original Config:\")\n",
    "pprint(config) # Pretty-prints the dictionary\n"
   ]
  },
  {
   "cell_type": "code",
   "execution_count": 28,
   "metadata": {},
   "outputs": [
    {
     "name": "stdout",
     "output_type": "stream",
     "text": [
      "```yaml\n",
      "_target_: src.data.dict_datamodule.DictDataModule\n",
      "data_dir: ${paths.data_dir}\n",
      "batch_size: 128 # Needs to be divisible by the number of devices (e.g., if in a distributed setup)\n",
      "train_val_split: 0.15\n",
      "num_workers: 0\n",
      "pin_memory: True\n",
      "persistent_workers: False\n",
      "\n",
      "```\n"
     ]
    }
   ],
   "source": [
    "with open(dataset_config_path, 'r') as file:\n",
    "    config_content = file.read()\n",
    "\n",
    "# Output the content formatted as a YAML code block in Markdown\n",
    "print(f'```yaml\\n{config_content}\\n```')"
   ]
  },
  {
   "cell_type": "markdown",
   "metadata": {},
   "source": [
    "```yaml\n",
    "_target_: src.data.dict_datamodule.DictDataModule\n",
    "data_dir: ${paths.data_dir}\n",
    "batch_size: 128 # Needs to be divisible by the number of devices (e.g., if in a distributed setup)\n",
    "train_val_split: 0.15\n",
    "num_workers: 0\n",
    "pin_memory: True\n",
    "persistent_workers: False\n",
    "\n",
    "```"
   ]
  },
  {
   "cell_type": "code",
   "execution_count": 30,
   "metadata": {},
   "outputs": [],
   "source": [
    "# %load /Users/moustholmes/Projects/METAL-AI/src/data/components/datasets.py\n",
    "import torch\n",
    "import h5py\n",
    "import numpy as np\n",
    "import scipy.spatial\n",
    "\n",
    "from torch.utils.data.dataset import Dataset\n",
    "\n",
    "class SimpleDictDataset(Dataset):\n",
    "    def __init__(self, data_dict, remove_nan_effect=False):\n",
    "        \"\"\"\n",
    "        data: The nested dictionary containing all your data\n",
    "        \"\"\"\n",
    "        self.data = data_dict\n",
    "        self.index_mapping = self._create_index_mapping(remove_nan_effect)\n",
    "\n",
    "    def _create_index_mapping(self, remove_nan_effect):\n",
    "        mapping = []\n",
    "        for ion_key in self.data.keys():\n",
    "            for asf_key in self.data[ion_key].keys():\n",
    "\n",
    "                data_point = self.data[ion_key][asf_key]\n",
    "\n",
    "                data_point[\"excitations\"] = torch.tensor(data_point[\"excitations\"])\n",
    "                data_point[\"converged_mask\"] = torch.from_numpy(\n",
    "                    ~np.isnan(data_point[\"converged\"])\n",
    "                )\n",
    "                data_point[\"converged\"] = torch.tensor(\n",
    "                    data_point[\"converged\"], dtype=torch.bool\n",
    "                )\n",
    "\n",
    "                if \"effect\" not in data_point:\n",
    "                    data_point[\"effect\"] = torch.full(\n",
    "                        (len(data_point[\"excitations\"]),), float(\"nan\")\n",
    "                    )\n",
    "                else:\n",
    "                    data_point[\"effect\"] = torch.tensor(data_point[\"effect\"])\n",
    "\n",
    "                data_point[\"n_protons\"] = torch.tensor(ion_key[0], dtype=torch.long)\n",
    "                data_point[\"n_electrons\"] = torch.tensor(ion_key[1], dtype=torch.long)\n",
    "\n",
    "                if remove_nan_effect:\n",
    "                    if \"effect\" not in self.data[ion_key][asf_key]:\n",
    "                        continue\n",
    "                    if np.isnan(self.data[ion_key][asf_key][\"effect\"]).all():\n",
    "                        continue\n",
    "                mapping.append((ion_key, asf_key))\n",
    "\n",
    "        return mapping\n",
    "\n",
    "    def __len__(self):\n",
    "        return len(self.index_mapping)\n",
    "\n",
    "    def __getitem__(self, idx):\n",
    "        # Retrieve the actual keys from the index\n",
    "        ion_key, asf_key = self.index_mapping[idx]\n",
    "\n",
    "        data_point = self.data[ion_key][asf_key]\n",
    "\n",
    "        return data_point\n",
    "\n",
    "class GroupedDictDataset(Dataset):\n",
    "    def __init__(self, data_dict, remove_nan_effect=False):\n",
    "        self.data = data_dict\n",
    "        self.index_mapping = self._create_index_mapping(remove_nan_effect)\n",
    "        self.grouped_indices = self._group_by_excitations_length()\n",
    "\n",
    "    def _create_index_mapping(self, remove_nan_effect):\n",
    "        mapping = []\n",
    "        for ion_key in self.data.keys():\n",
    "            for asf_key in self.data[ion_key].keys():\n",
    "                data_point = self.data[ion_key][asf_key]\n",
    "                # print(data_point)\n",
    "                if not isinstance(data_point[\"excitations\"], torch.Tensor):\n",
    "                    data_point[\"excitations\"] = torch.tensor(data_point[\"excitations\"])\n",
    "                \n",
    "                if not isinstance(data_point[\"converged\"], torch.Tensor):\n",
    "                    data_point[\"converged_mask\"] = torch.from_numpy(~np.isnan(data_point[\"converged\"]))\n",
    "                    data_point[\"converged\"] = torch.tensor(data_point[\"converged\"], dtype=torch.bool)\n",
    "\n",
    "                if \"effect\" not in data_point:\n",
    "                    data_point[\"effect\"] = torch.full((len(data_point[\"excitations\"]),), float(\"nan\"))\n",
    "                elif not isinstance(data_point[\"effect\"], torch.Tensor):\n",
    "                    data_point[\"effect\"] = torch.tensor(data_point[\"effect\"])\n",
    "\n",
    "                # if not isinstance(data_point[\"n_protons\"], torch.Tensor):\n",
    "                data_point[\"n_protons\"] = torch.tensor(ion_key[0], dtype=torch.long)\n",
    "                \n",
    "                # if not isinstance(data_point[\"n_electrons\"], torch.Tensor):\n",
    "                data_point[\"n_electrons\"] = torch.tensor(ion_key[1], dtype=torch.long)\n",
    "\n",
    "                if remove_nan_effect:\n",
    "                    if \"effect\" not in self.data[ion_key][asf_key]:\n",
    "                        continue\n",
    "                    if np.isnan(self.data[ion_key][asf_key][\"effect\"]).all():\n",
    "                        continue\n",
    "                mapping.append((ion_key, asf_key))\n",
    "\n",
    "        return mapping\n",
    "\n",
    "\n",
    "    def _group_by_excitations_length(self):\n",
    "        groups = {}\n",
    "        for idx, (ion_key, asf_key) in enumerate(self.index_mapping):\n",
    "            excitations_length = len(self.data[ion_key][asf_key][\"excitations\"])\n",
    "            if excitations_length not in groups:\n",
    "                groups[excitations_length] = []\n",
    "            groups[excitations_length].append(idx)\n",
    "        return groups\n",
    "\n",
    "    def __len__(self):\n",
    "        return len(self.index_mapping)\n",
    "\n",
    "    def __getitem__(self, idx):\n",
    "        ion_key, asf_key = self.index_mapping[idx]\n",
    "        data_point = self.data[ion_key][asf_key]\n",
    "        return data_point\n",
    "        # return {\n",
    "        #     \"ion_key\": ion_key,\n",
    "        #     \"asf_key\": asf_key,\n",
    "        #     **data_point,  # Unpacking the data point into the returned dictionary\n",
    "        # }"
   ]
  },
  {
   "cell_type": "markdown",
   "metadata": {},
   "source": [
    "## Tests"
   ]
  },
  {
   "cell_type": "code",
   "execution_count": null,
   "metadata": {},
   "outputs": [],
   "source": []
  },
  {
   "cell_type": "markdown",
   "metadata": {},
   "source": [
    "# DataLoader"
   ]
  },
  {
   "cell_type": "code",
   "execution_count": null,
   "metadata": {},
   "outputs": [],
   "source": []
  },
  {
   "cell_type": "markdown",
   "metadata": {},
   "source": [
    "## Test"
   ]
  },
  {
   "cell_type": "code",
   "execution_count": null,
   "metadata": {},
   "outputs": [],
   "source": []
  },
  {
   "cell_type": "markdown",
   "metadata": {},
   "source": [
    "# DataModule"
   ]
  },
  {
   "cell_type": "code",
   "execution_count": null,
   "metadata": {},
   "outputs": [],
   "source": []
  },
  {
   "cell_type": "markdown",
   "metadata": {},
   "source": [
    "## Tests"
   ]
  },
  {
   "cell_type": "code",
   "execution_count": null,
   "metadata": {},
   "outputs": [],
   "source": []
  },
  {
   "cell_type": "markdown",
   "metadata": {},
   "source": [
    "# Model"
   ]
  },
  {
   "cell_type": "code",
   "execution_count": null,
   "metadata": {},
   "outputs": [],
   "source": []
  },
  {
   "cell_type": "markdown",
   "metadata": {},
   "source": [
    "## Tests"
   ]
  }
 ],
 "metadata": {
  "kernelspec": {
   "display_name": "metal-ai",
   "language": "python",
   "name": "python3"
  },
  "language_info": {
   "codemirror_mode": {
    "name": "ipython",
    "version": 3
   },
   "file_extension": ".py",
   "mimetype": "text/x-python",
   "name": "python",
   "nbconvert_exporter": "python",
   "pygments_lexer": "ipython3",
   "version": "3.9.19"
  }
 },
 "nbformat": 4,
 "nbformat_minor": 2
}
